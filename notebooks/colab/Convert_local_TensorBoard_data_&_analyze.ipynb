{
  "cells": [
    {
      "cell_type": "markdown",
      "metadata": {
        "id": "view-in-github",
        "colab_type": "text"
      },
      "source": [
        "<a href=\"https://colab.research.google.com/github/pszemraj/pubmed-text-classification/blob/analysis/notebooks/colab/Convert_local_TensorBoard_data_%26_analyze.ipynb\" target=\"_parent\"><img src=\"https://colab.research.google.com/assets/colab-badge.svg\" alt=\"Open In Colab\"/></a>"
      ]
    },
    {
      "cell_type": "markdown",
      "metadata": {
        "id": "zCHesDx2GKSm"
      },
      "source": [
        "# Convert local TensorBoard data.ipynb"
      ]
    },
    {
      "cell_type": "code",
      "execution_count": 1,
      "metadata": {
        "cellView": "form",
        "id": "35wDBYrZyj5s"
      },
      "outputs": [],
      "source": [
        "%%capture\n",
        "#@markdown set up auto-formatting of cells in notebook\n",
        "\n",
        "from IPython.display import HTML, display\n",
        "\n",
        "\n",
        "def set_css():\n",
        "    display(\n",
        "        HTML(\n",
        "            \"\"\"\n",
        "  <style>\n",
        "    pre {\n",
        "        white-space: pre-wrap;\n",
        "    }\n",
        "  </style>\n",
        "  \"\"\"\n",
        "        )\n",
        "    )\n",
        "get_ipython().events.register(\"pre_run_cell\", set_css)"
      ]
    },
    {
      "cell_type": "code",
      "execution_count": 2,
      "metadata": {
        "cellView": "form",
        "colab": {
          "base_uri": "https://localhost:8080/",
          "height": 69
        },
        "id": "oNTGYGWg5oDB",
        "outputId": "e25565cb-0fac-4d69-defd-4919964f70ee"
      },
      "outputs": [
        {
          "output_type": "display_data",
          "data": {
            "text/plain": [
              "<IPython.core.display.HTML object>"
            ],
            "text/html": [
              "\n",
              "  <style>\n",
              "    pre {\n",
              "        white-space: pre-wrap;\n",
              "    }\n",
              "  </style>\n",
              "  "
            ]
          },
          "metadata": {}
        },
        {
          "output_type": "stream",
          "name": "stdout",
          "text": [
            "logfile is at:\n",
            "\n",
            "/content/LOGFILE_tensorboard_converter.log\n"
          ]
        }
      ],
      "source": [
        "#@markdown setup logging\n",
        "import logging\n",
        "from pathlib import Path\n",
        "das_logfile = Path.cwd() / \"LOGFILE_tensorboard_converter.log\"\n",
        "\n",
        "logging.basicConfig(\n",
        "    level=logging.INFO,\n",
        "    filename=das_logfile,\n",
        "    format=\"%(asctime)s %(levelname)s %(message)s\",\n",
        "    datefmt=\"%m/%d/%Y %I:%M:%S\",\n",
        ")\n",
        "print(f'logfile is at:\\n\\n{das_logfile}')"
      ]
    },
    {
      "cell_type": "markdown",
      "metadata": {
        "id": "VMzKJiFLkc7i"
      },
      "source": [
        "## setup"
      ]
    },
    {
      "cell_type": "code",
      "execution_count": 3,
      "metadata": {
        "colab": {
          "base_uri": "https://localhost:8080/",
          "height": 69
        },
        "id": "6mFmkRUwPDqo",
        "outputId": "b972f554-04a2-48e7-81a7-c7be795d1015"
      },
      "outputs": [
        {
          "output_type": "display_data",
          "data": {
            "text/plain": [
              "<IPython.core.display.HTML object>"
            ],
            "text/html": [
              "\n",
              "  <style>\n",
              "    pre {\n",
              "        white-space: pre-wrap;\n",
              "    }\n",
              "  </style>\n",
              "  "
            ]
          },
          "metadata": {}
        },
        {
          "output_type": "stream",
          "name": "stdout",
          "text": [
            "\u001b[33mWARNING: Running pip as the 'root' user can result in broken permissions and conflicting behaviour with the system package manager. It is recommended to use a virtual environment instead: https://pip.pypa.io/warnings/venv\u001b[0m\u001b[33m\n",
            "\u001b[0m"
          ]
        }
      ],
      "source": [
        "!pip install -U pandas pyarrow -q\n",
        "import pandas as pd"
      ]
    },
    {
      "cell_type": "code",
      "execution_count": 4,
      "metadata": {
        "colab": {
          "base_uri": "https://localhost:8080/",
          "height": 69
        },
        "id": "BDnLK4BWKh5l",
        "outputId": "da4d7015-e931-4c84-8249-de965adfb364"
      },
      "outputs": [
        {
          "output_type": "display_data",
          "data": {
            "text/plain": [
              "<IPython.core.display.HTML object>"
            ],
            "text/html": [
              "\n",
              "  <style>\n",
              "    pre {\n",
              "        white-space: pre-wrap;\n",
              "    }\n",
              "  </style>\n",
              "  "
            ]
          },
          "metadata": {}
        },
        {
          "output_type": "stream",
          "name": "stdout",
          "text": [
            "\u001b[33mWARNING: Running pip as the 'root' user can result in broken permissions and conflicting behaviour with the system package manager. It is recommended to use a virtual environment instead: https://pip.pypa.io/warnings/venv\u001b[0m\u001b[33m\n",
            "\u001b[0m"
          ]
        }
      ],
      "source": [
        "!pip install -U matplotlib -q\n",
        "import matplotlib.pyplot as plt"
      ]
    },
    {
      "cell_type": "code",
      "execution_count": 5,
      "metadata": {
        "colab": {
          "base_uri": "https://localhost:8080/",
          "height": 17
        },
        "id": "tJndgdZUKmXQ",
        "outputId": "e97ef848-38c8-46f0-c400-acaba3d8b21b"
      },
      "outputs": [
        {
          "output_type": "display_data",
          "data": {
            "text/plain": [
              "<IPython.core.display.HTML object>"
            ],
            "text/html": [
              "\n",
              "  <style>\n",
              "    pre {\n",
              "        white-space: pre-wrap;\n",
              "    }\n",
              "  </style>\n",
              "  "
            ]
          },
          "metadata": {}
        }
      ],
      "source": [
        "%matplotlib inline\n"
      ]
    },
    {
      "cell_type": "code",
      "execution_count": 1,
      "metadata": {
        "colab": {
          "base_uri": "https://localhost:8080/"
        },
        "id": "ZrHYAKy-FbXM",
        "outputId": "6e045bdf-6246-4f75-bdf2-a764b34ed43b"
      },
      "outputs": [
        {
          "output_type": "stream",
          "name": "stdout",
          "text": [
            "\u001b[33mWARNING: Running pip as the 'root' user can result in broken permissions and conflicting behaviour with the system package manager. It is recommended to use a virtual environment instead: https://pip.pypa.io/warnings/venv\u001b[0m\u001b[33m\n",
            "\u001b[0m\u001b[33mWARNING: Running pip as the 'root' user can result in broken permissions and conflicting behaviour with the system package manager. It is recommended to use a virtual environment instead: https://pip.pypa.io/warnings/venv\u001b[0m\u001b[33m\n",
            "\u001b[0m\u001b[33mWARNING: Running pip as the 'root' user can result in broken permissions and conflicting behaviour with the system package manager. It is recommended to use a virtual environment instead: https://pip.pypa.io/warnings/venv\u001b[0m\u001b[33m\n",
            "\u001b[0m"
          ]
        },
        {
          "output_type": "execute_result",
          "data": {
            "text/plain": [
              "[\"\\x1b[33mWARNING: Running pip as the 'root' user can result in broken permissions and conflicting behaviour with the system package manager. It is recommended to use a virtual environment instead: https://pip.pypa.io/warnings/venv\\x1b[0m\\x1b[33m\",\n",
              " '\\x1b[0m']"
            ]
          },
          "metadata": {},
          "execution_count": 1
        }
      ],
      "source": [
        "# Requires the latest pip\n",
        "!pip install --upgrade pip -q\n",
        "\n",
        "# Current stable release for CPU and GPU\n",
        "!pip install tensorflow tensorboard -q\n",
        "!pip install -U pandas-profiling -q\n",
        "!!pip install -U flaml -q"
      ]
    },
    {
      "cell_type": "code",
      "execution_count": 7,
      "metadata": {
        "colab": {
          "base_uri": "https://localhost:8080/",
          "height": 311
        },
        "id": "TqXiFwHoeEFJ",
        "outputId": "20ebaf85-d63f-4fcf-848a-e27e01786939"
      },
      "outputs": [
        {
          "output_type": "display_data",
          "data": {
            "text/plain": [
              "<IPython.core.display.HTML object>"
            ],
            "text/html": [
              "\n",
              "  <style>\n",
              "    pre {\n",
              "        white-space: pre-wrap;\n",
              "    }\n",
              "  </style>\n",
              "  "
            ]
          },
          "metadata": {}
        },
        {
          "output_type": "error",
          "ename": "TypeError",
          "evalue": "ignored",
          "traceback": [
            "\u001b[0;31m---------------------------------------------------------------------------\u001b[0m",
            "\u001b[0;31mTypeError\u001b[0m                                 Traceback (most recent call last)",
            "\u001b[0;32m<ipython-input-7-d4fdf0718477>\u001b[0m in \u001b[0;36m<module>\u001b[0;34m()\u001b[0m\n\u001b[0;32m----> 1\u001b[0;31m \u001b[0;32mfrom\u001b[0m \u001b[0mflaml\u001b[0m \u001b[0;32mimport\u001b[0m \u001b[0mAutoML\u001b[0m\u001b[0;34m\u001b[0m\u001b[0;34m\u001b[0m\u001b[0m\n\u001b[0m",
            "\u001b[0;32m/usr/local/lib/python3.7/dist-packages/flaml/__init__.py\u001b[0m in \u001b[0;36m<module>\u001b[0;34m()\u001b[0m\n\u001b[1;32m      1\u001b[0m \u001b[0;32mfrom\u001b[0m \u001b[0mflaml\u001b[0m\u001b[0;34m.\u001b[0m\u001b[0msearcher\u001b[0m \u001b[0;32mimport\u001b[0m \u001b[0mCFO\u001b[0m\u001b[0;34m,\u001b[0m \u001b[0mBlendSearch\u001b[0m\u001b[0;34m,\u001b[0m \u001b[0mFLOW2\u001b[0m\u001b[0;34m,\u001b[0m \u001b[0mBlendSearchTuner\u001b[0m\u001b[0;34m\u001b[0m\u001b[0;34m\u001b[0m\u001b[0m\n\u001b[0;32m----> 2\u001b[0;31m \u001b[0;32mfrom\u001b[0m \u001b[0mflaml\u001b[0m\u001b[0;34m.\u001b[0m\u001b[0mautoml\u001b[0m \u001b[0;32mimport\u001b[0m \u001b[0mAutoML\u001b[0m\u001b[0;34m,\u001b[0m \u001b[0mlogger_formatter\u001b[0m\u001b[0;34m\u001b[0m\u001b[0;34m\u001b[0m\u001b[0m\n\u001b[0m\u001b[1;32m      3\u001b[0m \u001b[0;32mfrom\u001b[0m \u001b[0mflaml\u001b[0m\u001b[0;34m.\u001b[0m\u001b[0monlineml\u001b[0m\u001b[0;34m.\u001b[0m\u001b[0mautovw\u001b[0m \u001b[0;32mimport\u001b[0m \u001b[0mAutoVW\u001b[0m\u001b[0;34m\u001b[0m\u001b[0;34m\u001b[0m\u001b[0m\n\u001b[1;32m      4\u001b[0m \u001b[0;32mfrom\u001b[0m \u001b[0mflaml\u001b[0m\u001b[0;34m.\u001b[0m\u001b[0mversion\u001b[0m \u001b[0;32mimport\u001b[0m \u001b[0m__version__\u001b[0m\u001b[0;34m\u001b[0m\u001b[0;34m\u001b[0m\u001b[0m\n\u001b[1;32m      5\u001b[0m \u001b[0;32mimport\u001b[0m \u001b[0mlogging\u001b[0m\u001b[0;34m\u001b[0m\u001b[0;34m\u001b[0m\u001b[0m\n",
            "\u001b[0;32m/usr/local/lib/python3.7/dist-packages/flaml/automl.py\u001b[0m in \u001b[0;36m<module>\u001b[0;34m()\u001b[0m\n\u001b[1;32m     50\u001b[0m \u001b[0;32mfrom\u001b[0m \u001b[0;34m.\u001b[0m \u001b[0;32mimport\u001b[0m \u001b[0mtune\u001b[0m\u001b[0;34m\u001b[0m\u001b[0;34m\u001b[0m\u001b[0m\n\u001b[1;32m     51\u001b[0m \u001b[0;32mfrom\u001b[0m \u001b[0;34m.\u001b[0m\u001b[0mtraining_log\u001b[0m \u001b[0;32mimport\u001b[0m \u001b[0mtraining_log_reader\u001b[0m\u001b[0;34m,\u001b[0m \u001b[0mtraining_log_writer\u001b[0m\u001b[0;34m\u001b[0m\u001b[0;34m\u001b[0m\u001b[0m\n\u001b[0;32m---> 52\u001b[0;31m \u001b[0;32mfrom\u001b[0m \u001b[0mflaml\u001b[0m\u001b[0;34m.\u001b[0m\u001b[0mdefault\u001b[0m\u001b[0;34m.\u001b[0m\u001b[0msuggest\u001b[0m \u001b[0;32mimport\u001b[0m \u001b[0msuggest_learner\u001b[0m\u001b[0;34m\u001b[0m\u001b[0;34m\u001b[0m\u001b[0m\n\u001b[0m\u001b[1;32m     53\u001b[0m \u001b[0;34m\u001b[0m\u001b[0m\n\u001b[1;32m     54\u001b[0m \u001b[0mlogger\u001b[0m \u001b[0;34m=\u001b[0m \u001b[0mlogging\u001b[0m\u001b[0;34m.\u001b[0m\u001b[0mgetLogger\u001b[0m\u001b[0;34m(\u001b[0m\u001b[0m__name__\u001b[0m\u001b[0;34m)\u001b[0m\u001b[0;34m\u001b[0m\u001b[0;34m\u001b[0m\u001b[0m\n",
            "\u001b[0;32m/usr/local/lib/python3.7/dist-packages/flaml/default/__init__.py\u001b[0m in \u001b[0;36m<module>\u001b[0;34m()\u001b[0m\n\u001b[1;32m      6\u001b[0m     \u001b[0mmeta_feature\u001b[0m\u001b[0;34m,\u001b[0m\u001b[0;34m\u001b[0m\u001b[0;34m\u001b[0m\u001b[0m\n\u001b[1;32m      7\u001b[0m )\n\u001b[0;32m----> 8\u001b[0;31m from .estimator import (\n\u001b[0m\u001b[1;32m      9\u001b[0m     \u001b[0mflamlize_estimator\u001b[0m\u001b[0;34m,\u001b[0m\u001b[0;34m\u001b[0m\u001b[0;34m\u001b[0m\u001b[0m\n\u001b[1;32m     10\u001b[0m     \u001b[0mLGBMClassifier\u001b[0m\u001b[0;34m,\u001b[0m\u001b[0;34m\u001b[0m\u001b[0;34m\u001b[0m\u001b[0m\n",
            "\u001b[0;32m/usr/local/lib/python3.7/dist-packages/flaml/default/estimator.py\u001b[0m in \u001b[0;36m<module>\u001b[0;34m()\u001b[0m\n\u001b[1;32m    165\u001b[0m \u001b[0;34m\u001b[0m\u001b[0m\n\u001b[1;32m    166\u001b[0m \u001b[0;32mtry\u001b[0m\u001b[0;34m:\u001b[0m\u001b[0;34m\u001b[0m\u001b[0;34m\u001b[0m\u001b[0m\n\u001b[0;32m--> 167\u001b[0;31m     \u001b[0;32mimport\u001b[0m \u001b[0mlightgbm\u001b[0m\u001b[0;34m\u001b[0m\u001b[0;34m\u001b[0m\u001b[0m\n\u001b[0m\u001b[1;32m    168\u001b[0m \u001b[0;34m\u001b[0m\u001b[0m\n\u001b[1;32m    169\u001b[0m     \u001b[0mLGBMRegressor\u001b[0m \u001b[0;34m=\u001b[0m \u001b[0mflamlize_estimator\u001b[0m\u001b[0;34m(\u001b[0m\u001b[0mlightgbm\u001b[0m\u001b[0;34m.\u001b[0m\u001b[0mLGBMRegressor\u001b[0m\u001b[0;34m,\u001b[0m \u001b[0;34m\"lgbm\"\u001b[0m\u001b[0;34m,\u001b[0m \u001b[0;34m\"regression\"\u001b[0m\u001b[0;34m)\u001b[0m\u001b[0;34m\u001b[0m\u001b[0;34m\u001b[0m\u001b[0m\n",
            "\u001b[0;32m/usr/local/lib/python3.7/dist-packages/lightgbm/__init__.py\u001b[0m in \u001b[0;36m<module>\u001b[0;34m()\u001b[0m\n\u001b[1;32m      6\u001b[0m \u001b[0;32mfrom\u001b[0m \u001b[0mpathlib\u001b[0m \u001b[0;32mimport\u001b[0m \u001b[0mPath\u001b[0m\u001b[0;34m\u001b[0m\u001b[0;34m\u001b[0m\u001b[0m\n\u001b[1;32m      7\u001b[0m \u001b[0;34m\u001b[0m\u001b[0m\n\u001b[0;32m----> 8\u001b[0;31m \u001b[0;32mfrom\u001b[0m \u001b[0;34m.\u001b[0m\u001b[0mbasic\u001b[0m \u001b[0;32mimport\u001b[0m \u001b[0mBooster\u001b[0m\u001b[0;34m,\u001b[0m \u001b[0mDataset\u001b[0m\u001b[0;34m,\u001b[0m \u001b[0mSequence\u001b[0m\u001b[0;34m,\u001b[0m \u001b[0mregister_logger\u001b[0m\u001b[0;34m\u001b[0m\u001b[0;34m\u001b[0m\u001b[0m\n\u001b[0m\u001b[1;32m      9\u001b[0m \u001b[0;32mfrom\u001b[0m \u001b[0;34m.\u001b[0m\u001b[0mcallback\u001b[0m \u001b[0;32mimport\u001b[0m \u001b[0mearly_stopping\u001b[0m\u001b[0;34m,\u001b[0m \u001b[0mlog_evaluation\u001b[0m\u001b[0;34m,\u001b[0m \u001b[0mprint_evaluation\u001b[0m\u001b[0;34m,\u001b[0m \u001b[0mrecord_evaluation\u001b[0m\u001b[0;34m,\u001b[0m \u001b[0mreset_parameter\u001b[0m\u001b[0;34m\u001b[0m\u001b[0;34m\u001b[0m\u001b[0m\n\u001b[1;32m     10\u001b[0m \u001b[0;32mfrom\u001b[0m \u001b[0;34m.\u001b[0m\u001b[0mengine\u001b[0m \u001b[0;32mimport\u001b[0m \u001b[0mCVBooster\u001b[0m\u001b[0;34m,\u001b[0m \u001b[0mcv\u001b[0m\u001b[0;34m,\u001b[0m \u001b[0mtrain\u001b[0m\u001b[0;34m\u001b[0m\u001b[0;34m\u001b[0m\u001b[0m\n",
            "\u001b[0;32m/usr/local/lib/python3.7/dist-packages/lightgbm/basic.py\u001b[0m in \u001b[0;36m<module>\u001b[0;34m()\u001b[0m\n\u001b[1;32m     18\u001b[0m \u001b[0;32mimport\u001b[0m \u001b[0mscipy\u001b[0m\u001b[0;34m.\u001b[0m\u001b[0msparse\u001b[0m\u001b[0;34m\u001b[0m\u001b[0;34m\u001b[0m\u001b[0m\n\u001b[1;32m     19\u001b[0m \u001b[0;34m\u001b[0m\u001b[0m\n\u001b[0;32m---> 20\u001b[0;31m \u001b[0;32mfrom\u001b[0m \u001b[0;34m.\u001b[0m\u001b[0mcompat\u001b[0m \u001b[0;32mimport\u001b[0m \u001b[0mPANDAS_INSTALLED\u001b[0m\u001b[0;34m,\u001b[0m \u001b[0mconcat\u001b[0m\u001b[0;34m,\u001b[0m \u001b[0mdt_DataTable\u001b[0m\u001b[0;34m,\u001b[0m \u001b[0mis_dtype_sparse\u001b[0m\u001b[0;34m,\u001b[0m \u001b[0mpd_DataFrame\u001b[0m\u001b[0;34m,\u001b[0m \u001b[0mpd_Series\u001b[0m\u001b[0;34m\u001b[0m\u001b[0;34m\u001b[0m\u001b[0m\n\u001b[0m\u001b[1;32m     21\u001b[0m \u001b[0;32mfrom\u001b[0m \u001b[0;34m.\u001b[0m\u001b[0mlibpath\u001b[0m \u001b[0;32mimport\u001b[0m \u001b[0mfind_lib_path\u001b[0m\u001b[0;34m\u001b[0m\u001b[0;34m\u001b[0m\u001b[0m\n\u001b[1;32m     22\u001b[0m \u001b[0;34m\u001b[0m\u001b[0m\n",
            "\u001b[0;32m/usr/local/lib/python3.7/dist-packages/lightgbm/compat.py\u001b[0m in \u001b[0;36m<module>\u001b[0;34m()\u001b[0m\n\u001b[1;32m    130\u001b[0m     \u001b[0;32mfrom\u001b[0m \u001b[0mdask\u001b[0m\u001b[0;34m.\u001b[0m\u001b[0mdataframe\u001b[0m \u001b[0;32mimport\u001b[0m \u001b[0mDataFrame\u001b[0m \u001b[0;32mas\u001b[0m \u001b[0mdask_DataFrame\u001b[0m\u001b[0;34m\u001b[0m\u001b[0;34m\u001b[0m\u001b[0m\n\u001b[1;32m    131\u001b[0m     \u001b[0;32mfrom\u001b[0m \u001b[0mdask\u001b[0m\u001b[0;34m.\u001b[0m\u001b[0mdataframe\u001b[0m \u001b[0;32mimport\u001b[0m \u001b[0mSeries\u001b[0m \u001b[0;32mas\u001b[0m \u001b[0mdask_Series\u001b[0m\u001b[0;34m\u001b[0m\u001b[0;34m\u001b[0m\u001b[0m\n\u001b[0;32m--> 132\u001b[0;31m     \u001b[0;32mfrom\u001b[0m \u001b[0mdask\u001b[0m\u001b[0;34m.\u001b[0m\u001b[0mdistributed\u001b[0m \u001b[0;32mimport\u001b[0m \u001b[0mClient\u001b[0m\u001b[0;34m,\u001b[0m \u001b[0mdefault_client\u001b[0m\u001b[0;34m,\u001b[0m \u001b[0mwait\u001b[0m\u001b[0;34m\u001b[0m\u001b[0;34m\u001b[0m\u001b[0m\n\u001b[0m\u001b[1;32m    133\u001b[0m     \u001b[0mDASK_INSTALLED\u001b[0m \u001b[0;34m=\u001b[0m \u001b[0;32mTrue\u001b[0m\u001b[0;34m\u001b[0m\u001b[0;34m\u001b[0m\u001b[0m\n\u001b[1;32m    134\u001b[0m \u001b[0;32mexcept\u001b[0m \u001b[0mImportError\u001b[0m\u001b[0;34m:\u001b[0m\u001b[0;34m\u001b[0m\u001b[0;34m\u001b[0m\u001b[0m\n",
            "\u001b[0;32m/usr/local/lib/python3.7/dist-packages/dask/distributed.py\u001b[0m in \u001b[0;36m<module>\u001b[0;34m()\u001b[0m\n\u001b[1;32m      1\u001b[0m \u001b[0;31m# flake8: noqa\u001b[0m\u001b[0;34m\u001b[0m\u001b[0;34m\u001b[0m\u001b[0;34m\u001b[0m\u001b[0m\n\u001b[1;32m      2\u001b[0m \u001b[0;32mtry\u001b[0m\u001b[0;34m:\u001b[0m\u001b[0;34m\u001b[0m\u001b[0;34m\u001b[0m\u001b[0m\n\u001b[0;32m----> 3\u001b[0;31m     \u001b[0;32mfrom\u001b[0m \u001b[0mdistributed\u001b[0m \u001b[0;32mimport\u001b[0m \u001b[0;34m*\u001b[0m\u001b[0;34m\u001b[0m\u001b[0;34m\u001b[0m\u001b[0m\n\u001b[0m\u001b[1;32m      4\u001b[0m \u001b[0;32mexcept\u001b[0m \u001b[0mImportError\u001b[0m\u001b[0;34m:\u001b[0m\u001b[0;34m\u001b[0m\u001b[0;34m\u001b[0m\u001b[0m\n\u001b[1;32m      5\u001b[0m     msg = (\n",
            "\u001b[0;32m/usr/local/lib/python3.7/dist-packages/distributed/__init__.py\u001b[0m in \u001b[0;36m<module>\u001b[0;34m()\u001b[0m\n\u001b[1;32m      1\u001b[0m \u001b[0;32mfrom\u001b[0m \u001b[0m__future__\u001b[0m \u001b[0;32mimport\u001b[0m \u001b[0mprint_function\u001b[0m\u001b[0;34m,\u001b[0m \u001b[0mdivision\u001b[0m\u001b[0;34m,\u001b[0m \u001b[0mabsolute_import\u001b[0m\u001b[0;34m\u001b[0m\u001b[0;34m\u001b[0m\u001b[0m\n\u001b[1;32m      2\u001b[0m \u001b[0;34m\u001b[0m\u001b[0m\n\u001b[0;32m----> 3\u001b[0;31m \u001b[0;32mfrom\u001b[0m \u001b[0;34m.\u001b[0m \u001b[0;32mimport\u001b[0m \u001b[0mconfig\u001b[0m\u001b[0;34m\u001b[0m\u001b[0;34m\u001b[0m\u001b[0m\n\u001b[0m\u001b[1;32m      4\u001b[0m \u001b[0;32mfrom\u001b[0m \u001b[0mdask\u001b[0m\u001b[0;34m.\u001b[0m\u001b[0mconfig\u001b[0m \u001b[0;32mimport\u001b[0m \u001b[0mconfig\u001b[0m\u001b[0;34m\u001b[0m\u001b[0;34m\u001b[0m\u001b[0m\n\u001b[1;32m      5\u001b[0m \u001b[0;32mfrom\u001b[0m \u001b[0;34m.\u001b[0m\u001b[0mactor\u001b[0m \u001b[0;32mimport\u001b[0m \u001b[0mActor\u001b[0m\u001b[0;34m,\u001b[0m \u001b[0mActorFuture\u001b[0m\u001b[0;34m\u001b[0m\u001b[0;34m\u001b[0m\u001b[0m\n",
            "\u001b[0;32m/usr/local/lib/python3.7/dist-packages/distributed/config.py\u001b[0m in \u001b[0;36m<module>\u001b[0;34m()\u001b[0m\n\u001b[1;32m     18\u001b[0m \u001b[0;34m\u001b[0m\u001b[0m\n\u001b[1;32m     19\u001b[0m \u001b[0;32mwith\u001b[0m \u001b[0mopen\u001b[0m\u001b[0;34m(\u001b[0m\u001b[0mfn\u001b[0m\u001b[0;34m)\u001b[0m \u001b[0;32mas\u001b[0m \u001b[0mf\u001b[0m\u001b[0;34m:\u001b[0m\u001b[0;34m\u001b[0m\u001b[0;34m\u001b[0m\u001b[0m\n\u001b[0;32m---> 20\u001b[0;31m     \u001b[0mdefaults\u001b[0m \u001b[0;34m=\u001b[0m \u001b[0myaml\u001b[0m\u001b[0;34m.\u001b[0m\u001b[0mload\u001b[0m\u001b[0;34m(\u001b[0m\u001b[0mf\u001b[0m\u001b[0;34m)\u001b[0m\u001b[0;34m\u001b[0m\u001b[0;34m\u001b[0m\u001b[0m\n\u001b[0m\u001b[1;32m     21\u001b[0m \u001b[0;34m\u001b[0m\u001b[0m\n\u001b[1;32m     22\u001b[0m \u001b[0mdask\u001b[0m\u001b[0;34m.\u001b[0m\u001b[0mconfig\u001b[0m\u001b[0;34m.\u001b[0m\u001b[0mupdate_defaults\u001b[0m\u001b[0;34m(\u001b[0m\u001b[0mdefaults\u001b[0m\u001b[0;34m)\u001b[0m\u001b[0;34m\u001b[0m\u001b[0;34m\u001b[0m\u001b[0m\n",
            "\u001b[0;31mTypeError\u001b[0m: load() missing 1 required positional argument: 'Loader'"
          ]
        }
      ],
      "source": [
        "from flaml import AutoML\n"
      ]
    },
    {
      "cell_type": "code",
      "execution_count": null,
      "metadata": {
        "cellView": "form",
        "id": "eAT0mNY4Tyw9"
      },
      "outputs": [],
      "source": [
        "#@title mount drive\n",
        "from google.colab import drive\n",
        "from pathlib import Path\n",
        "drive_base_str = '/content/drive'\n",
        "drive.mount(drive_base_str)\n"
      ]
    },
    {
      "cell_type": "code",
      "execution_count": null,
      "metadata": {
        "cellView": "form",
        "id": "K2vkmkWKf2re"
      },
      "outputs": [],
      "source": [
        "from pathlib import Path\n",
        "root_dir = \"/content/drive/MyDrive/ETHZ-2022-S/ML-healthcare-projects/project2/transformers\" #@param {type:\"string\"}\n",
        "root_dir = Path(root_dir)\n",
        "\n",
        "help_text = f\"entered directory either does not exist or is not a directory. Received:\\n\\t{root_dir.resolve()}\"\n",
        "assert root_dir.exists() and root_dir.is_dir(), help_text\n",
        "\n",
        "# find the subdirectories, of which logs are some\n",
        "subdirs = {d.name:d for d in root_dir.iterdir() if d.is_dir()}\n",
        "_found_subdirs = list(subdirs.keys())\n",
        "print(f\"found the following directories in the root:\\n{_found_subdirs}\")\n",
        "\n",
        "\n"
      ]
    },
    {
      "cell_type": "markdown",
      "metadata": {
        "id": "gsdEK8eseR0b"
      },
      "source": [
        ""
      ]
    },
    {
      "cell_type": "code",
      "execution_count": null,
      "metadata": {
        "cellView": "form",
        "id": "9D-IM_1Eh7My"
      },
      "outputs": [],
      "source": [
        "log_dir = \"logs_pubmed_20k_no_freeze description\" #@param [\"logs_pubmed_20k\", \"logs_pubmed_full\"] {allow-input: true}\n",
        "assert log_dir in _found_subdirs, \"log_dir must be a directory name inside root\"\n",
        "\n",
        "tensorboard_logpath = root_dir / log_dir\n",
        "\n",
        "print(f\"will extract files from\\n\\n:{tensorboard_logpath}\")"
      ]
    },
    {
      "cell_type": "markdown",
      "metadata": {
        "id": "I7Z9VFxTKoAa"
      },
      "source": [
        "# define function"
      ]
    },
    {
      "cell_type": "code",
      "execution_count": null,
      "metadata": {
        "id": "ImrpbhQwL1k0"
      },
      "outputs": [],
      "source": [
        "from datetime import datetime\n",
        "import pprint as pp \n",
        "def get_timestamp():\n",
        "    \"\"\"get_timestamp - returns a timestamp in the format YYYY-MM-DD-HH-MM-SS\"\"\"\n",
        "    return datetime.now().strftime(\"%b-%d-%Y_t-%H\")"
      ]
    },
    {
      "cell_type": "code",
      "execution_count": null,
      "metadata": {
        "id": "QkRA6U5YFczq"
      },
      "outputs": [],
      "source": [
        "def convert_tb_data(root_dir, sort_by=\"step\"):\n",
        "    \"\"\"Convert local TensorBoard data into Pandas DataFrame.\n",
        "    \n",
        "    Function takes the root directory path and recursively parses\n",
        "    all events data.    \n",
        "    If the `sort_by` value is provided then it will use that column\n",
        "    to sort values; typically `wall_time` or `step`.\n",
        "    \n",
        "    *Note* that the whole data is converted into a DataFrame.\n",
        "    Depending on the data size this might take a while. If it takes\n",
        "    too long then narrow it to some sub-directories.\n",
        "    \n",
        "    Paramters:\n",
        "        root_dir: (str) path to root dir with tensorboard data.\n",
        "        sort_by: (optional str) column name to sort by.\n",
        "    \n",
        "    Returns:\n",
        "        pandas.DataFrame with [wall_time, name, step, value] columns.\n",
        "    \n",
        "    \"\"\"\n",
        "    import os\n",
        "    import pandas as pd\n",
        "    from tensorflow.python.summary.summary_iterator import summary_iterator\n",
        "    from tqdm.auto import tqdm\n",
        "    def convert_tfevent(filepath, log_examples=False):\n",
        "\n",
        "        _f = Path(filepath)\n",
        "\n",
        "        _df =  pd.DataFrame([\n",
        "            parse_tfevent(e, log_examples) for e in summary_iterator(filepath) if len(e.summary.value)\n",
        "        ])\n",
        "\n",
        "        _df['version'] = _f.parent.name\n",
        "        _df['model'] = _f.parent.parent.name\n",
        "        _df['dataset'] = str(_f.parent.parent.parent.name).replace(\"logs_\",\"\")\n",
        "\n",
        "        return _df\n",
        "    \n",
        "    def parse_tfevent(tfevent, log_examples=False):\n",
        "        event_data = dict(\n",
        "                        wall_time=tfevent.wall_time,\n",
        "                        name=tfevent.summary.value[0].tag,\n",
        "                        step=tfevent.step,\n",
        "                        value=float(tfevent.summary.value[0].simple_value),\n",
        "                    )\n",
        "        if log_examples:\n",
        "            logging.info(f\"\\n\\nEvent data for example:\\n\\t{pp.pformat(event_data)}\")\n",
        "            logging.info(f\"other fields:\\t{pp.pformat(dir(tfevent))}\")\n",
        "\n",
        "        return event_data\n",
        "    \n",
        "    columns_order = ['dataset', 'model', 'version', 'wall_time', 'name', 'step', 'value']\n",
        "    out = []\n",
        "    for (root, _, filenames) in tqdm(os.walk(root_dir)):\n",
        "        for filename in filenames:\n",
        "            if \"events.out.tfevents\" not in filename:\n",
        "                continue\n",
        "            try:\n",
        "                file_full_path = os.path.join(root, filename)\n",
        "                out.append(convert_tfevent(file_full_path, log_examples=False))\n",
        "            except Exception as e:\n",
        "                logging.warning(f\"unable to convert the event, error is: {e}\")\n",
        "\n",
        "    # Concatenate (and sort) all partial individual dataframes\n",
        "    all_df = pd.concat(out)[columns_order]\n",
        "    if sort_by is not None:\n",
        "        all_df = all_df.sort_values(sort_by)\n",
        "        \n",
        "    return all_df.reset_index(drop=True)\n"
      ]
    },
    {
      "cell_type": "code",
      "execution_count": null,
      "metadata": {
        "cellView": "form",
        "id": "1f9eP7Zfi3zZ"
      },
      "outputs": [],
      "source": [
        "data_dir = \"/content/drive/MyDrive/ETHZ-2022-S/ML-healthcare-projects/project2/transformers/tensorboard_data_processed_2100\" #@param {type:\"string\"}\n",
        "data_dir = Path(data_dir)"
      ]
    },
    {
      "cell_type": "markdown",
      "metadata": {
        "id": "QhYtQOBiKrC1"
      },
      "source": [
        "# extract "
      ]
    },
    {
      "cell_type": "code",
      "execution_count": null,
      "metadata": {
        "id": "KrjNoNBGHFEz"
      },
      "outputs": [],
      "source": [
        "df = convert_tb_data(root_dir=tensorboard_logpath, sort_by=\"step\").convert_dtypes()\n",
        "\n",
        "df.head()"
      ]
    },
    {
      "cell_type": "code",
      "execution_count": null,
      "metadata": {
        "id": "FJth2IJmI4Uo"
      },
      "outputs": [],
      "source": [
        "df.info()"
      ]
    },
    {
      "cell_type": "code",
      "execution_count": null,
      "metadata": {
        "id": "u-NoxIYXdSiJ"
      },
      "outputs": [],
      "source": [
        "gpu_stuff = [n for n in df.name.unique() if \"device_id:\" in n or \"gpu_id:\" in n]\n",
        "misc_useless = ['hp_metric',         '_hparams_/experiment',\n",
        " '_hparams_/session_start_info',   '_hparams_/session_end_info',]\n",
        "gpu_stuff.extend(misc_useless)\n",
        "df_cln = df.drop(df[df.name.isin(gpu_stuff)].index)\n",
        "len(df_cln)"
      ]
    },
    {
      "cell_type": "code",
      "execution_count": null,
      "metadata": {
        "id": "ONZmHt2jK05K"
      },
      "outputs": [],
      "source": [
        "output_dir = root_dir / \"tensorboard_data_processed\"\n",
        "output_dir.mkdir(exist_ok=True)\n",
        "\n",
        "df_out = output_dir / f\"tensorboard_training_logs_{log_dir}_{get_timestamp()}\""
      ]
    },
    {
      "cell_type": "code",
      "execution_count": null,
      "metadata": {
        "id": "zXMopYPULdDV"
      },
      "outputs": [],
      "source": [
        "df_cln.to_csv(df_out.with_suffix('.csv'), index=False)\n",
        "df_cln.to_excel(df_out.with_suffix('.xlsx'), index=False)\n",
        "\n",
        "df_out.with_suffix('.csv').resolve()"
      ]
    },
    {
      "cell_type": "markdown",
      "metadata": {
        "id": "Jb5uYu_KiQfs"
      },
      "source": [
        "## re-combine individual dataframes"
      ]
    },
    {
      "cell_type": "code",
      "execution_count": null,
      "metadata": {
        "id": "eTmy0VpSkwrc"
      },
      "outputs": [],
      "source": [
        "def get_timestamp():\n",
        "    return datetime.now().strftime(\"%b-%d_t-%H\")"
      ]
    },
    {
      "cell_type": "code",
      "execution_count": null,
      "metadata": {
        "id": "TTXWYwm4i95y"
      },
      "outputs": [],
      "source": [
        "files = {f for f in data_dir.iterdir() if f.is_file() and f.suffix=='.csv'}\n",
        "study_df = pd.DataFrame()\n",
        "for f in files:\n",
        "    df = pd.read_csv(f).convert_dtypes()\n",
        "    study_df = pd.concat([study_df, df], axis=0)\n",
        "study_df.reset_index(drop=True, inplace=True)\n",
        "study_df.info()"
      ]
    },
    {
      "cell_type": "code",
      "execution_count": null,
      "metadata": {
        "id": "aaF169BVkPVd"
      },
      "outputs": [],
      "source": [
        "study_df.head()"
      ]
    },
    {
      "cell_type": "code",
      "execution_count": null,
      "metadata": {
        "id": "lXqu3gYAkbdS"
      },
      "outputs": [],
      "source": [
        "agg_df_path = data_dir.parent / f\"transformers_agg_train_data_raw_{get_timestamp()}\"\n",
        "study_df.to_csv(agg_df_path.with_suffix('.csv'), index=False)\n",
        "study_df.to_excel(agg_df_path.with_suffix('.xlsx'), index=False)\n",
        "\n",
        "agg_df_path.with_suffix('.csv').resolve()"
      ]
    },
    {
      "cell_type": "code",
      "execution_count": null,
      "metadata": {
        "id": "VHGCYEd_l4--"
      },
      "outputs": [],
      "source": [
        "pp.pprint(study_df.model.unique())"
      ]
    },
    {
      "cell_type": "markdown",
      "metadata": {
        "id": "8bt4wtZ5lkd4"
      },
      "source": [
        "## additional parsing\n",
        "\n",
        "_some columns are actually multiple things and need to be unpacked:_ `txtcls_pubmed_20k_xtremedistil-l12-h384-uncased`\n"
      ]
    },
    {
      "cell_type": "code",
      "execution_count": null,
      "metadata": {
        "colab": {
          "base_uri": "https://localhost:8080/",
          "height": 17
        },
        "id": "-u17gqgTTy96",
        "outputId": "d094a744-ab02-420f-91cd-299862e29145",
        "cellView": "form"
      },
      "outputs": [
        {
          "data": {
            "text/html": [
              "\n",
              "  <style>\n",
              "    pre {\n",
              "        white-space: pre-wrap;\n",
              "    }\n",
              "  </style>\n",
              "  "
            ],
            "text/plain": [
              "<IPython.core.display.HTML object>"
            ]
          },
          "metadata": {},
          "output_type": "display_data"
        }
      ],
      "source": [
        "load_for_parsing = \"/content/drive/MyDrive/ETHZ-2022-S/ML-healthcare-projects/project2/transformers/tensorboard_logs2022-04-26_21-20.csv\" #@param {type:\"string\"}\n",
        "if len(load_for_parsing) > 2:\n",
        "    load_for_parsing = Path(load_for_parsing)\n",
        "    assert load_for_parsing.exists(), \"input must exist\"\n",
        "    study_df = pd.read_csv(load_for_parsing\n",
        "                           ).convert_dtypes()\n",
        "else:\n",
        "    print(\"not side-loading data in for parsing\")"
      ]
    },
    {
      "cell_type": "code",
      "execution_count": null,
      "metadata": {
        "colab": {
          "base_uri": "https://localhost:8080/",
          "height": 34
        },
        "id": "4tgElyQklxyb",
        "outputId": "a80b537a-baa4-4acb-9333-fa39246fc991"
      },
      "outputs": [
        {
          "data": {
            "text/html": [
              "\n",
              "  <style>\n",
              "    pre {\n",
              "        white-space: pre-wrap;\n",
              "    }\n",
              "  </style>\n",
              "  "
            ],
            "text/plain": [
              "<IPython.core.display.HTML object>"
            ]
          },
          "metadata": {},
          "output_type": "display_data"
        },
        {
          "data": {
            "text/plain": [
              "('xtremedistil_l12_h384_uncased', 'pubmed_20k')"
            ]
          },
          "execution_count": 17,
          "metadata": {},
          "output_type": "execute_result"
        }
      ],
      "source": [
        "def parse_modelcol(text:str):\n",
        "    \"\"\"\n",
        "    splits this trash out:\n",
        "        'txtcls_pubmed_20k_xtremedistil-l12-h384-uncased',\n",
        "    'txtcls_pubmed_20k_bluebert_pubmed_uncased_L-12_H',\n",
        "                    'txtcls_pubmed_20k_albert-large-v2',\n",
        "    \"\"\"\n",
        "    modelcol = text.replace(\"-\", \"_\")\n",
        "    modelcol = modelcol.replace(\"txtcls_\", \"\")\n",
        "\n",
        "    if \"pubmed_20k\" in modelcol:\n",
        "        dataset = \"pubmed_20k\"\n",
        "        modelcol = modelcol.replace(\"pubmed_20k_\", \"\")\n",
        "    else:\n",
        "        dataset = \"pubmed_full\"\n",
        "        modelcol = modelcol.replace(\"pubmed_full_\", \"\")\n",
        "\n",
        "\n",
        "    return modelcol, dataset\n",
        "\n",
        "\n",
        "\n",
        "parse_modelcol('txtcls_pubmed_20k_xtremedistil-l12-h384-uncased',)"
      ]
    },
    {
      "cell_type": "code",
      "execution_count": null,
      "metadata": {
        "colab": {
          "base_uri": "https://localhost:8080/",
          "height": 121
        },
        "id": "Rz2g3PP0neOc",
        "outputId": "982b51b1-25aa-4834-ad39-7c21d519b514"
      },
      "outputs": [
        {
          "data": {
            "text/html": [
              "\n",
              "  <style>\n",
              "    pre {\n",
              "        white-space: pre-wrap;\n",
              "    }\n",
              "  </style>\n",
              "  "
            ],
            "text/plain": [
              "<IPython.core.display.HTML object>"
            ]
          },
          "metadata": {},
          "output_type": "display_data"
        },
        {
          "name": "stdout",
          "output_type": "stream",
          "text": [
            "<StringArray>\n",
            "[                     '20k_finetune',             'pubmed_20k_full_train',\n",
            "                'pubmed_full_freeze',             'pubmed_full_no_freeze',\n",
            " 'pubmed_full_no_freeze description',  'pubmed_20k_no_freeze description',\n",
            "     'pubmed_20k_freeze description']\n",
            "Length: 7, dtype: string\n"
          ]
        }
      ],
      "source": [
        "pp.pprint(study_df.dataset.unique())\n"
      ]
    },
    {
      "cell_type": "code",
      "execution_count": null,
      "metadata": {
        "colab": {
          "base_uri": "https://localhost:8080/",
          "height": 52
        },
        "id": "g_an0LyCnZ-x",
        "outputId": "57cf5241-4eaf-437a-b612-7ca3f36fe9b3"
      },
      "outputs": [
        {
          "data": {
            "text/html": [
              "\n",
              "  <style>\n",
              "    pre {\n",
              "        white-space: pre-wrap;\n",
              "    }\n",
              "  </style>\n",
              "  "
            ],
            "text/plain": [
              "<IPython.core.display.HTML object>"
            ]
          },
          "metadata": {},
          "output_type": "display_data"
        },
        {
          "name": "stdout",
          "output_type": "stream",
          "text": [
            "input column value:\tpubmed_full_no_freeze description\n"
          ]
        },
        {
          "data": {
            "text/plain": [
              "('pubmed_full', 'no_freeze', True)"
            ]
          },
          "execution_count": 19,
          "metadata": {},
          "output_type": "execute_result"
        }
      ],
      "source": [
        "def parse_datasetcol(text:str, verbose=False):\n",
        "    \"\"\"\n",
        "    split the column dataset into multiple to avoid the messy aggregate\n",
        "\n",
        "     '20k_finetune', 'pubmed_full_no_freeze description'\n",
        "    \"\"\"\n",
        "\n",
        "    if verbose:\n",
        "        print(f\"input column value:\\t{text}\")\n",
        "    if \"20k\" in text:\n",
        "        # dataset = text.split(\"20k_\", maxsplit=1)[0]\n",
        "        dataset = 'pubmed_20k'\n",
        "        train_method = text.split(\"20k_\", maxsplit=1)[-1]\n",
        "    else:\n",
        "        # dataset = text.split(\"20k_\", maxsplit=1)[0]\n",
        "        dataset = 'pubmed_full'\n",
        "        train_method = text.split(\"pubmed_full_\", maxsplit=1)[-1]\n",
        "    if ' description' in train_method:\n",
        "        train_on_raw_data = True\n",
        "        train_method = train_method.split(\" \", maxsplit=1)[0]\n",
        "    else:\n",
        "        train_on_raw_data = False\n",
        "        # nothing is appended in this case so no split required\n",
        "    return dataset, train_method, train_on_raw_data\n",
        "\n",
        "parse_datasetcol('pubmed_full_no_freeze description', True)"
      ]
    },
    {
      "cell_type": "markdown",
      "metadata": {
        "id": "N9FPlUJXqIwD"
      },
      "source": [
        "### iterate"
      ]
    },
    {
      "cell_type": "code",
      "execution_count": null,
      "metadata": {
        "colab": {
          "base_uri": "https://localhost:8080/",
          "height": 17
        },
        "id": "52XZIi3_sOnW",
        "outputId": "126e64c6-7e9b-4647-f29e-22a7b2e5f010"
      },
      "outputs": [
        {
          "data": {
            "text/html": [
              "\n",
              "  <style>\n",
              "    pre {\n",
              "        white-space: pre-wrap;\n",
              "    }\n",
              "  </style>\n",
              "  "
            ],
            "text/plain": [
              "<IPython.core.display.HTML object>"
            ]
          },
          "metadata": {},
          "output_type": "display_data"
        }
      ],
      "source": [
        "from tqdm.auto import tqdm\n",
        "\n",
        "def parse_multicols(df):\n",
        "    \"\"\"\n",
        "    applies the parse_datasetcol & parse_modelcol functions via df.iterrows()\n",
        "    \"\"\"\n",
        "    parsed_df = df.copy(deep=True)\n",
        "    parsed_df['tuning_strategy'] = \"\"\n",
        "    parsed_df['train_on_raw_data'] = False\n",
        "    for index, row in tqdm(parsed_df.iterrows(), total=len(parsed_df)):\n",
        "\n",
        "        _model, _dataset = parse_modelcol(row['model'])\n",
        "        _dataset_conf, _tune_strat, _raw_data = parse_datasetcol(row['dataset'])\n",
        "        assert _dataset.strip() == _dataset_conf.strip(), \"datasets for the same row parsed differently\"\n",
        "        parsed_df.loc[index, 'model'] = _model\n",
        "        parsed_df.loc[index, 'dataset'] = _dataset\n",
        "        parsed_df.loc[index, 'tuning_strategy'] = _tune_strat\n",
        "        parsed_df.loc[index, 'train_on_raw_data'] = _raw_data\n",
        "\n",
        "    parsed_df =  parsed_df.reset_index(drop=True).convert_dtypes()\n",
        "    return parsed_df\n",
        "\n",
        "def chunky_pandas(my_df, num_chunks: int = 4):\n",
        "    \"\"\"\n",
        "    chunky_pandas [split dataframe into `num_chunks` equal chunks, return each inside a list]\n",
        "\n",
        "    Args:\n",
        "        my_df (pd.DataFrame)\n",
        "        num_chunks (int, optional): Defaults to 4.\n",
        "\n",
        "    Returns:\n",
        "        list: a list of dataframes\n",
        "    \"\"\"\n",
        "    n = int(len(my_df) // num_chunks)\n",
        "    list_df = [my_df[i : i + n] for i in range(0, my_df.shape[0], n)]\n",
        "\n",
        "    return list_df"
      ]
    },
    {
      "cell_type": "code",
      "execution_count": null,
      "metadata": {
        "colab": {
          "base_uri": "https://localhost:8080/",
          "height": 389,
          "referenced_widgets": [
            "586f066745d74e9e817920161248176a",
            "28b263108e6248edb2e17b942fdffef6",
            "6abb8f65204d42d2a3ed9913ce31b843",
            "8c949e8b9eb34b09acdd2aa54c1efb21",
            "f7874e6c3b554e5b8e40b02da7a52e15",
            "1a644da4acd04403938ccbec65f6fd14",
            "aaffb54b94954b3b985af42f7d47cfd8",
            "73810afe68434433af73c426946930dc",
            "cd85a47185ad465aadaf9909e9c05689",
            "501d39eb0f99475dba1a8801108b2124",
            "8262cc85d4b14906ba102cb8bdaf5aaf"
          ]
        },
        "id": "CgSNTKLq35J-",
        "outputId": "e5c697d2-15d8-4228-c7e5-759459cd35b2"
      },
      "outputs": [
        {
          "data": {
            "text/html": [
              "\n",
              "  <style>\n",
              "    pre {\n",
              "        white-space: pre-wrap;\n",
              "    }\n",
              "  </style>\n",
              "  "
            ],
            "text/plain": [
              "<IPython.core.display.HTML object>"
            ]
          },
          "metadata": {},
          "output_type": "display_data"
        },
        {
          "data": {
            "application/vnd.jupyter.widget-view+json": {
              "model_id": "586f066745d74e9e817920161248176a",
              "version_major": 2,
              "version_minor": 0
            },
            "text/plain": [
              "  0%|          | 0/5 [00:00<?, ?it/s]"
            ]
          },
          "metadata": {},
          "output_type": "display_data"
        },
        {
          "data": {
            "text/html": [
              "\n",
              "  <div id=\"df-417f0da0-e578-433a-b535-73fe9989f153\">\n",
              "    <div class=\"colab-df-container\">\n",
              "      <div>\n",
              "<style scoped>\n",
              "    .dataframe tbody tr th:only-of-type {\n",
              "        vertical-align: middle;\n",
              "    }\n",
              "\n",
              "    .dataframe tbody tr th {\n",
              "        vertical-align: top;\n",
              "    }\n",
              "\n",
              "    .dataframe thead th {\n",
              "        text-align: right;\n",
              "    }\n",
              "</style>\n",
              "<table border=\"1\" class=\"dataframe\">\n",
              "  <thead>\n",
              "    <tr style=\"text-align: right;\">\n",
              "      <th></th>\n",
              "      <th>dataset</th>\n",
              "      <th>model</th>\n",
              "      <th>name</th>\n",
              "      <th>step</th>\n",
              "      <th>value</th>\n",
              "      <th>version</th>\n",
              "      <th>wall_time</th>\n",
              "      <th>tuning_strategy</th>\n",
              "      <th>train_on_raw_data</th>\n",
              "    </tr>\n",
              "  </thead>\n",
              "  <tbody>\n",
              "    <tr>\n",
              "      <th>0</th>\n",
              "      <td>pubmed_20k</td>\n",
              "      <td>xtremedistil_l12_h384_uncased</td>\n",
              "      <td>lr-Adam</td>\n",
              "      <td>0</td>\n",
              "      <td>0.0001</td>\n",
              "      <td>version_3</td>\n",
              "      <td>1650574409.423172</td>\n",
              "      <td>finetune</td>\n",
              "      <td>False</td>\n",
              "    </tr>\n",
              "    <tr>\n",
              "      <th>1</th>\n",
              "      <td>pubmed_20k</td>\n",
              "      <td>xtremedistil_l12_h384_uncased</td>\n",
              "      <td>lr-Adam</td>\n",
              "      <td>0</td>\n",
              "      <td>0.0001</td>\n",
              "      <td>version_4</td>\n",
              "      <td>1650642827.059808</td>\n",
              "      <td>finetune</td>\n",
              "      <td>False</td>\n",
              "    </tr>\n",
              "    <tr>\n",
              "      <th>2</th>\n",
              "      <td>pubmed_20k</td>\n",
              "      <td>xtremedistil_l12_h384_uncased</td>\n",
              "      <td>lr-Adam</td>\n",
              "      <td>0</td>\n",
              "      <td>0.0001</td>\n",
              "      <td>version_0</td>\n",
              "      <td>1650561142.537016</td>\n",
              "      <td>finetune</td>\n",
              "      <td>False</td>\n",
              "    </tr>\n",
              "    <tr>\n",
              "      <th>3</th>\n",
              "      <td>pubmed_20k</td>\n",
              "      <td>xtremedistil_l12_h384_uncased</td>\n",
              "      <td>lr-Adam</td>\n",
              "      <td>0</td>\n",
              "      <td>0.0001</td>\n",
              "      <td>version_1</td>\n",
              "      <td>1650566381.383424</td>\n",
              "      <td>finetune</td>\n",
              "      <td>False</td>\n",
              "    </tr>\n",
              "    <tr>\n",
              "      <th>4</th>\n",
              "      <td>pubmed_20k</td>\n",
              "      <td>bluebert_pubmed_uncased_L_12_H</td>\n",
              "      <td>lr-Adam</td>\n",
              "      <td>0</td>\n",
              "      <td>0.0001</td>\n",
              "      <td>version_0</td>\n",
              "      <td>1650596887.148705</td>\n",
              "      <td>finetune</td>\n",
              "      <td>False</td>\n",
              "    </tr>\n",
              "  </tbody>\n",
              "</table>\n",
              "</div>\n",
              "      <button class=\"colab-df-convert\" onclick=\"convertToInteractive('df-417f0da0-e578-433a-b535-73fe9989f153')\"\n",
              "              title=\"Convert this dataframe to an interactive table.\"\n",
              "              style=\"display:none;\">\n",
              "        \n",
              "  <svg xmlns=\"http://www.w3.org/2000/svg\" height=\"24px\"viewBox=\"0 0 24 24\"\n",
              "       width=\"24px\">\n",
              "    <path d=\"M0 0h24v24H0V0z\" fill=\"none\"/>\n",
              "    <path d=\"M18.56 5.44l.94 2.06.94-2.06 2.06-.94-2.06-.94-.94-2.06-.94 2.06-2.06.94zm-11 1L8.5 8.5l.94-2.06 2.06-.94-2.06-.94L8.5 2.5l-.94 2.06-2.06.94zm10 10l.94 2.06.94-2.06 2.06-.94-2.06-.94-.94-2.06-.94 2.06-2.06.94z\"/><path d=\"M17.41 7.96l-1.37-1.37c-.4-.4-.92-.59-1.43-.59-.52 0-1.04.2-1.43.59L10.3 9.45l-7.72 7.72c-.78.78-.78 2.05 0 2.83L4 21.41c.39.39.9.59 1.41.59.51 0 1.02-.2 1.41-.59l7.78-7.78 2.81-2.81c.8-.78.8-2.07 0-2.86zM5.41 20L4 18.59l7.72-7.72 1.47 1.35L5.41 20z\"/>\n",
              "  </svg>\n",
              "      </button>\n",
              "      \n",
              "  <style>\n",
              "    .colab-df-container {\n",
              "      display:flex;\n",
              "      flex-wrap:wrap;\n",
              "      gap: 12px;\n",
              "    }\n",
              "\n",
              "    .colab-df-convert {\n",
              "      background-color: #E8F0FE;\n",
              "      border: none;\n",
              "      border-radius: 50%;\n",
              "      cursor: pointer;\n",
              "      display: none;\n",
              "      fill: #1967D2;\n",
              "      height: 32px;\n",
              "      padding: 0 0 0 0;\n",
              "      width: 32px;\n",
              "    }\n",
              "\n",
              "    .colab-df-convert:hover {\n",
              "      background-color: #E2EBFA;\n",
              "      box-shadow: 0px 1px 2px rgba(60, 64, 67, 0.3), 0px 1px 3px 1px rgba(60, 64, 67, 0.15);\n",
              "      fill: #174EA6;\n",
              "    }\n",
              "\n",
              "    [theme=dark] .colab-df-convert {\n",
              "      background-color: #3B4455;\n",
              "      fill: #D2E3FC;\n",
              "    }\n",
              "\n",
              "    [theme=dark] .colab-df-convert:hover {\n",
              "      background-color: #434B5C;\n",
              "      box-shadow: 0px 1px 3px 1px rgba(0, 0, 0, 0.15);\n",
              "      filter: drop-shadow(0px 1px 2px rgba(0, 0, 0, 0.3));\n",
              "      fill: #FFFFFF;\n",
              "    }\n",
              "  </style>\n",
              "\n",
              "      <script>\n",
              "        const buttonEl =\n",
              "          document.querySelector('#df-417f0da0-e578-433a-b535-73fe9989f153 button.colab-df-convert');\n",
              "        buttonEl.style.display =\n",
              "          google.colab.kernel.accessAllowed ? 'block' : 'none';\n",
              "\n",
              "        async function convertToInteractive(key) {\n",
              "          const element = document.querySelector('#df-417f0da0-e578-433a-b535-73fe9989f153');\n",
              "          const dataTable =\n",
              "            await google.colab.kernel.invokeFunction('convertToInteractive',\n",
              "                                                     [key], {});\n",
              "          if (!dataTable) return;\n",
              "\n",
              "          const docLinkHtml = 'Like what you see? Visit the ' +\n",
              "            '<a target=\"_blank\" href=https://colab.research.google.com/notebooks/data_table.ipynb>data table notebook</a>'\n",
              "            + ' to learn more about interactive tables.';\n",
              "          element.innerHTML = '';\n",
              "          dataTable['output_type'] = 'display_data';\n",
              "          await google.colab.output.renderOutput(dataTable, element);\n",
              "          const docLink = document.createElement('div');\n",
              "          docLink.innerHTML = docLinkHtml;\n",
              "          element.appendChild(docLink);\n",
              "        }\n",
              "      </script>\n",
              "    </div>\n",
              "  </div>\n",
              "  "
            ],
            "text/plain": [
              "      dataset                           model     name  step   value  \\\n",
              "0  pubmed_20k   xtremedistil_l12_h384_uncased  lr-Adam     0  0.0001   \n",
              "1  pubmed_20k   xtremedistil_l12_h384_uncased  lr-Adam     0  0.0001   \n",
              "2  pubmed_20k   xtremedistil_l12_h384_uncased  lr-Adam     0  0.0001   \n",
              "3  pubmed_20k   xtremedistil_l12_h384_uncased  lr-Adam     0  0.0001   \n",
              "4  pubmed_20k  bluebert_pubmed_uncased_L_12_H  lr-Adam     0  0.0001   \n",
              "\n",
              "     version          wall_time tuning_strategy  train_on_raw_data  \n",
              "0  version_3  1650574409.423172        finetune              False  \n",
              "1  version_4  1650642827.059808        finetune              False  \n",
              "2  version_0  1650561142.537016        finetune              False  \n",
              "3  version_1  1650566381.383424        finetune              False  \n",
              "4  version_0  1650596887.148705        finetune              False  "
            ]
          },
          "execution_count": 21,
          "metadata": {},
          "output_type": "execute_result"
        }
      ],
      "source": [
        "parse_multicols(study_df.head())"
      ]
    },
    {
      "cell_type": "code",
      "execution_count": 22,
      "metadata": {
        "colab": {
          "base_uri": "https://localhost:8080/",
          "height": 322,
          "referenced_widgets": [
            "ace48e6cf0c046c68da7974f18e144f1",
            "eb2ff931595e435ebce07efa944e8fcb",
            "34d23961e2d24726b9e0432b03f8313c",
            "c035f66ffd6d46df8d3688d2903a9e9c",
            "b3a269c761c345279599bd5bb979c477",
            "3bc88337c01d40a0957f051eb539cdb9",
            "148b0a54a960449cbbb8d973e751e184",
            "162abe965b0d44b59fe8eb5cf3f0e1d2",
            "966c422ff8b740b6a0b96408b9c42664",
            "65ec1c8d0eca4ce08a6e17fc52648ac7",
            "9ba4d0b3a15c444e8eb4d585c50c69b2",
            "429dd26004674429b63c29419fc1ffab",
            "4418acfbe57d40fdbccc557e2cf32fa8",
            "04a6d143b07241189742234514baa73c",
            "017d43944c02407c8d45f04fa8a9aed9",
            "60cdb24faad24f08843c31920f5c0a69",
            "294dc0572b164c02b0bff271a2e886f6",
            "ad8318f017c14b568bca4b06b59a24bb",
            "0f9e218ad5d343359170b08cac1f3d95",
            "7547584c803a45b8890bd86475ca8dd2",
            "87d4ec77ce24451b8bf2cfc8e7a25476",
            "1ce409f572e64af0953d74605aa6453c",
            "d9811b03be724174a9a50e299e3970ab",
            "9e1128bd49054e748c9fd7dd5d65ac33",
            "7d353bc31a5b46c8a06720a03e599359",
            "5945bd9053164aceb4e79592a1b8a3d5",
            "d80eef9912f84076a1d01ed6a6bef545",
            "5f3b9c9032804263b235c1f05ee3cdb2",
            "22ac0b6b45c44841a128252fcc11c087",
            "fcc3a05b1ab74727bbac30d53fb57981",
            "1f58ae64e5f845efa9e470b5ef969c94",
            "045046eb630c4a528b3c0f2164eb5da0",
            "00f86f1338d4401084a19dbe76f1dee0",
            "477b1e24e8b84756b75f32a6ae6c3bb1",
            "2c9d53f440a14019b7e531d630cd9338",
            "e2630284b9ba4ec5b25095051b10f580",
            "eb06039db71744d7bd7e656fdf5ae65f",
            "ecc31474eb2b4cbda66729fcd46aa6ea",
            "564463921e6244dfb4139c2a7a3c2be2",
            "b39ebb047c484ba898cf179e94ac1ec3",
            "4202a1070c9649c09def75c4cf10b897",
            "e135f503770f4580a9e145377736751c",
            "5700b227c5154429b78d739e3402ab6a",
            "59b7a4ac5797437fb6b3e2f8683759ba",
            "dd78935e30bb44cc9f140880f18a78a6",
            "eb40f4b02c4b4878b00113c73aec8ce8",
            "d38430f4540749c3926ce1eb7f19bea2",
            "30750d89e22d4c59bb7b7ba858457720",
            "83486b8d684847b4b7341b4b01ee152e",
            "b806f05b8196477d95ca4bd68ba360dc",
            "3c72cfba0eb94e1e98082a3c916051b0",
            "1b0b22b1fff74eb8a463668039efe1c6",
            "e193c6fd9ed3484b9661d735c7715cc4",
            "42878a04755741a0928cdd4068fef7c5",
            "73a32fc8a7ca4fedaf0567133fe628df",
            "c1ae03f622b94494bfdb39b601edd70c",
            "11f1f846913a40f2967ba80037423953",
            "1149c80144244518a53ab4848a280a52",
            "b2facf1cbe93458a8203560701b37dbd",
            "2495687db4464434bb27afe0af3cc313",
            "bcc7d520fbb346afbb4fcf4c66371fb4",
            "5efbc47d13a24a6fb549e26a82be16a2",
            "86b486c034104405bc5cd96bfc0cbf9f",
            "86725ed4bb6545308ea17547c99f20d4",
            "1b12e8be91ef4852949992b8d48c40b3",
            "36bc9b49c9e14b01a63a86b43213da66",
            "f5045a03ec0c4349b515e5bf2edac698",
            "a5f8400d9e47450492e1d00e40d93622",
            "c5835af9110a40b98bb580f15fffe883",
            "102c623999fe461bb6be2d3f1474dbac",
            "26e07b6536104a4aa480ef903e9f4371",
            "8158078933e14368aa336bf15d9aad28",
            "ef19b6a2bffc4163afe277f342e6e1b2",
            "7c734f342d544bf4ba56b0b64b555a3d",
            "9b0e5f8630c84437a5c926e925310dd7",
            "2e66db03244a4a1eb2e8adb244a2a8cf",
            "6371ccc5cb9c4485ae62aa812dc49ad2",
            "cad0919995f7479f8b1e53b54858fa63",
            "c6e1ee1649094caea0bdc4237fbb51ed",
            "bb70323a059b414baa652eed1d1db06d",
            "cc501d2bbede4b76a78167f0ae2e9526",
            "cc03af0c8ff9463c9d06da5e73b8722e",
            "ff441867f6be414bbf089f439e707539",
            "46134ebe467f4158a894fe4e7fad072e",
            "6535c1fc994d4585aed9b7f2ee73117f",
            "aff1bf75e0204df9a322938d3e714f06",
            "db675c58f4da4c31951a072b67df7db0",
            "168408c69bc54c09bdd9be38069414ed",
            "d68d37455cac4d2780db79866824d51f",
            "18245660bbbb4bf3ad7886a59703d74b",
            "09cbd59a1aab4da3b5fd9b276c65031e",
            "1b0099d9dbc84438a27245865cf24a1b",
            "0c48bace4ebf491d83c6b4af00c1f518",
            "92bb4a51efe94e80b5f83965b8a1d279",
            "9bed48abae8742a3b47bb7b0eca8f792",
            "de8e2828e44843b980a727b206e76630",
            "8ab3aafcf69d4dd2942dad5f5dbb9394",
            "dd85cabe990943b2994721931ad7b25f",
            "8c0b5be7e05b49f2a47891a141caee95"
          ]
        },
        "id": "8xGozneXs5Gt",
        "outputId": "01898669-979b-4b4d-da86-bad9013864d8"
      },
      "outputs": [
        {
          "data": {
            "text/html": [
              "\n",
              "  <style>\n",
              "    pre {\n",
              "        white-space: pre-wrap;\n",
              "    }\n",
              "  </style>\n",
              "  "
            ],
            "text/plain": [
              "<IPython.core.display.HTML object>"
            ]
          },
          "metadata": {},
          "output_type": "display_data"
        },
        {
          "data": {
            "application/vnd.jupyter.widget-view+json": {
              "model_id": "ace48e6cf0c046c68da7974f18e144f1",
              "version_major": 2,
              "version_minor": 0
            },
            "text/plain": [
              "  0%|          | 0/33885 [00:00<?, ?it/s]"
            ]
          },
          "metadata": {},
          "output_type": "display_data"
        },
        {
          "data": {
            "application/vnd.jupyter.widget-view+json": {
              "model_id": "429dd26004674429b63c29419fc1ffab",
              "version_major": 2,
              "version_minor": 0
            },
            "text/plain": [
              "  0%|          | 0/33885 [00:00<?, ?it/s]"
            ]
          },
          "metadata": {},
          "output_type": "display_data"
        },
        {
          "data": {
            "application/vnd.jupyter.widget-view+json": {
              "model_id": "d9811b03be724174a9a50e299e3970ab",
              "version_major": 2,
              "version_minor": 0
            },
            "text/plain": [
              "  0%|          | 0/33885 [00:00<?, ?it/s]"
            ]
          },
          "metadata": {},
          "output_type": "display_data"
        },
        {
          "data": {
            "application/vnd.jupyter.widget-view+json": {
              "model_id": "477b1e24e8b84756b75f32a6ae6c3bb1",
              "version_major": 2,
              "version_minor": 0
            },
            "text/plain": [
              "  0%|          | 0/33885 [00:00<?, ?it/s]"
            ]
          },
          "metadata": {},
          "output_type": "display_data"
        },
        {
          "data": {
            "application/vnd.jupyter.widget-view+json": {
              "model_id": "dd78935e30bb44cc9f140880f18a78a6",
              "version_major": 2,
              "version_minor": 0
            },
            "text/plain": [
              "  0%|          | 0/33885 [00:00<?, ?it/s]"
            ]
          },
          "metadata": {},
          "output_type": "display_data"
        },
        {
          "data": {
            "application/vnd.jupyter.widget-view+json": {
              "model_id": "c1ae03f622b94494bfdb39b601edd70c",
              "version_major": 2,
              "version_minor": 0
            },
            "text/plain": [
              "  0%|          | 0/33885 [00:00<?, ?it/s]"
            ]
          },
          "metadata": {},
          "output_type": "display_data"
        },
        {
          "data": {
            "application/vnd.jupyter.widget-view+json": {
              "model_id": "f5045a03ec0c4349b515e5bf2edac698",
              "version_major": 2,
              "version_minor": 0
            },
            "text/plain": [
              "  0%|          | 0/33885 [00:00<?, ?it/s]"
            ]
          },
          "metadata": {},
          "output_type": "display_data"
        },
        {
          "data": {
            "application/vnd.jupyter.widget-view+json": {
              "model_id": "cad0919995f7479f8b1e53b54858fa63",
              "version_major": 2,
              "version_minor": 0
            },
            "text/plain": [
              "  0%|          | 0/33885 [00:00<?, ?it/s]"
            ]
          },
          "metadata": {},
          "output_type": "display_data"
        },
        {
          "output_type": "display_data",
          "data": {
            "text/plain": [
              "  0%|          | 0/1 [00:00<?, ?it/s]"
            ],
            "application/vnd.jupyter.widget-view+json": {
              "version_major": 2,
              "version_minor": 0,
              "model_id": "d68d37455cac4d2780db79866824d51f"
            }
          },
          "metadata": {}
        },
        {
          "output_type": "stream",
          "name": "stdout",
          "text": [
            "<class 'list'> 9\n"
          ]
        }
      ],
      "source": [
        "import os\n",
        "from joblib import Parallel, delayed\n",
        "\n",
        "parsed_df = study_df.copy(deep=True)\n",
        "\n",
        "cpus = max(os.cpu_count(), 1)\n",
        "split_data = chunky_pandas(parsed_df, num_chunks=cpus)\n",
        "proc_split_dfs = Parallel(n_jobs=cpus, prefer=\"threads\")(\\\n",
        "                    delayed(parse_multicols)(_df) for _df in split_data)\n",
        "\n",
        "print(type(proc_split_dfs), len(proc_split_dfs))"
      ]
    },
    {
      "cell_type": "code",
      "execution_count": 23,
      "metadata": {
        "id": "s-ujaVDd4Iuk",
        "colab": {
          "base_uri": "https://localhost:8080/",
          "height": 487
        },
        "outputId": "573ae65e-2e0b-453c-f5c1-a102ba6ac281"
      },
      "outputs": [
        {
          "output_type": "display_data",
          "data": {
            "text/plain": [
              "<IPython.core.display.HTML object>"
            ],
            "text/html": [
              "\n",
              "  <style>\n",
              "    pre {\n",
              "        white-space: pre-wrap;\n",
              "    }\n",
              "  </style>\n",
              "  "
            ]
          },
          "metadata": {}
        },
        {
          "output_type": "execute_result",
          "data": {
            "text/plain": [
              "          dataset                           model  \\\n",
              "0      pubmed_20k   xtremedistil_l12_h384_uncased   \n",
              "1      pubmed_20k   xtremedistil_l12_h384_uncased   \n",
              "2      pubmed_20k   xtremedistil_l12_h384_uncased   \n",
              "3      pubmed_20k   xtremedistil_l12_h384_uncased   \n",
              "4      pubmed_20k  bluebert_pubmed_uncased_L_12_H   \n",
              "...           ...                             ...   \n",
              "33880  pubmed_20k                  albert_base_v2   \n",
              "33881  pubmed_20k               bert_base_uncased   \n",
              "33882  pubmed_20k               bert_base_uncased   \n",
              "33883  pubmed_20k               bert_base_uncased   \n",
              "33884  pubmed_20k               bert_base_uncased   \n",
              "\n",
              "                               name   step     value    version  \\\n",
              "0                           lr-Adam      0    0.0001  version_3   \n",
              "1                           lr-Adam      0    0.0001  version_4   \n",
              "2                           lr-Adam      0    0.0001  version_0   \n",
              "3                           lr-Adam      0    0.0001  version_1   \n",
              "4                           lr-Adam      0    0.0001  version_0   \n",
              "...                             ...    ...       ...        ...   \n",
              "33880          train_accuracy_epoch  15465  0.719345  version_0   \n",
              "33881          train_accuracy_epoch  15465   0.71036  version_0   \n",
              "33882  train_matthewscorrcoef_epoch  15465  0.606176  version_0   \n",
              "33883           train_f1score_epoch  15465  0.703829  version_0   \n",
              "33884     train_cross_entropy_epoch  15465  0.776846  version_0   \n",
              "\n",
              "               wall_time tuning_strategy  train_on_raw_data  \n",
              "0      1650574409.423172        finetune              False  \n",
              "1      1650642827.059808        finetune              False  \n",
              "2      1650561142.537016        finetune              False  \n",
              "3      1650566381.383424        finetune              False  \n",
              "4      1650596887.148705        finetune              False  \n",
              "...                  ...             ...                ...  \n",
              "33880  1650611853.212435        finetune              False  \n",
              "33881  1650628044.210453        finetune              False  \n",
              "33882  1650628044.210535        finetune              False  \n",
              "33883  1650628044.210567        finetune              False  \n",
              "33884  1650628044.210594        finetune              False  \n",
              "\n",
              "[33885 rows x 9 columns]"
            ],
            "text/html": [
              "\n",
              "  <div id=\"df-e4e55233-ce7f-477f-89bd-6afcf25fd342\">\n",
              "    <div class=\"colab-df-container\">\n",
              "      <div>\n",
              "<style scoped>\n",
              "    .dataframe tbody tr th:only-of-type {\n",
              "        vertical-align: middle;\n",
              "    }\n",
              "\n",
              "    .dataframe tbody tr th {\n",
              "        vertical-align: top;\n",
              "    }\n",
              "\n",
              "    .dataframe thead th {\n",
              "        text-align: right;\n",
              "    }\n",
              "</style>\n",
              "<table border=\"1\" class=\"dataframe\">\n",
              "  <thead>\n",
              "    <tr style=\"text-align: right;\">\n",
              "      <th></th>\n",
              "      <th>dataset</th>\n",
              "      <th>model</th>\n",
              "      <th>name</th>\n",
              "      <th>step</th>\n",
              "      <th>value</th>\n",
              "      <th>version</th>\n",
              "      <th>wall_time</th>\n",
              "      <th>tuning_strategy</th>\n",
              "      <th>train_on_raw_data</th>\n",
              "    </tr>\n",
              "  </thead>\n",
              "  <tbody>\n",
              "    <tr>\n",
              "      <th>0</th>\n",
              "      <td>pubmed_20k</td>\n",
              "      <td>xtremedistil_l12_h384_uncased</td>\n",
              "      <td>lr-Adam</td>\n",
              "      <td>0</td>\n",
              "      <td>0.0001</td>\n",
              "      <td>version_3</td>\n",
              "      <td>1650574409.423172</td>\n",
              "      <td>finetune</td>\n",
              "      <td>False</td>\n",
              "    </tr>\n",
              "    <tr>\n",
              "      <th>1</th>\n",
              "      <td>pubmed_20k</td>\n",
              "      <td>xtremedistil_l12_h384_uncased</td>\n",
              "      <td>lr-Adam</td>\n",
              "      <td>0</td>\n",
              "      <td>0.0001</td>\n",
              "      <td>version_4</td>\n",
              "      <td>1650642827.059808</td>\n",
              "      <td>finetune</td>\n",
              "      <td>False</td>\n",
              "    </tr>\n",
              "    <tr>\n",
              "      <th>2</th>\n",
              "      <td>pubmed_20k</td>\n",
              "      <td>xtremedistil_l12_h384_uncased</td>\n",
              "      <td>lr-Adam</td>\n",
              "      <td>0</td>\n",
              "      <td>0.0001</td>\n",
              "      <td>version_0</td>\n",
              "      <td>1650561142.537016</td>\n",
              "      <td>finetune</td>\n",
              "      <td>False</td>\n",
              "    </tr>\n",
              "    <tr>\n",
              "      <th>3</th>\n",
              "      <td>pubmed_20k</td>\n",
              "      <td>xtremedistil_l12_h384_uncased</td>\n",
              "      <td>lr-Adam</td>\n",
              "      <td>0</td>\n",
              "      <td>0.0001</td>\n",
              "      <td>version_1</td>\n",
              "      <td>1650566381.383424</td>\n",
              "      <td>finetune</td>\n",
              "      <td>False</td>\n",
              "    </tr>\n",
              "    <tr>\n",
              "      <th>4</th>\n",
              "      <td>pubmed_20k</td>\n",
              "      <td>bluebert_pubmed_uncased_L_12_H</td>\n",
              "      <td>lr-Adam</td>\n",
              "      <td>0</td>\n",
              "      <td>0.0001</td>\n",
              "      <td>version_0</td>\n",
              "      <td>1650596887.148705</td>\n",
              "      <td>finetune</td>\n",
              "      <td>False</td>\n",
              "    </tr>\n",
              "    <tr>\n",
              "      <th>...</th>\n",
              "      <td>...</td>\n",
              "      <td>...</td>\n",
              "      <td>...</td>\n",
              "      <td>...</td>\n",
              "      <td>...</td>\n",
              "      <td>...</td>\n",
              "      <td>...</td>\n",
              "      <td>...</td>\n",
              "      <td>...</td>\n",
              "    </tr>\n",
              "    <tr>\n",
              "      <th>33880</th>\n",
              "      <td>pubmed_20k</td>\n",
              "      <td>albert_base_v2</td>\n",
              "      <td>train_accuracy_epoch</td>\n",
              "      <td>15465</td>\n",
              "      <td>0.719345</td>\n",
              "      <td>version_0</td>\n",
              "      <td>1650611853.212435</td>\n",
              "      <td>finetune</td>\n",
              "      <td>False</td>\n",
              "    </tr>\n",
              "    <tr>\n",
              "      <th>33881</th>\n",
              "      <td>pubmed_20k</td>\n",
              "      <td>bert_base_uncased</td>\n",
              "      <td>train_accuracy_epoch</td>\n",
              "      <td>15465</td>\n",
              "      <td>0.71036</td>\n",
              "      <td>version_0</td>\n",
              "      <td>1650628044.210453</td>\n",
              "      <td>finetune</td>\n",
              "      <td>False</td>\n",
              "    </tr>\n",
              "    <tr>\n",
              "      <th>33882</th>\n",
              "      <td>pubmed_20k</td>\n",
              "      <td>bert_base_uncased</td>\n",
              "      <td>train_matthewscorrcoef_epoch</td>\n",
              "      <td>15465</td>\n",
              "      <td>0.606176</td>\n",
              "      <td>version_0</td>\n",
              "      <td>1650628044.210535</td>\n",
              "      <td>finetune</td>\n",
              "      <td>False</td>\n",
              "    </tr>\n",
              "    <tr>\n",
              "      <th>33883</th>\n",
              "      <td>pubmed_20k</td>\n",
              "      <td>bert_base_uncased</td>\n",
              "      <td>train_f1score_epoch</td>\n",
              "      <td>15465</td>\n",
              "      <td>0.703829</td>\n",
              "      <td>version_0</td>\n",
              "      <td>1650628044.210567</td>\n",
              "      <td>finetune</td>\n",
              "      <td>False</td>\n",
              "    </tr>\n",
              "    <tr>\n",
              "      <th>33884</th>\n",
              "      <td>pubmed_20k</td>\n",
              "      <td>bert_base_uncased</td>\n",
              "      <td>train_cross_entropy_epoch</td>\n",
              "      <td>15465</td>\n",
              "      <td>0.776846</td>\n",
              "      <td>version_0</td>\n",
              "      <td>1650628044.210594</td>\n",
              "      <td>finetune</td>\n",
              "      <td>False</td>\n",
              "    </tr>\n",
              "  </tbody>\n",
              "</table>\n",
              "<p>33885 rows × 9 columns</p>\n",
              "</div>\n",
              "      <button class=\"colab-df-convert\" onclick=\"convertToInteractive('df-e4e55233-ce7f-477f-89bd-6afcf25fd342')\"\n",
              "              title=\"Convert this dataframe to an interactive table.\"\n",
              "              style=\"display:none;\">\n",
              "        \n",
              "  <svg xmlns=\"http://www.w3.org/2000/svg\" height=\"24px\"viewBox=\"0 0 24 24\"\n",
              "       width=\"24px\">\n",
              "    <path d=\"M0 0h24v24H0V0z\" fill=\"none\"/>\n",
              "    <path d=\"M18.56 5.44l.94 2.06.94-2.06 2.06-.94-2.06-.94-.94-2.06-.94 2.06-2.06.94zm-11 1L8.5 8.5l.94-2.06 2.06-.94-2.06-.94L8.5 2.5l-.94 2.06-2.06.94zm10 10l.94 2.06.94-2.06 2.06-.94-2.06-.94-.94-2.06-.94 2.06-2.06.94z\"/><path d=\"M17.41 7.96l-1.37-1.37c-.4-.4-.92-.59-1.43-.59-.52 0-1.04.2-1.43.59L10.3 9.45l-7.72 7.72c-.78.78-.78 2.05 0 2.83L4 21.41c.39.39.9.59 1.41.59.51 0 1.02-.2 1.41-.59l7.78-7.78 2.81-2.81c.8-.78.8-2.07 0-2.86zM5.41 20L4 18.59l7.72-7.72 1.47 1.35L5.41 20z\"/>\n",
              "  </svg>\n",
              "      </button>\n",
              "      \n",
              "  <style>\n",
              "    .colab-df-container {\n",
              "      display:flex;\n",
              "      flex-wrap:wrap;\n",
              "      gap: 12px;\n",
              "    }\n",
              "\n",
              "    .colab-df-convert {\n",
              "      background-color: #E8F0FE;\n",
              "      border: none;\n",
              "      border-radius: 50%;\n",
              "      cursor: pointer;\n",
              "      display: none;\n",
              "      fill: #1967D2;\n",
              "      height: 32px;\n",
              "      padding: 0 0 0 0;\n",
              "      width: 32px;\n",
              "    }\n",
              "\n",
              "    .colab-df-convert:hover {\n",
              "      background-color: #E2EBFA;\n",
              "      box-shadow: 0px 1px 2px rgba(60, 64, 67, 0.3), 0px 1px 3px 1px rgba(60, 64, 67, 0.15);\n",
              "      fill: #174EA6;\n",
              "    }\n",
              "\n",
              "    [theme=dark] .colab-df-convert {\n",
              "      background-color: #3B4455;\n",
              "      fill: #D2E3FC;\n",
              "    }\n",
              "\n",
              "    [theme=dark] .colab-df-convert:hover {\n",
              "      background-color: #434B5C;\n",
              "      box-shadow: 0px 1px 3px 1px rgba(0, 0, 0, 0.15);\n",
              "      filter: drop-shadow(0px 1px 2px rgba(0, 0, 0, 0.3));\n",
              "      fill: #FFFFFF;\n",
              "    }\n",
              "  </style>\n",
              "\n",
              "      <script>\n",
              "        const buttonEl =\n",
              "          document.querySelector('#df-e4e55233-ce7f-477f-89bd-6afcf25fd342 button.colab-df-convert');\n",
              "        buttonEl.style.display =\n",
              "          google.colab.kernel.accessAllowed ? 'block' : 'none';\n",
              "\n",
              "        async function convertToInteractive(key) {\n",
              "          const element = document.querySelector('#df-e4e55233-ce7f-477f-89bd-6afcf25fd342');\n",
              "          const dataTable =\n",
              "            await google.colab.kernel.invokeFunction('convertToInteractive',\n",
              "                                                     [key], {});\n",
              "          if (!dataTable) return;\n",
              "\n",
              "          const docLinkHtml = 'Like what you see? Visit the ' +\n",
              "            '<a target=\"_blank\" href=https://colab.research.google.com/notebooks/data_table.ipynb>data table notebook</a>'\n",
              "            + ' to learn more about interactive tables.';\n",
              "          element.innerHTML = '';\n",
              "          dataTable['output_type'] = 'display_data';\n",
              "          await google.colab.output.renderOutput(dataTable, element);\n",
              "          const docLink = document.createElement('div');\n",
              "          docLink.innerHTML = docLinkHtml;\n",
              "          element.appendChild(docLink);\n",
              "        }\n",
              "      </script>\n",
              "    </div>\n",
              "  </div>\n",
              "  "
            ]
          },
          "metadata": {},
          "execution_count": 23
        }
      ],
      "source": [
        "proc_split_dfs[0]"
      ]
    },
    {
      "cell_type": "code",
      "execution_count": 24,
      "metadata": {
        "id": "R_y6DD1ivJ6t",
        "colab": {
          "base_uri": "https://localhost:8080/",
          "height": 295
        },
        "outputId": "f4634366-5060-44ea-bff2-c93d42cee653"
      },
      "outputs": [
        {
          "output_type": "display_data",
          "data": {
            "text/plain": [
              "<IPython.core.display.HTML object>"
            ],
            "text/html": [
              "\n",
              "  <style>\n",
              "    pre {\n",
              "        white-space: pre-wrap;\n",
              "    }\n",
              "  </style>\n",
              "  "
            ]
          },
          "metadata": {}
        },
        {
          "output_type": "stream",
          "name": "stdout",
          "text": [
            "<class 'pandas.core.frame.DataFrame'>\n",
            "RangeIndex: 271081 entries, 0 to 271080\n",
            "Data columns (total 9 columns):\n",
            " #   Column             Non-Null Count   Dtype  \n",
            "---  ------             --------------   -----  \n",
            " 0   dataset            271081 non-null  string \n",
            " 1   model              271081 non-null  string \n",
            " 2   name               271081 non-null  string \n",
            " 3   step               271081 non-null  Int64  \n",
            " 4   value              271081 non-null  Float64\n",
            " 5   version            271081 non-null  string \n",
            " 6   wall_time          271081 non-null  Float64\n",
            " 7   tuning_strategy    271081 non-null  string \n",
            " 8   train_on_raw_data  271081 non-null  boolean\n",
            "dtypes: Float64(2), Int64(1), boolean(1), string(5)\n",
            "memory usage: 17.8 MB\n"
          ]
        }
      ],
      "source": [
        "reassembled_df = pd.DataFrame()\n",
        "for _df in proc_split_dfs:\n",
        "    reassembled_df = pd.concat([reassembled_df, _df], axis=0)\n",
        "reassembled_df.reset_index(drop=True, inplace=True)\n",
        "reassembled_df.info()"
      ]
    },
    {
      "cell_type": "markdown",
      "metadata": {
        "id": "Tzv9N03hB8pl"
      },
      "source": [
        "### export\n"
      ]
    },
    {
      "cell_type": "code",
      "execution_count": 37,
      "metadata": {
        "cellView": "form",
        "id": "fOW-dle4y7Cg",
        "colab": {
          "base_uri": "https://localhost:8080/",
          "height": 17
        },
        "outputId": "8e7550ec-ab86-4c22-ca44-dcede5b98ef8"
      },
      "outputs": [
        {
          "output_type": "display_data",
          "data": {
            "text/plain": [
              "<IPython.core.display.HTML object>"
            ],
            "text/html": [
              "\n",
              "  <style>\n",
              "    pre {\n",
              "        white-space: pre-wrap;\n",
              "    }\n",
              "  </style>\n",
              "  "
            ]
          },
          "metadata": {}
        }
      ],
      "source": [
        "export_reports = True #@param {type:\"boolean\"}\n",
        "proc_df_path = data_dir.parent / f\"trf_agg_train_data_processed_{get_timestamp()}\"\n",
        "\n",
        "if export_reports:\n",
        "    reassembled_df.to_csv(proc_df_path.with_suffix('.csv'), index=False)\n",
        "    reassembled_df.to_excel(proc_df_path.with_suffix('.xlsx'), index=False)\n",
        "\n",
        "    proc_df_path.with_suffix('.csv').resolve()"
      ]
    },
    {
      "cell_type": "code",
      "execution_count": 38,
      "metadata": {
        "id": "14Nr8_yy3lRY",
        "colab": {
          "base_uri": "https://localhost:8080/",
          "height": 356
        },
        "outputId": "2d224b59-ebe2-4d11-d119-96d4aef7df4e"
      },
      "outputs": [
        {
          "output_type": "display_data",
          "data": {
            "text/plain": [
              "<IPython.core.display.HTML object>"
            ],
            "text/html": [
              "\n",
              "  <style>\n",
              "    pre {\n",
              "        white-space: pre-wrap;\n",
              "    }\n",
              "  </style>\n",
              "  "
            ]
          },
          "metadata": {}
        },
        {
          "output_type": "execute_result",
          "data": {
            "text/plain": [
              "      dataset                           model     name  step   value  \\\n",
              "0  pubmed_20k   xtremedistil_l12_h384_uncased  lr-Adam     0  0.0001   \n",
              "1  pubmed_20k   xtremedistil_l12_h384_uncased  lr-Adam     0  0.0001   \n",
              "2  pubmed_20k   xtremedistil_l12_h384_uncased  lr-Adam     0  0.0001   \n",
              "3  pubmed_20k   xtremedistil_l12_h384_uncased  lr-Adam     0  0.0001   \n",
              "4  pubmed_20k  bluebert_pubmed_uncased_L_12_H  lr-Adam     0  0.0001   \n",
              "\n",
              "     version          wall_time tuning_strategy  train_on_raw_data  \n",
              "0  version_3  1650574409.423172        finetune              False  \n",
              "1  version_4  1650642827.059808        finetune              False  \n",
              "2  version_0  1650561142.537016        finetune              False  \n",
              "3  version_1  1650566381.383424        finetune              False  \n",
              "4  version_0  1650596887.148705        finetune              False  "
            ],
            "text/html": [
              "\n",
              "  <div id=\"df-9a771da6-51d7-47e2-8e43-581cbb8fd4cf\">\n",
              "    <div class=\"colab-df-container\">\n",
              "      <div>\n",
              "<style scoped>\n",
              "    .dataframe tbody tr th:only-of-type {\n",
              "        vertical-align: middle;\n",
              "    }\n",
              "\n",
              "    .dataframe tbody tr th {\n",
              "        vertical-align: top;\n",
              "    }\n",
              "\n",
              "    .dataframe thead th {\n",
              "        text-align: right;\n",
              "    }\n",
              "</style>\n",
              "<table border=\"1\" class=\"dataframe\">\n",
              "  <thead>\n",
              "    <tr style=\"text-align: right;\">\n",
              "      <th></th>\n",
              "      <th>dataset</th>\n",
              "      <th>model</th>\n",
              "      <th>name</th>\n",
              "      <th>step</th>\n",
              "      <th>value</th>\n",
              "      <th>version</th>\n",
              "      <th>wall_time</th>\n",
              "      <th>tuning_strategy</th>\n",
              "      <th>train_on_raw_data</th>\n",
              "    </tr>\n",
              "  </thead>\n",
              "  <tbody>\n",
              "    <tr>\n",
              "      <th>0</th>\n",
              "      <td>pubmed_20k</td>\n",
              "      <td>xtremedistil_l12_h384_uncased</td>\n",
              "      <td>lr-Adam</td>\n",
              "      <td>0</td>\n",
              "      <td>0.0001</td>\n",
              "      <td>version_3</td>\n",
              "      <td>1650574409.423172</td>\n",
              "      <td>finetune</td>\n",
              "      <td>False</td>\n",
              "    </tr>\n",
              "    <tr>\n",
              "      <th>1</th>\n",
              "      <td>pubmed_20k</td>\n",
              "      <td>xtremedistil_l12_h384_uncased</td>\n",
              "      <td>lr-Adam</td>\n",
              "      <td>0</td>\n",
              "      <td>0.0001</td>\n",
              "      <td>version_4</td>\n",
              "      <td>1650642827.059808</td>\n",
              "      <td>finetune</td>\n",
              "      <td>False</td>\n",
              "    </tr>\n",
              "    <tr>\n",
              "      <th>2</th>\n",
              "      <td>pubmed_20k</td>\n",
              "      <td>xtremedistil_l12_h384_uncased</td>\n",
              "      <td>lr-Adam</td>\n",
              "      <td>0</td>\n",
              "      <td>0.0001</td>\n",
              "      <td>version_0</td>\n",
              "      <td>1650561142.537016</td>\n",
              "      <td>finetune</td>\n",
              "      <td>False</td>\n",
              "    </tr>\n",
              "    <tr>\n",
              "      <th>3</th>\n",
              "      <td>pubmed_20k</td>\n",
              "      <td>xtremedistil_l12_h384_uncased</td>\n",
              "      <td>lr-Adam</td>\n",
              "      <td>0</td>\n",
              "      <td>0.0001</td>\n",
              "      <td>version_1</td>\n",
              "      <td>1650566381.383424</td>\n",
              "      <td>finetune</td>\n",
              "      <td>False</td>\n",
              "    </tr>\n",
              "    <tr>\n",
              "      <th>4</th>\n",
              "      <td>pubmed_20k</td>\n",
              "      <td>bluebert_pubmed_uncased_L_12_H</td>\n",
              "      <td>lr-Adam</td>\n",
              "      <td>0</td>\n",
              "      <td>0.0001</td>\n",
              "      <td>version_0</td>\n",
              "      <td>1650596887.148705</td>\n",
              "      <td>finetune</td>\n",
              "      <td>False</td>\n",
              "    </tr>\n",
              "  </tbody>\n",
              "</table>\n",
              "</div>\n",
              "      <button class=\"colab-df-convert\" onclick=\"convertToInteractive('df-9a771da6-51d7-47e2-8e43-581cbb8fd4cf')\"\n",
              "              title=\"Convert this dataframe to an interactive table.\"\n",
              "              style=\"display:none;\">\n",
              "        \n",
              "  <svg xmlns=\"http://www.w3.org/2000/svg\" height=\"24px\"viewBox=\"0 0 24 24\"\n",
              "       width=\"24px\">\n",
              "    <path d=\"M0 0h24v24H0V0z\" fill=\"none\"/>\n",
              "    <path d=\"M18.56 5.44l.94 2.06.94-2.06 2.06-.94-2.06-.94-.94-2.06-.94 2.06-2.06.94zm-11 1L8.5 8.5l.94-2.06 2.06-.94-2.06-.94L8.5 2.5l-.94 2.06-2.06.94zm10 10l.94 2.06.94-2.06 2.06-.94-2.06-.94-.94-2.06-.94 2.06-2.06.94z\"/><path d=\"M17.41 7.96l-1.37-1.37c-.4-.4-.92-.59-1.43-.59-.52 0-1.04.2-1.43.59L10.3 9.45l-7.72 7.72c-.78.78-.78 2.05 0 2.83L4 21.41c.39.39.9.59 1.41.59.51 0 1.02-.2 1.41-.59l7.78-7.78 2.81-2.81c.8-.78.8-2.07 0-2.86zM5.41 20L4 18.59l7.72-7.72 1.47 1.35L5.41 20z\"/>\n",
              "  </svg>\n",
              "      </button>\n",
              "      \n",
              "  <style>\n",
              "    .colab-df-container {\n",
              "      display:flex;\n",
              "      flex-wrap:wrap;\n",
              "      gap: 12px;\n",
              "    }\n",
              "\n",
              "    .colab-df-convert {\n",
              "      background-color: #E8F0FE;\n",
              "      border: none;\n",
              "      border-radius: 50%;\n",
              "      cursor: pointer;\n",
              "      display: none;\n",
              "      fill: #1967D2;\n",
              "      height: 32px;\n",
              "      padding: 0 0 0 0;\n",
              "      width: 32px;\n",
              "    }\n",
              "\n",
              "    .colab-df-convert:hover {\n",
              "      background-color: #E2EBFA;\n",
              "      box-shadow: 0px 1px 2px rgba(60, 64, 67, 0.3), 0px 1px 3px 1px rgba(60, 64, 67, 0.15);\n",
              "      fill: #174EA6;\n",
              "    }\n",
              "\n",
              "    [theme=dark] .colab-df-convert {\n",
              "      background-color: #3B4455;\n",
              "      fill: #D2E3FC;\n",
              "    }\n",
              "\n",
              "    [theme=dark] .colab-df-convert:hover {\n",
              "      background-color: #434B5C;\n",
              "      box-shadow: 0px 1px 3px 1px rgba(0, 0, 0, 0.15);\n",
              "      filter: drop-shadow(0px 1px 2px rgba(0, 0, 0, 0.3));\n",
              "      fill: #FFFFFF;\n",
              "    }\n",
              "  </style>\n",
              "\n",
              "      <script>\n",
              "        const buttonEl =\n",
              "          document.querySelector('#df-9a771da6-51d7-47e2-8e43-581cbb8fd4cf button.colab-df-convert');\n",
              "        buttonEl.style.display =\n",
              "          google.colab.kernel.accessAllowed ? 'block' : 'none';\n",
              "\n",
              "        async function convertToInteractive(key) {\n",
              "          const element = document.querySelector('#df-9a771da6-51d7-47e2-8e43-581cbb8fd4cf');\n",
              "          const dataTable =\n",
              "            await google.colab.kernel.invokeFunction('convertToInteractive',\n",
              "                                                     [key], {});\n",
              "          if (!dataTable) return;\n",
              "\n",
              "          const docLinkHtml = 'Like what you see? Visit the ' +\n",
              "            '<a target=\"_blank\" href=https://colab.research.google.com/notebooks/data_table.ipynb>data table notebook</a>'\n",
              "            + ' to learn more about interactive tables.';\n",
              "          element.innerHTML = '';\n",
              "          dataTable['output_type'] = 'display_data';\n",
              "          await google.colab.output.renderOutput(dataTable, element);\n",
              "          const docLink = document.createElement('div');\n",
              "          docLink.innerHTML = docLinkHtml;\n",
              "          element.appendChild(docLink);\n",
              "        }\n",
              "      </script>\n",
              "    </div>\n",
              "  </div>\n",
              "  "
            ]
          },
          "metadata": {},
          "execution_count": 38
        }
      ],
      "source": [
        "reassembled_df.head()"
      ]
    },
    {
      "cell_type": "code",
      "execution_count": 39,
      "metadata": {
        "id": "8ZFt1WBJ4llN",
        "colab": {
          "base_uri": "https://localhost:8080/",
          "height": 520
        },
        "outputId": "26ae2ca9-d132-48da-fc51-7f67319e961c"
      },
      "outputs": [
        {
          "output_type": "display_data",
          "data": {
            "text/plain": [
              "<IPython.core.display.HTML object>"
            ],
            "text/html": [
              "\n",
              "  <style>\n",
              "    pre {\n",
              "        white-space: pre-wrap;\n",
              "    }\n",
              "  </style>\n",
              "  "
            ]
          },
          "metadata": {}
        },
        {
          "output_type": "execute_result",
          "data": {
            "text/plain": [
              "bert_base_uncased                 43352\n",
              "BiomedNLP_PubMedBERT_base_unca    38743\n",
              "albert_base_v2                    35270\n",
              "scibert_scivocab_uncased          28862\n",
              "BioLinkBERT_base                  18869\n",
              "xtremedistil_l12_h384_uncased     15659\n",
              "bart_base                         13604\n",
              "bluebert_pubmed_mimic_uncased_    11001\n",
              "BioLinkBERT_large                 10260\n",
              "scibert_scivocab_cased             9636\n",
              "deberta_v3_small                   6311\n",
              "bert_base_cased                    5745\n",
              "BioM_ELECTRA_Base_Discriminato     5263\n",
              "biobert_v1.1                       4843\n",
              "bert_large_uncased                 3757\n",
              "bioelectra_base_discriminator_     3757\n",
              "diffcse_bert_base_uncased_tran     3600\n",
              "BioM_BERT_PubMed_PMC_Large         3378\n",
              "bluebert_pubmed_uncased_L_12_H     2739\n",
              "LinkBERT_base                      2101\n",
              "BiomedNLP_KRISSBERT_PubMed_UML     1526\n",
              "deberta_v3_base                     912\n",
              "specter                             522\n",
              "bart_large                          488\n",
              "Clinical_BigBird                    350\n",
              "MiniLM_L12_H384_uncased             208\n",
              "biobert_large_cased_v1.1            173\n",
              "albert_large_v2                     152\n",
              "Name: model, dtype: Int64"
            ]
          },
          "metadata": {},
          "execution_count": 39
        }
      ],
      "source": [
        "reassembled_df.model.value_counts()"
      ]
    },
    {
      "cell_type": "markdown",
      "metadata": {
        "id": "zOhtYiha5eUB"
      },
      "source": [
        "# analysis"
      ]
    },
    {
      "cell_type": "code",
      "execution_count": 40,
      "metadata": {
        "id": "lt4yx4sX8IG8",
        "colab": {
          "base_uri": "https://localhost:8080/",
          "height": 207
        },
        "outputId": "f00a8a45-4bdc-4169-886f-95e327d10210"
      },
      "outputs": [
        {
          "output_type": "display_data",
          "data": {
            "text/plain": [
              "<IPython.core.display.HTML object>"
            ],
            "text/html": [
              "\n",
              "  <style>\n",
              "    pre {\n",
              "        white-space: pre-wrap;\n",
              "    }\n",
              "  </style>\n",
              "  "
            ]
          },
          "metadata": {}
        },
        {
          "output_type": "stream",
          "name": "stdout",
          "text": [
            "<StringArray>\n",
            "[                     'lr-Adam',           'train_f1score_step',\n",
            "  'train_matthewscorrcoef_step',          'train_accuracy_step',\n",
            "     'train_cross_entropy_step',                        'epoch',\n",
            "         'train_accuracy_epoch',          'train_f1score_epoch',\n",
            " 'train_matthewscorrcoef_epoch',    'train_cross_entropy_epoch',\n",
            "            'val_cross_entropy',                  'val_f1score',\n",
            "         'val_matthewscorrcoef',                 'val_accuracy',\n",
            "           'test_cross_entropy',                 'test_f1score',\n",
            "        'test_matthewscorrcoef',                'test_accuracy']\n",
            "Length: 18, dtype: string\n"
          ]
        }
      ],
      "source": [
        "pp.pprint(reassembled_df.name.unique())"
      ]
    },
    {
      "cell_type": "code",
      "execution_count": 41,
      "metadata": {
        "id": "MMs491-a7Yo5",
        "colab": {
          "base_uri": "https://localhost:8080/",
          "height": 34
        },
        "outputId": "1eaffb9d-b27a-4a41-bb06-7b5e630a02a4"
      },
      "outputs": [
        {
          "output_type": "display_data",
          "data": {
            "text/plain": [
              "<IPython.core.display.HTML object>"
            ],
            "text/html": [
              "\n",
              "  <style>\n",
              "    pre {\n",
              "        white-space: pre-wrap;\n",
              "    }\n",
              "  </style>\n",
              "  "
            ]
          },
          "metadata": {}
        },
        {
          "output_type": "execute_result",
          "data": {
            "text/plain": [
              "271081"
            ]
          },
          "metadata": {},
          "execution_count": 41
        }
      ],
      "source": [
        "len(reassembled_df)"
      ]
    },
    {
      "cell_type": "code",
      "execution_count": 42,
      "metadata": {
        "id": "oAbVIVG57dVF",
        "colab": {
          "base_uri": "https://localhost:8080/",
          "height": 173
        },
        "outputId": "3895a0e1-a64c-453f-f210-81012fc23c42"
      },
      "outputs": [
        {
          "output_type": "display_data",
          "data": {
            "text/plain": [
              "<IPython.core.display.HTML object>"
            ],
            "text/html": [
              "\n",
              "  <style>\n",
              "    pre {\n",
              "        white-space: pre-wrap;\n",
              "    }\n",
              "  </style>\n",
              "  "
            ]
          },
          "metadata": {}
        },
        {
          "output_type": "execute_result",
          "data": {
            "text/plain": [
              "['dataset',\n",
              " 'model',\n",
              " 'name',\n",
              " 'step',\n",
              " 'value',\n",
              " 'version',\n",
              " 'wall_time',\n",
              " 'tuning_strategy',\n",
              " 'train_on_raw_data']"
            ]
          },
          "metadata": {},
          "execution_count": 42
        }
      ],
      "source": [
        "list(reassembled_df.columns)"
      ]
    },
    {
      "cell_type": "markdown",
      "metadata": {
        "id": "zIRWK14nCeeF"
      },
      "source": [
        "## wide DF"
      ]
    },
    {
      "cell_type": "code",
      "execution_count": 43,
      "metadata": {
        "id": "aM1SBx4C--Lc",
        "colab": {
          "base_uri": "https://localhost:8080/",
          "height": 505
        },
        "outputId": "8e8f2edc-b3fa-45eb-8e4d-00f96f6f259e"
      },
      "outputs": [
        {
          "output_type": "display_data",
          "data": {
            "text/plain": [
              "<IPython.core.display.HTML object>"
            ],
            "text/html": [
              "\n",
              "  <style>\n",
              "    pre {\n",
              "        white-space: pre-wrap;\n",
              "    }\n",
              "  </style>\n",
              "  "
            ]
          },
          "metadata": {}
        },
        {
          "output_type": "execute_result",
          "data": {
            "text/plain": [
              "           dataset tuning_strategy  train_on_raw_data              model  \\\n",
              "0       pubmed_20k        finetune              False   BioLinkBERT_base   \n",
              "1       pubmed_20k        finetune              False   BioLinkBERT_base   \n",
              "2       pubmed_20k        finetune              False   BioLinkBERT_base   \n",
              "3       pubmed_20k        finetune              False   BioLinkBERT_base   \n",
              "4       pubmed_20k        finetune              False   BioLinkBERT_base   \n",
              "...            ...             ...                ...                ...   \n",
              "54149  pubmed_full       no_freeze               True  bert_base_uncased   \n",
              "54150  pubmed_full       no_freeze               True  bert_base_uncased   \n",
              "54151  pubmed_full       no_freeze               True  bert_base_uncased   \n",
              "54152  pubmed_full       no_freeze               True  bert_base_uncased   \n",
              "54153  pubmed_full       no_freeze               True  bert_base_uncased   \n",
              "\n",
              "         version    step  epoch  lr-Adam  test_accuracy  test_cross_entropy  \\\n",
              "0      version_0       0   <NA>    0.001           <NA>                <NA>   \n",
              "1      version_0      49    0.0     <NA>           <NA>                <NA>   \n",
              "2      version_0      99    0.0     <NA>           <NA>                <NA>   \n",
              "3      version_0     149    0.0     <NA>           <NA>                <NA>   \n",
              "4      version_0     199    0.0     <NA>           <NA>                <NA>   \n",
              "...          ...     ...    ...      ...            ...                 ...   \n",
              "54149  version_0  103099    1.0     <NA>           <NA>                <NA>   \n",
              "54150  version_0  103149    1.0     <NA>           <NA>                <NA>   \n",
              "54151  version_0  103199    1.0     <NA>           <NA>                <NA>   \n",
              "54152  version_0  103249    1.0     <NA>           <NA>                <NA>   \n",
              "54153  version_0  103299    1.0     <NA>           <NA>                <NA>   \n",
              "\n",
              "       ...  train_cross_entropy_epoch  train_cross_entropy_step  \\\n",
              "0      ...                       <NA>                      <NA>   \n",
              "1      ...                       <NA>                  1.071384   \n",
              "2      ...                       <NA>                  1.111046   \n",
              "3      ...                       <NA>                  0.996228   \n",
              "4      ...                       <NA>                  1.023739   \n",
              "...    ...                        ...                       ...   \n",
              "54149  ...                       <NA>                  0.789859   \n",
              "54150  ...                       <NA>                  0.685005   \n",
              "54151  ...                       <NA>                  0.620316   \n",
              "54152  ...                       <NA>                  0.811007   \n",
              "54153  ...                       <NA>                  0.421237   \n",
              "\n",
              "       train_f1score_epoch  train_f1score_step  train_matthewscorrcoef_epoch  \\\n",
              "0                     <NA>                <NA>                          <NA>   \n",
              "1                     <NA>            0.560322                          <NA>   \n",
              "2                     <NA>            0.499986                          <NA>   \n",
              "3                     <NA>            0.544665                          <NA>   \n",
              "4                     <NA>            0.593568                          <NA>   \n",
              "...                    ...                 ...                           ...   \n",
              "54149                 <NA>            0.755036                          <NA>   \n",
              "54150                 <NA>            0.788165                          <NA>   \n",
              "54151                 <NA>            0.760056                          <NA>   \n",
              "54152                 <NA>            0.722676                          <NA>   \n",
              "54153                 <NA>            0.847966                          <NA>   \n",
              "\n",
              "       train_matthewscorrcoef_step  val_accuracy  val_cross_entropy  \\\n",
              "0                             <NA>          <NA>               <NA>   \n",
              "1                         0.436718          <NA>               <NA>   \n",
              "2                         0.413731          <NA>               <NA>   \n",
              "3                         0.419113          <NA>               <NA>   \n",
              "4                         0.442292          <NA>               <NA>   \n",
              "...                            ...           ...                ...   \n",
              "54149                     0.680602          <NA>               <NA>   \n",
              "54150                     0.745959          <NA>               <NA>   \n",
              "54151                     0.694126          <NA>               <NA>   \n",
              "54152                     0.675511          <NA>               <NA>   \n",
              "54153                     0.788875          <NA>               <NA>   \n",
              "\n",
              "       val_f1score  val_matthewscorrcoef  \n",
              "0             <NA>                  <NA>  \n",
              "1             <NA>                  <NA>  \n",
              "2             <NA>                  <NA>  \n",
              "3             <NA>                  <NA>  \n",
              "4             <NA>                  <NA>  \n",
              "...            ...                   ...  \n",
              "54149         <NA>                  <NA>  \n",
              "54150         <NA>                  <NA>  \n",
              "54151         <NA>                  <NA>  \n",
              "54152         <NA>                  <NA>  \n",
              "54153         <NA>                  <NA>  \n",
              "\n",
              "[54154 rows x 24 columns]"
            ],
            "text/html": [
              "\n",
              "  <div id=\"df-494bcb24-2f3b-469c-814e-2fa7e179d3ea\">\n",
              "    <div class=\"colab-df-container\">\n",
              "      <div>\n",
              "<style scoped>\n",
              "    .dataframe tbody tr th:only-of-type {\n",
              "        vertical-align: middle;\n",
              "    }\n",
              "\n",
              "    .dataframe tbody tr th {\n",
              "        vertical-align: top;\n",
              "    }\n",
              "\n",
              "    .dataframe thead th {\n",
              "        text-align: right;\n",
              "    }\n",
              "</style>\n",
              "<table border=\"1\" class=\"dataframe\">\n",
              "  <thead>\n",
              "    <tr style=\"text-align: right;\">\n",
              "      <th></th>\n",
              "      <th>dataset</th>\n",
              "      <th>tuning_strategy</th>\n",
              "      <th>train_on_raw_data</th>\n",
              "      <th>model</th>\n",
              "      <th>version</th>\n",
              "      <th>step</th>\n",
              "      <th>epoch</th>\n",
              "      <th>lr-Adam</th>\n",
              "      <th>test_accuracy</th>\n",
              "      <th>test_cross_entropy</th>\n",
              "      <th>...</th>\n",
              "      <th>train_cross_entropy_epoch</th>\n",
              "      <th>train_cross_entropy_step</th>\n",
              "      <th>train_f1score_epoch</th>\n",
              "      <th>train_f1score_step</th>\n",
              "      <th>train_matthewscorrcoef_epoch</th>\n",
              "      <th>train_matthewscorrcoef_step</th>\n",
              "      <th>val_accuracy</th>\n",
              "      <th>val_cross_entropy</th>\n",
              "      <th>val_f1score</th>\n",
              "      <th>val_matthewscorrcoef</th>\n",
              "    </tr>\n",
              "  </thead>\n",
              "  <tbody>\n",
              "    <tr>\n",
              "      <th>0</th>\n",
              "      <td>pubmed_20k</td>\n",
              "      <td>finetune</td>\n",
              "      <td>False</td>\n",
              "      <td>BioLinkBERT_base</td>\n",
              "      <td>version_0</td>\n",
              "      <td>0</td>\n",
              "      <td>&lt;NA&gt;</td>\n",
              "      <td>0.001</td>\n",
              "      <td>&lt;NA&gt;</td>\n",
              "      <td>&lt;NA&gt;</td>\n",
              "      <td>...</td>\n",
              "      <td>&lt;NA&gt;</td>\n",
              "      <td>&lt;NA&gt;</td>\n",
              "      <td>&lt;NA&gt;</td>\n",
              "      <td>&lt;NA&gt;</td>\n",
              "      <td>&lt;NA&gt;</td>\n",
              "      <td>&lt;NA&gt;</td>\n",
              "      <td>&lt;NA&gt;</td>\n",
              "      <td>&lt;NA&gt;</td>\n",
              "      <td>&lt;NA&gt;</td>\n",
              "      <td>&lt;NA&gt;</td>\n",
              "    </tr>\n",
              "    <tr>\n",
              "      <th>1</th>\n",
              "      <td>pubmed_20k</td>\n",
              "      <td>finetune</td>\n",
              "      <td>False</td>\n",
              "      <td>BioLinkBERT_base</td>\n",
              "      <td>version_0</td>\n",
              "      <td>49</td>\n",
              "      <td>0.0</td>\n",
              "      <td>&lt;NA&gt;</td>\n",
              "      <td>&lt;NA&gt;</td>\n",
              "      <td>&lt;NA&gt;</td>\n",
              "      <td>...</td>\n",
              "      <td>&lt;NA&gt;</td>\n",
              "      <td>1.071384</td>\n",
              "      <td>&lt;NA&gt;</td>\n",
              "      <td>0.560322</td>\n",
              "      <td>&lt;NA&gt;</td>\n",
              "      <td>0.436718</td>\n",
              "      <td>&lt;NA&gt;</td>\n",
              "      <td>&lt;NA&gt;</td>\n",
              "      <td>&lt;NA&gt;</td>\n",
              "      <td>&lt;NA&gt;</td>\n",
              "    </tr>\n",
              "    <tr>\n",
              "      <th>2</th>\n",
              "      <td>pubmed_20k</td>\n",
              "      <td>finetune</td>\n",
              "      <td>False</td>\n",
              "      <td>BioLinkBERT_base</td>\n",
              "      <td>version_0</td>\n",
              "      <td>99</td>\n",
              "      <td>0.0</td>\n",
              "      <td>&lt;NA&gt;</td>\n",
              "      <td>&lt;NA&gt;</td>\n",
              "      <td>&lt;NA&gt;</td>\n",
              "      <td>...</td>\n",
              "      <td>&lt;NA&gt;</td>\n",
              "      <td>1.111046</td>\n",
              "      <td>&lt;NA&gt;</td>\n",
              "      <td>0.499986</td>\n",
              "      <td>&lt;NA&gt;</td>\n",
              "      <td>0.413731</td>\n",
              "      <td>&lt;NA&gt;</td>\n",
              "      <td>&lt;NA&gt;</td>\n",
              "      <td>&lt;NA&gt;</td>\n",
              "      <td>&lt;NA&gt;</td>\n",
              "    </tr>\n",
              "    <tr>\n",
              "      <th>3</th>\n",
              "      <td>pubmed_20k</td>\n",
              "      <td>finetune</td>\n",
              "      <td>False</td>\n",
              "      <td>BioLinkBERT_base</td>\n",
              "      <td>version_0</td>\n",
              "      <td>149</td>\n",
              "      <td>0.0</td>\n",
              "      <td>&lt;NA&gt;</td>\n",
              "      <td>&lt;NA&gt;</td>\n",
              "      <td>&lt;NA&gt;</td>\n",
              "      <td>...</td>\n",
              "      <td>&lt;NA&gt;</td>\n",
              "      <td>0.996228</td>\n",
              "      <td>&lt;NA&gt;</td>\n",
              "      <td>0.544665</td>\n",
              "      <td>&lt;NA&gt;</td>\n",
              "      <td>0.419113</td>\n",
              "      <td>&lt;NA&gt;</td>\n",
              "      <td>&lt;NA&gt;</td>\n",
              "      <td>&lt;NA&gt;</td>\n",
              "      <td>&lt;NA&gt;</td>\n",
              "    </tr>\n",
              "    <tr>\n",
              "      <th>4</th>\n",
              "      <td>pubmed_20k</td>\n",
              "      <td>finetune</td>\n",
              "      <td>False</td>\n",
              "      <td>BioLinkBERT_base</td>\n",
              "      <td>version_0</td>\n",
              "      <td>199</td>\n",
              "      <td>0.0</td>\n",
              "      <td>&lt;NA&gt;</td>\n",
              "      <td>&lt;NA&gt;</td>\n",
              "      <td>&lt;NA&gt;</td>\n",
              "      <td>...</td>\n",
              "      <td>&lt;NA&gt;</td>\n",
              "      <td>1.023739</td>\n",
              "      <td>&lt;NA&gt;</td>\n",
              "      <td>0.593568</td>\n",
              "      <td>&lt;NA&gt;</td>\n",
              "      <td>0.442292</td>\n",
              "      <td>&lt;NA&gt;</td>\n",
              "      <td>&lt;NA&gt;</td>\n",
              "      <td>&lt;NA&gt;</td>\n",
              "      <td>&lt;NA&gt;</td>\n",
              "    </tr>\n",
              "    <tr>\n",
              "      <th>...</th>\n",
              "      <td>...</td>\n",
              "      <td>...</td>\n",
              "      <td>...</td>\n",
              "      <td>...</td>\n",
              "      <td>...</td>\n",
              "      <td>...</td>\n",
              "      <td>...</td>\n",
              "      <td>...</td>\n",
              "      <td>...</td>\n",
              "      <td>...</td>\n",
              "      <td>...</td>\n",
              "      <td>...</td>\n",
              "      <td>...</td>\n",
              "      <td>...</td>\n",
              "      <td>...</td>\n",
              "      <td>...</td>\n",
              "      <td>...</td>\n",
              "      <td>...</td>\n",
              "      <td>...</td>\n",
              "      <td>...</td>\n",
              "      <td>...</td>\n",
              "    </tr>\n",
              "    <tr>\n",
              "      <th>54149</th>\n",
              "      <td>pubmed_full</td>\n",
              "      <td>no_freeze</td>\n",
              "      <td>True</td>\n",
              "      <td>bert_base_uncased</td>\n",
              "      <td>version_0</td>\n",
              "      <td>103099</td>\n",
              "      <td>1.0</td>\n",
              "      <td>&lt;NA&gt;</td>\n",
              "      <td>&lt;NA&gt;</td>\n",
              "      <td>&lt;NA&gt;</td>\n",
              "      <td>...</td>\n",
              "      <td>&lt;NA&gt;</td>\n",
              "      <td>0.789859</td>\n",
              "      <td>&lt;NA&gt;</td>\n",
              "      <td>0.755036</td>\n",
              "      <td>&lt;NA&gt;</td>\n",
              "      <td>0.680602</td>\n",
              "      <td>&lt;NA&gt;</td>\n",
              "      <td>&lt;NA&gt;</td>\n",
              "      <td>&lt;NA&gt;</td>\n",
              "      <td>&lt;NA&gt;</td>\n",
              "    </tr>\n",
              "    <tr>\n",
              "      <th>54150</th>\n",
              "      <td>pubmed_full</td>\n",
              "      <td>no_freeze</td>\n",
              "      <td>True</td>\n",
              "      <td>bert_base_uncased</td>\n",
              "      <td>version_0</td>\n",
              "      <td>103149</td>\n",
              "      <td>1.0</td>\n",
              "      <td>&lt;NA&gt;</td>\n",
              "      <td>&lt;NA&gt;</td>\n",
              "      <td>&lt;NA&gt;</td>\n",
              "      <td>...</td>\n",
              "      <td>&lt;NA&gt;</td>\n",
              "      <td>0.685005</td>\n",
              "      <td>&lt;NA&gt;</td>\n",
              "      <td>0.788165</td>\n",
              "      <td>&lt;NA&gt;</td>\n",
              "      <td>0.745959</td>\n",
              "      <td>&lt;NA&gt;</td>\n",
              "      <td>&lt;NA&gt;</td>\n",
              "      <td>&lt;NA&gt;</td>\n",
              "      <td>&lt;NA&gt;</td>\n",
              "    </tr>\n",
              "    <tr>\n",
              "      <th>54151</th>\n",
              "      <td>pubmed_full</td>\n",
              "      <td>no_freeze</td>\n",
              "      <td>True</td>\n",
              "      <td>bert_base_uncased</td>\n",
              "      <td>version_0</td>\n",
              "      <td>103199</td>\n",
              "      <td>1.0</td>\n",
              "      <td>&lt;NA&gt;</td>\n",
              "      <td>&lt;NA&gt;</td>\n",
              "      <td>&lt;NA&gt;</td>\n",
              "      <td>...</td>\n",
              "      <td>&lt;NA&gt;</td>\n",
              "      <td>0.620316</td>\n",
              "      <td>&lt;NA&gt;</td>\n",
              "      <td>0.760056</td>\n",
              "      <td>&lt;NA&gt;</td>\n",
              "      <td>0.694126</td>\n",
              "      <td>&lt;NA&gt;</td>\n",
              "      <td>&lt;NA&gt;</td>\n",
              "      <td>&lt;NA&gt;</td>\n",
              "      <td>&lt;NA&gt;</td>\n",
              "    </tr>\n",
              "    <tr>\n",
              "      <th>54152</th>\n",
              "      <td>pubmed_full</td>\n",
              "      <td>no_freeze</td>\n",
              "      <td>True</td>\n",
              "      <td>bert_base_uncased</td>\n",
              "      <td>version_0</td>\n",
              "      <td>103249</td>\n",
              "      <td>1.0</td>\n",
              "      <td>&lt;NA&gt;</td>\n",
              "      <td>&lt;NA&gt;</td>\n",
              "      <td>&lt;NA&gt;</td>\n",
              "      <td>...</td>\n",
              "      <td>&lt;NA&gt;</td>\n",
              "      <td>0.811007</td>\n",
              "      <td>&lt;NA&gt;</td>\n",
              "      <td>0.722676</td>\n",
              "      <td>&lt;NA&gt;</td>\n",
              "      <td>0.675511</td>\n",
              "      <td>&lt;NA&gt;</td>\n",
              "      <td>&lt;NA&gt;</td>\n",
              "      <td>&lt;NA&gt;</td>\n",
              "      <td>&lt;NA&gt;</td>\n",
              "    </tr>\n",
              "    <tr>\n",
              "      <th>54153</th>\n",
              "      <td>pubmed_full</td>\n",
              "      <td>no_freeze</td>\n",
              "      <td>True</td>\n",
              "      <td>bert_base_uncased</td>\n",
              "      <td>version_0</td>\n",
              "      <td>103299</td>\n",
              "      <td>1.0</td>\n",
              "      <td>&lt;NA&gt;</td>\n",
              "      <td>&lt;NA&gt;</td>\n",
              "      <td>&lt;NA&gt;</td>\n",
              "      <td>...</td>\n",
              "      <td>&lt;NA&gt;</td>\n",
              "      <td>0.421237</td>\n",
              "      <td>&lt;NA&gt;</td>\n",
              "      <td>0.847966</td>\n",
              "      <td>&lt;NA&gt;</td>\n",
              "      <td>0.788875</td>\n",
              "      <td>&lt;NA&gt;</td>\n",
              "      <td>&lt;NA&gt;</td>\n",
              "      <td>&lt;NA&gt;</td>\n",
              "      <td>&lt;NA&gt;</td>\n",
              "    </tr>\n",
              "  </tbody>\n",
              "</table>\n",
              "<p>54154 rows × 24 columns</p>\n",
              "</div>\n",
              "      <button class=\"colab-df-convert\" onclick=\"convertToInteractive('df-494bcb24-2f3b-469c-814e-2fa7e179d3ea')\"\n",
              "              title=\"Convert this dataframe to an interactive table.\"\n",
              "              style=\"display:none;\">\n",
              "        \n",
              "  <svg xmlns=\"http://www.w3.org/2000/svg\" height=\"24px\"viewBox=\"0 0 24 24\"\n",
              "       width=\"24px\">\n",
              "    <path d=\"M0 0h24v24H0V0z\" fill=\"none\"/>\n",
              "    <path d=\"M18.56 5.44l.94 2.06.94-2.06 2.06-.94-2.06-.94-.94-2.06-.94 2.06-2.06.94zm-11 1L8.5 8.5l.94-2.06 2.06-.94-2.06-.94L8.5 2.5l-.94 2.06-2.06.94zm10 10l.94 2.06.94-2.06 2.06-.94-2.06-.94-.94-2.06-.94 2.06-2.06.94z\"/><path d=\"M17.41 7.96l-1.37-1.37c-.4-.4-.92-.59-1.43-.59-.52 0-1.04.2-1.43.59L10.3 9.45l-7.72 7.72c-.78.78-.78 2.05 0 2.83L4 21.41c.39.39.9.59 1.41.59.51 0 1.02-.2 1.41-.59l7.78-7.78 2.81-2.81c.8-.78.8-2.07 0-2.86zM5.41 20L4 18.59l7.72-7.72 1.47 1.35L5.41 20z\"/>\n",
              "  </svg>\n",
              "      </button>\n",
              "      \n",
              "  <style>\n",
              "    .colab-df-container {\n",
              "      display:flex;\n",
              "      flex-wrap:wrap;\n",
              "      gap: 12px;\n",
              "    }\n",
              "\n",
              "    .colab-df-convert {\n",
              "      background-color: #E8F0FE;\n",
              "      border: none;\n",
              "      border-radius: 50%;\n",
              "      cursor: pointer;\n",
              "      display: none;\n",
              "      fill: #1967D2;\n",
              "      height: 32px;\n",
              "      padding: 0 0 0 0;\n",
              "      width: 32px;\n",
              "    }\n",
              "\n",
              "    .colab-df-convert:hover {\n",
              "      background-color: #E2EBFA;\n",
              "      box-shadow: 0px 1px 2px rgba(60, 64, 67, 0.3), 0px 1px 3px 1px rgba(60, 64, 67, 0.15);\n",
              "      fill: #174EA6;\n",
              "    }\n",
              "\n",
              "    [theme=dark] .colab-df-convert {\n",
              "      background-color: #3B4455;\n",
              "      fill: #D2E3FC;\n",
              "    }\n",
              "\n",
              "    [theme=dark] .colab-df-convert:hover {\n",
              "      background-color: #434B5C;\n",
              "      box-shadow: 0px 1px 3px 1px rgba(0, 0, 0, 0.15);\n",
              "      filter: drop-shadow(0px 1px 2px rgba(0, 0, 0, 0.3));\n",
              "      fill: #FFFFFF;\n",
              "    }\n",
              "  </style>\n",
              "\n",
              "      <script>\n",
              "        const buttonEl =\n",
              "          document.querySelector('#df-494bcb24-2f3b-469c-814e-2fa7e179d3ea button.colab-df-convert');\n",
              "        buttonEl.style.display =\n",
              "          google.colab.kernel.accessAllowed ? 'block' : 'none';\n",
              "\n",
              "        async function convertToInteractive(key) {\n",
              "          const element = document.querySelector('#df-494bcb24-2f3b-469c-814e-2fa7e179d3ea');\n",
              "          const dataTable =\n",
              "            await google.colab.kernel.invokeFunction('convertToInteractive',\n",
              "                                                     [key], {});\n",
              "          if (!dataTable) return;\n",
              "\n",
              "          const docLinkHtml = 'Like what you see? Visit the ' +\n",
              "            '<a target=\"_blank\" href=https://colab.research.google.com/notebooks/data_table.ipynb>data table notebook</a>'\n",
              "            + ' to learn more about interactive tables.';\n",
              "          element.innerHTML = '';\n",
              "          dataTable['output_type'] = 'display_data';\n",
              "          await google.colab.output.renderOutput(dataTable, element);\n",
              "          const docLink = document.createElement('div');\n",
              "          docLink.innerHTML = docLinkHtml;\n",
              "          element.appendChild(docLink);\n",
              "        }\n",
              "      </script>\n",
              "    </div>\n",
              "  </div>\n",
              "  "
            ]
          },
          "metadata": {},
          "execution_count": 43
        }
      ],
      "source": [
        "wide_df = reassembled_df.reset_index().pivot_table(values='value',\n",
        "                                         index=['dataset', 'tuning_strategy',\n",
        " 'train_on_raw_data','model', 'version', 'step'],\n",
        "                                         columns='name', \n",
        "                                         aggfunc='mean').reset_index().convert_dtypes()\n",
        "wide_df"
      ]
    },
    {
      "cell_type": "code",
      "execution_count": 44,
      "metadata": {
        "id": "3eDRX_gPBmhJ",
        "colab": {
          "base_uri": "https://localhost:8080/",
          "height": 555
        },
        "outputId": "a8dcfcec-b6c4-40cf-9bb0-cf0e8d1b6d4b"
      },
      "outputs": [
        {
          "output_type": "display_data",
          "data": {
            "text/plain": [
              "<IPython.core.display.HTML object>"
            ],
            "text/html": [
              "\n",
              "  <style>\n",
              "    pre {\n",
              "        white-space: pre-wrap;\n",
              "    }\n",
              "  </style>\n",
              "  "
            ]
          },
          "metadata": {}
        },
        {
          "output_type": "stream",
          "name": "stdout",
          "text": [
            "<class 'pandas.core.frame.DataFrame'>\n",
            "RangeIndex: 54154 entries, 0 to 54153\n",
            "Data columns (total 24 columns):\n",
            " #   Column                        Non-Null Count  Dtype  \n",
            "---  ------                        --------------  -----  \n",
            " 0   dataset                       54154 non-null  string \n",
            " 1   tuning_strategy               54154 non-null  string \n",
            " 2   train_on_raw_data             54154 non-null  boolean\n",
            " 3   model                         54154 non-null  string \n",
            " 4   version                       54154 non-null  string \n",
            " 5   step                          54154 non-null  Int64  \n",
            " 6   epoch                         53689 non-null  Float64\n",
            " 7   lr-Adam                       466 non-null    Float64\n",
            " 8   test_accuracy                 47 non-null     Float64\n",
            " 9   test_cross_entropy            47 non-null     Float64\n",
            " 10  test_f1score                  47 non-null     Float64\n",
            " 11  test_matthewscorrcoef         47 non-null     Float64\n",
            " 12  train_accuracy_epoch          434 non-null    Float64\n",
            " 13  train_accuracy_step           53208 non-null  Float64\n",
            " 14  train_cross_entropy_epoch     434 non-null    Float64\n",
            " 15  train_cross_entropy_step      53208 non-null  Float64\n",
            " 16  train_f1score_epoch           434 non-null    Float64\n",
            " 17  train_f1score_step            53208 non-null  Float64\n",
            " 18  train_matthewscorrcoef_epoch  434 non-null    Float64\n",
            " 19  train_matthewscorrcoef_step   53208 non-null  Float64\n",
            " 20  val_accuracy                  434 non-null    Float64\n",
            " 21  val_cross_entropy             434 non-null    Float64\n",
            " 22  val_f1score                   434 non-null    Float64\n",
            " 23  val_matthewscorrcoef          434 non-null    Float64\n",
            "dtypes: Float64(18), Int64(1), boolean(1), string(4)\n",
            "memory usage: 10.6 MB\n"
          ]
        }
      ],
      "source": [
        "wide_df.info()"
      ]
    },
    {
      "cell_type": "code",
      "execution_count": 45,
      "metadata": {
        "cellView": "form",
        "id": "8k9WqS_9B1Qc",
        "colab": {
          "base_uri": "https://localhost:8080/",
          "height": 17
        },
        "outputId": "e0d4a3de-920a-4bf4-e64d-d01e456613c4"
      },
      "outputs": [
        {
          "output_type": "display_data",
          "data": {
            "text/plain": [
              "<IPython.core.display.HTML object>"
            ],
            "text/html": [
              "\n",
              "  <style>\n",
              "    pre {\n",
              "        white-space: pre-wrap;\n",
              "    }\n",
              "  </style>\n",
              "  "
            ]
          },
          "metadata": {}
        }
      ],
      "source": [
        "#@markdown export wide dataframe\n",
        "wide_df_path = data_dir.parent / f\"trf_agg_train_data_processed_WIDE_{get_timestamp()}\"\n",
        "if export_reports:\n",
        "    wide_df.to_csv(wide_df_path.with_suffix('.csv'), index=False)\n",
        "    wide_df.to_excel(wide_df_path.with_suffix('.xlsx'), index=False)\n",
        "\n",
        "    wide_df_path.with_suffix('.csv').resolve()\n",
        "else:\n",
        "    print(\"export set to false\")"
      ]
    },
    {
      "cell_type": "markdown",
      "metadata": {
        "id": "G3tJDpDVCz1q"
      },
      "source": [
        "## test set data"
      ]
    },
    {
      "cell_type": "code",
      "execution_count": 46,
      "metadata": {
        "id": "fc36KTXxC1Jj",
        "colab": {
          "base_uri": "https://localhost:8080/",
          "height": 1000
        },
        "outputId": "d7a4fea7-809f-4a52-896d-2aba71ea0176"
      },
      "outputs": [
        {
          "output_type": "display_data",
          "data": {
            "text/plain": [
              "<IPython.core.display.HTML object>"
            ],
            "text/html": [
              "\n",
              "  <style>\n",
              "    pre {\n",
              "        white-space: pre-wrap;\n",
              "    }\n",
              "  </style>\n",
              "  "
            ]
          },
          "metadata": {}
        },
        {
          "output_type": "execute_result",
          "data": {
            "text/plain": [
              "        dataset tuning_strategy  train_on_raw_data  \\\n",
              "0    pubmed_20k        finetune              False   \n",
              "1    pubmed_20k        finetune              False   \n",
              "2    pubmed_20k        finetune              False   \n",
              "3    pubmed_20k        finetune              False   \n",
              "4    pubmed_20k        finetune              False   \n",
              "5    pubmed_20k        finetune              False   \n",
              "6    pubmed_20k        finetune              False   \n",
              "7    pubmed_20k        finetune              False   \n",
              "8    pubmed_20k        finetune              False   \n",
              "9    pubmed_20k        finetune              False   \n",
              "10   pubmed_20k        finetune              False   \n",
              "11   pubmed_20k        finetune              False   \n",
              "12   pubmed_20k        finetune              False   \n",
              "13   pubmed_20k        finetune              False   \n",
              "14   pubmed_20k        finetune              False   \n",
              "15   pubmed_20k        finetune              False   \n",
              "16   pubmed_20k        finetune              False   \n",
              "17   pubmed_20k        finetune              False   \n",
              "18   pubmed_20k        finetune              False   \n",
              "19   pubmed_20k        finetune              False   \n",
              "20   pubmed_20k        finetune              False   \n",
              "21   pubmed_20k        finetune              False   \n",
              "22   pubmed_20k        finetune              False   \n",
              "23   pubmed_20k        finetune              False   \n",
              "24   pubmed_20k          freeze               True   \n",
              "25   pubmed_20k          freeze               True   \n",
              "26   pubmed_20k          freeze               True   \n",
              "27   pubmed_20k          freeze               True   \n",
              "28   pubmed_20k          freeze               True   \n",
              "29   pubmed_20k          freeze               True   \n",
              "30   pubmed_20k      full_train              False   \n",
              "31   pubmed_20k      full_train              False   \n",
              "32   pubmed_20k      full_train              False   \n",
              "33   pubmed_20k      full_train              False   \n",
              "34   pubmed_20k      full_train              False   \n",
              "35   pubmed_20k      full_train              False   \n",
              "36   pubmed_20k      full_train              False   \n",
              "37   pubmed_20k      full_train              False   \n",
              "38   pubmed_20k       no_freeze               True   \n",
              "39   pubmed_20k       no_freeze               True   \n",
              "40   pubmed_20k       no_freeze               True   \n",
              "41   pubmed_20k       no_freeze               True   \n",
              "42  pubmed_full          freeze              False   \n",
              "43  pubmed_full          freeze              False   \n",
              "44  pubmed_full       no_freeze              False   \n",
              "45  pubmed_full       no_freeze              False   \n",
              "46  pubmed_full       no_freeze              False   \n",
              "\n",
              "                             model    version    step  epoch  \\\n",
              "0                 BioLinkBERT_base  version_0   22504    7.0   \n",
              "1                 BioLinkBERT_base  version_4   39382   13.0   \n",
              "2                 BioLinkBERT_base  version_6  101268   17.0   \n",
              "3                 BioLinkBERT_base  version_8   19593   13.0   \n",
              "4                BioLinkBERT_large  version_4  101557    9.0   \n",
              "5       BioM_BERT_PubMed_PMC_Large  version_0    4352    5.0   \n",
              "6   BioM_ELECTRA_Base_Discriminato  version_0   11248   15.0   \n",
              "7   BiomedNLP_KRISSBERT_PubMed_UML  version_0   14116   10.0   \n",
              "8   BiomedNLP_PubMedBERT_base_unca  version_0   47658    4.0   \n",
              "9                 Clinical_BigBird  version_0    3017    3.0   \n",
              "10                  albert_base_v2  version_0   23902   16.0   \n",
              "11               bert_base_uncased  version_0   25308   17.0   \n",
              "12        biobert_large_cased_v1.1  version_0    1495    1.0   \n",
              "13                    biobert_v1.1  version_0   18278   12.0   \n",
              "14  bioelectra_base_discriminator_  version_0    4218    5.0   \n",
              "15  bluebert_pubmed_mimic_uncased_  version_0     835    0.0   \n",
              "16  bluebert_pubmed_uncased_L_12_H  version_0   25369   18.0   \n",
              "17                 deberta_v3_base  version_0    7899   11.0   \n",
              "18  diffcse_bert_base_uncased_tran  version_0   11248   15.0   \n",
              "19          scibert_scivocab_cased  version_0    7030    4.0   \n",
              "20          scibert_scivocab_cased  version_1   18278   12.0   \n",
              "21                         specter  version_0    4525    5.0   \n",
              "22   xtremedistil_l12_h384_uncased  version_1   67512   23.0   \n",
              "23   xtremedistil_l12_h384_uncased  version_3   22576    8.0   \n",
              "24      BioM_BERT_PubMed_PMC_Large  version_0   28130    4.0   \n",
              "25              bert_large_uncased  version_0   16565    1.0   \n",
              "26              bert_large_uncased  version_1   20361    2.0   \n",
              "27                    biobert_v1.1  version_0   28130    4.0   \n",
              "28  diffcse_bert_base_uncased_tran  version_0   22504    3.0   \n",
              "29          scibert_scivocab_cased  version_0   28263    4.0   \n",
              "30  BiomedNLP_PubMedBERT_base_unca  version_0   19849    2.0   \n",
              "31  BiomedNLP_PubMedBERT_base_unca  version_1   45008    7.0   \n",
              "32                  albert_base_v2  version_1   49002    7.0   \n",
              "33                       bart_base  version_1   72012    5.0   \n",
              "34                 bert_base_cased  version_1   22504    3.0   \n",
              "35  bioelectra_base_discriminator_  version_0   32060    4.0   \n",
              "36  bluebert_pubmed_mimic_uncased_  version_0  108018    8.0   \n",
              "37   xtremedistil_l12_h384_uncased  version_0   50634    8.0   \n",
              "38  BioM_ELECTRA_Base_Discriminato  version_0   38941    5.0   \n",
              "39                 bert_base_cased  version_0   33756    5.0   \n",
              "40                deberta_v3_small  version_0   61886   10.0   \n",
              "41          scibert_scivocab_cased  version_0   39382    6.0   \n",
              "42               bert_base_uncased  version_0  124525    2.0   \n",
              "43        scibert_scivocab_uncased  version_0  105800    2.0   \n",
              "44  BiomedNLP_PubMedBERT_base_unca  version_1  154217    1.0   \n",
              "45                  albert_base_v2  version_0  276480    3.0   \n",
              "46        scibert_scivocab_uncased  version_0  182182    1.0   \n",
              "\n",
              "    test_cross_entropy  test_f1score  \n",
              "0              0.54521      0.796551  \n",
              "1             0.543518      0.796978  \n",
              "2             0.573967      0.789063  \n",
              "3             0.606767      0.781791  \n",
              "4             0.718113      0.733572  \n",
              "5             0.454588      0.837538  \n",
              "6             0.516567      0.811391  \n",
              "7             0.613127      0.776614  \n",
              "8             0.376976      0.861355  \n",
              "9             0.627977      0.770605  \n",
              "10            0.683022      0.751392  \n",
              "11            0.674883      0.754864  \n",
              "12            1.165893      0.542653  \n",
              "13            0.455701      0.843509  \n",
              "14            0.534194      0.808925  \n",
              "15            1.267225      0.433205  \n",
              "16            0.523029      0.828335  \n",
              "17            0.802217      0.730164  \n",
              "18            0.615724      0.779417  \n",
              "19            0.442814      0.839934  \n",
              "20             0.42693      0.844912  \n",
              "21            0.762424      0.717804  \n",
              "22            0.721222      0.737274  \n",
              "23            0.812077      0.692809  \n",
              "24             0.69093      0.738249  \n",
              "25            1.322735      0.405384  \n",
              "26              1.0907      0.650051  \n",
              "27            0.854067      0.747724  \n",
              "28            0.979039      0.612916  \n",
              "29            0.524275      0.831708  \n",
              "30            0.574624      0.786181  \n",
              "31            0.550338      0.799409  \n",
              "32            0.544588      0.804137  \n",
              "33            0.534094      0.804968  \n",
              "34            0.611328      0.745806  \n",
              "35            0.577464      0.789578  \n",
              "36            0.582148      0.787036  \n",
              "37            0.590116       0.77054  \n",
              "38            0.580708      0.780898  \n",
              "39               0.575      0.790866  \n",
              "40             0.54776      0.806117  \n",
              "41            0.580943      0.791877  \n",
              "42            0.950157      0.675078  \n",
              "43            0.483774      0.842171  \n",
              "44            0.545358      0.801903  \n",
              "45            0.483869      0.825173  \n",
              "46            0.506625      0.818099  "
            ],
            "text/html": [
              "\n",
              "  <div id=\"df-74835ebd-81b8-4731-a426-b86b389ff6d5\">\n",
              "    <div class=\"colab-df-container\">\n",
              "      <div>\n",
              "<style scoped>\n",
              "    .dataframe tbody tr th:only-of-type {\n",
              "        vertical-align: middle;\n",
              "    }\n",
              "\n",
              "    .dataframe tbody tr th {\n",
              "        vertical-align: top;\n",
              "    }\n",
              "\n",
              "    .dataframe thead th {\n",
              "        text-align: right;\n",
              "    }\n",
              "</style>\n",
              "<table border=\"1\" class=\"dataframe\">\n",
              "  <thead>\n",
              "    <tr style=\"text-align: right;\">\n",
              "      <th></th>\n",
              "      <th>dataset</th>\n",
              "      <th>tuning_strategy</th>\n",
              "      <th>train_on_raw_data</th>\n",
              "      <th>model</th>\n",
              "      <th>version</th>\n",
              "      <th>step</th>\n",
              "      <th>epoch</th>\n",
              "      <th>test_cross_entropy</th>\n",
              "      <th>test_f1score</th>\n",
              "    </tr>\n",
              "  </thead>\n",
              "  <tbody>\n",
              "    <tr>\n",
              "      <th>0</th>\n",
              "      <td>pubmed_20k</td>\n",
              "      <td>finetune</td>\n",
              "      <td>False</td>\n",
              "      <td>BioLinkBERT_base</td>\n",
              "      <td>version_0</td>\n",
              "      <td>22504</td>\n",
              "      <td>7.0</td>\n",
              "      <td>0.54521</td>\n",
              "      <td>0.796551</td>\n",
              "    </tr>\n",
              "    <tr>\n",
              "      <th>1</th>\n",
              "      <td>pubmed_20k</td>\n",
              "      <td>finetune</td>\n",
              "      <td>False</td>\n",
              "      <td>BioLinkBERT_base</td>\n",
              "      <td>version_4</td>\n",
              "      <td>39382</td>\n",
              "      <td>13.0</td>\n",
              "      <td>0.543518</td>\n",
              "      <td>0.796978</td>\n",
              "    </tr>\n",
              "    <tr>\n",
              "      <th>2</th>\n",
              "      <td>pubmed_20k</td>\n",
              "      <td>finetune</td>\n",
              "      <td>False</td>\n",
              "      <td>BioLinkBERT_base</td>\n",
              "      <td>version_6</td>\n",
              "      <td>101268</td>\n",
              "      <td>17.0</td>\n",
              "      <td>0.573967</td>\n",
              "      <td>0.789063</td>\n",
              "    </tr>\n",
              "    <tr>\n",
              "      <th>3</th>\n",
              "      <td>pubmed_20k</td>\n",
              "      <td>finetune</td>\n",
              "      <td>False</td>\n",
              "      <td>BioLinkBERT_base</td>\n",
              "      <td>version_8</td>\n",
              "      <td>19593</td>\n",
              "      <td>13.0</td>\n",
              "      <td>0.606767</td>\n",
              "      <td>0.781791</td>\n",
              "    </tr>\n",
              "    <tr>\n",
              "      <th>4</th>\n",
              "      <td>pubmed_20k</td>\n",
              "      <td>finetune</td>\n",
              "      <td>False</td>\n",
              "      <td>BioLinkBERT_large</td>\n",
              "      <td>version_4</td>\n",
              "      <td>101557</td>\n",
              "      <td>9.0</td>\n",
              "      <td>0.718113</td>\n",
              "      <td>0.733572</td>\n",
              "    </tr>\n",
              "    <tr>\n",
              "      <th>5</th>\n",
              "      <td>pubmed_20k</td>\n",
              "      <td>finetune</td>\n",
              "      <td>False</td>\n",
              "      <td>BioM_BERT_PubMed_PMC_Large</td>\n",
              "      <td>version_0</td>\n",
              "      <td>4352</td>\n",
              "      <td>5.0</td>\n",
              "      <td>0.454588</td>\n",
              "      <td>0.837538</td>\n",
              "    </tr>\n",
              "    <tr>\n",
              "      <th>6</th>\n",
              "      <td>pubmed_20k</td>\n",
              "      <td>finetune</td>\n",
              "      <td>False</td>\n",
              "      <td>BioM_ELECTRA_Base_Discriminato</td>\n",
              "      <td>version_0</td>\n",
              "      <td>11248</td>\n",
              "      <td>15.0</td>\n",
              "      <td>0.516567</td>\n",
              "      <td>0.811391</td>\n",
              "    </tr>\n",
              "    <tr>\n",
              "      <th>7</th>\n",
              "      <td>pubmed_20k</td>\n",
              "      <td>finetune</td>\n",
              "      <td>False</td>\n",
              "      <td>BiomedNLP_KRISSBERT_PubMed_UML</td>\n",
              "      <td>version_0</td>\n",
              "      <td>14116</td>\n",
              "      <td>10.0</td>\n",
              "      <td>0.613127</td>\n",
              "      <td>0.776614</td>\n",
              "    </tr>\n",
              "    <tr>\n",
              "      <th>8</th>\n",
              "      <td>pubmed_20k</td>\n",
              "      <td>finetune</td>\n",
              "      <td>False</td>\n",
              "      <td>BiomedNLP_PubMedBERT_base_unca</td>\n",
              "      <td>version_0</td>\n",
              "      <td>47658</td>\n",
              "      <td>4.0</td>\n",
              "      <td>0.376976</td>\n",
              "      <td>0.861355</td>\n",
              "    </tr>\n",
              "    <tr>\n",
              "      <th>9</th>\n",
              "      <td>pubmed_20k</td>\n",
              "      <td>finetune</td>\n",
              "      <td>False</td>\n",
              "      <td>Clinical_BigBird</td>\n",
              "      <td>version_0</td>\n",
              "      <td>3017</td>\n",
              "      <td>3.0</td>\n",
              "      <td>0.627977</td>\n",
              "      <td>0.770605</td>\n",
              "    </tr>\n",
              "    <tr>\n",
              "      <th>10</th>\n",
              "      <td>pubmed_20k</td>\n",
              "      <td>finetune</td>\n",
              "      <td>False</td>\n",
              "      <td>albert_base_v2</td>\n",
              "      <td>version_0</td>\n",
              "      <td>23902</td>\n",
              "      <td>16.0</td>\n",
              "      <td>0.683022</td>\n",
              "      <td>0.751392</td>\n",
              "    </tr>\n",
              "    <tr>\n",
              "      <th>11</th>\n",
              "      <td>pubmed_20k</td>\n",
              "      <td>finetune</td>\n",
              "      <td>False</td>\n",
              "      <td>bert_base_uncased</td>\n",
              "      <td>version_0</td>\n",
              "      <td>25308</td>\n",
              "      <td>17.0</td>\n",
              "      <td>0.674883</td>\n",
              "      <td>0.754864</td>\n",
              "    </tr>\n",
              "    <tr>\n",
              "      <th>12</th>\n",
              "      <td>pubmed_20k</td>\n",
              "      <td>finetune</td>\n",
              "      <td>False</td>\n",
              "      <td>biobert_large_cased_v1.1</td>\n",
              "      <td>version_0</td>\n",
              "      <td>1495</td>\n",
              "      <td>1.0</td>\n",
              "      <td>1.165893</td>\n",
              "      <td>0.542653</td>\n",
              "    </tr>\n",
              "    <tr>\n",
              "      <th>13</th>\n",
              "      <td>pubmed_20k</td>\n",
              "      <td>finetune</td>\n",
              "      <td>False</td>\n",
              "      <td>biobert_v1.1</td>\n",
              "      <td>version_0</td>\n",
              "      <td>18278</td>\n",
              "      <td>12.0</td>\n",
              "      <td>0.455701</td>\n",
              "      <td>0.843509</td>\n",
              "    </tr>\n",
              "    <tr>\n",
              "      <th>14</th>\n",
              "      <td>pubmed_20k</td>\n",
              "      <td>finetune</td>\n",
              "      <td>False</td>\n",
              "      <td>bioelectra_base_discriminator_</td>\n",
              "      <td>version_0</td>\n",
              "      <td>4218</td>\n",
              "      <td>5.0</td>\n",
              "      <td>0.534194</td>\n",
              "      <td>0.808925</td>\n",
              "    </tr>\n",
              "    <tr>\n",
              "      <th>15</th>\n",
              "      <td>pubmed_20k</td>\n",
              "      <td>finetune</td>\n",
              "      <td>False</td>\n",
              "      <td>bluebert_pubmed_mimic_uncased_</td>\n",
              "      <td>version_0</td>\n",
              "      <td>835</td>\n",
              "      <td>0.0</td>\n",
              "      <td>1.267225</td>\n",
              "      <td>0.433205</td>\n",
              "    </tr>\n",
              "    <tr>\n",
              "      <th>16</th>\n",
              "      <td>pubmed_20k</td>\n",
              "      <td>finetune</td>\n",
              "      <td>False</td>\n",
              "      <td>bluebert_pubmed_uncased_L_12_H</td>\n",
              "      <td>version_0</td>\n",
              "      <td>25369</td>\n",
              "      <td>18.0</td>\n",
              "      <td>0.523029</td>\n",
              "      <td>0.828335</td>\n",
              "    </tr>\n",
              "    <tr>\n",
              "      <th>17</th>\n",
              "      <td>pubmed_20k</td>\n",
              "      <td>finetune</td>\n",
              "      <td>False</td>\n",
              "      <td>deberta_v3_base</td>\n",
              "      <td>version_0</td>\n",
              "      <td>7899</td>\n",
              "      <td>11.0</td>\n",
              "      <td>0.802217</td>\n",
              "      <td>0.730164</td>\n",
              "    </tr>\n",
              "    <tr>\n",
              "      <th>18</th>\n",
              "      <td>pubmed_20k</td>\n",
              "      <td>finetune</td>\n",
              "      <td>False</td>\n",
              "      <td>diffcse_bert_base_uncased_tran</td>\n",
              "      <td>version_0</td>\n",
              "      <td>11248</td>\n",
              "      <td>15.0</td>\n",
              "      <td>0.615724</td>\n",
              "      <td>0.779417</td>\n",
              "    </tr>\n",
              "    <tr>\n",
              "      <th>19</th>\n",
              "      <td>pubmed_20k</td>\n",
              "      <td>finetune</td>\n",
              "      <td>False</td>\n",
              "      <td>scibert_scivocab_cased</td>\n",
              "      <td>version_0</td>\n",
              "      <td>7030</td>\n",
              "      <td>4.0</td>\n",
              "      <td>0.442814</td>\n",
              "      <td>0.839934</td>\n",
              "    </tr>\n",
              "    <tr>\n",
              "      <th>20</th>\n",
              "      <td>pubmed_20k</td>\n",
              "      <td>finetune</td>\n",
              "      <td>False</td>\n",
              "      <td>scibert_scivocab_cased</td>\n",
              "      <td>version_1</td>\n",
              "      <td>18278</td>\n",
              "      <td>12.0</td>\n",
              "      <td>0.42693</td>\n",
              "      <td>0.844912</td>\n",
              "    </tr>\n",
              "    <tr>\n",
              "      <th>21</th>\n",
              "      <td>pubmed_20k</td>\n",
              "      <td>finetune</td>\n",
              "      <td>False</td>\n",
              "      <td>specter</td>\n",
              "      <td>version_0</td>\n",
              "      <td>4525</td>\n",
              "      <td>5.0</td>\n",
              "      <td>0.762424</td>\n",
              "      <td>0.717804</td>\n",
              "    </tr>\n",
              "    <tr>\n",
              "      <th>22</th>\n",
              "      <td>pubmed_20k</td>\n",
              "      <td>finetune</td>\n",
              "      <td>False</td>\n",
              "      <td>xtremedistil_l12_h384_uncased</td>\n",
              "      <td>version_1</td>\n",
              "      <td>67512</td>\n",
              "      <td>23.0</td>\n",
              "      <td>0.721222</td>\n",
              "      <td>0.737274</td>\n",
              "    </tr>\n",
              "    <tr>\n",
              "      <th>23</th>\n",
              "      <td>pubmed_20k</td>\n",
              "      <td>finetune</td>\n",
              "      <td>False</td>\n",
              "      <td>xtremedistil_l12_h384_uncased</td>\n",
              "      <td>version_3</td>\n",
              "      <td>22576</td>\n",
              "      <td>8.0</td>\n",
              "      <td>0.812077</td>\n",
              "      <td>0.692809</td>\n",
              "    </tr>\n",
              "    <tr>\n",
              "      <th>24</th>\n",
              "      <td>pubmed_20k</td>\n",
              "      <td>freeze</td>\n",
              "      <td>True</td>\n",
              "      <td>BioM_BERT_PubMed_PMC_Large</td>\n",
              "      <td>version_0</td>\n",
              "      <td>28130</td>\n",
              "      <td>4.0</td>\n",
              "      <td>0.69093</td>\n",
              "      <td>0.738249</td>\n",
              "    </tr>\n",
              "    <tr>\n",
              "      <th>25</th>\n",
              "      <td>pubmed_20k</td>\n",
              "      <td>freeze</td>\n",
              "      <td>True</td>\n",
              "      <td>bert_large_uncased</td>\n",
              "      <td>version_0</td>\n",
              "      <td>16565</td>\n",
              "      <td>1.0</td>\n",
              "      <td>1.322735</td>\n",
              "      <td>0.405384</td>\n",
              "    </tr>\n",
              "    <tr>\n",
              "      <th>26</th>\n",
              "      <td>pubmed_20k</td>\n",
              "      <td>freeze</td>\n",
              "      <td>True</td>\n",
              "      <td>bert_large_uncased</td>\n",
              "      <td>version_1</td>\n",
              "      <td>20361</td>\n",
              "      <td>2.0</td>\n",
              "      <td>1.0907</td>\n",
              "      <td>0.650051</td>\n",
              "    </tr>\n",
              "    <tr>\n",
              "      <th>27</th>\n",
              "      <td>pubmed_20k</td>\n",
              "      <td>freeze</td>\n",
              "      <td>True</td>\n",
              "      <td>biobert_v1.1</td>\n",
              "      <td>version_0</td>\n",
              "      <td>28130</td>\n",
              "      <td>4.0</td>\n",
              "      <td>0.854067</td>\n",
              "      <td>0.747724</td>\n",
              "    </tr>\n",
              "    <tr>\n",
              "      <th>28</th>\n",
              "      <td>pubmed_20k</td>\n",
              "      <td>freeze</td>\n",
              "      <td>True</td>\n",
              "      <td>diffcse_bert_base_uncased_tran</td>\n",
              "      <td>version_0</td>\n",
              "      <td>22504</td>\n",
              "      <td>3.0</td>\n",
              "      <td>0.979039</td>\n",
              "      <td>0.612916</td>\n",
              "    </tr>\n",
              "    <tr>\n",
              "      <th>29</th>\n",
              "      <td>pubmed_20k</td>\n",
              "      <td>freeze</td>\n",
              "      <td>True</td>\n",
              "      <td>scibert_scivocab_cased</td>\n",
              "      <td>version_0</td>\n",
              "      <td>28263</td>\n",
              "      <td>4.0</td>\n",
              "      <td>0.524275</td>\n",
              "      <td>0.831708</td>\n",
              "    </tr>\n",
              "    <tr>\n",
              "      <th>30</th>\n",
              "      <td>pubmed_20k</td>\n",
              "      <td>full_train</td>\n",
              "      <td>False</td>\n",
              "      <td>BiomedNLP_PubMedBERT_base_unca</td>\n",
              "      <td>version_0</td>\n",
              "      <td>19849</td>\n",
              "      <td>2.0</td>\n",
              "      <td>0.574624</td>\n",
              "      <td>0.786181</td>\n",
              "    </tr>\n",
              "    <tr>\n",
              "      <th>31</th>\n",
              "      <td>pubmed_20k</td>\n",
              "      <td>full_train</td>\n",
              "      <td>False</td>\n",
              "      <td>BiomedNLP_PubMedBERT_base_unca</td>\n",
              "      <td>version_1</td>\n",
              "      <td>45008</td>\n",
              "      <td>7.0</td>\n",
              "      <td>0.550338</td>\n",
              "      <td>0.799409</td>\n",
              "    </tr>\n",
              "    <tr>\n",
              "      <th>32</th>\n",
              "      <td>pubmed_20k</td>\n",
              "      <td>full_train</td>\n",
              "      <td>False</td>\n",
              "      <td>albert_base_v2</td>\n",
              "      <td>version_1</td>\n",
              "      <td>49002</td>\n",
              "      <td>7.0</td>\n",
              "      <td>0.544588</td>\n",
              "      <td>0.804137</td>\n",
              "    </tr>\n",
              "    <tr>\n",
              "      <th>33</th>\n",
              "      <td>pubmed_20k</td>\n",
              "      <td>full_train</td>\n",
              "      <td>False</td>\n",
              "      <td>bart_base</td>\n",
              "      <td>version_1</td>\n",
              "      <td>72012</td>\n",
              "      <td>5.0</td>\n",
              "      <td>0.534094</td>\n",
              "      <td>0.804968</td>\n",
              "    </tr>\n",
              "    <tr>\n",
              "      <th>34</th>\n",
              "      <td>pubmed_20k</td>\n",
              "      <td>full_train</td>\n",
              "      <td>False</td>\n",
              "      <td>bert_base_cased</td>\n",
              "      <td>version_1</td>\n",
              "      <td>22504</td>\n",
              "      <td>3.0</td>\n",
              "      <td>0.611328</td>\n",
              "      <td>0.745806</td>\n",
              "    </tr>\n",
              "    <tr>\n",
              "      <th>35</th>\n",
              "      <td>pubmed_20k</td>\n",
              "      <td>full_train</td>\n",
              "      <td>False</td>\n",
              "      <td>bioelectra_base_discriminator_</td>\n",
              "      <td>version_0</td>\n",
              "      <td>32060</td>\n",
              "      <td>4.0</td>\n",
              "      <td>0.577464</td>\n",
              "      <td>0.789578</td>\n",
              "    </tr>\n",
              "    <tr>\n",
              "      <th>36</th>\n",
              "      <td>pubmed_20k</td>\n",
              "      <td>full_train</td>\n",
              "      <td>False</td>\n",
              "      <td>bluebert_pubmed_mimic_uncased_</td>\n",
              "      <td>version_0</td>\n",
              "      <td>108018</td>\n",
              "      <td>8.0</td>\n",
              "      <td>0.582148</td>\n",
              "      <td>0.787036</td>\n",
              "    </tr>\n",
              "    <tr>\n",
              "      <th>37</th>\n",
              "      <td>pubmed_20k</td>\n",
              "      <td>full_train</td>\n",
              "      <td>False</td>\n",
              "      <td>xtremedistil_l12_h384_uncased</td>\n",
              "      <td>version_0</td>\n",
              "      <td>50634</td>\n",
              "      <td>8.0</td>\n",
              "      <td>0.590116</td>\n",
              "      <td>0.77054</td>\n",
              "    </tr>\n",
              "    <tr>\n",
              "      <th>38</th>\n",
              "      <td>pubmed_20k</td>\n",
              "      <td>no_freeze</td>\n",
              "      <td>True</td>\n",
              "      <td>BioM_ELECTRA_Base_Discriminato</td>\n",
              "      <td>version_0</td>\n",
              "      <td>38941</td>\n",
              "      <td>5.0</td>\n",
              "      <td>0.580708</td>\n",
              "      <td>0.780898</td>\n",
              "    </tr>\n",
              "    <tr>\n",
              "      <th>39</th>\n",
              "      <td>pubmed_20k</td>\n",
              "      <td>no_freeze</td>\n",
              "      <td>True</td>\n",
              "      <td>bert_base_cased</td>\n",
              "      <td>version_0</td>\n",
              "      <td>33756</td>\n",
              "      <td>5.0</td>\n",
              "      <td>0.575</td>\n",
              "      <td>0.790866</td>\n",
              "    </tr>\n",
              "    <tr>\n",
              "      <th>40</th>\n",
              "      <td>pubmed_20k</td>\n",
              "      <td>no_freeze</td>\n",
              "      <td>True</td>\n",
              "      <td>deberta_v3_small</td>\n",
              "      <td>version_0</td>\n",
              "      <td>61886</td>\n",
              "      <td>10.0</td>\n",
              "      <td>0.54776</td>\n",
              "      <td>0.806117</td>\n",
              "    </tr>\n",
              "    <tr>\n",
              "      <th>41</th>\n",
              "      <td>pubmed_20k</td>\n",
              "      <td>no_freeze</td>\n",
              "      <td>True</td>\n",
              "      <td>scibert_scivocab_cased</td>\n",
              "      <td>version_0</td>\n",
              "      <td>39382</td>\n",
              "      <td>6.0</td>\n",
              "      <td>0.580943</td>\n",
              "      <td>0.791877</td>\n",
              "    </tr>\n",
              "    <tr>\n",
              "      <th>42</th>\n",
              "      <td>pubmed_full</td>\n",
              "      <td>freeze</td>\n",
              "      <td>False</td>\n",
              "      <td>bert_base_uncased</td>\n",
              "      <td>version_0</td>\n",
              "      <td>124525</td>\n",
              "      <td>2.0</td>\n",
              "      <td>0.950157</td>\n",
              "      <td>0.675078</td>\n",
              "    </tr>\n",
              "    <tr>\n",
              "      <th>43</th>\n",
              "      <td>pubmed_full</td>\n",
              "      <td>freeze</td>\n",
              "      <td>False</td>\n",
              "      <td>scibert_scivocab_uncased</td>\n",
              "      <td>version_0</td>\n",
              "      <td>105800</td>\n",
              "      <td>2.0</td>\n",
              "      <td>0.483774</td>\n",
              "      <td>0.842171</td>\n",
              "    </tr>\n",
              "    <tr>\n",
              "      <th>44</th>\n",
              "      <td>pubmed_full</td>\n",
              "      <td>no_freeze</td>\n",
              "      <td>False</td>\n",
              "      <td>BiomedNLP_PubMedBERT_base_unca</td>\n",
              "      <td>version_1</td>\n",
              "      <td>154217</td>\n",
              "      <td>1.0</td>\n",
              "      <td>0.545358</td>\n",
              "      <td>0.801903</td>\n",
              "    </tr>\n",
              "    <tr>\n",
              "      <th>45</th>\n",
              "      <td>pubmed_full</td>\n",
              "      <td>no_freeze</td>\n",
              "      <td>False</td>\n",
              "      <td>albert_base_v2</td>\n",
              "      <td>version_0</td>\n",
              "      <td>276480</td>\n",
              "      <td>3.0</td>\n",
              "      <td>0.483869</td>\n",
              "      <td>0.825173</td>\n",
              "    </tr>\n",
              "    <tr>\n",
              "      <th>46</th>\n",
              "      <td>pubmed_full</td>\n",
              "      <td>no_freeze</td>\n",
              "      <td>False</td>\n",
              "      <td>scibert_scivocab_uncased</td>\n",
              "      <td>version_0</td>\n",
              "      <td>182182</td>\n",
              "      <td>1.0</td>\n",
              "      <td>0.506625</td>\n",
              "      <td>0.818099</td>\n",
              "    </tr>\n",
              "  </tbody>\n",
              "</table>\n",
              "</div>\n",
              "      <button class=\"colab-df-convert\" onclick=\"convertToInteractive('df-74835ebd-81b8-4731-a426-b86b389ff6d5')\"\n",
              "              title=\"Convert this dataframe to an interactive table.\"\n",
              "              style=\"display:none;\">\n",
              "        \n",
              "  <svg xmlns=\"http://www.w3.org/2000/svg\" height=\"24px\"viewBox=\"0 0 24 24\"\n",
              "       width=\"24px\">\n",
              "    <path d=\"M0 0h24v24H0V0z\" fill=\"none\"/>\n",
              "    <path d=\"M18.56 5.44l.94 2.06.94-2.06 2.06-.94-2.06-.94-.94-2.06-.94 2.06-2.06.94zm-11 1L8.5 8.5l.94-2.06 2.06-.94-2.06-.94L8.5 2.5l-.94 2.06-2.06.94zm10 10l.94 2.06.94-2.06 2.06-.94-2.06-.94-.94-2.06-.94 2.06-2.06.94z\"/><path d=\"M17.41 7.96l-1.37-1.37c-.4-.4-.92-.59-1.43-.59-.52 0-1.04.2-1.43.59L10.3 9.45l-7.72 7.72c-.78.78-.78 2.05 0 2.83L4 21.41c.39.39.9.59 1.41.59.51 0 1.02-.2 1.41-.59l7.78-7.78 2.81-2.81c.8-.78.8-2.07 0-2.86zM5.41 20L4 18.59l7.72-7.72 1.47 1.35L5.41 20z\"/>\n",
              "  </svg>\n",
              "      </button>\n",
              "      \n",
              "  <style>\n",
              "    .colab-df-container {\n",
              "      display:flex;\n",
              "      flex-wrap:wrap;\n",
              "      gap: 12px;\n",
              "    }\n",
              "\n",
              "    .colab-df-convert {\n",
              "      background-color: #E8F0FE;\n",
              "      border: none;\n",
              "      border-radius: 50%;\n",
              "      cursor: pointer;\n",
              "      display: none;\n",
              "      fill: #1967D2;\n",
              "      height: 32px;\n",
              "      padding: 0 0 0 0;\n",
              "      width: 32px;\n",
              "    }\n",
              "\n",
              "    .colab-df-convert:hover {\n",
              "      background-color: #E2EBFA;\n",
              "      box-shadow: 0px 1px 2px rgba(60, 64, 67, 0.3), 0px 1px 3px 1px rgba(60, 64, 67, 0.15);\n",
              "      fill: #174EA6;\n",
              "    }\n",
              "\n",
              "    [theme=dark] .colab-df-convert {\n",
              "      background-color: #3B4455;\n",
              "      fill: #D2E3FC;\n",
              "    }\n",
              "\n",
              "    [theme=dark] .colab-df-convert:hover {\n",
              "      background-color: #434B5C;\n",
              "      box-shadow: 0px 1px 3px 1px rgba(0, 0, 0, 0.15);\n",
              "      filter: drop-shadow(0px 1px 2px rgba(0, 0, 0, 0.3));\n",
              "      fill: #FFFFFF;\n",
              "    }\n",
              "  </style>\n",
              "\n",
              "      <script>\n",
              "        const buttonEl =\n",
              "          document.querySelector('#df-74835ebd-81b8-4731-a426-b86b389ff6d5 button.colab-df-convert');\n",
              "        buttonEl.style.display =\n",
              "          google.colab.kernel.accessAllowed ? 'block' : 'none';\n",
              "\n",
              "        async function convertToInteractive(key) {\n",
              "          const element = document.querySelector('#df-74835ebd-81b8-4731-a426-b86b389ff6d5');\n",
              "          const dataTable =\n",
              "            await google.colab.kernel.invokeFunction('convertToInteractive',\n",
              "                                                     [key], {});\n",
              "          if (!dataTable) return;\n",
              "\n",
              "          const docLinkHtml = 'Like what you see? Visit the ' +\n",
              "            '<a target=\"_blank\" href=https://colab.research.google.com/notebooks/data_table.ipynb>data table notebook</a>'\n",
              "            + ' to learn more about interactive tables.';\n",
              "          element.innerHTML = '';\n",
              "          dataTable['output_type'] = 'display_data';\n",
              "          await google.colab.output.renderOutput(dataTable, element);\n",
              "          const docLink = document.createElement('div');\n",
              "          docLink.innerHTML = docLinkHtml;\n",
              "          element.appendChild(docLink);\n",
              "        }\n",
              "      </script>\n",
              "    </div>\n",
              "  </div>\n",
              "  "
            ]
          },
          "metadata": {},
          "execution_count": 46
        }
      ],
      "source": [
        "test_df_long = reassembled_df[reassembled_df.name.isin(['test_f1score', 'epoch',  'test_cross_entropy'])]\n",
        "test_df = test_df_long.reset_index().pivot_table(values='value',\n",
        "                                                 index=['dataset', 'tuning_strategy',\n",
        "                                    'train_on_raw_data','model', 'version', 'step'],\n",
        "                                         columns='name', \n",
        "                                         aggfunc='mean').reset_index().convert_dtypes()\n",
        "test_df.dropna(subset=['test_f1score'], inplace=True)\n",
        "test_df = test_df.reset_index(drop=True).convert_dtypes()\n",
        "test_df"
      ]
    },
    {
      "cell_type": "code",
      "execution_count": 46,
      "metadata": {
        "id": "qSRuXifNEqVZ"
      },
      "outputs": [],
      "source": [
        ""
      ]
    },
    {
      "cell_type": "code",
      "execution_count": 47,
      "metadata": {
        "cellView": "form",
        "id": "wOC7__t3FFjm",
        "colab": {
          "base_uri": "https://localhost:8080/",
          "height": 17
        },
        "outputId": "2077e76a-4d44-4b73-81de-f7e7ddd7f0a5"
      },
      "outputs": [
        {
          "output_type": "display_data",
          "data": {
            "text/plain": [
              "<IPython.core.display.HTML object>"
            ],
            "text/html": [
              "\n",
              "  <style>\n",
              "    pre {\n",
              "        white-space: pre-wrap;\n",
              "    }\n",
              "  </style>\n",
              "  "
            ]
          },
          "metadata": {}
        }
      ],
      "source": [
        "#@markdown export test set dataframe\n",
        "test_df_path = data_dir.parent / f\"transformers_test_set_summary_{get_timestamp()}\"\n",
        "\n",
        "if export_reports:\n",
        "    test_df.to_csv(test_df_path.with_suffix('.csv'), index=False)\n",
        "    test_df.to_excel(test_df_path.with_suffix('.xlsx'), index=False)\n",
        "\n",
        "    test_df_path.with_suffix('.csv').resolve()\n",
        "else:\n",
        "    print(\"export reports set to false\")"
      ]
    },
    {
      "cell_type": "markdown",
      "metadata": {
        "id": "5VZm3TFQKvTI"
      },
      "source": [
        "## Visualization"
      ]
    },
    {
      "cell_type": "code",
      "execution_count": 41,
      "metadata": {
        "id": "VpQNQbzWK5J7",
        "colab": {
          "base_uri": "https://localhost:8080/",
          "height": 17
        },
        "outputId": "0e11d6e3-9e3a-45ee-9bb6-5e95521db933"
      },
      "outputs": [
        {
          "output_type": "display_data",
          "data": {
            "text/plain": [
              "<IPython.core.display.HTML object>"
            ],
            "text/html": [
              "\n",
              "  <style>\n",
              "    pre {\n",
              "        white-space: pre-wrap;\n",
              "    }\n",
              "  </style>\n",
              "  "
            ]
          },
          "metadata": {}
        },
        {
          "output_type": "display_data",
          "data": {
            "text/plain": [
              "<IPython.core.display.HTML object>"
            ],
            "text/html": [
              "\n",
              "  <style>\n",
              "    pre {\n",
              "        white-space: pre-wrap;\n",
              "    }\n",
              "  </style>\n",
              "  "
            ]
          },
          "metadata": {}
        }
      ],
      "source": [
        "\n",
        "sideload_path = \"/content/drive/MyDrive/ETHZ-2022-S/ML-healthcare-projects/project2/transformers/transformers_test_set_summary_Apr-26-2022_t-20.csv\" #@param {type:\"string\"}\n",
        "sideload_path = Path(sideload_path)\n",
        "\n",
        "if len(str(sideload_path.resolve())) > 2:\n",
        "    assert sideload_path.exists(), \"sideload path needs to exist\" "
      ]
    },
    {
      "cell_type": "markdown",
      "metadata": {
        "id": "2ChVc7urFh29"
      },
      "source": [
        "### autoviz"
      ]
    },
    {
      "cell_type": "code",
      "execution_count": 42,
      "metadata": {
        "id": "055SgcJgFjRY",
        "colab": {
          "base_uri": "https://localhost:8080/",
          "height": 69
        },
        "outputId": "5b15f72c-f2ac-47ae-e4af-8a34b2761c11"
      },
      "outputs": [
        {
          "output_type": "display_data",
          "data": {
            "text/plain": [
              "<IPython.core.display.HTML object>"
            ],
            "text/html": [
              "\n",
              "  <style>\n",
              "    pre {\n",
              "        white-space: pre-wrap;\n",
              "    }\n",
              "  </style>\n",
              "  "
            ]
          },
          "metadata": {}
        },
        {
          "output_type": "display_data",
          "data": {
            "text/plain": [
              "<IPython.core.display.HTML object>"
            ],
            "text/html": [
              "\n",
              "  <style>\n",
              "    pre {\n",
              "        white-space: pre-wrap;\n",
              "    }\n",
              "  </style>\n",
              "  "
            ]
          },
          "metadata": {}
        },
        {
          "output_type": "stream",
          "name": "stdout",
          "text": [
            "\u001b[33mWARNING: Running pip as the 'root' user can result in broken permissions and conflicting behaviour with the system package manager. It is recommended to use a virtual environment instead: https://pip.pypa.io/warnings/venv\u001b[0m\u001b[33m\n",
            "\u001b[0m"
          ]
        }
      ],
      "source": [
        "!pip install -U -q autoviz"
      ]
    },
    {
      "cell_type": "code",
      "execution_count": 43,
      "metadata": {
        "id": "LWWm1xIxer30",
        "colab": {
          "base_uri": "https://localhost:8080/",
          "height": 17
        },
        "outputId": "fa290bd7-603d-419a-d465-3ba0a31273ae"
      },
      "outputs": [
        {
          "output_type": "display_data",
          "data": {
            "text/plain": [
              "<IPython.core.display.HTML object>"
            ],
            "text/html": [
              "\n",
              "  <style>\n",
              "    pre {\n",
              "        white-space: pre-wrap;\n",
              "    }\n",
              "  </style>\n",
              "  "
            ]
          },
          "metadata": {}
        },
        {
          "output_type": "display_data",
          "data": {
            "text/plain": [
              "<IPython.core.display.HTML object>"
            ],
            "text/html": [
              "\n",
              "  <style>\n",
              "    pre {\n",
              "        white-space: pre-wrap;\n",
              "    }\n",
              "  </style>\n",
              "  "
            ]
          },
          "metadata": {}
        }
      ],
      "source": [
        "from autoviz.AutoViz_Class import AutoViz_Class\n",
        "\n",
        "AV = AutoViz_Class()"
      ]
    },
    {
      "cell_type": "code",
      "execution_count": 44,
      "metadata": {
        "id": "qeqVwGjSGFyH",
        "colab": {
          "base_uri": "https://localhost:8080/",
          "height": 17
        },
        "outputId": "d6d04891-3fe2-425d-ea98-d516b824fb59"
      },
      "outputs": [
        {
          "output_type": "display_data",
          "data": {
            "text/plain": [
              "<IPython.core.display.HTML object>"
            ],
            "text/html": [
              "\n",
              "  <style>\n",
              "    pre {\n",
              "        white-space: pre-wrap;\n",
              "    }\n",
              "  </style>\n",
              "  "
            ]
          },
          "metadata": {}
        },
        {
          "output_type": "display_data",
          "data": {
            "text/plain": [
              "<IPython.core.display.HTML object>"
            ],
            "text/html": [
              "\n",
              "  <style>\n",
              "    pre {\n",
              "        white-space: pre-wrap;\n",
              "    }\n",
              "  </style>\n",
              "  "
            ]
          },
          "metadata": {}
        }
      ],
      "source": [
        "viz_dir = data_dir.parent / 'reports and figures'\n",
        "viz_dir.mkdir(exist_ok=True)\n"
      ]
    },
    {
      "cell_type": "code",
      "execution_count": 45,
      "metadata": {
        "id": "YrW_Hhq7JNe5",
        "colab": {
          "base_uri": "https://localhost:8080/",
          "height": 1000
        },
        "outputId": "7757310e-7ef5-4690-89a9-3ade5192eeb8"
      },
      "outputs": [
        {
          "output_type": "display_data",
          "data": {
            "text/plain": [
              "<IPython.core.display.HTML object>"
            ],
            "text/html": [
              "\n",
              "  <style>\n",
              "    pre {\n",
              "        white-space: pre-wrap;\n",
              "    }\n",
              "  </style>\n",
              "  "
            ]
          },
          "metadata": {}
        },
        {
          "output_type": "display_data",
          "data": {
            "text/plain": [
              "<IPython.core.display.HTML object>"
            ],
            "text/html": [
              "\n",
              "  <style>\n",
              "    pre {\n",
              "        white-space: pre-wrap;\n",
              "    }\n",
              "  </style>\n",
              "  "
            ]
          },
          "metadata": {}
        },
        {
          "output_type": "stream",
          "name": "stdout",
          "text": [
            "Shape of your Data Set loaded: (47, 9)\n",
            "############## C L A S S I F Y I N G  V A R I A B L E S  ####################\n",
            "Classifying variables in data set...\n",
            "    Number of Numeric Columns =  2\n",
            "    Number of Integer-Categorical Columns =  1\n",
            "    Number of String-Categorical Columns =  3\n",
            "    Number of Factor-Categorical Columns =  0\n",
            "    Number of String-Boolean Columns =  2\n",
            "    Number of Numeric-Boolean Columns =  0\n",
            "    Number of Discrete String Columns =  0\n",
            "    Number of NLP String Columns =  0\n",
            "    Number of Date Time Columns =  0\n",
            "    Number of ID Columns =  0\n",
            "    Number of Columns to Delete =  0\n",
            "    8 Predictors classified...\n",
            "        No variables removed since no ID or low-information variables found in data set\n",
            "\n",
            "################ Regression VISUALIZATION Started #####################\n",
            "Data Set Shape: 47 rows, 9 cols\n",
            "Data Set columns info:\n",
            "* dataset: 0 nulls, 2 unique vals, most common: {'pubmed_20k': 42, 'pubmed_full': 5}\n",
            "* tuning_strategy: 0 nulls, 4 unique vals, most common: {'finetune': 24, 'freeze': 8}\n",
            "* train_on_raw_data: 0 nulls, 2 unique vals, most common: {False: 37, True: 10}\n",
            "* model: 0 nulls, 24 unique vals, most common: {'BioLinkBERT_base': 4, 'BiomedNLP_PubMedBERT_base_unca': 4}\n",
            "* version: 0 nulls, 6 unique vals, most common: {'version_0': 34, 'version_1': 8}\n",
            "* step: 0 nulls, 41 unique vals, most common: {22504: 3, 39382: 2}\n",
            "* epoch: 0 nulls, 19 unique vals, most common: {5.0: 6, 4.0: 6}\n",
            "* test_cross_entropy: 0 nulls, 47 unique vals, most common: {0.5452095866203308: 1, 0.5774638056755066: 1}\n",
            "* test_f1score: 0 nulls, 47 unique vals, most common: {0.7965510487556458: 1, 0.7895777821540833: 1}\n",
            "--------------------------------------------------------------------\n",
            "   Columns to delete:\n",
            "'   []'\n",
            "   Boolean variables %s \n",
            "\"   ['dataset', 'train_on_raw_data']\"\n",
            "   Categorical variables %s \n",
            "(\"   ['tuning_strategy', 'model', 'version', 'step', 'dataset', \"\n",
            " \"'train_on_raw_data']\")\n",
            "   Continuous variables %s \n",
            "\"   ['epoch', 'test_cross_entropy']\"\n",
            "   Discrete string variables %s \n",
            "'   []'\n",
            "   Date and time variables %s \n",
            "'   []'\n",
            "   ID variables %s \n",
            "'   []'\n",
            "   Target variable %s \n",
            "'   test_f1score'\n",
            "Saving scatterplots in HTML format\n",
            "Saving pair_scatters in HTML format\n",
            "Saving distplots_cats in HTML format\n",
            "Saving distplots_nums in HTML format\n",
            "Saving kde_plots in HTML format\n",
            "Saving violinplots in HTML format\n",
            "No date vars could be found in data set\n",
            "Saving heatmaps in HTML format\n",
            "Saving cat_var_plots in HTML format\n",
            "Time to run AutoViz (in seconds) = 6\n"
          ]
        }
      ],
      "source": [
        "sep = \",\"\n",
        "dft = AV.AutoViz(\n",
        "    filename=str(sideload_path.with_suffix('.csv').resolve()),\n",
        "    sep=\",\",\n",
        "    depVar=\"test_f1score\",\n",
        "    dfte=None,\n",
        "    header=0,\n",
        "    verbose=1,\n",
        "    lowess=False,\n",
        "    chart_format=\"html\",\n",
        "    max_rows_analyzed=150000,\n",
        "    max_cols_analyzed=30,\n",
        "    save_plot_dir=str(viz_dir.resolve())\n",
        ")"
      ]
    },
    {
      "cell_type": "markdown",
      "metadata": {
        "id": "2WMEtKZ4MHV8"
      },
      "source": [
        "### pandas-profiling"
      ]
    },
    {
      "cell_type": "code",
      "execution_count": 46,
      "metadata": {
        "id": "2qTnUJSEM8FO",
        "colab": {
          "base_uri": "https://localhost:8080/",
          "height": 17
        },
        "outputId": "6427e771-d880-4000-9d83-7157f7199091"
      },
      "outputs": [
        {
          "output_type": "display_data",
          "data": {
            "text/plain": [
              "<IPython.core.display.HTML object>"
            ],
            "text/html": [
              "\n",
              "  <style>\n",
              "    pre {\n",
              "        white-space: pre-wrap;\n",
              "    }\n",
              "  </style>\n",
              "  "
            ]
          },
          "metadata": {}
        },
        {
          "output_type": "display_data",
          "data": {
            "text/plain": [
              "<IPython.core.display.HTML object>"
            ],
            "text/html": [
              "\n",
              "  <style>\n",
              "    pre {\n",
              "        white-space: pre-wrap;\n",
              "    }\n",
              "  </style>\n",
              "  "
            ]
          },
          "metadata": {}
        }
      ],
      "source": [
        "df = pd.read_csv(sideload_path.with_suffix('.csv')).convert_dtypes()"
      ]
    },
    {
      "cell_type": "code",
      "execution_count": 47,
      "metadata": {
        "id": "2hwBUMbSNRM8",
        "colab": {
          "base_uri": "https://localhost:8080/",
          "height": 17
        },
        "outputId": "66420f5b-7162-4a98-dbeb-3e4bad881be4"
      },
      "outputs": [
        {
          "output_type": "display_data",
          "data": {
            "text/plain": [
              "<IPython.core.display.HTML object>"
            ],
            "text/html": [
              "\n",
              "  <style>\n",
              "    pre {\n",
              "        white-space: pre-wrap;\n",
              "    }\n",
              "  </style>\n",
              "  "
            ]
          },
          "metadata": {}
        },
        {
          "output_type": "display_data",
          "data": {
            "text/plain": [
              "<IPython.core.display.HTML object>"
            ],
            "text/html": [
              "\n",
              "  <style>\n",
              "    pre {\n",
              "        white-space: pre-wrap;\n",
              "    }\n",
              "  </style>\n",
              "  "
            ]
          },
          "metadata": {}
        }
      ],
      "source": [
        "import numpy as np\n",
        "import pandas as pd\n",
        "from pandas_profiling import ProfileReport\n"
      ]
    },
    {
      "cell_type": "code",
      "execution_count": 48,
      "metadata": {
        "id": "IFQu9ahbKg34",
        "colab": {
          "base_uri": "https://localhost:8080/",
          "height": 485
        },
        "outputId": "0ce7d962-472b-4ec4-a171-059a142f8a49"
      },
      "outputs": [
        {
          "output_type": "display_data",
          "data": {
            "text/plain": [
              "<IPython.core.display.HTML object>"
            ],
            "text/html": [
              "\n",
              "  <style>\n",
              "    pre {\n",
              "        white-space: pre-wrap;\n",
              "    }\n",
              "  </style>\n",
              "  "
            ]
          },
          "metadata": {}
        },
        {
          "output_type": "display_data",
          "data": {
            "text/plain": [
              "<IPython.core.display.HTML object>"
            ],
            "text/html": [
              "\n",
              "  <style>\n",
              "    pre {\n",
              "        white-space: pre-wrap;\n",
              "    }\n",
              "  </style>\n",
              "  "
            ]
          },
          "metadata": {}
        },
        {
          "output_type": "error",
          "ename": "OSError",
          "evalue": "ignored",
          "traceback": [
            "\u001b[0;31m---------------------------------------------------------------------------\u001b[0m",
            "\u001b[0;31mFileNotFoundError\u001b[0m                         Traceback (most recent call last)",
            "\u001b[0;32m/usr/local/lib/python3.7/dist-packages/matplotlib/style/core.py\u001b[0m in \u001b[0;36muse\u001b[0;34m(style)\u001b[0m\n\u001b[1;32m    126\u001b[0m             \u001b[0;32mtry\u001b[0m\u001b[0;34m:\u001b[0m\u001b[0;34m\u001b[0m\u001b[0;34m\u001b[0m\u001b[0m\n\u001b[0;32m--> 127\u001b[0;31m                 \u001b[0mrc\u001b[0m \u001b[0;34m=\u001b[0m \u001b[0mrc_params_from_file\u001b[0m\u001b[0;34m(\u001b[0m\u001b[0mstyle\u001b[0m\u001b[0;34m,\u001b[0m \u001b[0muse_default_template\u001b[0m\u001b[0;34m=\u001b[0m\u001b[0;32mFalse\u001b[0m\u001b[0;34m)\u001b[0m\u001b[0;34m\u001b[0m\u001b[0;34m\u001b[0m\u001b[0m\n\u001b[0m\u001b[1;32m    128\u001b[0m                 \u001b[0m_apply_style\u001b[0m\u001b[0;34m(\u001b[0m\u001b[0mrc\u001b[0m\u001b[0;34m)\u001b[0m\u001b[0;34m\u001b[0m\u001b[0;34m\u001b[0m\u001b[0m\n",
            "\u001b[0;32m/usr/local/lib/python3.7/dist-packages/matplotlib/__init__.py\u001b[0m in \u001b[0;36mrc_params_from_file\u001b[0;34m(fname, fail_on_error, use_default_template)\u001b[0m\n\u001b[1;32m    851\u001b[0m     \"\"\"\n\u001b[0;32m--> 852\u001b[0;31m     \u001b[0mconfig_from_file\u001b[0m \u001b[0;34m=\u001b[0m \u001b[0m_rc_params_in_file\u001b[0m\u001b[0;34m(\u001b[0m\u001b[0mfname\u001b[0m\u001b[0;34m,\u001b[0m \u001b[0mfail_on_error\u001b[0m\u001b[0;34m=\u001b[0m\u001b[0mfail_on_error\u001b[0m\u001b[0;34m)\u001b[0m\u001b[0;34m\u001b[0m\u001b[0;34m\u001b[0m\u001b[0m\n\u001b[0m\u001b[1;32m    853\u001b[0m \u001b[0;34m\u001b[0m\u001b[0m\n",
            "\u001b[0;32m/usr/local/lib/python3.7/dist-packages/matplotlib/__init__.py\u001b[0m in \u001b[0;36m_rc_params_in_file\u001b[0;34m(fname, transform, fail_on_error)\u001b[0m\n\u001b[1;32m    777\u001b[0m     \u001b[0mrc_temp\u001b[0m \u001b[0;34m=\u001b[0m \u001b[0;34m{\u001b[0m\u001b[0;34m}\u001b[0m\u001b[0;34m\u001b[0m\u001b[0;34m\u001b[0m\u001b[0m\n\u001b[0;32m--> 778\u001b[0;31m     \u001b[0;32mwith\u001b[0m \u001b[0m_open_file_or_url\u001b[0m\u001b[0;34m(\u001b[0m\u001b[0mfname\u001b[0m\u001b[0;34m)\u001b[0m \u001b[0;32mas\u001b[0m \u001b[0mfd\u001b[0m\u001b[0;34m:\u001b[0m\u001b[0;34m\u001b[0m\u001b[0;34m\u001b[0m\u001b[0m\n\u001b[0m\u001b[1;32m    779\u001b[0m         \u001b[0;32mtry\u001b[0m\u001b[0;34m:\u001b[0m\u001b[0;34m\u001b[0m\u001b[0;34m\u001b[0m\u001b[0m\n",
            "\u001b[0;32m/usr/lib/python3.7/contextlib.py\u001b[0m in \u001b[0;36m__enter__\u001b[0;34m(self)\u001b[0m\n\u001b[1;32m    111\u001b[0m         \u001b[0;32mtry\u001b[0m\u001b[0;34m:\u001b[0m\u001b[0;34m\u001b[0m\u001b[0;34m\u001b[0m\u001b[0m\n\u001b[0;32m--> 112\u001b[0;31m             \u001b[0;32mreturn\u001b[0m \u001b[0mnext\u001b[0m\u001b[0;34m(\u001b[0m\u001b[0mself\u001b[0m\u001b[0;34m.\u001b[0m\u001b[0mgen\u001b[0m\u001b[0;34m)\u001b[0m\u001b[0;34m\u001b[0m\u001b[0;34m\u001b[0m\u001b[0m\n\u001b[0m\u001b[1;32m    113\u001b[0m         \u001b[0;32mexcept\u001b[0m \u001b[0mStopIteration\u001b[0m\u001b[0;34m:\u001b[0m\u001b[0;34m\u001b[0m\u001b[0;34m\u001b[0m\u001b[0m\n",
            "\u001b[0;32m/usr/local/lib/python3.7/dist-packages/matplotlib/__init__.py\u001b[0m in \u001b[0;36m_open_file_or_url\u001b[0;34m(fname)\u001b[0m\n\u001b[1;32m    754\u001b[0m             \u001b[0mencoding\u001b[0m \u001b[0;34m=\u001b[0m \u001b[0;34m\"utf-8\"\u001b[0m\u001b[0;34m\u001b[0m\u001b[0;34m\u001b[0m\u001b[0m\n\u001b[0;32m--> 755\u001b[0;31m         \u001b[0;32mwith\u001b[0m \u001b[0mopen\u001b[0m\u001b[0;34m(\u001b[0m\u001b[0mfname\u001b[0m\u001b[0;34m,\u001b[0m \u001b[0mencoding\u001b[0m\u001b[0;34m=\u001b[0m\u001b[0mencoding\u001b[0m\u001b[0;34m)\u001b[0m \u001b[0;32mas\u001b[0m \u001b[0mf\u001b[0m\u001b[0;34m:\u001b[0m\u001b[0;34m\u001b[0m\u001b[0;34m\u001b[0m\u001b[0m\n\u001b[0m\u001b[1;32m    756\u001b[0m             \u001b[0;32myield\u001b[0m \u001b[0mf\u001b[0m\u001b[0;34m\u001b[0m\u001b[0;34m\u001b[0m\u001b[0m\n",
            "\u001b[0;31mFileNotFoundError\u001b[0m: [Errno 2] No such file or directory: '/usr/local/lib/python3.7/dist-packages/pandas_profiling/pandas_profiling.mplstyle'",
            "\nThe above exception was the direct cause of the following exception:\n",
            "\u001b[0;31mOSError\u001b[0m                                   Traceback (most recent call last)",
            "\u001b[0;32m<ipython-input-48-b6fff03d6fe5>\u001b[0m in \u001b[0;36m<module>\u001b[0;34m()\u001b[0m\n\u001b[1;32m      1\u001b[0m profile = ProfileReport(df, title=f\"{log_dir} - Test Set Report\",\n\u001b[0;32m----> 2\u001b[0;31m                         explorative=True, dark_mode=True)\n\u001b[0m",
            "\u001b[0;32m/usr/local/lib/python3.7/dist-packages/pandas_profiling/__init__.py\u001b[0m in \u001b[0;36m__init__\u001b[0;34m(self, df, **kwargs)\u001b[0m\n",
            "\u001b[0;32m/usr/local/lib/python3.7/dist-packages/pandas_profiling/describe.py\u001b[0m in \u001b[0;36mdescribe\u001b[0;34m(df, bins, check_correlation, correlation_threshold, correlation_overrides, check_recoded, pool_size, **kwargs)\u001b[0m\n",
            "\u001b[0;32m/usr/local/lib/python3.7/dist-packages/matplotlib/style/core.py\u001b[0m in \u001b[0;36muse\u001b[0;34m(style)\u001b[0m\n\u001b[1;32m    131\u001b[0m                     \u001b[0;34m\"{!r} not found in the style library and input is not a \"\u001b[0m\u001b[0;34m\u001b[0m\u001b[0;34m\u001b[0m\u001b[0m\n\u001b[1;32m    132\u001b[0m                     \u001b[0;34m\"valid URL or path; see `style.available` for list of \"\u001b[0m\u001b[0;34m\u001b[0m\u001b[0;34m\u001b[0m\u001b[0m\n\u001b[0;32m--> 133\u001b[0;31m                     \"available styles\".format(style)) from err\n\u001b[0m\u001b[1;32m    134\u001b[0m \u001b[0;34m\u001b[0m\u001b[0m\n\u001b[1;32m    135\u001b[0m \u001b[0;34m\u001b[0m\u001b[0m\n",
            "\u001b[0;31mOSError\u001b[0m: '/usr/local/lib/python3.7/dist-packages/pandas_profiling/pandas_profiling.mplstyle' not found in the style library and input is not a valid URL or path; see `style.available` for list of available styles"
          ]
        }
      ],
      "source": [
        "profile = ProfileReport(df, title=f\"{log_dir} - Test Set Report\",\n",
        "                        explorative=True, dark_mode=True)"
      ]
    },
    {
      "cell_type": "code",
      "execution_count": null,
      "metadata": {
        "id": "a1vkTPxgO9tt"
      },
      "outputs": [],
      "source": [
        "profile.to_notebook_iframe()\n"
      ]
    },
    {
      "cell_type": "code",
      "execution_count": null,
      "metadata": {
        "id": "Lkmx3ofKNTRz"
      },
      "outputs": [],
      "source": [
        "profile.to_file(viz_dir / f\"transformers_test_set_EDA_pandas-profiling.html\")"
      ]
    },
    {
      "cell_type": "markdown",
      "metadata": {
        "id": "G5sgXAseQUHQ"
      },
      "source": [
        "### sweetviz"
      ]
    },
    {
      "cell_type": "code",
      "execution_count": 49,
      "metadata": {
        "id": "xoeZrukzQdRc",
        "colab": {
          "base_uri": "https://localhost:8080/",
          "height": 295
        },
        "outputId": "4c12e05c-e01e-4fe1-b1de-4aefa6dd0fee"
      },
      "outputs": [
        {
          "output_type": "display_data",
          "data": {
            "text/plain": [
              "<IPython.core.display.HTML object>"
            ],
            "text/html": [
              "\n",
              "  <style>\n",
              "    pre {\n",
              "        white-space: pre-wrap;\n",
              "    }\n",
              "  </style>\n",
              "  "
            ]
          },
          "metadata": {}
        },
        {
          "output_type": "display_data",
          "data": {
            "text/plain": [
              "<IPython.core.display.HTML object>"
            ],
            "text/html": [
              "\n",
              "  <style>\n",
              "    pre {\n",
              "        white-space: pre-wrap;\n",
              "    }\n",
              "  </style>\n",
              "  "
            ]
          },
          "metadata": {}
        },
        {
          "output_type": "stream",
          "name": "stdout",
          "text": [
            "<class 'pandas.core.frame.DataFrame'>\n",
            "RangeIndex: 47 entries, 0 to 46\n",
            "Data columns (total 9 columns):\n",
            " #   Column              Non-Null Count  Dtype  \n",
            "---  ------              --------------  -----  \n",
            " 0   dataset             47 non-null     string \n",
            " 1   tuning_strategy     47 non-null     string \n",
            " 2   train_on_raw_data   47 non-null     boolean\n",
            " 3   model               47 non-null     string \n",
            " 4   version             47 non-null     string \n",
            " 5   step                47 non-null     Int64  \n",
            " 6   epoch               47 non-null     Int64  \n",
            " 7   test_cross_entropy  47 non-null     Float64\n",
            " 8   test_f1score        47 non-null     Float64\n",
            "dtypes: Float64(2), Int64(2), boolean(1), string(4)\n",
            "memory usage: 3.3 KB\n"
          ]
        }
      ],
      "source": [
        "df.info()"
      ]
    },
    {
      "cell_type": "code",
      "execution_count": 50,
      "metadata": {
        "id": "NHUXnObdR9Kd",
        "colab": {
          "base_uri": "https://localhost:8080/",
          "height": 34
        },
        "outputId": "10107ef4-b5c2-4d14-e571-09cc28883280"
      },
      "outputs": [
        {
          "output_type": "display_data",
          "data": {
            "text/plain": [
              "<IPython.core.display.HTML object>"
            ],
            "text/html": [
              "\n",
              "  <style>\n",
              "    pre {\n",
              "        white-space: pre-wrap;\n",
              "    }\n",
              "  </style>\n",
              "  "
            ]
          },
          "metadata": {}
        },
        {
          "output_type": "display_data",
          "data": {
            "text/plain": [
              "<IPython.core.display.HTML object>"
            ],
            "text/html": [
              "\n",
              "  <style>\n",
              "    pre {\n",
              "        white-space: pre-wrap;\n",
              "    }\n",
              "  </style>\n",
              "  "
            ]
          },
          "metadata": {}
        },
        {
          "output_type": "execute_result",
          "data": {
            "text/plain": [
              "47"
            ]
          },
          "metadata": {},
          "execution_count": 50
        }
      ],
      "source": [
        "df.dropna(inplace=True)\n",
        "df.reset_index(inplace=True, drop=True)\n",
        "len(df)"
      ]
    },
    {
      "cell_type": "code",
      "execution_count": 51,
      "metadata": {
        "id": "j-dphUvWSSHS",
        "colab": {
          "base_uri": "https://localhost:8080/",
          "height": 17
        },
        "outputId": "e49906e9-d75e-432a-a547-362e7bd93e0d"
      },
      "outputs": [
        {
          "output_type": "display_data",
          "data": {
            "text/plain": [
              "<IPython.core.display.HTML object>"
            ],
            "text/html": [
              "\n",
              "  <style>\n",
              "    pre {\n",
              "        white-space: pre-wrap;\n",
              "    }\n",
              "  </style>\n",
              "  "
            ]
          },
          "metadata": {}
        },
        {
          "output_type": "display_data",
          "data": {
            "text/plain": [
              "<IPython.core.display.HTML object>"
            ],
            "text/html": [
              "\n",
              "  <style>\n",
              "    pre {\n",
              "        white-space: pre-wrap;\n",
              "    }\n",
              "  </style>\n",
              "  "
            ]
          },
          "metadata": {}
        }
      ],
      "source": [
        "df.test_f1score = df.test_f1score.astype(float)\n",
        "df.step = df.step.astype(int)\n",
        "df.epoch = df.epoch.astype(int)"
      ]
    },
    {
      "cell_type": "code",
      "execution_count": 52,
      "metadata": {
        "id": "K6OUSFtuQWlS",
        "colab": {
          "base_uri": "https://localhost:8080/",
          "height": 69
        },
        "outputId": "02d38776-7783-4817-f0cd-2ba0ee6a2869"
      },
      "outputs": [
        {
          "output_type": "display_data",
          "data": {
            "text/plain": [
              "<IPython.core.display.HTML object>"
            ],
            "text/html": [
              "\n",
              "  <style>\n",
              "    pre {\n",
              "        white-space: pre-wrap;\n",
              "    }\n",
              "  </style>\n",
              "  "
            ]
          },
          "metadata": {}
        },
        {
          "output_type": "display_data",
          "data": {
            "text/plain": [
              "<IPython.core.display.HTML object>"
            ],
            "text/html": [
              "\n",
              "  <style>\n",
              "    pre {\n",
              "        white-space: pre-wrap;\n",
              "    }\n",
              "  </style>\n",
              "  "
            ]
          },
          "metadata": {}
        },
        {
          "output_type": "stream",
          "name": "stdout",
          "text": [
            "\u001b[33mWARNING: Running pip as the 'root' user can result in broken permissions and conflicting behaviour with the system package manager. It is recommended to use a virtual environment instead: https://pip.pypa.io/warnings/venv\u001b[0m\u001b[33m\n",
            "\u001b[0m"
          ]
        }
      ],
      "source": [
        "!pip install -U sweetviz -q"
      ]
    },
    {
      "cell_type": "code",
      "execution_count": 53,
      "metadata": {
        "id": "9nNE1pHFQave",
        "colab": {
          "base_uri": "https://localhost:8080/",
          "height": 49,
          "referenced_widgets": [
            "4b22aafa7ee445a4ad1763524e9c33f0",
            "35ef832012ab49b5a0c1299b6ff368d2",
            "aa46115b4f30432da817d9dd0d7ecdf2",
            "92554feffe5349a89c98942096fd5b09",
            "5c4d01018a3e4098aa3d192290dd9590",
            "3d29ccf7566f4957b1dd2dc36aa828eb",
            "f5b5743b7ff14eefbe70a4ad0b502432",
            "0b13334a547b4b57a8a776f984e52965",
            "aeb48541d87d49d3b7b353925c0c99d0",
            "1bb7f7c072ed4d488ed792fd6c576d24",
            "fba3602e4d534d149a0af7fd1bfc22ae"
          ]
        },
        "outputId": "51328423-0a5e-4805-85df-d622c6435c17"
      },
      "outputs": [
        {
          "output_type": "display_data",
          "data": {
            "text/plain": [
              "<IPython.core.display.HTML object>"
            ],
            "text/html": [
              "\n",
              "  <style>\n",
              "    pre {\n",
              "        white-space: pre-wrap;\n",
              "    }\n",
              "  </style>\n",
              "  "
            ]
          },
          "metadata": {}
        },
        {
          "output_type": "display_data",
          "data": {
            "text/plain": [
              "<IPython.core.display.HTML object>"
            ],
            "text/html": [
              "\n",
              "  <style>\n",
              "    pre {\n",
              "        white-space: pre-wrap;\n",
              "    }\n",
              "  </style>\n",
              "  "
            ]
          },
          "metadata": {}
        },
        {
          "output_type": "display_data",
          "data": {
            "text/plain": [
              "                                             |          | [  0%]   00:00 -> (? left)"
            ],
            "application/vnd.jupyter.widget-view+json": {
              "version_major": 2,
              "version_minor": 0,
              "model_id": "4b22aafa7ee445a4ad1763524e9c33f0"
            }
          },
          "metadata": {}
        }
      ],
      "source": [
        "import sweetviz as sv\n",
        "\n",
        "feature_config = sv.FeatureConfig(skip=[\"test_cross_entropy\"], \n",
        "                                  force_cat=['model'],\n",
        "                                  force_num=[\"epoch\", \"step\"])\n",
        "my_report = sv.analyze(df, target_feat=\"test_f1score\", \n",
        "                       feat_cfg=feature_config,)"
      ]
    },
    {
      "cell_type": "code",
      "execution_count": 54,
      "metadata": {
        "id": "3TwZoKT4RMmB",
        "colab": {
          "base_uri": "https://localhost:8080/",
          "height": 69
        },
        "outputId": "7092e87b-6ab0-4960-d618-4ac5b96f3442"
      },
      "outputs": [
        {
          "output_type": "display_data",
          "data": {
            "text/plain": [
              "<IPython.core.display.HTML object>"
            ],
            "text/html": [
              "\n",
              "  <style>\n",
              "    pre {\n",
              "        white-space: pre-wrap;\n",
              "    }\n",
              "  </style>\n",
              "  "
            ]
          },
          "metadata": {}
        },
        {
          "output_type": "display_data",
          "data": {
            "text/plain": [
              "<IPython.core.display.HTML object>"
            ],
            "text/html": [
              "\n",
              "  <style>\n",
              "    pre {\n",
              "        white-space: pre-wrap;\n",
              "    }\n",
              "  </style>\n",
              "  "
            ]
          },
          "metadata": {}
        },
        {
          "output_type": "stream",
          "name": "stdout",
          "text": [
            "Report /content/drive/MyDrive/ETHZ-2022-S/ML-healthcare-projects/project2/transformers/reports and figures/transformers_test_set_EDA_SweetVizEDA.html was generated! NOTEBOOK/COLAB USERS: the web browser MAY not pop up, regardless, the report IS saved in your notebook/colab files.\n"
          ]
        }
      ],
      "source": [
        "sv_rep_path =  viz_dir / 'transformers_test_set_EDA_SweetVizEDA.html'\n",
        "my_report.show_html( \n",
        "    filepath=str(sv_rep_path.resolve()), \n",
        "    open_browser=True, \n",
        "    layout='vertical', \n",
        "    scale=0.9,\n",
        ")\n"
      ]
    },
    {
      "cell_type": "markdown",
      "metadata": {
        "id": "NXd_90OUYc82"
      },
      "source": [
        "## AutoML\n"
      ]
    },
    {
      "cell_type": "code",
      "execution_count": 54,
      "metadata": {
        "id": "y1I7bZQVfPs0"
      },
      "outputs": [],
      "source": [
        ""
      ]
    },
    {
      "cell_type": "markdown",
      "metadata": {
        "id": "l-GYei3qfQFa"
      },
      "source": [
        "- [FLAML](https://www.microsoft.com/en-us/research/project/flaml/articles/flaml-a-fast-and-lightweight-automl-library/) is a lightweight lib for autoML. here it is being used just to get a relative guage on feature importance (vs. just looking at plots)\n",
        "- https://microsoft.github.io/FLAML/docs/Getting-Started\n",
        "- https://github.com/microsoft/FLAML\n",
        "\n"
      ]
    },
    {
      "cell_type": "code",
      "execution_count": 55,
      "metadata": {
        "id": "Dv0aLvIbZGMI",
        "colab": {
          "base_uri": "https://localhost:8080/",
          "height": 17
        },
        "outputId": "9a93c5bc-5d17-42ef-92d6-a664791da5ae"
      },
      "outputs": [
        {
          "output_type": "display_data",
          "data": {
            "text/plain": [
              "<IPython.core.display.HTML object>"
            ],
            "text/html": [
              "\n",
              "  <style>\n",
              "    pre {\n",
              "        white-space: pre-wrap;\n",
              "    }\n",
              "  </style>\n",
              "  "
            ]
          },
          "metadata": {}
        },
        {
          "output_type": "display_data",
          "data": {
            "text/plain": [
              "<IPython.core.display.HTML object>"
            ],
            "text/html": [
              "\n",
              "  <style>\n",
              "    pre {\n",
              "        white-space: pre-wrap;\n",
              "    }\n",
              "  </style>\n",
              "  "
            ]
          },
          "metadata": {}
        }
      ],
      "source": [
        "automl = AutoML()\n",
        "from flaml.model import LGBMEstimator, XGBoostEstimator\n",
        "\n",
        "automl.add_learner(\"mylgbm\", LGBMEstimator)\n",
        "automl.add_learner(\"papa_boost\", XGBoostEstimator)\n",
        "\n",
        "\n",
        "cols = list(df.columns)\n",
        "pred_col = 'test_f1score'\n",
        "logname = \"pubmed_test.log\"\n",
        "y_train = df[pred_col].values   \n",
        "cols.remove(pred_col)\n",
        "cols.remove('test_cross_entropy')\n",
        "X_train = df[cols].values\n",
        "\n",
        "# TODO: try to_numpy()\n",
        "settings = {\n",
        "    \"time_budget\": 300,  # in seconds\n",
        "    \"metric\": 'r2',  # primary metrics for regression can be chosen from: ['mae','mse','r2','rmse','mape']\n",
        "    \"estimator_list\": ['lgbm'],  # list of ML learners; we tune lightgbm in this example\n",
        "    \"task\": 'regression',  # task type    \n",
        "    \"log_file_name\": logname,\n",
        "}\n"
      ]
    },
    {
      "cell_type": "code",
      "execution_count": 56,
      "metadata": {
        "id": "ckM6TMenxcTB",
        "colab": {
          "base_uri": "https://localhost:8080/",
          "height": 17
        },
        "outputId": "786c59af-280a-4726-c3a6-03fa18b83063"
      },
      "outputs": [
        {
          "output_type": "display_data",
          "data": {
            "text/plain": [
              "<IPython.core.display.HTML object>"
            ],
            "text/html": [
              "\n",
              "  <style>\n",
              "    pre {\n",
              "        white-space: pre-wrap;\n",
              "    }\n",
              "  </style>\n",
              "  "
            ]
          },
          "metadata": {}
        },
        {
          "output_type": "display_data",
          "data": {
            "text/plain": [
              "<IPython.core.display.HTML object>"
            ],
            "text/html": [
              "\n",
              "  <style>\n",
              "    pre {\n",
              "        white-space: pre-wrap;\n",
              "    }\n",
              "  </style>\n",
              "  "
            ]
          },
          "metadata": {}
        }
      ],
      "source": [
        "# automl.fit(X_train, y_train, time_budget=600, task=\"regression\")\n",
        "import os\n",
        "automl.fit(X_train, y_train, \n",
        "           auto_augment=True,\n",
        "           **settings,\n",
        "           verbose=False,\n",
        "           early_stop=True,\n",
        ")"
      ]
    },
    {
      "cell_type": "code",
      "execution_count": 57,
      "metadata": {
        "id": "MLSIEZeayPbP",
        "colab": {
          "base_uri": "https://localhost:8080/",
          "height": 121
        },
        "outputId": "9fdaa674-bebf-4f41-d206-eec9395ea79e"
      },
      "outputs": [
        {
          "output_type": "display_data",
          "data": {
            "text/plain": [
              "<IPython.core.display.HTML object>"
            ],
            "text/html": [
              "\n",
              "  <style>\n",
              "    pre {\n",
              "        white-space: pre-wrap;\n",
              "    }\n",
              "  </style>\n",
              "  "
            ]
          },
          "metadata": {}
        },
        {
          "output_type": "display_data",
          "data": {
            "text/plain": [
              "<IPython.core.display.HTML object>"
            ],
            "text/html": [
              "\n",
              "  <style>\n",
              "    pre {\n",
              "        white-space: pre-wrap;\n",
              "    }\n",
              "  </style>\n",
              "  "
            ]
          },
          "metadata": {}
        },
        {
          "output_type": "stream",
          "name": "stdout",
          "text": [
            "Best ML leaner: lgbm\n",
            "Best hyperparmeter config: {'n_estimators': 5, 'num_leaves': 13, 'min_child_samples': 5, 'learning_rate': 1.0, 'log_max_bin': 5, 'colsample_bytree': 0.5857883397050255, 'reg_alpha': 0.002877590364407366, 'reg_lambda': 0.6096613974303785}\n",
            "Best accuracy on validation data: 0.5096\n",
            "Training duration of best run: 0.01042 s\n"
          ]
        }
      ],
      "source": [
        "'''retrieve best config and best learner'''\n",
        "print('Best ML leaner:', automl.best_estimator)\n",
        "print('Best hyperparmeter config:', automl.best_config)\n",
        "print('Best accuracy on validation data: {0:.4g}'.format(1-automl.best_loss))\n",
        "print('Training duration of best run: {0:.4g} s'.format(automl.best_config_train_time))"
      ]
    },
    {
      "cell_type": "code",
      "execution_count": 58,
      "metadata": {
        "id": "6Lfyb-Ndhlbk",
        "colab": {
          "base_uri": "https://localhost:8080/",
          "height": 34
        },
        "outputId": "9cd3f95f-d5c0-44ab-e047-23a9fa2f12e9"
      },
      "outputs": [
        {
          "output_type": "display_data",
          "data": {
            "text/plain": [
              "<IPython.core.display.HTML object>"
            ],
            "text/html": [
              "\n",
              "  <style>\n",
              "    pre {\n",
              "        white-space: pre-wrap;\n",
              "    }\n",
              "  </style>\n",
              "  "
            ]
          },
          "metadata": {}
        },
        {
          "output_type": "display_data",
          "data": {
            "text/plain": [
              "<IPython.core.display.HTML object>"
            ],
            "text/html": [
              "\n",
              "  <style>\n",
              "    pre {\n",
              "        white-space: pre-wrap;\n",
              "    }\n",
              "  </style>\n",
              "  "
            ]
          },
          "metadata": {}
        },
        {
          "output_type": "stream",
          "name": "stdout",
          "text": [
            "<flaml.model.LGBMEstimator object at 0x7f9b1df27f50>\n"
          ]
        }
      ],
      "source": [
        "print(automl.model)"
      ]
    },
    {
      "cell_type": "code",
      "execution_count": 59,
      "metadata": {
        "id": "W-23s_wAfx-o",
        "colab": {
          "base_uri": "https://localhost:8080/",
          "height": 416
        },
        "outputId": "94cbe424-30e9-4193-c323-310095d2a6fd"
      },
      "outputs": [
        {
          "output_type": "display_data",
          "data": {
            "text/plain": [
              "<IPython.core.display.HTML object>"
            ],
            "text/html": [
              "\n",
              "  <style>\n",
              "    pre {\n",
              "        white-space: pre-wrap;\n",
              "    }\n",
              "  </style>\n",
              "  "
            ]
          },
          "metadata": {}
        },
        {
          "output_type": "display_data",
          "data": {
            "text/plain": [
              "<IPython.core.display.HTML object>"
            ],
            "text/html": [
              "\n",
              "  <style>\n",
              "    pre {\n",
              "        white-space: pre-wrap;\n",
              "    }\n",
              "  </style>\n",
              "  "
            ]
          },
          "metadata": {}
        },
        {
          "output_type": "execute_result",
          "data": {
            "text/plain": [
              "{'config': {'colsample_bytree': 0.5857883397050255,\n",
              "  'learning_rate': 1.0,\n",
              "  'log_max_bin': 5,\n",
              "  'min_child_samples': 5,\n",
              "  'n_estimators': 5,\n",
              "  'num_leaves': 13,\n",
              "  'reg_alpha': 0.002877590364407366,\n",
              "  'reg_lambda': 0.6096613974303785},\n",
              " 'config/colsample_bytree': 0.5857883397050255,\n",
              " 'config/learning_rate': 1.0,\n",
              " 'config/log_max_bin': 5,\n",
              " 'config/min_child_samples': 5,\n",
              " 'config/n_estimators': 5,\n",
              " 'config/num_leaves': 13,\n",
              " 'config/reg_alpha': 0.002877590364407366,\n",
              " 'config/reg_lambda': 0.6096613974303785,\n",
              " 'experiment_tag': 'exp',\n",
              " 'metric_for_logging': None,\n",
              " 'pred_time': 0.000526182386610243,\n",
              " 'time_total_s': 0.06745123863220215,\n",
              " 'training_iteration': 1,\n",
              " 'val_loss': 0.4904360368128134,\n",
              " 'wall_clock_time': 267.7277035713196}"
            ]
          },
          "metadata": {},
          "execution_count": 59
        }
      ],
      "source": [
        "automl.best_result"
      ]
    },
    {
      "cell_type": "markdown",
      "metadata": {
        "id": "FHw_Qlh2y_oM"
      },
      "source": [
        "##save predictor for later"
      ]
    },
    {
      "cell_type": "code",
      "execution_count": 60,
      "metadata": {
        "id": "UKQUAlnZzBIc",
        "colab": {
          "base_uri": "https://localhost:8080/",
          "height": 17
        },
        "outputId": "9067b597-161c-431f-e961-3558d93565eb"
      },
      "outputs": [
        {
          "output_type": "display_data",
          "data": {
            "text/plain": [
              "<IPython.core.display.HTML object>"
            ],
            "text/html": [
              "\n",
              "  <style>\n",
              "    pre {\n",
              "        white-space: pre-wrap;\n",
              "    }\n",
              "  </style>\n",
              "  "
            ]
          },
          "metadata": {}
        },
        {
          "output_type": "display_data",
          "data": {
            "text/plain": [
              "<IPython.core.display.HTML object>"
            ],
            "text/html": [
              "\n",
              "  <style>\n",
              "    pre {\n",
              "        white-space: pre-wrap;\n",
              "    }\n",
              "  </style>\n",
              "  "
            ]
          },
          "metadata": {}
        }
      ],
      "source": [
        "'''pickle and save the automl object'''\n",
        "\n",
        "pred_col = 'test_f1score'\n",
        "logname = \"pubmed_test.log\"\n",
        "\n",
        "model_dir = viz_dir / \"models_feat_importance\"\n",
        "model_dir.mkdir(exist_ok=True)\n",
        "_m_path = model_dir / f\"automl_feat_importance_{pred_col}_{logname.split('.')[0]}.pkl\"\n",
        "import pickle\n",
        "with open(_m_path, 'wb') as f:\n",
        "    pickle.dump(automl, f, pickle.HIGHEST_PROTOCOL)\n",
        "'''load pickled automl object'''\n",
        "with open(_m_path, 'rb') as f:\n",
        "    automl = pickle.load(f)"
      ]
    },
    {
      "cell_type": "code",
      "execution_count": 61,
      "metadata": {
        "id": "wv7o8brryjBB",
        "colab": {
          "base_uri": "https://localhost:8080/",
          "height": 17
        },
        "outputId": "d56d66cb-8051-490e-bb63-69afb8dfd218"
      },
      "outputs": [
        {
          "output_type": "display_data",
          "data": {
            "text/plain": [
              "<IPython.core.display.HTML object>"
            ],
            "text/html": [
              "\n",
              "  <style>\n",
              "    pre {\n",
              "        white-space: pre-wrap;\n",
              "    }\n",
              "  </style>\n",
              "  "
            ]
          },
          "metadata": {}
        },
        {
          "output_type": "display_data",
          "data": {
            "text/plain": [
              "<IPython.core.display.HTML object>"
            ],
            "text/html": [
              "\n",
              "  <style>\n",
              "    pre {\n",
              "        white-space: pre-wrap;\n",
              "    }\n",
              "  </style>\n",
              "  "
            ]
          },
          "metadata": {}
        }
      ],
      "source": [
        "from flaml.data import get_output_from_log\n",
        "time_history, best_valid_loss_history, valid_loss_history, config_history, metric_history = \\\n",
        "    get_output_from_log(filename=settings['log_file_name'], time_budget=240)"
      ]
    },
    {
      "cell_type": "code",
      "execution_count": 62,
      "metadata": {
        "id": "0UI0arh0-F-7",
        "colab": {
          "base_uri": "https://localhost:8080/",
          "height": 17
        },
        "outputId": "9867ae41-73b0-4329-8223-26818803fed0"
      },
      "outputs": [
        {
          "output_type": "display_data",
          "data": {
            "text/plain": [
              "<IPython.core.display.HTML object>"
            ],
            "text/html": [
              "\n",
              "  <style>\n",
              "    pre {\n",
              "        white-space: pre-wrap;\n",
              "    }\n",
              "  </style>\n",
              "  "
            ]
          },
          "metadata": {}
        },
        {
          "output_type": "display_data",
          "data": {
            "text/plain": [
              "<IPython.core.display.HTML object>"
            ],
            "text/html": [
              "\n",
              "  <style>\n",
              "    pre {\n",
              "        white-space: pre-wrap;\n",
              "    }\n",
              "  </style>\n",
              "  "
            ]
          },
          "metadata": {}
        }
      ],
      "source": [
        "%matplotlib inline"
      ]
    },
    {
      "cell_type": "code",
      "execution_count": 63,
      "metadata": {
        "id": "uO-Z13qKCD2i",
        "colab": {
          "base_uri": "https://localhost:8080/",
          "height": 979
        },
        "outputId": "4fd8e552-a3bf-436d-9220-eef37536e511"
      },
      "outputs": [
        {
          "output_type": "display_data",
          "data": {
            "text/plain": [
              "<IPython.core.display.HTML object>"
            ],
            "text/html": [
              "\n",
              "  <style>\n",
              "    pre {\n",
              "        white-space: pre-wrap;\n",
              "    }\n",
              "  </style>\n",
              "  "
            ]
          },
          "metadata": {}
        },
        {
          "output_type": "display_data",
          "data": {
            "text/plain": [
              "<IPython.core.display.HTML object>"
            ],
            "text/html": [
              "\n",
              "  <style>\n",
              "    pre {\n",
              "        white-space: pre-wrap;\n",
              "    }\n",
              "  </style>\n",
              "  "
            ]
          },
          "metadata": {}
        },
        {
          "output_type": "display_data",
          "data": {
            "text/plain": [
              "<Figure size 1600x2400 with 1 Axes>"
            ],
            "image/png": "[encoded data removed]"
          },
          "metadata": {
            "needs_background": "light"
          }
        }
      ],
      "source": [
        "import matplotlib.pyplot as plt\n",
        "\n",
        "\n",
        "# plt.barh(df[cols].columns, automl.model.estimator.feature_importances_)\n",
        "\n",
        "fig = plt.figure(\n",
        "    figsize=(4, 6), dpi=400,\n",
        ")\n",
        "plt.barh(\n",
        "    df[cols].columns,\n",
        "    automl.model.estimator.feature_importances_,\n",
        "    color=\"b\",\n",
        "    align=\"center\",\n",
        "    alpha=0.5,\n",
        "    edgecolor=\"k\",\n",
        "    linewidth=0.5,\n",
        "    tick_label=df[cols].columns,\n",
        ")\n",
        "\n",
        "# add xlabel and ylabel and title\n",
        "plt.xlabel(\"Feature Importance\")\n",
        "plt.ylabel(\"Feature\")\n",
        "plt.title(f\"Feature Importance - {get_timestamp()}\")\n",
        "plt.savefig(model_dir / f\"feature_importance_{get_timestamp()}.png\", dpi=300, bbox_inches=\"tight\")\n",
        "plt.show()"
      ]
    },
    {
      "cell_type": "code",
      "execution_count": 64,
      "metadata": {
        "id": "ZUJSPJHLhxjP",
        "colab": {
          "base_uri": "https://localhost:8080/",
          "height": 596
        },
        "outputId": "11465543-ac28-48d3-8d33-75c6063395be"
      },
      "outputs": [
        {
          "output_type": "display_data",
          "data": {
            "text/plain": [
              "<IPython.core.display.HTML object>"
            ],
            "text/html": [
              "\n",
              "  <style>\n",
              "    pre {\n",
              "        white-space: pre-wrap;\n",
              "    }\n",
              "  </style>\n",
              "  "
            ]
          },
          "metadata": {}
        },
        {
          "output_type": "display_data",
          "data": {
            "text/plain": [
              "<IPython.core.display.HTML object>"
            ],
            "text/html": [
              "\n",
              "  <style>\n",
              "    pre {\n",
              "        white-space: pre-wrap;\n",
              "    }\n",
              "  </style>\n",
              "  "
            ]
          },
          "metadata": {}
        },
        {
          "output_type": "display_data",
          "data": {
            "text/plain": [
              "<Figure size 2400x1600 with 1 Axes>"
            ],
            "image/png": "[encoded data removed]"
          },
          "metadata": {
            "needs_background": "light"
          }
        }
      ],
      "source": [
        "import matplotlib.pyplot as plt\n",
        "import numpy as np\n",
        "fig = plt.figure(\n",
        "    figsize=(6, 4), dpi=400,\n",
        ")\n",
        "plt.title('Learning Curve')\n",
        "plt.xlabel('Wall Clock Time (s)')\n",
        "plt.ylabel('Validation Accuracy')\n",
        "plt.scatter(time_history, 1 - np.array(valid_loss_history))\n",
        "plt.step(time_history, 1 - np.array(best_valid_loss_history), where='post')\n",
        "plt.title(f\"'Learning Curve' - {get_timestamp()}\")\n",
        "plt.savefig(model_dir / f\"'Learning Curve'{get_timestamp()}.png\", dpi=300, bbox_inches=\"tight\")\n",
        "plt.show()"
      ]
    },
    {
      "cell_type": "markdown",
      "metadata": {
        "id": "P4Z2F1F6PoL4"
      },
      "source": [
        "# New Section"
      ]
    }
  ],
  "metadata": {
    "colab": {
      "background_execution": "on",
      "collapsed_sections": [],
      "machine_shape": "hm",
      "name": "Convert local TensorBoard data & analyze.ipynb",
      "toc_visible": true,
      "provenance": [],
      "authorship_tag": "ABX9TyO3QIYwlwvN9DaC+PGKdP/+",
      "include_colab_link": true
    },
    "kernelspec": {
      "display_name": "Python 3",
      "name": "python3"
    },
    "language_info": {
      "name": "python"
    },
    "widgets": {
      "application/vnd.jupyter.widget-state+json": {
        "00f86f1338d4401084a19dbe76f1dee0": {
          "model_module": "@jupyter-widgets/controls",
          "model_module_version": "1.5.0",
          "model_name": "DescriptionStyleModel",
          "state": {
            "_model_module": "@jupyter-widgets/controls",
            "_model_module_version": "1.5.0",
            "_model_name": "DescriptionStyleModel",
            "_view_count": null,
            "_view_module": "@jupyter-widgets/base",
            "_view_module_version": "1.2.0",
            "_view_name": "StyleView",
            "description_width": ""
          }
        },
        "017d43944c02407c8d45f04fa8a9aed9": {
          "model_module": "@jupyter-widgets/controls",
          "model_module_version": "1.5.0",
          "model_name": "HTMLModel",
          "state": {
            "_dom_classes": [],
            "_model_module": "@jupyter-widgets/controls",
            "_model_module_version": "1.5.0",
            "_model_name": "HTMLModel",
            "_view_count": null,
            "_view_module": "@jupyter-widgets/controls",
            "_view_module_version": "1.5.0",
            "_view_name": "HTMLView",
            "description": "",
            "description_tooltip": null,
            "layout": "IPY_MODEL_87d4ec77ce24451b8bf2cfc8e7a25476",
            "placeholder": "​",
            "style": "IPY_MODEL_1ce409f572e64af0953d74605aa6453c",
            "value": " 33885/33885 [47:10&lt;00:00, 74.82it/s]"
          }
        },
        "045046eb630c4a528b3c0f2164eb5da0": {
          "model_module": "@jupyter-widgets/base",
          "model_module_version": "1.2.0",
          "model_name": "LayoutModel",
          "state": {
            "_model_module": "@jupyter-widgets/base",
            "_model_module_version": "1.2.0",
            "_model_name": "LayoutModel",
            "_view_count": null,
            "_view_module": "@jupyter-widgets/base",
            "_view_module_version": "1.2.0",
            "_view_name": "LayoutView",
            "align_content": null,
            "align_items": null,
            "align_self": null,
            "border": null,
            "bottom": null,
            "display": null,
            "flex": null,
            "flex_flow": null,
            "grid_area": null,
            "grid_auto_columns": null,
            "grid_auto_flow": null,
            "grid_auto_rows": null,
            "grid_column": null,
            "grid_gap": null,
            "grid_row": null,
            "grid_template_areas": null,
            "grid_template_columns": null,
            "grid_template_rows": null,
            "height": null,
            "justify_content": null,
            "justify_items": null,
            "left": null,
            "margin": null,
            "max_height": null,
            "max_width": null,
            "min_height": null,
            "min_width": null,
            "object_fit": null,
            "object_position": null,
            "order": null,
            "overflow": null,
            "overflow_x": null,
            "overflow_y": null,
            "padding": null,
            "right": null,
            "top": null,
            "visibility": null,
            "width": null
          }
        },
        "04a6d143b07241189742234514baa73c": {
          "model_module": "@jupyter-widgets/controls",
          "model_module_version": "1.5.0",
          "model_name": "FloatProgressModel",
          "state": {
            "_dom_classes": [],
            "_model_module": "@jupyter-widgets/controls",
            "_model_module_version": "1.5.0",
            "_model_name": "FloatProgressModel",
            "_view_count": null,
            "_view_module": "@jupyter-widgets/controls",
            "_view_module_version": "1.5.0",
            "_view_name": "ProgressView",
            "bar_style": "success",
            "description": "",
            "description_tooltip": null,
            "layout": "IPY_MODEL_0f9e218ad5d343359170b08cac1f3d95",
            "max": 33885,
            "min": 0,
            "orientation": "horizontal",
            "style": "IPY_MODEL_7547584c803a45b8890bd86475ca8dd2",
            "value": 33885
          }
        },
        "0f9e218ad5d343359170b08cac1f3d95": {
          "model_module": "@jupyter-widgets/base",
          "model_module_version": "1.2.0",
          "model_name": "LayoutModel",
          "state": {
            "_model_module": "@jupyter-widgets/base",
            "_model_module_version": "1.2.0",
            "_model_name": "LayoutModel",
            "_view_count": null,
            "_view_module": "@jupyter-widgets/base",
            "_view_module_version": "1.2.0",
            "_view_name": "LayoutView",
            "align_content": null,
            "align_items": null,
            "align_self": null,
            "border": null,
            "bottom": null,
            "display": null,
            "flex": null,
            "flex_flow": null,
            "grid_area": null,
            "grid_auto_columns": null,
            "grid_auto_flow": null,
            "grid_auto_rows": null,
            "grid_column": null,
            "grid_gap": null,
            "grid_row": null,
            "grid_template_areas": null,
            "grid_template_columns": null,
            "grid_template_rows": null,
            "height": null,
            "justify_content": null,
            "justify_items": null,
            "left": null,
            "margin": null,
            "max_height": null,
            "max_width": null,
            "min_height": null,
            "min_width": null,
            "object_fit": null,
            "object_position": null,
            "order": null,
            "overflow": null,
            "overflow_x": null,
            "overflow_y": null,
            "padding": null,
            "right": null,
            "top": null,
            "visibility": null,
            "width": null
          }
        },
        "102c623999fe461bb6be2d3f1474dbac": {
          "model_module": "@jupyter-widgets/controls",
          "model_module_version": "1.5.0",
          "model_name": "HTMLModel",
          "state": {
            "_dom_classes": [],
            "_model_module": "@jupyter-widgets/controls",
            "_model_module_version": "1.5.0",
            "_model_name": "HTMLModel",
            "_view_count": null,
            "_view_module": "@jupyter-widgets/controls",
            "_view_module_version": "1.5.0",
            "_view_name": "HTMLView",
            "description": "",
            "description_tooltip": null,
            "layout": "IPY_MODEL_2e66db03244a4a1eb2e8adb244a2a8cf",
            "placeholder": "​",
            "style": "IPY_MODEL_6371ccc5cb9c4485ae62aa812dc49ad2",
            "value": " 33885/33885 [47:08&lt;00:00, 18.76it/s]"
          }
        },
        "1149c80144244518a53ab4848a280a52": {
          "model_module": "@jupyter-widgets/controls",
          "model_module_version": "1.5.0",
          "model_name": "FloatProgressModel",
          "state": {
            "_dom_classes": [],
            "_model_module": "@jupyter-widgets/controls",
            "_model_module_version": "1.5.0",
            "_model_name": "FloatProgressModel",
            "_view_count": null,
            "_view_module": "@jupyter-widgets/controls",
            "_view_module_version": "1.5.0",
            "_view_name": "ProgressView",
            "bar_style": "success",
            "description": "",
            "description_tooltip": null,
            "layout": "IPY_MODEL_86b486c034104405bc5cd96bfc0cbf9f",
            "max": 33885,
            "min": 0,
            "orientation": "horizontal",
            "style": "IPY_MODEL_86725ed4bb6545308ea17547c99f20d4",
            "value": 33885
          }
        },
        "11f1f846913a40f2967ba80037423953": {
          "model_module": "@jupyter-widgets/controls",
          "model_module_version": "1.5.0",
          "model_name": "HTMLModel",
          "state": {
            "_dom_classes": [],
            "_model_module": "@jupyter-widgets/controls",
            "_model_module_version": "1.5.0",
            "_model_name": "HTMLModel",
            "_view_count": null,
            "_view_module": "@jupyter-widgets/controls",
            "_view_module_version": "1.5.0",
            "_view_name": "HTMLView",
            "description": "",
            "description_tooltip": null,
            "layout": "IPY_MODEL_bcc7d520fbb346afbb4fcf4c66371fb4",
            "placeholder": "​",
            "style": "IPY_MODEL_5efbc47d13a24a6fb549e26a82be16a2",
            "value": "100%"
          }
        },
        "148b0a54a960449cbbb8d973e751e184": {
          "model_module": "@jupyter-widgets/controls",
          "model_module_version": "1.5.0",
          "model_name": "DescriptionStyleModel",
          "state": {
            "_model_module": "@jupyter-widgets/controls",
            "_model_module_version": "1.5.0",
            "_model_name": "DescriptionStyleModel",
            "_view_count": null,
            "_view_module": "@jupyter-widgets/base",
            "_view_module_version": "1.2.0",
            "_view_name": "StyleView",
            "description_width": ""
          }
        },
        "162abe965b0d44b59fe8eb5cf3f0e1d2": {
          "model_module": "@jupyter-widgets/base",
          "model_module_version": "1.2.0",
          "model_name": "LayoutModel",
          "state": {
            "_model_module": "@jupyter-widgets/base",
            "_model_module_version": "1.2.0",
            "_model_name": "LayoutModel",
            "_view_count": null,
            "_view_module": "@jupyter-widgets/base",
            "_view_module_version": "1.2.0",
            "_view_name": "LayoutView",
            "align_content": null,
            "align_items": null,
            "align_self": null,
            "border": null,
            "bottom": null,
            "display": null,
            "flex": null,
            "flex_flow": null,
            "grid_area": null,
            "grid_auto_columns": null,
            "grid_auto_flow": null,
            "grid_auto_rows": null,
            "grid_column": null,
            "grid_gap": null,
            "grid_row": null,
            "grid_template_areas": null,
            "grid_template_columns": null,
            "grid_template_rows": null,
            "height": null,
            "justify_content": null,
            "justify_items": null,
            "left": null,
            "margin": null,
            "max_height": null,
            "max_width": null,
            "min_height": null,
            "min_width": null,
            "object_fit": null,
            "object_position": null,
            "order": null,
            "overflow": null,
            "overflow_x": null,
            "overflow_y": null,
            "padding": null,
            "right": null,
            "top": null,
            "visibility": null,
            "width": null
          }
        },
        "168408c69bc54c09bdd9be38069414ed": {
          "model_module": "@jupyter-widgets/controls",
          "model_module_version": "1.5.0",
          "model_name": "DescriptionStyleModel",
          "state": {
            "_model_module": "@jupyter-widgets/controls",
            "_model_module_version": "1.5.0",
            "_model_name": "DescriptionStyleModel",
            "_view_count": null,
            "_view_module": "@jupyter-widgets/base",
            "_view_module_version": "1.2.0",
            "_view_name": "StyleView",
            "description_width": ""
          }
        },
        "1a644da4acd04403938ccbec65f6fd14": {
          "model_module": "@jupyter-widgets/base",
          "model_module_version": "1.2.0",
          "model_name": "LayoutModel",
          "state": {
            "_model_module": "@jupyter-widgets/base",
            "_model_module_version": "1.2.0",
            "_model_name": "LayoutModel",
            "_view_count": null,
            "_view_module": "@jupyter-widgets/base",
            "_view_module_version": "1.2.0",
            "_view_name": "LayoutView",
            "align_content": null,
            "align_items": null,
            "align_self": null,
            "border": null,
            "bottom": null,
            "display": null,
            "flex": null,
            "flex_flow": null,
            "grid_area": null,
            "grid_auto_columns": null,
            "grid_auto_flow": null,
            "grid_auto_rows": null,
            "grid_column": null,
            "grid_gap": null,
            "grid_row": null,
            "grid_template_areas": null,
            "grid_template_columns": null,
            "grid_template_rows": null,
            "height": null,
            "justify_content": null,
            "justify_items": null,
            "left": null,
            "margin": null,
            "max_height": null,
            "max_width": null,
            "min_height": null,
            "min_width": null,
            "object_fit": null,
            "object_position": null,
            "order": null,
            "overflow": null,
            "overflow_x": null,
            "overflow_y": null,
            "padding": null,
            "right": null,
            "top": null,
            "visibility": null,
            "width": null
          }
        },
        "1b0b22b1fff74eb8a463668039efe1c6": {
          "model_module": "@jupyter-widgets/base",
          "model_module_version": "1.2.0",
          "model_name": "LayoutModel",
          "state": {
            "_model_module": "@jupyter-widgets/base",
            "_model_module_version": "1.2.0",
            "_model_name": "LayoutModel",
            "_view_count": null,
            "_view_module": "@jupyter-widgets/base",
            "_view_module_version": "1.2.0",
            "_view_name": "LayoutView",
            "align_content": null,
            "align_items": null,
            "align_self": null,
            "border": null,
            "bottom": null,
            "display": null,
            "flex": null,
            "flex_flow": null,
            "grid_area": null,
            "grid_auto_columns": null,
            "grid_auto_flow": null,
            "grid_auto_rows": null,
            "grid_column": null,
            "grid_gap": null,
            "grid_row": null,
            "grid_template_areas": null,
            "grid_template_columns": null,
            "grid_template_rows": null,
            "height": null,
            "justify_content": null,
            "justify_items": null,
            "left": null,
            "margin": null,
            "max_height": null,
            "max_width": null,
            "min_height": null,
            "min_width": null,
            "object_fit": null,
            "object_position": null,
            "order": null,
            "overflow": null,
            "overflow_x": null,
            "overflow_y": null,
            "padding": null,
            "right": null,
            "top": null,
            "visibility": null,
            "width": null
          }
        },
        "1b12e8be91ef4852949992b8d48c40b3": {
          "model_module": "@jupyter-widgets/base",
          "model_module_version": "1.2.0",
          "model_name": "LayoutModel",
          "state": {
            "_model_module": "@jupyter-widgets/base",
            "_model_module_version": "1.2.0",
            "_model_name": "LayoutModel",
            "_view_count": null,
            "_view_module": "@jupyter-widgets/base",
            "_view_module_version": "1.2.0",
            "_view_name": "LayoutView",
            "align_content": null,
            "align_items": null,
            "align_self": null,
            "border": null,
            "bottom": null,
            "display": null,
            "flex": null,
            "flex_flow": null,
            "grid_area": null,
            "grid_auto_columns": null,
            "grid_auto_flow": null,
            "grid_auto_rows": null,
            "grid_column": null,
            "grid_gap": null,
            "grid_row": null,
            "grid_template_areas": null,
            "grid_template_columns": null,
            "grid_template_rows": null,
            "height": null,
            "justify_content": null,
            "justify_items": null,
            "left": null,
            "margin": null,
            "max_height": null,
            "max_width": null,
            "min_height": null,
            "min_width": null,
            "object_fit": null,
            "object_position": null,
            "order": null,
            "overflow": null,
            "overflow_x": null,
            "overflow_y": null,
            "padding": null,
            "right": null,
            "top": null,
            "visibility": null,
            "width": null
          }
        },
        "1ce409f572e64af0953d74605aa6453c": {
          "model_module": "@jupyter-widgets/controls",
          "model_module_version": "1.5.0",
          "model_name": "DescriptionStyleModel",
          "state": {
            "_model_module": "@jupyter-widgets/controls",
            "_model_module_version": "1.5.0",
            "_model_name": "DescriptionStyleModel",
            "_view_count": null,
            "_view_module": "@jupyter-widgets/base",
            "_view_module_version": "1.2.0",
            "_view_name": "StyleView",
            "description_width": ""
          }
        },
        "1f58ae64e5f845efa9e470b5ef969c94": {
          "model_module": "@jupyter-widgets/controls",
          "model_module_version": "1.5.0",
          "model_name": "ProgressStyleModel",
          "state": {
            "_model_module": "@jupyter-widgets/controls",
            "_model_module_version": "1.5.0",
            "_model_name": "ProgressStyleModel",
            "_view_count": null,
            "_view_module": "@jupyter-widgets/base",
            "_view_module_version": "1.2.0",
            "_view_name": "StyleView",
            "bar_color": null,
            "description_width": ""
          }
        },
        "22ac0b6b45c44841a128252fcc11c087": {
          "model_module": "@jupyter-widgets/controls",
          "model_module_version": "1.5.0",
          "model_name": "DescriptionStyleModel",
          "state": {
            "_model_module": "@jupyter-widgets/controls",
            "_model_module_version": "1.5.0",
            "_model_name": "DescriptionStyleModel",
            "_view_count": null,
            "_view_module": "@jupyter-widgets/base",
            "_view_module_version": "1.2.0",
            "_view_name": "StyleView",
            "description_width": ""
          }
        },
        "2495687db4464434bb27afe0af3cc313": {
          "model_module": "@jupyter-widgets/base",
          "model_module_version": "1.2.0",
          "model_name": "LayoutModel",
          "state": {
            "_model_module": "@jupyter-widgets/base",
            "_model_module_version": "1.2.0",
            "_model_name": "LayoutModel",
            "_view_count": null,
            "_view_module": "@jupyter-widgets/base",
            "_view_module_version": "1.2.0",
            "_view_name": "LayoutView",
            "align_content": null,
            "align_items": null,
            "align_self": null,
            "border": null,
            "bottom": null,
            "display": null,
            "flex": null,
            "flex_flow": null,
            "grid_area": null,
            "grid_auto_columns": null,
            "grid_auto_flow": null,
            "grid_auto_rows": null,
            "grid_column": null,
            "grid_gap": null,
            "grid_row": null,
            "grid_template_areas": null,
            "grid_template_columns": null,
            "grid_template_rows": null,
            "height": null,
            "justify_content": null,
            "justify_items": null,
            "left": null,
            "margin": null,
            "max_height": null,
            "max_width": null,
            "min_height": null,
            "min_width": null,
            "object_fit": null,
            "object_position": null,
            "order": null,
            "overflow": null,
            "overflow_x": null,
            "overflow_y": null,
            "padding": null,
            "right": null,
            "top": null,
            "visibility": null,
            "width": null
          }
        },
        "26e07b6536104a4aa480ef903e9f4371": {
          "model_module": "@jupyter-widgets/base",
          "model_module_version": "1.2.0",
          "model_name": "LayoutModel",
          "state": {
            "_model_module": "@jupyter-widgets/base",
            "_model_module_version": "1.2.0",
            "_model_name": "LayoutModel",
            "_view_count": null,
            "_view_module": "@jupyter-widgets/base",
            "_view_module_version": "1.2.0",
            "_view_name": "LayoutView",
            "align_content": null,
            "align_items": null,
            "align_self": null,
            "border": null,
            "bottom": null,
            "display": null,
            "flex": null,
            "flex_flow": null,
            "grid_area": null,
            "grid_auto_columns": null,
            "grid_auto_flow": null,
            "grid_auto_rows": null,
            "grid_column": null,
            "grid_gap": null,
            "grid_row": null,
            "grid_template_areas": null,
            "grid_template_columns": null,
            "grid_template_rows": null,
            "height": null,
            "justify_content": null,
            "justify_items": null,
            "left": null,
            "margin": null,
            "max_height": null,
            "max_width": null,
            "min_height": null,
            "min_width": null,
            "object_fit": null,
            "object_position": null,
            "order": null,
            "overflow": null,
            "overflow_x": null,
            "overflow_y": null,
            "padding": null,
            "right": null,
            "top": null,
            "visibility": null,
            "width": null
          }
        },
        "28b263108e6248edb2e17b942fdffef6": {
          "model_module": "@jupyter-widgets/controls",
          "model_module_version": "1.5.0",
          "model_name": "HTMLModel",
          "state": {
            "_dom_classes": [],
            "_model_module": "@jupyter-widgets/controls",
            "_model_module_version": "1.5.0",
            "_model_name": "HTMLModel",
            "_view_count": null,
            "_view_module": "@jupyter-widgets/controls",
            "_view_module_version": "1.5.0",
            "_view_name": "HTMLView",
            "description": "",
            "description_tooltip": null,
            "layout": "IPY_MODEL_1a644da4acd04403938ccbec65f6fd14",
            "placeholder": "​",
            "style": "IPY_MODEL_aaffb54b94954b3b985af42f7d47cfd8",
            "value": "100%"
          }
        },
        "294dc0572b164c02b0bff271a2e886f6": {
          "model_module": "@jupyter-widgets/base",
          "model_module_version": "1.2.0",
          "model_name": "LayoutModel",
          "state": {
            "_model_module": "@jupyter-widgets/base",
            "_model_module_version": "1.2.0",
            "_model_name": "LayoutModel",
            "_view_count": null,
            "_view_module": "@jupyter-widgets/base",
            "_view_module_version": "1.2.0",
            "_view_name": "LayoutView",
            "align_content": null,
            "align_items": null,
            "align_self": null,
            "border": null,
            "bottom": null,
            "display": null,
            "flex": null,
            "flex_flow": null,
            "grid_area": null,
            "grid_auto_columns": null,
            "grid_auto_flow": null,
            "grid_auto_rows": null,
            "grid_column": null,
            "grid_gap": null,
            "grid_row": null,
            "grid_template_areas": null,
            "grid_template_columns": null,
            "grid_template_rows": null,
            "height": null,
            "justify_content": null,
            "justify_items": null,
            "left": null,
            "margin": null,
            "max_height": null,
            "max_width": null,
            "min_height": null,
            "min_width": null,
            "object_fit": null,
            "object_position": null,
            "order": null,
            "overflow": null,
            "overflow_x": null,
            "overflow_y": null,
            "padding": null,
            "right": null,
            "top": null,
            "visibility": null,
            "width": null
          }
        },
        "2c9d53f440a14019b7e531d630cd9338": {
          "model_module": "@jupyter-widgets/controls",
          "model_module_version": "1.5.0",
          "model_name": "HTMLModel",
          "state": {
            "_dom_classes": [],
            "_model_module": "@jupyter-widgets/controls",
            "_model_module_version": "1.5.0",
            "_model_name": "HTMLModel",
            "_view_count": null,
            "_view_module": "@jupyter-widgets/controls",
            "_view_module_version": "1.5.0",
            "_view_name": "HTMLView",
            "description": "",
            "description_tooltip": null,
            "layout": "IPY_MODEL_564463921e6244dfb4139c2a7a3c2be2",
            "placeholder": "​",
            "style": "IPY_MODEL_b39ebb047c484ba898cf179e94ac1ec3",
            "value": "100%"
          }
        },
        "2e66db03244a4a1eb2e8adb244a2a8cf": {
          "model_module": "@jupyter-widgets/base",
          "model_module_version": "1.2.0",
          "model_name": "LayoutModel",
          "state": {
            "_model_module": "@jupyter-widgets/base",
            "_model_module_version": "1.2.0",
            "_model_name": "LayoutModel",
            "_view_count": null,
            "_view_module": "@jupyter-widgets/base",
            "_view_module_version": "1.2.0",
            "_view_name": "LayoutView",
            "align_content": null,
            "align_items": null,
            "align_self": null,
            "border": null,
            "bottom": null,
            "display": null,
            "flex": null,
            "flex_flow": null,
            "grid_area": null,
            "grid_auto_columns": null,
            "grid_auto_flow": null,
            "grid_auto_rows": null,
            "grid_column": null,
            "grid_gap": null,
            "grid_row": null,
            "grid_template_areas": null,
            "grid_template_columns": null,
            "grid_template_rows": null,
            "height": null,
            "justify_content": null,
            "justify_items": null,
            "left": null,
            "margin": null,
            "max_height": null,
            "max_width": null,
            "min_height": null,
            "min_width": null,
            "object_fit": null,
            "object_position": null,
            "order": null,
            "overflow": null,
            "overflow_x": null,
            "overflow_y": null,
            "padding": null,
            "right": null,
            "top": null,
            "visibility": null,
            "width": null
          }
        },
        "30750d89e22d4c59bb7b7ba858457720": {
          "model_module": "@jupyter-widgets/controls",
          "model_module_version": "1.5.0",
          "model_name": "HTMLModel",
          "state": {
            "_dom_classes": [],
            "_model_module": "@jupyter-widgets/controls",
            "_model_module_version": "1.5.0",
            "_model_name": "HTMLModel",
            "_view_count": null,
            "_view_module": "@jupyter-widgets/controls",
            "_view_module_version": "1.5.0",
            "_view_name": "HTMLView",
            "description": "",
            "description_tooltip": null,
            "layout": "IPY_MODEL_42878a04755741a0928cdd4068fef7c5",
            "placeholder": "​",
            "style": "IPY_MODEL_73a32fc8a7ca4fedaf0567133fe628df",
            "value": " 33885/33885 [47:03&lt;00:00, 10.40it/s]"
          }
        },
        "34d23961e2d24726b9e0432b03f8313c": {
          "model_module": "@jupyter-widgets/controls",
          "model_module_version": "1.5.0",
          "model_name": "FloatProgressModel",
          "state": {
            "_dom_classes": [],
            "_model_module": "@jupyter-widgets/controls",
            "_model_module_version": "1.5.0",
            "_model_name": "FloatProgressModel",
            "_view_count": null,
            "_view_module": "@jupyter-widgets/controls",
            "_view_module_version": "1.5.0",
            "_view_name": "ProgressView",
            "bar_style": "success",
            "description": "",
            "description_tooltip": null,
            "layout": "IPY_MODEL_162abe965b0d44b59fe8eb5cf3f0e1d2",
            "max": 33885,
            "min": 0,
            "orientation": "horizontal",
            "style": "IPY_MODEL_966c422ff8b740b6a0b96408b9c42664",
            "value": 33885
          }
        },
        "36bc9b49c9e14b01a63a86b43213da66": {
          "model_module": "@jupyter-widgets/controls",
          "model_module_version": "1.5.0",
          "model_name": "DescriptionStyleModel",
          "state": {
            "_model_module": "@jupyter-widgets/controls",
            "_model_module_version": "1.5.0",
            "_model_name": "DescriptionStyleModel",
            "_view_count": null,
            "_view_module": "@jupyter-widgets/base",
            "_view_module_version": "1.2.0",
            "_view_name": "StyleView",
            "description_width": ""
          }
        },
        "3bc88337c01d40a0957f051eb539cdb9": {
          "model_module": "@jupyter-widgets/base",
          "model_module_version": "1.2.0",
          "model_name": "LayoutModel",
          "state": {
            "_model_module": "@jupyter-widgets/base",
            "_model_module_version": "1.2.0",
            "_model_name": "LayoutModel",
            "_view_count": null,
            "_view_module": "@jupyter-widgets/base",
            "_view_module_version": "1.2.0",
            "_view_name": "LayoutView",
            "align_content": null,
            "align_items": null,
            "align_self": null,
            "border": null,
            "bottom": null,
            "display": null,
            "flex": null,
            "flex_flow": null,
            "grid_area": null,
            "grid_auto_columns": null,
            "grid_auto_flow": null,
            "grid_auto_rows": null,
            "grid_column": null,
            "grid_gap": null,
            "grid_row": null,
            "grid_template_areas": null,
            "grid_template_columns": null,
            "grid_template_rows": null,
            "height": null,
            "justify_content": null,
            "justify_items": null,
            "left": null,
            "margin": null,
            "max_height": null,
            "max_width": null,
            "min_height": null,
            "min_width": null,
            "object_fit": null,
            "object_position": null,
            "order": null,
            "overflow": null,
            "overflow_x": null,
            "overflow_y": null,
            "padding": null,
            "right": null,
            "top": null,
            "visibility": null,
            "width": null
          }
        },
        "3c72cfba0eb94e1e98082a3c916051b0": {
          "model_module": "@jupyter-widgets/controls",
          "model_module_version": "1.5.0",
          "model_name": "DescriptionStyleModel",
          "state": {
            "_model_module": "@jupyter-widgets/controls",
            "_model_module_version": "1.5.0",
            "_model_name": "DescriptionStyleModel",
            "_view_count": null,
            "_view_module": "@jupyter-widgets/base",
            "_view_module_version": "1.2.0",
            "_view_name": "StyleView",
            "description_width": ""
          }
        },
        "4202a1070c9649c09def75c4cf10b897": {
          "model_module": "@jupyter-widgets/base",
          "model_module_version": "1.2.0",
          "model_name": "LayoutModel",
          "state": {
            "_model_module": "@jupyter-widgets/base",
            "_model_module_version": "1.2.0",
            "_model_name": "LayoutModel",
            "_view_count": null,
            "_view_module": "@jupyter-widgets/base",
            "_view_module_version": "1.2.0",
            "_view_name": "LayoutView",
            "align_content": null,
            "align_items": null,
            "align_self": null,
            "border": null,
            "bottom": null,
            "display": null,
            "flex": null,
            "flex_flow": null,
            "grid_area": null,
            "grid_auto_columns": null,
            "grid_auto_flow": null,
            "grid_auto_rows": null,
            "grid_column": null,
            "grid_gap": null,
            "grid_row": null,
            "grid_template_areas": null,
            "grid_template_columns": null,
            "grid_template_rows": null,
            "height": null,
            "justify_content": null,
            "justify_items": null,
            "left": null,
            "margin": null,
            "max_height": null,
            "max_width": null,
            "min_height": null,
            "min_width": null,
            "object_fit": null,
            "object_position": null,
            "order": null,
            "overflow": null,
            "overflow_x": null,
            "overflow_y": null,
            "padding": null,
            "right": null,
            "top": null,
            "visibility": null,
            "width": null
          }
        },
        "42878a04755741a0928cdd4068fef7c5": {
          "model_module": "@jupyter-widgets/base",
          "model_module_version": "1.2.0",
          "model_name": "LayoutModel",
          "state": {
            "_model_module": "@jupyter-widgets/base",
            "_model_module_version": "1.2.0",
            "_model_name": "LayoutModel",
            "_view_count": null,
            "_view_module": "@jupyter-widgets/base",
            "_view_module_version": "1.2.0",
            "_view_name": "LayoutView",
            "align_content": null,
            "align_items": null,
            "align_self": null,
            "border": null,
            "bottom": null,
            "display": null,
            "flex": null,
            "flex_flow": null,
            "grid_area": null,
            "grid_auto_columns": null,
            "grid_auto_flow": null,
            "grid_auto_rows": null,
            "grid_column": null,
            "grid_gap": null,
            "grid_row": null,
            "grid_template_areas": null,
            "grid_template_columns": null,
            "grid_template_rows": null,
            "height": null,
            "justify_content": null,
            "justify_items": null,
            "left": null,
            "margin": null,
            "max_height": null,
            "max_width": null,
            "min_height": null,
            "min_width": null,
            "object_fit": null,
            "object_position": null,
            "order": null,
            "overflow": null,
            "overflow_x": null,
            "overflow_y": null,
            "padding": null,
            "right": null,
            "top": null,
            "visibility": null,
            "width": null
          }
        },
        "429dd26004674429b63c29419fc1ffab": {
          "model_module": "@jupyter-widgets/controls",
          "model_module_version": "1.5.0",
          "model_name": "HBoxModel",
          "state": {
            "_dom_classes": [],
            "_model_module": "@jupyter-widgets/controls",
            "_model_module_version": "1.5.0",
            "_model_name": "HBoxModel",
            "_view_count": null,
            "_view_module": "@jupyter-widgets/controls",
            "_view_module_version": "1.5.0",
            "_view_name": "HBoxView",
            "box_style": "",
            "children": [
              "IPY_MODEL_4418acfbe57d40fdbccc557e2cf32fa8",
              "IPY_MODEL_04a6d143b07241189742234514baa73c",
              "IPY_MODEL_017d43944c02407c8d45f04fa8a9aed9"
            ],
            "layout": "IPY_MODEL_60cdb24faad24f08843c31920f5c0a69"
          }
        },
        "4418acfbe57d40fdbccc557e2cf32fa8": {
          "model_module": "@jupyter-widgets/controls",
          "model_module_version": "1.5.0",
          "model_name": "HTMLModel",
          "state": {
            "_dom_classes": [],
            "_model_module": "@jupyter-widgets/controls",
            "_model_module_version": "1.5.0",
            "_model_name": "HTMLModel",
            "_view_count": null,
            "_view_module": "@jupyter-widgets/controls",
            "_view_module_version": "1.5.0",
            "_view_name": "HTMLView",
            "description": "",
            "description_tooltip": null,
            "layout": "IPY_MODEL_294dc0572b164c02b0bff271a2e886f6",
            "placeholder": "​",
            "style": "IPY_MODEL_ad8318f017c14b568bca4b06b59a24bb",
            "value": "100%"
          }
        },
        "46134ebe467f4158a894fe4e7fad072e": {
          "model_module": "@jupyter-widgets/controls",
          "model_module_version": "1.5.0",
          "model_name": "DescriptionStyleModel",
          "state": {
            "_model_module": "@jupyter-widgets/controls",
            "_model_module_version": "1.5.0",
            "_model_name": "DescriptionStyleModel",
            "_view_count": null,
            "_view_module": "@jupyter-widgets/base",
            "_view_module_version": "1.2.0",
            "_view_name": "StyleView",
            "description_width": ""
          }
        },
        "477b1e24e8b84756b75f32a6ae6c3bb1": {
          "model_module": "@jupyter-widgets/controls",
          "model_module_version": "1.5.0",
          "model_name": "HBoxModel",
          "state": {
            "_dom_classes": [],
            "_model_module": "@jupyter-widgets/controls",
            "_model_module_version": "1.5.0",
            "_model_name": "HBoxModel",
            "_view_count": null,
            "_view_module": "@jupyter-widgets/controls",
            "_view_module_version": "1.5.0",
            "_view_name": "HBoxView",
            "box_style": "",
            "children": [
              "IPY_MODEL_2c9d53f440a14019b7e531d630cd9338",
              "IPY_MODEL_e2630284b9ba4ec5b25095051b10f580",
              "IPY_MODEL_eb06039db71744d7bd7e656fdf5ae65f"
            ],
            "layout": "IPY_MODEL_ecc31474eb2b4cbda66729fcd46aa6ea"
          }
        },
        "501d39eb0f99475dba1a8801108b2124": {
          "model_module": "@jupyter-widgets/base",
          "model_module_version": "1.2.0",
          "model_name": "LayoutModel",
          "state": {
            "_model_module": "@jupyter-widgets/base",
            "_model_module_version": "1.2.0",
            "_model_name": "LayoutModel",
            "_view_count": null,
            "_view_module": "@jupyter-widgets/base",
            "_view_module_version": "1.2.0",
            "_view_name": "LayoutView",
            "align_content": null,
            "align_items": null,
            "align_self": null,
            "border": null,
            "bottom": null,
            "display": null,
            "flex": null,
            "flex_flow": null,
            "grid_area": null,
            "grid_auto_columns": null,
            "grid_auto_flow": null,
            "grid_auto_rows": null,
            "grid_column": null,
            "grid_gap": null,
            "grid_row": null,
            "grid_template_areas": null,
            "grid_template_columns": null,
            "grid_template_rows": null,
            "height": null,
            "justify_content": null,
            "justify_items": null,
            "left": null,
            "margin": null,
            "max_height": null,
            "max_width": null,
            "min_height": null,
            "min_width": null,
            "object_fit": null,
            "object_position": null,
            "order": null,
            "overflow": null,
            "overflow_x": null,
            "overflow_y": null,
            "padding": null,
            "right": null,
            "top": null,
            "visibility": null,
            "width": null
          }
        },
        "564463921e6244dfb4139c2a7a3c2be2": {
          "model_module": "@jupyter-widgets/base",
          "model_module_version": "1.2.0",
          "model_name": "LayoutModel",
          "state": {
            "_model_module": "@jupyter-widgets/base",
            "_model_module_version": "1.2.0",
            "_model_name": "LayoutModel",
            "_view_count": null,
            "_view_module": "@jupyter-widgets/base",
            "_view_module_version": "1.2.0",
            "_view_name": "LayoutView",
            "align_content": null,
            "align_items": null,
            "align_self": null,
            "border": null,
            "bottom": null,
            "display": null,
            "flex": null,
            "flex_flow": null,
            "grid_area": null,
            "grid_auto_columns": null,
            "grid_auto_flow": null,
            "grid_auto_rows": null,
            "grid_column": null,
            "grid_gap": null,
            "grid_row": null,
            "grid_template_areas": null,
            "grid_template_columns": null,
            "grid_template_rows": null,
            "height": null,
            "justify_content": null,
            "justify_items": null,
            "left": null,
            "margin": null,
            "max_height": null,
            "max_width": null,
            "min_height": null,
            "min_width": null,
            "object_fit": null,
            "object_position": null,
            "order": null,
            "overflow": null,
            "overflow_x": null,
            "overflow_y": null,
            "padding": null,
            "right": null,
            "top": null,
            "visibility": null,
            "width": null
          }
        },
        "5700b227c5154429b78d739e3402ab6a": {
          "model_module": "@jupyter-widgets/base",
          "model_module_version": "1.2.0",
          "model_name": "LayoutModel",
          "state": {
            "_model_module": "@jupyter-widgets/base",
            "_model_module_version": "1.2.0",
            "_model_name": "LayoutModel",
            "_view_count": null,
            "_view_module": "@jupyter-widgets/base",
            "_view_module_version": "1.2.0",
            "_view_name": "LayoutView",
            "align_content": null,
            "align_items": null,
            "align_self": null,
            "border": null,
            "bottom": null,
            "display": null,
            "flex": null,
            "flex_flow": null,
            "grid_area": null,
            "grid_auto_columns": null,
            "grid_auto_flow": null,
            "grid_auto_rows": null,
            "grid_column": null,
            "grid_gap": null,
            "grid_row": null,
            "grid_template_areas": null,
            "grid_template_columns": null,
            "grid_template_rows": null,
            "height": null,
            "justify_content": null,
            "justify_items": null,
            "left": null,
            "margin": null,
            "max_height": null,
            "max_width": null,
            "min_height": null,
            "min_width": null,
            "object_fit": null,
            "object_position": null,
            "order": null,
            "overflow": null,
            "overflow_x": null,
            "overflow_y": null,
            "padding": null,
            "right": null,
            "top": null,
            "visibility": null,
            "width": null
          }
        },
        "586f066745d74e9e817920161248176a": {
          "model_module": "@jupyter-widgets/controls",
          "model_module_version": "1.5.0",
          "model_name": "HBoxModel",
          "state": {
            "_dom_classes": [],
            "_model_module": "@jupyter-widgets/controls",
            "_model_module_version": "1.5.0",
            "_model_name": "HBoxModel",
            "_view_count": null,
            "_view_module": "@jupyter-widgets/controls",
            "_view_module_version": "1.5.0",
            "_view_name": "HBoxView",
            "box_style": "",
            "children": [
              "IPY_MODEL_28b263108e6248edb2e17b942fdffef6",
              "IPY_MODEL_6abb8f65204d42d2a3ed9913ce31b843",
              "IPY_MODEL_8c949e8b9eb34b09acdd2aa54c1efb21"
            ],
            "layout": "IPY_MODEL_f7874e6c3b554e5b8e40b02da7a52e15"
          }
        },
        "5945bd9053164aceb4e79592a1b8a3d5": {
          "model_module": "@jupyter-widgets/controls",
          "model_module_version": "1.5.0",
          "model_name": "HTMLModel",
          "state": {
            "_dom_classes": [],
            "_model_module": "@jupyter-widgets/controls",
            "_model_module_version": "1.5.0",
            "_model_name": "HTMLModel",
            "_view_count": null,
            "_view_module": "@jupyter-widgets/controls",
            "_view_module_version": "1.5.0",
            "_view_name": "HTMLView",
            "description": "",
            "description_tooltip": null,
            "layout": "IPY_MODEL_045046eb630c4a528b3c0f2164eb5da0",
            "placeholder": "​",
            "style": "IPY_MODEL_00f86f1338d4401084a19dbe76f1dee0",
            "value": " 33885/33885 [47:08&lt;00:00, 22.48it/s]"
          }
        },
        "59b7a4ac5797437fb6b3e2f8683759ba": {
          "model_module": "@jupyter-widgets/controls",
          "model_module_version": "1.5.0",
          "model_name": "DescriptionStyleModel",
          "state": {
            "_model_module": "@jupyter-widgets/controls",
            "_model_module_version": "1.5.0",
            "_model_name": "DescriptionStyleModel",
            "_view_count": null,
            "_view_module": "@jupyter-widgets/base",
            "_view_module_version": "1.2.0",
            "_view_name": "StyleView",
            "description_width": ""
          }
        },
        "5efbc47d13a24a6fb549e26a82be16a2": {
          "model_module": "@jupyter-widgets/controls",
          "model_module_version": "1.5.0",
          "model_name": "DescriptionStyleModel",
          "state": {
            "_model_module": "@jupyter-widgets/controls",
            "_model_module_version": "1.5.0",
            "_model_name": "DescriptionStyleModel",
            "_view_count": null,
            "_view_module": "@jupyter-widgets/base",
            "_view_module_version": "1.2.0",
            "_view_name": "StyleView",
            "description_width": ""
          }
        },
        "5f3b9c9032804263b235c1f05ee3cdb2": {
          "model_module": "@jupyter-widgets/base",
          "model_module_version": "1.2.0",
          "model_name": "LayoutModel",
          "state": {
            "_model_module": "@jupyter-widgets/base",
            "_model_module_version": "1.2.0",
            "_model_name": "LayoutModel",
            "_view_count": null,
            "_view_module": "@jupyter-widgets/base",
            "_view_module_version": "1.2.0",
            "_view_name": "LayoutView",
            "align_content": null,
            "align_items": null,
            "align_self": null,
            "border": null,
            "bottom": null,
            "display": null,
            "flex": null,
            "flex_flow": null,
            "grid_area": null,
            "grid_auto_columns": null,
            "grid_auto_flow": null,
            "grid_auto_rows": null,
            "grid_column": null,
            "grid_gap": null,
            "grid_row": null,
            "grid_template_areas": null,
            "grid_template_columns": null,
            "grid_template_rows": null,
            "height": null,
            "justify_content": null,
            "justify_items": null,
            "left": null,
            "margin": null,
            "max_height": null,
            "max_width": null,
            "min_height": null,
            "min_width": null,
            "object_fit": null,
            "object_position": null,
            "order": null,
            "overflow": null,
            "overflow_x": null,
            "overflow_y": null,
            "padding": null,
            "right": null,
            "top": null,
            "visibility": null,
            "width": null
          }
        },
        "60cdb24faad24f08843c31920f5c0a69": {
          "model_module": "@jupyter-widgets/base",
          "model_module_version": "1.2.0",
          "model_name": "LayoutModel",
          "state": {
            "_model_module": "@jupyter-widgets/base",
            "_model_module_version": "1.2.0",
            "_model_name": "LayoutModel",
            "_view_count": null,
            "_view_module": "@jupyter-widgets/base",
            "_view_module_version": "1.2.0",
            "_view_name": "LayoutView",
            "align_content": null,
            "align_items": null,
            "align_self": null,
            "border": null,
            "bottom": null,
            "display": null,
            "flex": null,
            "flex_flow": null,
            "grid_area": null,
            "grid_auto_columns": null,
            "grid_auto_flow": null,
            "grid_auto_rows": null,
            "grid_column": null,
            "grid_gap": null,
            "grid_row": null,
            "grid_template_areas": null,
            "grid_template_columns": null,
            "grid_template_rows": null,
            "height": null,
            "justify_content": null,
            "justify_items": null,
            "left": null,
            "margin": null,
            "max_height": null,
            "max_width": null,
            "min_height": null,
            "min_width": null,
            "object_fit": null,
            "object_position": null,
            "order": null,
            "overflow": null,
            "overflow_x": null,
            "overflow_y": null,
            "padding": null,
            "right": null,
            "top": null,
            "visibility": null,
            "width": null
          }
        },
        "6371ccc5cb9c4485ae62aa812dc49ad2": {
          "model_module": "@jupyter-widgets/controls",
          "model_module_version": "1.5.0",
          "model_name": "DescriptionStyleModel",
          "state": {
            "_model_module": "@jupyter-widgets/controls",
            "_model_module_version": "1.5.0",
            "_model_name": "DescriptionStyleModel",
            "_view_count": null,
            "_view_module": "@jupyter-widgets/base",
            "_view_module_version": "1.2.0",
            "_view_name": "StyleView",
            "description_width": ""
          }
        },
        "6535c1fc994d4585aed9b7f2ee73117f": {
          "model_module": "@jupyter-widgets/base",
          "model_module_version": "1.2.0",
          "model_name": "LayoutModel",
          "state": {
            "_model_module": "@jupyter-widgets/base",
            "_model_module_version": "1.2.0",
            "_model_name": "LayoutModel",
            "_view_count": null,
            "_view_module": "@jupyter-widgets/base",
            "_view_module_version": "1.2.0",
            "_view_name": "LayoutView",
            "align_content": null,
            "align_items": null,
            "align_self": null,
            "border": null,
            "bottom": null,
            "display": null,
            "flex": null,
            "flex_flow": null,
            "grid_area": null,
            "grid_auto_columns": null,
            "grid_auto_flow": null,
            "grid_auto_rows": null,
            "grid_column": null,
            "grid_gap": null,
            "grid_row": null,
            "grid_template_areas": null,
            "grid_template_columns": null,
            "grid_template_rows": null,
            "height": null,
            "justify_content": null,
            "justify_items": null,
            "left": null,
            "margin": null,
            "max_height": null,
            "max_width": null,
            "min_height": null,
            "min_width": null,
            "object_fit": null,
            "object_position": null,
            "order": null,
            "overflow": null,
            "overflow_x": null,
            "overflow_y": null,
            "padding": null,
            "right": null,
            "top": null,
            "visibility": null,
            "width": null
          }
        },
        "65ec1c8d0eca4ce08a6e17fc52648ac7": {
          "model_module": "@jupyter-widgets/base",
          "model_module_version": "1.2.0",
          "model_name": "LayoutModel",
          "state": {
            "_model_module": "@jupyter-widgets/base",
            "_model_module_version": "1.2.0",
            "_model_name": "LayoutModel",
            "_view_count": null,
            "_view_module": "@jupyter-widgets/base",
            "_view_module_version": "1.2.0",
            "_view_name": "LayoutView",
            "align_content": null,
            "align_items": null,
            "align_self": null,
            "border": null,
            "bottom": null,
            "display": null,
            "flex": null,
            "flex_flow": null,
            "grid_area": null,
            "grid_auto_columns": null,
            "grid_auto_flow": null,
            "grid_auto_rows": null,
            "grid_column": null,
            "grid_gap": null,
            "grid_row": null,
            "grid_template_areas": null,
            "grid_template_columns": null,
            "grid_template_rows": null,
            "height": null,
            "justify_content": null,
            "justify_items": null,
            "left": null,
            "margin": null,
            "max_height": null,
            "max_width": null,
            "min_height": null,
            "min_width": null,
            "object_fit": null,
            "object_position": null,
            "order": null,
            "overflow": null,
            "overflow_x": null,
            "overflow_y": null,
            "padding": null,
            "right": null,
            "top": null,
            "visibility": null,
            "width": null
          }
        },
        "6abb8f65204d42d2a3ed9913ce31b843": {
          "model_module": "@jupyter-widgets/controls",
          "model_module_version": "1.5.0",
          "model_name": "FloatProgressModel",
          "state": {
            "_dom_classes": [],
            "_model_module": "@jupyter-widgets/controls",
            "_model_module_version": "1.5.0",
            "_model_name": "FloatProgressModel",
            "_view_count": null,
            "_view_module": "@jupyter-widgets/controls",
            "_view_module_version": "1.5.0",
            "_view_name": "ProgressView",
            "bar_style": "success",
            "description": "",
            "description_tooltip": null,
            "layout": "IPY_MODEL_73810afe68434433af73c426946930dc",
            "max": 5,
            "min": 0,
            "orientation": "horizontal",
            "style": "IPY_MODEL_cd85a47185ad465aadaf9909e9c05689",
            "value": 5
          }
        },
        "73810afe68434433af73c426946930dc": {
          "model_module": "@jupyter-widgets/base",
          "model_module_version": "1.2.0",
          "model_name": "LayoutModel",
          "state": {
            "_model_module": "@jupyter-widgets/base",
            "_model_module_version": "1.2.0",
            "_model_name": "LayoutModel",
            "_view_count": null,
            "_view_module": "@jupyter-widgets/base",
            "_view_module_version": "1.2.0",
            "_view_name": "LayoutView",
            "align_content": null,
            "align_items": null,
            "align_self": null,
            "border": null,
            "bottom": null,
            "display": null,
            "flex": null,
            "flex_flow": null,
            "grid_area": null,
            "grid_auto_columns": null,
            "grid_auto_flow": null,
            "grid_auto_rows": null,
            "grid_column": null,
            "grid_gap": null,
            "grid_row": null,
            "grid_template_areas": null,
            "grid_template_columns": null,
            "grid_template_rows": null,
            "height": null,
            "justify_content": null,
            "justify_items": null,
            "left": null,
            "margin": null,
            "max_height": null,
            "max_width": null,
            "min_height": null,
            "min_width": null,
            "object_fit": null,
            "object_position": null,
            "order": null,
            "overflow": null,
            "overflow_x": null,
            "overflow_y": null,
            "padding": null,
            "right": null,
            "top": null,
            "visibility": null,
            "width": null
          }
        },
        "73a32fc8a7ca4fedaf0567133fe628df": {
          "model_module": "@jupyter-widgets/controls",
          "model_module_version": "1.5.0",
          "model_name": "DescriptionStyleModel",
          "state": {
            "_model_module": "@jupyter-widgets/controls",
            "_model_module_version": "1.5.0",
            "_model_name": "DescriptionStyleModel",
            "_view_count": null,
            "_view_module": "@jupyter-widgets/base",
            "_view_module_version": "1.2.0",
            "_view_name": "StyleView",
            "description_width": ""
          }
        },
        "7547584c803a45b8890bd86475ca8dd2": {
          "model_module": "@jupyter-widgets/controls",
          "model_module_version": "1.5.0",
          "model_name": "ProgressStyleModel",
          "state": {
            "_model_module": "@jupyter-widgets/controls",
            "_model_module_version": "1.5.0",
            "_model_name": "ProgressStyleModel",
            "_view_count": null,
            "_view_module": "@jupyter-widgets/base",
            "_view_module_version": "1.2.0",
            "_view_name": "StyleView",
            "bar_color": null,
            "description_width": ""
          }
        },
        "7c734f342d544bf4ba56b0b64b555a3d": {
          "model_module": "@jupyter-widgets/base",
          "model_module_version": "1.2.0",
          "model_name": "LayoutModel",
          "state": {
            "_model_module": "@jupyter-widgets/base",
            "_model_module_version": "1.2.0",
            "_model_name": "LayoutModel",
            "_view_count": null,
            "_view_module": "@jupyter-widgets/base",
            "_view_module_version": "1.2.0",
            "_view_name": "LayoutView",
            "align_content": null,
            "align_items": null,
            "align_self": null,
            "border": null,
            "bottom": null,
            "display": null,
            "flex": null,
            "flex_flow": null,
            "grid_area": null,
            "grid_auto_columns": null,
            "grid_auto_flow": null,
            "grid_auto_rows": null,
            "grid_column": null,
            "grid_gap": null,
            "grid_row": null,
            "grid_template_areas": null,
            "grid_template_columns": null,
            "grid_template_rows": null,
            "height": null,
            "justify_content": null,
            "justify_items": null,
            "left": null,
            "margin": null,
            "max_height": null,
            "max_width": null,
            "min_height": null,
            "min_width": null,
            "object_fit": null,
            "object_position": null,
            "order": null,
            "overflow": null,
            "overflow_x": null,
            "overflow_y": null,
            "padding": null,
            "right": null,
            "top": null,
            "visibility": null,
            "width": null
          }
        },
        "7d353bc31a5b46c8a06720a03e599359": {
          "model_module": "@jupyter-widgets/controls",
          "model_module_version": "1.5.0",
          "model_name": "FloatProgressModel",
          "state": {
            "_dom_classes": [],
            "_model_module": "@jupyter-widgets/controls",
            "_model_module_version": "1.5.0",
            "_model_name": "FloatProgressModel",
            "_view_count": null,
            "_view_module": "@jupyter-widgets/controls",
            "_view_module_version": "1.5.0",
            "_view_name": "ProgressView",
            "bar_style": "success",
            "description": "",
            "description_tooltip": null,
            "layout": "IPY_MODEL_fcc3a05b1ab74727bbac30d53fb57981",
            "max": 33885,
            "min": 0,
            "orientation": "horizontal",
            "style": "IPY_MODEL_1f58ae64e5f845efa9e470b5ef969c94",
            "value": 33885
          }
        },
        "8158078933e14368aa336bf15d9aad28": {
          "model_module": "@jupyter-widgets/base",
          "model_module_version": "1.2.0",
          "model_name": "LayoutModel",
          "state": {
            "_model_module": "@jupyter-widgets/base",
            "_model_module_version": "1.2.0",
            "_model_name": "LayoutModel",
            "_view_count": null,
            "_view_module": "@jupyter-widgets/base",
            "_view_module_version": "1.2.0",
            "_view_name": "LayoutView",
            "align_content": null,
            "align_items": null,
            "align_self": null,
            "border": null,
            "bottom": null,
            "display": null,
            "flex": null,
            "flex_flow": null,
            "grid_area": null,
            "grid_auto_columns": null,
            "grid_auto_flow": null,
            "grid_auto_rows": null,
            "grid_column": null,
            "grid_gap": null,
            "grid_row": null,
            "grid_template_areas": null,
            "grid_template_columns": null,
            "grid_template_rows": null,
            "height": null,
            "justify_content": null,
            "justify_items": null,
            "left": null,
            "margin": null,
            "max_height": null,
            "max_width": null,
            "min_height": null,
            "min_width": null,
            "object_fit": null,
            "object_position": null,
            "order": null,
            "overflow": null,
            "overflow_x": null,
            "overflow_y": null,
            "padding": null,
            "right": null,
            "top": null,
            "visibility": null,
            "width": null
          }
        },
        "8262cc85d4b14906ba102cb8bdaf5aaf": {
          "model_module": "@jupyter-widgets/controls",
          "model_module_version": "1.5.0",
          "model_name": "DescriptionStyleModel",
          "state": {
            "_model_module": "@jupyter-widgets/controls",
            "_model_module_version": "1.5.0",
            "_model_name": "DescriptionStyleModel",
            "_view_count": null,
            "_view_module": "@jupyter-widgets/base",
            "_view_module_version": "1.2.0",
            "_view_name": "StyleView",
            "description_width": ""
          }
        },
        "83486b8d684847b4b7341b4b01ee152e": {
          "model_module": "@jupyter-widgets/base",
          "model_module_version": "1.2.0",
          "model_name": "LayoutModel",
          "state": {
            "_model_module": "@jupyter-widgets/base",
            "_model_module_version": "1.2.0",
            "_model_name": "LayoutModel",
            "_view_count": null,
            "_view_module": "@jupyter-widgets/base",
            "_view_module_version": "1.2.0",
            "_view_name": "LayoutView",
            "align_content": null,
            "align_items": null,
            "align_self": null,
            "border": null,
            "bottom": null,
            "display": null,
            "flex": null,
            "flex_flow": null,
            "grid_area": null,
            "grid_auto_columns": null,
            "grid_auto_flow": null,
            "grid_auto_rows": null,
            "grid_column": null,
            "grid_gap": null,
            "grid_row": null,
            "grid_template_areas": null,
            "grid_template_columns": null,
            "grid_template_rows": null,
            "height": null,
            "justify_content": null,
            "justify_items": null,
            "left": null,
            "margin": null,
            "max_height": null,
            "max_width": null,
            "min_height": null,
            "min_width": null,
            "object_fit": null,
            "object_position": null,
            "order": null,
            "overflow": null,
            "overflow_x": null,
            "overflow_y": null,
            "padding": null,
            "right": null,
            "top": null,
            "visibility": null,
            "width": null
          }
        },
        "86725ed4bb6545308ea17547c99f20d4": {
          "model_module": "@jupyter-widgets/controls",
          "model_module_version": "1.5.0",
          "model_name": "ProgressStyleModel",
          "state": {
            "_model_module": "@jupyter-widgets/controls",
            "_model_module_version": "1.5.0",
            "_model_name": "ProgressStyleModel",
            "_view_count": null,
            "_view_module": "@jupyter-widgets/base",
            "_view_module_version": "1.2.0",
            "_view_name": "StyleView",
            "bar_color": null,
            "description_width": ""
          }
        },
        "86b486c034104405bc5cd96bfc0cbf9f": {
          "model_module": "@jupyter-widgets/base",
          "model_module_version": "1.2.0",
          "model_name": "LayoutModel",
          "state": {
            "_model_module": "@jupyter-widgets/base",
            "_model_module_version": "1.2.0",
            "_model_name": "LayoutModel",
            "_view_count": null,
            "_view_module": "@jupyter-widgets/base",
            "_view_module_version": "1.2.0",
            "_view_name": "LayoutView",
            "align_content": null,
            "align_items": null,
            "align_self": null,
            "border": null,
            "bottom": null,
            "display": null,
            "flex": null,
            "flex_flow": null,
            "grid_area": null,
            "grid_auto_columns": null,
            "grid_auto_flow": null,
            "grid_auto_rows": null,
            "grid_column": null,
            "grid_gap": null,
            "grid_row": null,
            "grid_template_areas": null,
            "grid_template_columns": null,
            "grid_template_rows": null,
            "height": null,
            "justify_content": null,
            "justify_items": null,
            "left": null,
            "margin": null,
            "max_height": null,
            "max_width": null,
            "min_height": null,
            "min_width": null,
            "object_fit": null,
            "object_position": null,
            "order": null,
            "overflow": null,
            "overflow_x": null,
            "overflow_y": null,
            "padding": null,
            "right": null,
            "top": null,
            "visibility": null,
            "width": null
          }
        },
        "87d4ec77ce24451b8bf2cfc8e7a25476": {
          "model_module": "@jupyter-widgets/base",
          "model_module_version": "1.2.0",
          "model_name": "LayoutModel",
          "state": {
            "_model_module": "@jupyter-widgets/base",
            "_model_module_version": "1.2.0",
            "_model_name": "LayoutModel",
            "_view_count": null,
            "_view_module": "@jupyter-widgets/base",
            "_view_module_version": "1.2.0",
            "_view_name": "LayoutView",
            "align_content": null,
            "align_items": null,
            "align_self": null,
            "border": null,
            "bottom": null,
            "display": null,
            "flex": null,
            "flex_flow": null,
            "grid_area": null,
            "grid_auto_columns": null,
            "grid_auto_flow": null,
            "grid_auto_rows": null,
            "grid_column": null,
            "grid_gap": null,
            "grid_row": null,
            "grid_template_areas": null,
            "grid_template_columns": null,
            "grid_template_rows": null,
            "height": null,
            "justify_content": null,
            "justify_items": null,
            "left": null,
            "margin": null,
            "max_height": null,
            "max_width": null,
            "min_height": null,
            "min_width": null,
            "object_fit": null,
            "object_position": null,
            "order": null,
            "overflow": null,
            "overflow_x": null,
            "overflow_y": null,
            "padding": null,
            "right": null,
            "top": null,
            "visibility": null,
            "width": null
          }
        },
        "8c949e8b9eb34b09acdd2aa54c1efb21": {
          "model_module": "@jupyter-widgets/controls",
          "model_module_version": "1.5.0",
          "model_name": "HTMLModel",
          "state": {
            "_dom_classes": [],
            "_model_module": "@jupyter-widgets/controls",
            "_model_module_version": "1.5.0",
            "_model_name": "HTMLModel",
            "_view_count": null,
            "_view_module": "@jupyter-widgets/controls",
            "_view_module_version": "1.5.0",
            "_view_name": "HTMLView",
            "description": "",
            "description_tooltip": null,
            "layout": "IPY_MODEL_501d39eb0f99475dba1a8801108b2124",
            "placeholder": "​",
            "style": "IPY_MODEL_8262cc85d4b14906ba102cb8bdaf5aaf",
            "value": " 5/5 [00:00&lt;00:00, 123.46it/s]"
          }
        },
        "966c422ff8b740b6a0b96408b9c42664": {
          "model_module": "@jupyter-widgets/controls",
          "model_module_version": "1.5.0",
          "model_name": "ProgressStyleModel",
          "state": {
            "_model_module": "@jupyter-widgets/controls",
            "_model_module_version": "1.5.0",
            "_model_name": "ProgressStyleModel",
            "_view_count": null,
            "_view_module": "@jupyter-widgets/base",
            "_view_module_version": "1.2.0",
            "_view_name": "StyleView",
            "bar_color": null,
            "description_width": ""
          }
        },
        "9b0e5f8630c84437a5c926e925310dd7": {
          "model_module": "@jupyter-widgets/controls",
          "model_module_version": "1.5.0",
          "model_name": "ProgressStyleModel",
          "state": {
            "_model_module": "@jupyter-widgets/controls",
            "_model_module_version": "1.5.0",
            "_model_name": "ProgressStyleModel",
            "_view_count": null,
            "_view_module": "@jupyter-widgets/base",
            "_view_module_version": "1.2.0",
            "_view_name": "StyleView",
            "bar_color": null,
            "description_width": ""
          }
        },
        "9ba4d0b3a15c444e8eb4d585c50c69b2": {
          "model_module": "@jupyter-widgets/controls",
          "model_module_version": "1.5.0",
          "model_name": "DescriptionStyleModel",
          "state": {
            "_model_module": "@jupyter-widgets/controls",
            "_model_module_version": "1.5.0",
            "_model_name": "DescriptionStyleModel",
            "_view_count": null,
            "_view_module": "@jupyter-widgets/base",
            "_view_module_version": "1.2.0",
            "_view_name": "StyleView",
            "description_width": ""
          }
        },
        "9e1128bd49054e748c9fd7dd5d65ac33": {
          "model_module": "@jupyter-widgets/controls",
          "model_module_version": "1.5.0",
          "model_name": "HTMLModel",
          "state": {
            "_dom_classes": [],
            "_model_module": "@jupyter-widgets/controls",
            "_model_module_version": "1.5.0",
            "_model_name": "HTMLModel",
            "_view_count": null,
            "_view_module": "@jupyter-widgets/controls",
            "_view_module_version": "1.5.0",
            "_view_name": "HTMLView",
            "description": "",
            "description_tooltip": null,
            "layout": "IPY_MODEL_5f3b9c9032804263b235c1f05ee3cdb2",
            "placeholder": "​",
            "style": "IPY_MODEL_22ac0b6b45c44841a128252fcc11c087",
            "value": "100%"
          }
        },
        "a5f8400d9e47450492e1d00e40d93622": {
          "model_module": "@jupyter-widgets/controls",
          "model_module_version": "1.5.0",
          "model_name": "HTMLModel",
          "state": {
            "_dom_classes": [],
            "_model_module": "@jupyter-widgets/controls",
            "_model_module_version": "1.5.0",
            "_model_name": "HTMLModel",
            "_view_count": null,
            "_view_module": "@jupyter-widgets/controls",
            "_view_module_version": "1.5.0",
            "_view_name": "HTMLView",
            "description": "",
            "description_tooltip": null,
            "layout": "IPY_MODEL_8158078933e14368aa336bf15d9aad28",
            "placeholder": "​",
            "style": "IPY_MODEL_ef19b6a2bffc4163afe277f342e6e1b2",
            "value": "100%"
          }
        },
        "aaffb54b94954b3b985af42f7d47cfd8": {
          "model_module": "@jupyter-widgets/controls",
          "model_module_version": "1.5.0",
          "model_name": "DescriptionStyleModel",
          "state": {
            "_model_module": "@jupyter-widgets/controls",
            "_model_module_version": "1.5.0",
            "_model_name": "DescriptionStyleModel",
            "_view_count": null,
            "_view_module": "@jupyter-widgets/base",
            "_view_module_version": "1.2.0",
            "_view_name": "StyleView",
            "description_width": ""
          }
        },
        "ace48e6cf0c046c68da7974f18e144f1": {
          "model_module": "@jupyter-widgets/controls",
          "model_module_version": "1.5.0",
          "model_name": "HBoxModel",
          "state": {
            "_dom_classes": [],
            "_model_module": "@jupyter-widgets/controls",
            "_model_module_version": "1.5.0",
            "_model_name": "HBoxModel",
            "_view_count": null,
            "_view_module": "@jupyter-widgets/controls",
            "_view_module_version": "1.5.0",
            "_view_name": "HBoxView",
            "box_style": "",
            "children": [
              "IPY_MODEL_eb2ff931595e435ebce07efa944e8fcb",
              "IPY_MODEL_34d23961e2d24726b9e0432b03f8313c",
              "IPY_MODEL_c035f66ffd6d46df8d3688d2903a9e9c"
            ],
            "layout": "IPY_MODEL_b3a269c761c345279599bd5bb979c477"
          }
        },
        "ad8318f017c14b568bca4b06b59a24bb": {
          "model_module": "@jupyter-widgets/controls",
          "model_module_version": "1.5.0",
          "model_name": "DescriptionStyleModel",
          "state": {
            "_model_module": "@jupyter-widgets/controls",
            "_model_module_version": "1.5.0",
            "_model_name": "DescriptionStyleModel",
            "_view_count": null,
            "_view_module": "@jupyter-widgets/base",
            "_view_module_version": "1.2.0",
            "_view_name": "StyleView",
            "description_width": ""
          }
        },
        "aff1bf75e0204df9a322938d3e714f06": {
          "model_module": "@jupyter-widgets/controls",
          "model_module_version": "1.5.0",
          "model_name": "ProgressStyleModel",
          "state": {
            "_model_module": "@jupyter-widgets/controls",
            "_model_module_version": "1.5.0",
            "_model_name": "ProgressStyleModel",
            "_view_count": null,
            "_view_module": "@jupyter-widgets/base",
            "_view_module_version": "1.2.0",
            "_view_name": "StyleView",
            "bar_color": null,
            "description_width": ""
          }
        },
        "b2facf1cbe93458a8203560701b37dbd": {
          "model_module": "@jupyter-widgets/controls",
          "model_module_version": "1.5.0",
          "model_name": "HTMLModel",
          "state": {
            "_dom_classes": [],
            "_model_module": "@jupyter-widgets/controls",
            "_model_module_version": "1.5.0",
            "_model_name": "HTMLModel",
            "_view_count": null,
            "_view_module": "@jupyter-widgets/controls",
            "_view_module_version": "1.5.0",
            "_view_name": "HTMLView",
            "description": "",
            "description_tooltip": null,
            "layout": "IPY_MODEL_1b12e8be91ef4852949992b8d48c40b3",
            "placeholder": "​",
            "style": "IPY_MODEL_36bc9b49c9e14b01a63a86b43213da66",
            "value": " 33885/33885 [47:00&lt;00:00,  9.48it/s]"
          }
        },
        "b39ebb047c484ba898cf179e94ac1ec3": {
          "model_module": "@jupyter-widgets/controls",
          "model_module_version": "1.5.0",
          "model_name": "DescriptionStyleModel",
          "state": {
            "_model_module": "@jupyter-widgets/controls",
            "_model_module_version": "1.5.0",
            "_model_name": "DescriptionStyleModel",
            "_view_count": null,
            "_view_module": "@jupyter-widgets/base",
            "_view_module_version": "1.2.0",
            "_view_name": "StyleView",
            "description_width": ""
          }
        },
        "b3a269c761c345279599bd5bb979c477": {
          "model_module": "@jupyter-widgets/base",
          "model_module_version": "1.2.0",
          "model_name": "LayoutModel",
          "state": {
            "_model_module": "@jupyter-widgets/base",
            "_model_module_version": "1.2.0",
            "_model_name": "LayoutModel",
            "_view_count": null,
            "_view_module": "@jupyter-widgets/base",
            "_view_module_version": "1.2.0",
            "_view_name": "LayoutView",
            "align_content": null,
            "align_items": null,
            "align_self": null,
            "border": null,
            "bottom": null,
            "display": null,
            "flex": null,
            "flex_flow": null,
            "grid_area": null,
            "grid_auto_columns": null,
            "grid_auto_flow": null,
            "grid_auto_rows": null,
            "grid_column": null,
            "grid_gap": null,
            "grid_row": null,
            "grid_template_areas": null,
            "grid_template_columns": null,
            "grid_template_rows": null,
            "height": null,
            "justify_content": null,
            "justify_items": null,
            "left": null,
            "margin": null,
            "max_height": null,
            "max_width": null,
            "min_height": null,
            "min_width": null,
            "object_fit": null,
            "object_position": null,
            "order": null,
            "overflow": null,
            "overflow_x": null,
            "overflow_y": null,
            "padding": null,
            "right": null,
            "top": null,
            "visibility": null,
            "width": null
          }
        },
        "b806f05b8196477d95ca4bd68ba360dc": {
          "model_module": "@jupyter-widgets/base",
          "model_module_version": "1.2.0",
          "model_name": "LayoutModel",
          "state": {
            "_model_module": "@jupyter-widgets/base",
            "_model_module_version": "1.2.0",
            "_model_name": "LayoutModel",
            "_view_count": null,
            "_view_module": "@jupyter-widgets/base",
            "_view_module_version": "1.2.0",
            "_view_name": "LayoutView",
            "align_content": null,
            "align_items": null,
            "align_self": null,
            "border": null,
            "bottom": null,
            "display": null,
            "flex": null,
            "flex_flow": null,
            "grid_area": null,
            "grid_auto_columns": null,
            "grid_auto_flow": null,
            "grid_auto_rows": null,
            "grid_column": null,
            "grid_gap": null,
            "grid_row": null,
            "grid_template_areas": null,
            "grid_template_columns": null,
            "grid_template_rows": null,
            "height": null,
            "justify_content": null,
            "justify_items": null,
            "left": null,
            "margin": null,
            "max_height": null,
            "max_width": null,
            "min_height": null,
            "min_width": null,
            "object_fit": null,
            "object_position": null,
            "order": null,
            "overflow": null,
            "overflow_x": null,
            "overflow_y": null,
            "padding": null,
            "right": null,
            "top": null,
            "visibility": null,
            "width": null
          }
        },
        "bb70323a059b414baa652eed1d1db06d": {
          "model_module": "@jupyter-widgets/controls",
          "model_module_version": "1.5.0",
          "model_name": "FloatProgressModel",
          "state": {
            "_dom_classes": [],
            "_model_module": "@jupyter-widgets/controls",
            "_model_module_version": "1.5.0",
            "_model_name": "FloatProgressModel",
            "_view_count": null,
            "_view_module": "@jupyter-widgets/controls",
            "_view_module_version": "1.5.0",
            "_view_name": "ProgressView",
            "bar_style": "success",
            "description": "",
            "description_tooltip": null,
            "layout": "IPY_MODEL_6535c1fc994d4585aed9b7f2ee73117f",
            "max": 33885,
            "min": 0,
            "orientation": "horizontal",
            "style": "IPY_MODEL_aff1bf75e0204df9a322938d3e714f06",
            "value": 33885
          }
        },
        "bcc7d520fbb346afbb4fcf4c66371fb4": {
          "model_module": "@jupyter-widgets/base",
          "model_module_version": "1.2.0",
          "model_name": "LayoutModel",
          "state": {
            "_model_module": "@jupyter-widgets/base",
            "_model_module_version": "1.2.0",
            "_model_name": "LayoutModel",
            "_view_count": null,
            "_view_module": "@jupyter-widgets/base",
            "_view_module_version": "1.2.0",
            "_view_name": "LayoutView",
            "align_content": null,
            "align_items": null,
            "align_self": null,
            "border": null,
            "bottom": null,
            "display": null,
            "flex": null,
            "flex_flow": null,
            "grid_area": null,
            "grid_auto_columns": null,
            "grid_auto_flow": null,
            "grid_auto_rows": null,
            "grid_column": null,
            "grid_gap": null,
            "grid_row": null,
            "grid_template_areas": null,
            "grid_template_columns": null,
            "grid_template_rows": null,
            "height": null,
            "justify_content": null,
            "justify_items": null,
            "left": null,
            "margin": null,
            "max_height": null,
            "max_width": null,
            "min_height": null,
            "min_width": null,
            "object_fit": null,
            "object_position": null,
            "order": null,
            "overflow": null,
            "overflow_x": null,
            "overflow_y": null,
            "padding": null,
            "right": null,
            "top": null,
            "visibility": null,
            "width": null
          }
        },
        "c035f66ffd6d46df8d3688d2903a9e9c": {
          "model_module": "@jupyter-widgets/controls",
          "model_module_version": "1.5.0",
          "model_name": "HTMLModel",
          "state": {
            "_dom_classes": [],
            "_model_module": "@jupyter-widgets/controls",
            "_model_module_version": "1.5.0",
            "_model_name": "HTMLModel",
            "_view_count": null,
            "_view_module": "@jupyter-widgets/controls",
            "_view_module_version": "1.5.0",
            "_view_name": "HTMLView",
            "description": "",
            "description_tooltip": null,
            "layout": "IPY_MODEL_65ec1c8d0eca4ce08a6e17fc52648ac7",
            "placeholder": "​",
            "style": "IPY_MODEL_9ba4d0b3a15c444e8eb4d585c50c69b2",
            "value": " 33885/33885 [47:08&lt;00:00, 18.73it/s]"
          }
        },
        "c1ae03f622b94494bfdb39b601edd70c": {
          "model_module": "@jupyter-widgets/controls",
          "model_module_version": "1.5.0",
          "model_name": "HBoxModel",
          "state": {
            "_dom_classes": [],
            "_model_module": "@jupyter-widgets/controls",
            "_model_module_version": "1.5.0",
            "_model_name": "HBoxModel",
            "_view_count": null,
            "_view_module": "@jupyter-widgets/controls",
            "_view_module_version": "1.5.0",
            "_view_name": "HBoxView",
            "box_style": "",
            "children": [
              "IPY_MODEL_11f1f846913a40f2967ba80037423953",
              "IPY_MODEL_1149c80144244518a53ab4848a280a52",
              "IPY_MODEL_b2facf1cbe93458a8203560701b37dbd"
            ],
            "layout": "IPY_MODEL_2495687db4464434bb27afe0af3cc313"
          }
        },
        "c5835af9110a40b98bb580f15fffe883": {
          "model_module": "@jupyter-widgets/controls",
          "model_module_version": "1.5.0",
          "model_name": "FloatProgressModel",
          "state": {
            "_dom_classes": [],
            "_model_module": "@jupyter-widgets/controls",
            "_model_module_version": "1.5.0",
            "_model_name": "FloatProgressModel",
            "_view_count": null,
            "_view_module": "@jupyter-widgets/controls",
            "_view_module_version": "1.5.0",
            "_view_name": "ProgressView",
            "bar_style": "success",
            "description": "",
            "description_tooltip": null,
            "layout": "IPY_MODEL_7c734f342d544bf4ba56b0b64b555a3d",
            "max": 33885,
            "min": 0,
            "orientation": "horizontal",
            "style": "IPY_MODEL_9b0e5f8630c84437a5c926e925310dd7",
            "value": 33885
          }
        },
        "c6e1ee1649094caea0bdc4237fbb51ed": {
          "model_module": "@jupyter-widgets/controls",
          "model_module_version": "1.5.0",
          "model_name": "HTMLModel",
          "state": {
            "_dom_classes": [],
            "_model_module": "@jupyter-widgets/controls",
            "_model_module_version": "1.5.0",
            "_model_name": "HTMLModel",
            "_view_count": null,
            "_view_module": "@jupyter-widgets/controls",
            "_view_module_version": "1.5.0",
            "_view_name": "HTMLView",
            "description": "",
            "description_tooltip": null,
            "layout": "IPY_MODEL_ff441867f6be414bbf089f439e707539",
            "placeholder": "​",
            "style": "IPY_MODEL_46134ebe467f4158a894fe4e7fad072e",
            "value": "100%"
          }
        },
        "cad0919995f7479f8b1e53b54858fa63": {
          "model_module": "@jupyter-widgets/controls",
          "model_module_version": "1.5.0",
          "model_name": "HBoxModel",
          "state": {
            "_dom_classes": [],
            "_model_module": "@jupyter-widgets/controls",
            "_model_module_version": "1.5.0",
            "_model_name": "HBoxModel",
            "_view_count": null,
            "_view_module": "@jupyter-widgets/controls",
            "_view_module_version": "1.5.0",
            "_view_name": "HBoxView",
            "box_style": "",
            "children": [
              "IPY_MODEL_c6e1ee1649094caea0bdc4237fbb51ed",
              "IPY_MODEL_bb70323a059b414baa652eed1d1db06d",
              "IPY_MODEL_cc501d2bbede4b76a78167f0ae2e9526"
            ],
            "layout": "IPY_MODEL_cc03af0c8ff9463c9d06da5e73b8722e"
          }
        },
        "cc03af0c8ff9463c9d06da5e73b8722e": {
          "model_module": "@jupyter-widgets/base",
          "model_module_version": "1.2.0",
          "model_name": "LayoutModel",
          "state": {
            "_model_module": "@jupyter-widgets/base",
            "_model_module_version": "1.2.0",
            "_model_name": "LayoutModel",
            "_view_count": null,
            "_view_module": "@jupyter-widgets/base",
            "_view_module_version": "1.2.0",
            "_view_name": "LayoutView",
            "align_content": null,
            "align_items": null,
            "align_self": null,
            "border": null,
            "bottom": null,
            "display": null,
            "flex": null,
            "flex_flow": null,
            "grid_area": null,
            "grid_auto_columns": null,
            "grid_auto_flow": null,
            "grid_auto_rows": null,
            "grid_column": null,
            "grid_gap": null,
            "grid_row": null,
            "grid_template_areas": null,
            "grid_template_columns": null,
            "grid_template_rows": null,
            "height": null,
            "justify_content": null,
            "justify_items": null,
            "left": null,
            "margin": null,
            "max_height": null,
            "max_width": null,
            "min_height": null,
            "min_width": null,
            "object_fit": null,
            "object_position": null,
            "order": null,
            "overflow": null,
            "overflow_x": null,
            "overflow_y": null,
            "padding": null,
            "right": null,
            "top": null,
            "visibility": null,
            "width": null
          }
        },
        "cc501d2bbede4b76a78167f0ae2e9526": {
          "model_module": "@jupyter-widgets/controls",
          "model_module_version": "1.5.0",
          "model_name": "HTMLModel",
          "state": {
            "_dom_classes": [],
            "_model_module": "@jupyter-widgets/controls",
            "_model_module_version": "1.5.0",
            "_model_name": "HTMLModel",
            "_view_count": null,
            "_view_module": "@jupyter-widgets/controls",
            "_view_module_version": "1.5.0",
            "_view_name": "HTMLView",
            "description": "",
            "description_tooltip": null,
            "layout": "IPY_MODEL_db675c58f4da4c31951a072b67df7db0",
            "placeholder": "​",
            "style": "IPY_MODEL_168408c69bc54c09bdd9be38069414ed",
            "value": " 33885/33885 [47:05&lt;00:00, 12.07it/s]"
          }
        },
        "cd85a47185ad465aadaf9909e9c05689": {
          "model_module": "@jupyter-widgets/controls",
          "model_module_version": "1.5.0",
          "model_name": "ProgressStyleModel",
          "state": {
            "_model_module": "@jupyter-widgets/controls",
            "_model_module_version": "1.5.0",
            "_model_name": "ProgressStyleModel",
            "_view_count": null,
            "_view_module": "@jupyter-widgets/base",
            "_view_module_version": "1.2.0",
            "_view_name": "StyleView",
            "bar_color": null,
            "description_width": ""
          }
        },
        "d38430f4540749c3926ce1eb7f19bea2": {
          "model_module": "@jupyter-widgets/controls",
          "model_module_version": "1.5.0",
          "model_name": "FloatProgressModel",
          "state": {
            "_dom_classes": [],
            "_model_module": "@jupyter-widgets/controls",
            "_model_module_version": "1.5.0",
            "_model_name": "FloatProgressModel",
            "_view_count": null,
            "_view_module": "@jupyter-widgets/controls",
            "_view_module_version": "1.5.0",
            "_view_name": "ProgressView",
            "bar_style": "success",
            "description": "",
            "description_tooltip": null,
            "layout": "IPY_MODEL_1b0b22b1fff74eb8a463668039efe1c6",
            "max": 33885,
            "min": 0,
            "orientation": "horizontal",
            "style": "IPY_MODEL_e193c6fd9ed3484b9661d735c7715cc4",
            "value": 33885
          }
        },
        "d80eef9912f84076a1d01ed6a6bef545": {
          "model_module": "@jupyter-widgets/base",
          "model_module_version": "1.2.0",
          "model_name": "LayoutModel",
          "state": {
            "_model_module": "@jupyter-widgets/base",
            "_model_module_version": "1.2.0",
            "_model_name": "LayoutModel",
            "_view_count": null,
            "_view_module": "@jupyter-widgets/base",
            "_view_module_version": "1.2.0",
            "_view_name": "LayoutView",
            "align_content": null,
            "align_items": null,
            "align_self": null,
            "border": null,
            "bottom": null,
            "display": null,
            "flex": null,
            "flex_flow": null,
            "grid_area": null,
            "grid_auto_columns": null,
            "grid_auto_flow": null,
            "grid_auto_rows": null,
            "grid_column": null,
            "grid_gap": null,
            "grid_row": null,
            "grid_template_areas": null,
            "grid_template_columns": null,
            "grid_template_rows": null,
            "height": null,
            "justify_content": null,
            "justify_items": null,
            "left": null,
            "margin": null,
            "max_height": null,
            "max_width": null,
            "min_height": null,
            "min_width": null,
            "object_fit": null,
            "object_position": null,
            "order": null,
            "overflow": null,
            "overflow_x": null,
            "overflow_y": null,
            "padding": null,
            "right": null,
            "top": null,
            "visibility": null,
            "width": null
          }
        },
        "d9811b03be724174a9a50e299e3970ab": {
          "model_module": "@jupyter-widgets/controls",
          "model_module_version": "1.5.0",
          "model_name": "HBoxModel",
          "state": {
            "_dom_classes": [],
            "_model_module": "@jupyter-widgets/controls",
            "_model_module_version": "1.5.0",
            "_model_name": "HBoxModel",
            "_view_count": null,
            "_view_module": "@jupyter-widgets/controls",
            "_view_module_version": "1.5.0",
            "_view_name": "HBoxView",
            "box_style": "",
            "children": [
              "IPY_MODEL_9e1128bd49054e748c9fd7dd5d65ac33",
              "IPY_MODEL_7d353bc31a5b46c8a06720a03e599359",
              "IPY_MODEL_5945bd9053164aceb4e79592a1b8a3d5"
            ],
            "layout": "IPY_MODEL_d80eef9912f84076a1d01ed6a6bef545"
          }
        },
        "db675c58f4da4c31951a072b67df7db0": {
          "model_module": "@jupyter-widgets/base",
          "model_module_version": "1.2.0",
          "model_name": "LayoutModel",
          "state": {
            "_model_module": "@jupyter-widgets/base",
            "_model_module_version": "1.2.0",
            "_model_name": "LayoutModel",
            "_view_count": null,
            "_view_module": "@jupyter-widgets/base",
            "_view_module_version": "1.2.0",
            "_view_name": "LayoutView",
            "align_content": null,
            "align_items": null,
            "align_self": null,
            "border": null,
            "bottom": null,
            "display": null,
            "flex": null,
            "flex_flow": null,
            "grid_area": null,
            "grid_auto_columns": null,
            "grid_auto_flow": null,
            "grid_auto_rows": null,
            "grid_column": null,
            "grid_gap": null,
            "grid_row": null,
            "grid_template_areas": null,
            "grid_template_columns": null,
            "grid_template_rows": null,
            "height": null,
            "justify_content": null,
            "justify_items": null,
            "left": null,
            "margin": null,
            "max_height": null,
            "max_width": null,
            "min_height": null,
            "min_width": null,
            "object_fit": null,
            "object_position": null,
            "order": null,
            "overflow": null,
            "overflow_x": null,
            "overflow_y": null,
            "padding": null,
            "right": null,
            "top": null,
            "visibility": null,
            "width": null
          }
        },
        "dd78935e30bb44cc9f140880f18a78a6": {
          "model_module": "@jupyter-widgets/controls",
          "model_module_version": "1.5.0",
          "model_name": "HBoxModel",
          "state": {
            "_dom_classes": [],
            "_model_module": "@jupyter-widgets/controls",
            "_model_module_version": "1.5.0",
            "_model_name": "HBoxModel",
            "_view_count": null,
            "_view_module": "@jupyter-widgets/controls",
            "_view_module_version": "1.5.0",
            "_view_name": "HBoxView",
            "box_style": "",
            "children": [
              "IPY_MODEL_eb40f4b02c4b4878b00113c73aec8ce8",
              "IPY_MODEL_d38430f4540749c3926ce1eb7f19bea2",
              "IPY_MODEL_30750d89e22d4c59bb7b7ba858457720"
            ],
            "layout": "IPY_MODEL_83486b8d684847b4b7341b4b01ee152e"
          }
        },
        "e135f503770f4580a9e145377736751c": {
          "model_module": "@jupyter-widgets/controls",
          "model_module_version": "1.5.0",
          "model_name": "ProgressStyleModel",
          "state": {
            "_model_module": "@jupyter-widgets/controls",
            "_model_module_version": "1.5.0",
            "_model_name": "ProgressStyleModel",
            "_view_count": null,
            "_view_module": "@jupyter-widgets/base",
            "_view_module_version": "1.2.0",
            "_view_name": "StyleView",
            "bar_color": null,
            "description_width": ""
          }
        },
        "e193c6fd9ed3484b9661d735c7715cc4": {
          "model_module": "@jupyter-widgets/controls",
          "model_module_version": "1.5.0",
          "model_name": "ProgressStyleModel",
          "state": {
            "_model_module": "@jupyter-widgets/controls",
            "_model_module_version": "1.5.0",
            "_model_name": "ProgressStyleModel",
            "_view_count": null,
            "_view_module": "@jupyter-widgets/base",
            "_view_module_version": "1.2.0",
            "_view_name": "StyleView",
            "bar_color": null,
            "description_width": ""
          }
        },
        "e2630284b9ba4ec5b25095051b10f580": {
          "model_module": "@jupyter-widgets/controls",
          "model_module_version": "1.5.0",
          "model_name": "FloatProgressModel",
          "state": {
            "_dom_classes": [],
            "_model_module": "@jupyter-widgets/controls",
            "_model_module_version": "1.5.0",
            "_model_name": "FloatProgressModel",
            "_view_count": null,
            "_view_module": "@jupyter-widgets/controls",
            "_view_module_version": "1.5.0",
            "_view_name": "ProgressView",
            "bar_style": "success",
            "description": "",
            "description_tooltip": null,
            "layout": "IPY_MODEL_4202a1070c9649c09def75c4cf10b897",
            "max": 33885,
            "min": 0,
            "orientation": "horizontal",
            "style": "IPY_MODEL_e135f503770f4580a9e145377736751c",
            "value": 33885
          }
        },
        "eb06039db71744d7bd7e656fdf5ae65f": {
          "model_module": "@jupyter-widgets/controls",
          "model_module_version": "1.5.0",
          "model_name": "HTMLModel",
          "state": {
            "_dom_classes": [],
            "_model_module": "@jupyter-widgets/controls",
            "_model_module_version": "1.5.0",
            "_model_name": "HTMLModel",
            "_view_count": null,
            "_view_module": "@jupyter-widgets/controls",
            "_view_module_version": "1.5.0",
            "_view_name": "HTMLView",
            "description": "",
            "description_tooltip": null,
            "layout": "IPY_MODEL_5700b227c5154429b78d739e3402ab6a",
            "placeholder": "​",
            "style": "IPY_MODEL_59b7a4ac5797437fb6b3e2f8683759ba",
            "value": " 33885/33885 [47:04&lt;00:00, 10.88it/s]"
          }
        },
        "eb2ff931595e435ebce07efa944e8fcb": {
          "model_module": "@jupyter-widgets/controls",
          "model_module_version": "1.5.0",
          "model_name": "HTMLModel",
          "state": {
            "_dom_classes": [],
            "_model_module": "@jupyter-widgets/controls",
            "_model_module_version": "1.5.0",
            "_model_name": "HTMLModel",
            "_view_count": null,
            "_view_module": "@jupyter-widgets/controls",
            "_view_module_version": "1.5.0",
            "_view_name": "HTMLView",
            "description": "",
            "description_tooltip": null,
            "layout": "IPY_MODEL_3bc88337c01d40a0957f051eb539cdb9",
            "placeholder": "​",
            "style": "IPY_MODEL_148b0a54a960449cbbb8d973e751e184",
            "value": "100%"
          }
        },
        "eb40f4b02c4b4878b00113c73aec8ce8": {
          "model_module": "@jupyter-widgets/controls",
          "model_module_version": "1.5.0",
          "model_name": "HTMLModel",
          "state": {
            "_dom_classes": [],
            "_model_module": "@jupyter-widgets/controls",
            "_model_module_version": "1.5.0",
            "_model_name": "HTMLModel",
            "_view_count": null,
            "_view_module": "@jupyter-widgets/controls",
            "_view_module_version": "1.5.0",
            "_view_name": "HTMLView",
            "description": "",
            "description_tooltip": null,
            "layout": "IPY_MODEL_b806f05b8196477d95ca4bd68ba360dc",
            "placeholder": "​",
            "style": "IPY_MODEL_3c72cfba0eb94e1e98082a3c916051b0",
            "value": "100%"
          }
        },
        "ecc31474eb2b4cbda66729fcd46aa6ea": {
          "model_module": "@jupyter-widgets/base",
          "model_module_version": "1.2.0",
          "model_name": "LayoutModel",
          "state": {
            "_model_module": "@jupyter-widgets/base",
            "_model_module_version": "1.2.0",
            "_model_name": "LayoutModel",
            "_view_count": null,
            "_view_module": "@jupyter-widgets/base",
            "_view_module_version": "1.2.0",
            "_view_name": "LayoutView",
            "align_content": null,
            "align_items": null,
            "align_self": null,
            "border": null,
            "bottom": null,
            "display": null,
            "flex": null,
            "flex_flow": null,
            "grid_area": null,
            "grid_auto_columns": null,
            "grid_auto_flow": null,
            "grid_auto_rows": null,
            "grid_column": null,
            "grid_gap": null,
            "grid_row": null,
            "grid_template_areas": null,
            "grid_template_columns": null,
            "grid_template_rows": null,
            "height": null,
            "justify_content": null,
            "justify_items": null,
            "left": null,
            "margin": null,
            "max_height": null,
            "max_width": null,
            "min_height": null,
            "min_width": null,
            "object_fit": null,
            "object_position": null,
            "order": null,
            "overflow": null,
            "overflow_x": null,
            "overflow_y": null,
            "padding": null,
            "right": null,
            "top": null,
            "visibility": null,
            "width": null
          }
        },
        "ef19b6a2bffc4163afe277f342e6e1b2": {
          "model_module": "@jupyter-widgets/controls",
          "model_module_version": "1.5.0",
          "model_name": "DescriptionStyleModel",
          "state": {
            "_model_module": "@jupyter-widgets/controls",
            "_model_module_version": "1.5.0",
            "_model_name": "DescriptionStyleModel",
            "_view_count": null,
            "_view_module": "@jupyter-widgets/base",
            "_view_module_version": "1.2.0",
            "_view_name": "StyleView",
            "description_width": ""
          }
        },
        "f5045a03ec0c4349b515e5bf2edac698": {
          "model_module": "@jupyter-widgets/controls",
          "model_module_version": "1.5.0",
          "model_name": "HBoxModel",
          "state": {
            "_dom_classes": [],
            "_model_module": "@jupyter-widgets/controls",
            "_model_module_version": "1.5.0",
            "_model_name": "HBoxModel",
            "_view_count": null,
            "_view_module": "@jupyter-widgets/controls",
            "_view_module_version": "1.5.0",
            "_view_name": "HBoxView",
            "box_style": "",
            "children": [
              "IPY_MODEL_a5f8400d9e47450492e1d00e40d93622",
              "IPY_MODEL_c5835af9110a40b98bb580f15fffe883",
              "IPY_MODEL_102c623999fe461bb6be2d3f1474dbac"
            ],
            "layout": "IPY_MODEL_26e07b6536104a4aa480ef903e9f4371"
          }
        },
        "f7874e6c3b554e5b8e40b02da7a52e15": {
          "model_module": "@jupyter-widgets/base",
          "model_module_version": "1.2.0",
          "model_name": "LayoutModel",
          "state": {
            "_model_module": "@jupyter-widgets/base",
            "_model_module_version": "1.2.0",
            "_model_name": "LayoutModel",
            "_view_count": null,
            "_view_module": "@jupyter-widgets/base",
            "_view_module_version": "1.2.0",
            "_view_name": "LayoutView",
            "align_content": null,
            "align_items": null,
            "align_self": null,
            "border": null,
            "bottom": null,
            "display": null,
            "flex": null,
            "flex_flow": null,
            "grid_area": null,
            "grid_auto_columns": null,
            "grid_auto_flow": null,
            "grid_auto_rows": null,
            "grid_column": null,
            "grid_gap": null,
            "grid_row": null,
            "grid_template_areas": null,
            "grid_template_columns": null,
            "grid_template_rows": null,
            "height": null,
            "justify_content": null,
            "justify_items": null,
            "left": null,
            "margin": null,
            "max_height": null,
            "max_width": null,
            "min_height": null,
            "min_width": null,
            "object_fit": null,
            "object_position": null,
            "order": null,
            "overflow": null,
            "overflow_x": null,
            "overflow_y": null,
            "padding": null,
            "right": null,
            "top": null,
            "visibility": null,
            "width": null
          }
        },
        "fcc3a05b1ab74727bbac30d53fb57981": {
          "model_module": "@jupyter-widgets/base",
          "model_module_version": "1.2.0",
          "model_name": "LayoutModel",
          "state": {
            "_model_module": "@jupyter-widgets/base",
            "_model_module_version": "1.2.0",
            "_model_name": "LayoutModel",
            "_view_count": null,
            "_view_module": "@jupyter-widgets/base",
            "_view_module_version": "1.2.0",
            "_view_name": "LayoutView",
            "align_content": null,
            "align_items": null,
            "align_self": null,
            "border": null,
            "bottom": null,
            "display": null,
            "flex": null,
            "flex_flow": null,
            "grid_area": null,
            "grid_auto_columns": null,
            "grid_auto_flow": null,
            "grid_auto_rows": null,
            "grid_column": null,
            "grid_gap": null,
            "grid_row": null,
            "grid_template_areas": null,
            "grid_template_columns": null,
            "grid_template_rows": null,
            "height": null,
            "justify_content": null,
            "justify_items": null,
            "left": null,
            "margin": null,
            "max_height": null,
            "max_width": null,
            "min_height": null,
            "min_width": null,
            "object_fit": null,
            "object_position": null,
            "order": null,
            "overflow": null,
            "overflow_x": null,
            "overflow_y": null,
            "padding": null,
            "right": null,
            "top": null,
            "visibility": null,
            "width": null
          }
        },
        "ff441867f6be414bbf089f439e707539": {
          "model_module": "@jupyter-widgets/base",
          "model_module_version": "1.2.0",
          "model_name": "LayoutModel",
          "state": {
            "_model_module": "@jupyter-widgets/base",
            "_model_module_version": "1.2.0",
            "_model_name": "LayoutModel",
            "_view_count": null,
            "_view_module": "@jupyter-widgets/base",
            "_view_module_version": "1.2.0",
            "_view_name": "LayoutView",
            "align_content": null,
            "align_items": null,
            "align_self": null,
            "border": null,
            "bottom": null,
            "display": null,
            "flex": null,
            "flex_flow": null,
            "grid_area": null,
            "grid_auto_columns": null,
            "grid_auto_flow": null,
            "grid_auto_rows": null,
            "grid_column": null,
            "grid_gap": null,
            "grid_row": null,
            "grid_template_areas": null,
            "grid_template_columns": null,
            "grid_template_rows": null,
            "height": null,
            "justify_content": null,
            "justify_items": null,
            "left": null,
            "margin": null,
            "max_height": null,
            "max_width": null,
            "min_height": null,
            "min_width": null,
            "object_fit": null,
            "object_position": null,
            "order": null,
            "overflow": null,
            "overflow_x": null,
            "overflow_y": null,
            "padding": null,
            "right": null,
            "top": null,
            "visibility": null,
            "width": null
          }
        },
        "d68d37455cac4d2780db79866824d51f": {
          "model_module": "@jupyter-widgets/controls",
          "model_name": "HBoxModel",
          "model_module_version": "1.5.0",
          "state": {
            "_dom_classes": [],
            "_model_module": "@jupyter-widgets/controls",
            "_model_module_version": "1.5.0",
            "_model_name": "HBoxModel",
            "_view_count": null,
            "_view_module": "@jupyter-widgets/controls",
            "_view_module_version": "1.5.0",
            "_view_name": "HBoxView",
            "box_style": "",
            "children": [
              "IPY_MODEL_18245660bbbb4bf3ad7886a59703d74b",
              "IPY_MODEL_09cbd59a1aab4da3b5fd9b276c65031e",
              "IPY_MODEL_1b0099d9dbc84438a27245865cf24a1b"
            ],
            "layout": "IPY_MODEL_0c48bace4ebf491d83c6b4af00c1f518"
          }
        },
        "18245660bbbb4bf3ad7886a59703d74b": {
          "model_module": "@jupyter-widgets/controls",
          "model_name": "HTMLModel",
          "model_module_version": "1.5.0",
          "state": {
            "_dom_classes": [],
            "_model_module": "@jupyter-widgets/controls",
            "_model_module_version": "1.5.0",
            "_model_name": "HTMLModel",
            "_view_count": null,
            "_view_module": "@jupyter-widgets/controls",
            "_view_module_version": "1.5.0",
            "_view_name": "HTMLView",
            "description": "",
            "description_tooltip": null,
            "layout": "IPY_MODEL_92bb4a51efe94e80b5f83965b8a1d279",
            "placeholder": "​",
            "style": "IPY_MODEL_9bed48abae8742a3b47bb7b0eca8f792",
            "value": "100%"
          }
        },
        "09cbd59a1aab4da3b5fd9b276c65031e": {
          "model_module": "@jupyter-widgets/controls",
          "model_name": "FloatProgressModel",
          "model_module_version": "1.5.0",
          "state": {
            "_dom_classes": [],
            "_model_module": "@jupyter-widgets/controls",
            "_model_module_version": "1.5.0",
            "_model_name": "FloatProgressModel",
            "_view_count": null,
            "_view_module": "@jupyter-widgets/controls",
            "_view_module_version": "1.5.0",
            "_view_name": "ProgressView",
            "bar_style": "success",
            "description": "",
            "description_tooltip": null,
            "layout": "IPY_MODEL_de8e2828e44843b980a727b206e76630",
            "max": 1,
            "min": 0,
            "orientation": "horizontal",
            "style": "IPY_MODEL_8ab3aafcf69d4dd2942dad5f5dbb9394",
            "value": 1
          }
        },
        "1b0099d9dbc84438a27245865cf24a1b": {
          "model_module": "@jupyter-widgets/controls",
          "model_name": "HTMLModel",
          "model_module_version": "1.5.0",
          "state": {
            "_dom_classes": [],
            "_model_module": "@jupyter-widgets/controls",
            "_model_module_version": "1.5.0",
            "_model_name": "HTMLModel",
            "_view_count": null,
            "_view_module": "@jupyter-widgets/controls",
            "_view_module_version": "1.5.0",
            "_view_name": "HTMLView",
            "description": "",
            "description_tooltip": null,
            "layout": "IPY_MODEL_dd85cabe990943b2994721931ad7b25f",
            "placeholder": "​",
            "style": "IPY_MODEL_8c0b5be7e05b49f2a47891a141caee95",
            "value": " 1/1 [00:12&lt;00:00, 12.59s/it]"
          }
        },
        "0c48bace4ebf491d83c6b4af00c1f518": {
          "model_module": "@jupyter-widgets/base",
          "model_name": "LayoutModel",
          "model_module_version": "1.2.0",
          "state": {
            "_model_module": "@jupyter-widgets/base",
            "_model_module_version": "1.2.0",
            "_model_name": "LayoutModel",
            "_view_count": null,
            "_view_module": "@jupyter-widgets/base",
            "_view_module_version": "1.2.0",
            "_view_name": "LayoutView",
            "align_content": null,
            "align_items": null,
            "align_self": null,
            "border": null,
            "bottom": null,
            "display": null,
            "flex": null,
            "flex_flow": null,
            "grid_area": null,
            "grid_auto_columns": null,
            "grid_auto_flow": null,
            "grid_auto_rows": null,
            "grid_column": null,
            "grid_gap": null,
            "grid_row": null,
            "grid_template_areas": null,
            "grid_template_columns": null,
            "grid_template_rows": null,
            "height": null,
            "justify_content": null,
            "justify_items": null,
            "left": null,
            "margin": null,
            "max_height": null,
            "max_width": null,
            "min_height": null,
            "min_width": null,
            "object_fit": null,
            "object_position": null,
            "order": null,
            "overflow": null,
            "overflow_x": null,
            "overflow_y": null,
            "padding": null,
            "right": null,
            "top": null,
            "visibility": null,
            "width": null
          }
        },
        "92bb4a51efe94e80b5f83965b8a1d279": {
          "model_module": "@jupyter-widgets/base",
          "model_name": "LayoutModel",
          "model_module_version": "1.2.0",
          "state": {
            "_model_module": "@jupyter-widgets/base",
            "_model_module_version": "1.2.0",
            "_model_name": "LayoutModel",
            "_view_count": null,
            "_view_module": "@jupyter-widgets/base",
            "_view_module_version": "1.2.0",
            "_view_name": "LayoutView",
            "align_content": null,
            "align_items": null,
            "align_self": null,
            "border": null,
            "bottom": null,
            "display": null,
            "flex": null,
            "flex_flow": null,
            "grid_area": null,
            "grid_auto_columns": null,
            "grid_auto_flow": null,
            "grid_auto_rows": null,
            "grid_column": null,
            "grid_gap": null,
            "grid_row": null,
            "grid_template_areas": null,
            "grid_template_columns": null,
            "grid_template_rows": null,
            "height": null,
            "justify_content": null,
            "justify_items": null,
            "left": null,
            "margin": null,
            "max_height": null,
            "max_width": null,
            "min_height": null,
            "min_width": null,
            "object_fit": null,
            "object_position": null,
            "order": null,
            "overflow": null,
            "overflow_x": null,
            "overflow_y": null,
            "padding": null,
            "right": null,
            "top": null,
            "visibility": null,
            "width": null
          }
        },
        "9bed48abae8742a3b47bb7b0eca8f792": {
          "model_module": "@jupyter-widgets/controls",
          "model_name": "DescriptionStyleModel",
          "model_module_version": "1.5.0",
          "state": {
            "_model_module": "@jupyter-widgets/controls",
            "_model_module_version": "1.5.0",
            "_model_name": "DescriptionStyleModel",
            "_view_count": null,
            "_view_module": "@jupyter-widgets/base",
            "_view_module_version": "1.2.0",
            "_view_name": "StyleView",
            "description_width": ""
          }
        },
        "de8e2828e44843b980a727b206e76630": {
          "model_module": "@jupyter-widgets/base",
          "model_name": "LayoutModel",
          "model_module_version": "1.2.0",
          "state": {
            "_model_module": "@jupyter-widgets/base",
            "_model_module_version": "1.2.0",
            "_model_name": "LayoutModel",
            "_view_count": null,
            "_view_module": "@jupyter-widgets/base",
            "_view_module_version": "1.2.0",
            "_view_name": "LayoutView",
            "align_content": null,
            "align_items": null,
            "align_self": null,
            "border": null,
            "bottom": null,
            "display": null,
            "flex": null,
            "flex_flow": null,
            "grid_area": null,
            "grid_auto_columns": null,
            "grid_auto_flow": null,
            "grid_auto_rows": null,
            "grid_column": null,
            "grid_gap": null,
            "grid_row": null,
            "grid_template_areas": null,
            "grid_template_columns": null,
            "grid_template_rows": null,
            "height": null,
            "justify_content": null,
            "justify_items": null,
            "left": null,
            "margin": null,
            "max_height": null,
            "max_width": null,
            "min_height": null,
            "min_width": null,
            "object_fit": null,
            "object_position": null,
            "order": null,
            "overflow": null,
            "overflow_x": null,
            "overflow_y": null,
            "padding": null,
            "right": null,
            "top": null,
            "visibility": null,
            "width": null
          }
        },
        "8ab3aafcf69d4dd2942dad5f5dbb9394": {
          "model_module": "@jupyter-widgets/controls",
          "model_name": "ProgressStyleModel",
          "model_module_version": "1.5.0",
          "state": {
            "_model_module": "@jupyter-widgets/controls",
            "_model_module_version": "1.5.0",
            "_model_name": "ProgressStyleModel",
            "_view_count": null,
            "_view_module": "@jupyter-widgets/base",
            "_view_module_version": "1.2.0",
            "_view_name": "StyleView",
            "bar_color": null,
            "description_width": ""
          }
        },
        "dd85cabe990943b2994721931ad7b25f": {
          "model_module": "@jupyter-widgets/base",
          "model_name": "LayoutModel",
          "model_module_version": "1.2.0",
          "state": {
            "_model_module": "@jupyter-widgets/base",
            "_model_module_version": "1.2.0",
            "_model_name": "LayoutModel",
            "_view_count": null,
            "_view_module": "@jupyter-widgets/base",
            "_view_module_version": "1.2.0",
            "_view_name": "LayoutView",
            "align_content": null,
            "align_items": null,
            "align_self": null,
            "border": null,
            "bottom": null,
            "display": null,
            "flex": null,
            "flex_flow": null,
            "grid_area": null,
            "grid_auto_columns": null,
            "grid_auto_flow": null,
            "grid_auto_rows": null,
            "grid_column": null,
            "grid_gap": null,
            "grid_row": null,
            "grid_template_areas": null,
            "grid_template_columns": null,
            "grid_template_rows": null,
            "height": null,
            "justify_content": null,
            "justify_items": null,
            "left": null,
            "margin": null,
            "max_height": null,
            "max_width": null,
            "min_height": null,
            "min_width": null,
            "object_fit": null,
            "object_position": null,
            "order": null,
            "overflow": null,
            "overflow_x": null,
            "overflow_y": null,
            "padding": null,
            "right": null,
            "top": null,
            "visibility": null,
            "width": null
          }
        },
        "8c0b5be7e05b49f2a47891a141caee95": {
          "model_module": "@jupyter-widgets/controls",
          "model_name": "DescriptionStyleModel",
          "model_module_version": "1.5.0",
          "state": {
            "_model_module": "@jupyter-widgets/controls",
            "_model_module_version": "1.5.0",
            "_model_name": "DescriptionStyleModel",
            "_view_count": null,
            "_view_module": "@jupyter-widgets/base",
            "_view_module_version": "1.2.0",
            "_view_name": "StyleView",
            "description_width": ""
          }
        },
        "4b22aafa7ee445a4ad1763524e9c33f0": {
          "model_module": "@jupyter-widgets/controls",
          "model_name": "HBoxModel",
          "model_module_version": "1.5.0",
          "state": {
            "_dom_classes": [],
            "_model_module": "@jupyter-widgets/controls",
            "_model_module_version": "1.5.0",
            "_model_name": "HBoxModel",
            "_view_count": null,
            "_view_module": "@jupyter-widgets/controls",
            "_view_module_version": "1.5.0",
            "_view_name": "HBoxView",
            "box_style": "",
            "children": [
              "IPY_MODEL_35ef832012ab49b5a0c1299b6ff368d2",
              "IPY_MODEL_aa46115b4f30432da817d9dd0d7ecdf2",
              "IPY_MODEL_92554feffe5349a89c98942096fd5b09"
            ],
            "layout": "IPY_MODEL_5c4d01018a3e4098aa3d192290dd9590"
          }
        },
        "35ef832012ab49b5a0c1299b6ff368d2": {
          "model_module": "@jupyter-widgets/controls",
          "model_name": "HTMLModel",
          "model_module_version": "1.5.0",
          "state": {
            "_dom_classes": [],
            "_model_module": "@jupyter-widgets/controls",
            "_model_module_version": "1.5.0",
            "_model_name": "HTMLModel",
            "_view_count": null,
            "_view_module": "@jupyter-widgets/controls",
            "_view_module_version": "1.5.0",
            "_view_name": "HTMLView",
            "description": "",
            "description_tooltip": null,
            "layout": "IPY_MODEL_3d29ccf7566f4957b1dd2dc36aa828eb",
            "placeholder": "​",
            "style": "IPY_MODEL_f5b5743b7ff14eefbe70a4ad0b502432",
            "value": "Done! Use &#x27;show&#x27; commands to display/save.   "
          }
        },
        "aa46115b4f30432da817d9dd0d7ecdf2": {
          "model_module": "@jupyter-widgets/controls",
          "model_name": "FloatProgressModel",
          "model_module_version": "1.5.0",
          "state": {
            "_dom_classes": [],
            "_model_module": "@jupyter-widgets/controls",
            "_model_module_version": "1.5.0",
            "_model_name": "FloatProgressModel",
            "_view_count": null,
            "_view_module": "@jupyter-widgets/controls",
            "_view_module_version": "1.5.0",
            "_view_name": "ProgressView",
            "bar_style": "success",
            "description": "",
            "description_tooltip": null,
            "layout": "IPY_MODEL_0b13334a547b4b57a8a776f984e52965",
            "max": 1,
            "min": 0,
            "orientation": "horizontal",
            "style": "IPY_MODEL_aeb48541d87d49d3b7b353925c0c99d0",
            "value": 1
          }
        },
        "92554feffe5349a89c98942096fd5b09": {
          "model_module": "@jupyter-widgets/controls",
          "model_name": "HTMLModel",
          "model_module_version": "1.5.0",
          "state": {
            "_dom_classes": [],
            "_model_module": "@jupyter-widgets/controls",
            "_model_module_version": "1.5.0",
            "_model_name": "HTMLModel",
            "_view_count": null,
            "_view_module": "@jupyter-widgets/controls",
            "_view_module_version": "1.5.0",
            "_view_name": "HTMLView",
            "description": "",
            "description_tooltip": null,
            "layout": "IPY_MODEL_1bb7f7c072ed4d488ed792fd6c576d24",
            "placeholder": "​",
            "style": "IPY_MODEL_fba3602e4d534d149a0af7fd1bfc22ae",
            "value": " [100%]   00:00 -&gt; (00:00 left)"
          }
        },
        "5c4d01018a3e4098aa3d192290dd9590": {
          "model_module": "@jupyter-widgets/base",
          "model_name": "LayoutModel",
          "model_module_version": "1.2.0",
          "state": {
            "_model_module": "@jupyter-widgets/base",
            "_model_module_version": "1.2.0",
            "_model_name": "LayoutModel",
            "_view_count": null,
            "_view_module": "@jupyter-widgets/base",
            "_view_module_version": "1.2.0",
            "_view_name": "LayoutView",
            "align_content": null,
            "align_items": null,
            "align_self": null,
            "border": null,
            "bottom": null,
            "display": "inline-flex",
            "flex": null,
            "flex_flow": "row wrap",
            "grid_area": null,
            "grid_auto_columns": null,
            "grid_auto_flow": null,
            "grid_auto_rows": null,
            "grid_column": null,
            "grid_gap": null,
            "grid_row": null,
            "grid_template_areas": null,
            "grid_template_columns": null,
            "grid_template_rows": null,
            "height": null,
            "justify_content": null,
            "justify_items": null,
            "left": null,
            "margin": null,
            "max_height": null,
            "max_width": null,
            "min_height": null,
            "min_width": null,
            "object_fit": null,
            "object_position": null,
            "order": null,
            "overflow": null,
            "overflow_x": null,
            "overflow_y": null,
            "padding": null,
            "right": null,
            "top": null,
            "visibility": null,
            "width": "100%"
          }
        },
        "3d29ccf7566f4957b1dd2dc36aa828eb": {
          "model_module": "@jupyter-widgets/base",
          "model_name": "LayoutModel",
          "model_module_version": "1.2.0",
          "state": {
            "_model_module": "@jupyter-widgets/base",
            "_model_module_version": "1.2.0",
            "_model_name": "LayoutModel",
            "_view_count": null,
            "_view_module": "@jupyter-widgets/base",
            "_view_module_version": "1.2.0",
            "_view_name": "LayoutView",
            "align_content": null,
            "align_items": null,
            "align_self": null,
            "border": null,
            "bottom": null,
            "display": null,
            "flex": null,
            "flex_flow": null,
            "grid_area": null,
            "grid_auto_columns": null,
            "grid_auto_flow": null,
            "grid_auto_rows": null,
            "grid_column": null,
            "grid_gap": null,
            "grid_row": null,
            "grid_template_areas": null,
            "grid_template_columns": null,
            "grid_template_rows": null,
            "height": null,
            "justify_content": null,
            "justify_items": null,
            "left": null,
            "margin": null,
            "max_height": null,
            "max_width": null,
            "min_height": null,
            "min_width": null,
            "object_fit": null,
            "object_position": null,
            "order": null,
            "overflow": null,
            "overflow_x": null,
            "overflow_y": null,
            "padding": null,
            "right": null,
            "top": null,
            "visibility": null,
            "width": null
          }
        },
        "f5b5743b7ff14eefbe70a4ad0b502432": {
          "model_module": "@jupyter-widgets/controls",
          "model_name": "DescriptionStyleModel",
          "model_module_version": "1.5.0",
          "state": {
            "_model_module": "@jupyter-widgets/controls",
            "_model_module_version": "1.5.0",
            "_model_name": "DescriptionStyleModel",
            "_view_count": null,
            "_view_module": "@jupyter-widgets/base",
            "_view_module_version": "1.2.0",
            "_view_name": "StyleView",
            "description_width": ""
          }
        },
        "0b13334a547b4b57a8a776f984e52965": {
          "model_module": "@jupyter-widgets/base",
          "model_name": "LayoutModel",
          "model_module_version": "1.2.0",
          "state": {
            "_model_module": "@jupyter-widgets/base",
            "_model_module_version": "1.2.0",
            "_model_name": "LayoutModel",
            "_view_count": null,
            "_view_module": "@jupyter-widgets/base",
            "_view_module_version": "1.2.0",
            "_view_name": "LayoutView",
            "align_content": null,
            "align_items": null,
            "align_self": null,
            "border": null,
            "bottom": null,
            "display": null,
            "flex": "2",
            "flex_flow": null,
            "grid_area": null,
            "grid_auto_columns": null,
            "grid_auto_flow": null,
            "grid_auto_rows": null,
            "grid_column": null,
            "grid_gap": null,
            "grid_row": null,
            "grid_template_areas": null,
            "grid_template_columns": null,
            "grid_template_rows": null,
            "height": null,
            "justify_content": null,
            "justify_items": null,
            "left": null,
            "margin": null,
            "max_height": null,
            "max_width": null,
            "min_height": null,
            "min_width": null,
            "object_fit": null,
            "object_position": null,
            "order": null,
            "overflow": null,
            "overflow_x": null,
            "overflow_y": null,
            "padding": null,
            "right": null,
            "top": null,
            "visibility": null,
            "width": null
          }
        },
        "aeb48541d87d49d3b7b353925c0c99d0": {
          "model_module": "@jupyter-widgets/controls",
          "model_name": "ProgressStyleModel",
          "model_module_version": "1.5.0",
          "state": {
            "_model_module": "@jupyter-widgets/controls",
            "_model_module_version": "1.5.0",
            "_model_name": "ProgressStyleModel",
            "_view_count": null,
            "_view_module": "@jupyter-widgets/base",
            "_view_module_version": "1.2.0",
            "_view_name": "StyleView",
            "bar_color": null,
            "description_width": ""
          }
        },
        "1bb7f7c072ed4d488ed792fd6c576d24": {
          "model_module": "@jupyter-widgets/base",
          "model_name": "LayoutModel",
          "model_module_version": "1.2.0",
          "state": {
            "_model_module": "@jupyter-widgets/base",
            "_model_module_version": "1.2.0",
            "_model_name": "LayoutModel",
            "_view_count": null,
            "_view_module": "@jupyter-widgets/base",
            "_view_module_version": "1.2.0",
            "_view_name": "LayoutView",
            "align_content": null,
            "align_items": null,
            "align_self": null,
            "border": null,
            "bottom": null,
            "display": null,
            "flex": null,
            "flex_flow": null,
            "grid_area": null,
            "grid_auto_columns": null,
            "grid_auto_flow": null,
            "grid_auto_rows": null,
            "grid_column": null,
            "grid_gap": null,
            "grid_row": null,
            "grid_template_areas": null,
            "grid_template_columns": null,
            "grid_template_rows": null,
            "height": null,
            "justify_content": null,
            "justify_items": null,
            "left": null,
            "margin": null,
            "max_height": null,
            "max_width": null,
            "min_height": null,
            "min_width": null,
            "object_fit": null,
            "object_position": null,
            "order": null,
            "overflow": null,
            "overflow_x": null,
            "overflow_y": null,
            "padding": null,
            "right": null,
            "top": null,
            "visibility": null,
            "width": null
          }
        },
        "fba3602e4d534d149a0af7fd1bfc22ae": {
          "model_module": "@jupyter-widgets/controls",
          "model_name": "DescriptionStyleModel",
          "model_module_version": "1.5.0",
          "state": {
            "_model_module": "@jupyter-widgets/controls",
            "_model_module_version": "1.5.0",
            "_model_name": "DescriptionStyleModel",
            "_view_count": null,
            "_view_module": "@jupyter-widgets/base",
            "_view_module_version": "1.2.0",
            "_view_name": "StyleView",
            "description_width": ""
          }
        }
      }
    }
  },
  "nbformat": 4,
  "nbformat_minor": 0
}