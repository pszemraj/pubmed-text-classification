{
  "cells": [
    {
      "cell_type": "markdown",
      "metadata": {
        "id": "view-in-github",
        "colab_type": "text"
      },
      "source": [
        "<a href=\"https://colab.research.google.com/github/pszemraj/pubmed-text-classification/blob/analysis/notebooks/colab/run_full_dataset_Word2vec_context1_context2.ipynb\" target=\"_parent\"><img src=\"https://colab.research.google.com/assets/colab-badge.svg\" alt=\"Open In Colab\"/></a>"
      ]
    },
    {
      "cell_type": "markdown",
      "metadata": {
        "id": "Qx9yAWoG-KqU"
      },
      "source": [
        "# ml4hc - project 2 - embedding classification\n",
        "\n"
      ],
      "id": "Qx9yAWoG-KqU"
    },
    {
      "cell_type": "markdown",
      "metadata": {
        "id": "kEZxBzxD-SUp"
      },
      "source": [
        "## setup"
      ],
      "id": "kEZxBzxD-SUp"
    },
    {
      "cell_type": "code",
      "execution_count": null,
      "metadata": {
        "cellView": "form",
        "colab": {
          "base_uri": "https://localhost:8080/",
          "height": 17
        },
        "id": "35wDBYrZyj5s",
        "outputId": "edae966a-26c0-4b6d-f4cb-b22a0ccc89ed"
      },
      "outputs": [
        {
          "data": {
            "text/html": [
              "\n",
              "  <style>\n",
              "    pre {\n",
              "        white-space: pre-wrap;\n",
              "    }\n",
              "  </style>\n",
              "  "
            ],
            "text/plain": [
              "<IPython.core.display.HTML object>"
            ]
          },
          "metadata": {},
          "output_type": "display_data"
        },
        {
          "data": {
            "text/html": [
              "\n",
              "  <style>\n",
              "    pre {\n",
              "        white-space: pre-wrap;\n",
              "    }\n",
              "  </style>\n",
              "  "
            ],
            "text/plain": [
              "<IPython.core.display.HTML object>"
            ]
          },
          "metadata": {},
          "output_type": "display_data"
        }
      ],
      "source": [
        "%%capture\n",
        "#@title set up auto-formatting of cells in notebook\n",
        "\n",
        "from IPython.display import HTML, display\n",
        "\n",
        "\n",
        "def set_css():\n",
        "    display(\n",
        "        HTML(\n",
        "            \"\"\"\n",
        "  <style>\n",
        "    pre {\n",
        "        white-space: pre-wrap;\n",
        "    }\n",
        "  </style>\n",
        "  \"\"\"\n",
        "        )\n",
        "    )\n",
        "get_ipython().events.register(\"pre_run_cell\", set_css)"
      ],
      "id": "35wDBYrZyj5s"
    },
    {
      "cell_type": "code",
      "execution_count": null,
      "metadata": {
        "cellView": "form",
        "colab": {
          "base_uri": "https://localhost:8080/",
          "height": 17
        },
        "id": "PbBDW2t5eiuE",
        "outputId": "4ab0dbcd-c616-4c36-97e2-826dd1a2acca"
      },
      "outputs": [
        {
          "data": {
            "text/html": [
              "\n",
              "  <style>\n",
              "    pre {\n",
              "        white-space: pre-wrap;\n",
              "    }\n",
              "  </style>\n",
              "  "
            ],
            "text/plain": [
              "<IPython.core.display.HTML object>"
            ]
          },
          "metadata": {},
          "output_type": "display_data"
        },
        {
          "data": {
            "text/html": [
              "\n",
              "  <style>\n",
              "    pre {\n",
              "        white-space: pre-wrap;\n",
              "    }\n",
              "  </style>\n",
              "  "
            ],
            "text/plain": [
              "<IPython.core.display.HTML object>"
            ]
          },
          "metadata": {},
          "output_type": "display_data"
        },
        {
          "data": {
            "text/html": [
              "\n",
              "  <style>\n",
              "    pre {\n",
              "        white-space: pre-wrap;\n",
              "    }\n",
              "  </style>\n",
              "  "
            ],
            "text/plain": [
              "<IPython.core.display.HTML object>"
            ]
          },
          "metadata": {},
          "output_type": "display_data"
        }
      ],
      "source": [
        "#@markdown force update relevant packages\n",
        "!pip install -U numpy pandas matplotlib scikit-learn nltk  -q\n"
      ],
      "id": "PbBDW2t5eiuE"
    },
    {
      "cell_type": "code",
      "execution_count": null,
      "metadata": {
        "cellView": "form",
        "colab": {
          "base_uri": "https://localhost:8080/",
          "height": 17
        },
        "id": "9OcDHn-R6iK2",
        "outputId": "9bc7c9d2-9116-43ac-e80b-3e12948418de"
      },
      "outputs": [
        {
          "data": {
            "text/html": [
              "\n",
              "  <style>\n",
              "    pre {\n",
              "        white-space: pre-wrap;\n",
              "    }\n",
              "  </style>\n",
              "  "
            ],
            "text/plain": [
              "<IPython.core.display.HTML object>"
            ]
          },
          "metadata": {},
          "output_type": "display_data"
        },
        {
          "data": {
            "text/html": [
              "\n",
              "  <style>\n",
              "    pre {\n",
              "        white-space: pre-wrap;\n",
              "    }\n",
              "  </style>\n",
              "  "
            ],
            "text/plain": [
              "<IPython.core.display.HTML object>"
            ]
          },
          "metadata": {},
          "output_type": "display_data"
        },
        {
          "data": {
            "text/html": [
              "\n",
              "  <style>\n",
              "    pre {\n",
              "        white-space: pre-wrap;\n",
              "    }\n",
              "  </style>\n",
              "  "
            ],
            "text/plain": [
              "<IPython.core.display.HTML object>"
            ]
          },
          "metadata": {},
          "output_type": "display_data"
        }
      ],
      "source": [
        "#@markdown set up logfile\n",
        "import logging\n",
        "logging.basicConfig(\n",
        "    filename=\"LOGFILE_ml4hc_project2.log\",\n",
        "    filemode=\"a\",\n",
        "    format=\"%(asctime)s - %(name)s - %(levelname)s - %(message)s\",\n",
        "    level=logging.INFO,\n",
        ")\n",
        "# USAGE logging.info(\"this message will be recorded\")"
      ],
      "id": "9OcDHn-R6iK2"
    },
    {
      "cell_type": "code",
      "execution_count": null,
      "metadata": {
        "cellView": "form",
        "colab": {
          "base_uri": "https://localhost:8080/",
          "height": 34
        },
        "id": "TzR09BQBeyiU",
        "outputId": "2d595dbd-a5b4-4868-cafd-5d39b7031cfe"
      },
      "outputs": [
        {
          "data": {
            "text/html": [
              "\n",
              "  <style>\n",
              "    pre {\n",
              "        white-space: pre-wrap;\n",
              "    }\n",
              "  </style>\n",
              "  "
            ],
            "text/plain": [
              "<IPython.core.display.HTML object>"
            ]
          },
          "metadata": {},
          "output_type": "display_data"
        },
        {
          "data": {
            "text/html": [
              "\n",
              "  <style>\n",
              "    pre {\n",
              "        white-space: pre-wrap;\n",
              "    }\n",
              "  </style>\n",
              "  "
            ],
            "text/plain": [
              "<IPython.core.display.HTML object>"
            ]
          },
          "metadata": {},
          "output_type": "display_data"
        },
        {
          "data": {
            "text/html": [
              "\n",
              "  <style>\n",
              "    pre {\n",
              "        white-space: pre-wrap;\n",
              "    }\n",
              "  </style>\n",
              "  "
            ],
            "text/plain": [
              "<IPython.core.display.HTML object>"
            ]
          },
          "metadata": {},
          "output_type": "display_data"
        },
        {
          "name": "stdout",
          "output_type": "stream",
          "text": [
            "Runtime has 35.2 gigs of memory and 40 processors\n"
          ]
        }
      ],
      "source": [
        "#@markdown check  system stats\n",
        "from psutil import virtual_memory\n",
        "import os\n",
        "ram_gb = round(virtual_memory().total / (1024**3), 1)\n",
        "logging.info(f'Runtime has {ram_gb} gigs of memory and {os.cpu_count()} processors')\n",
        "print(f'Runtime has {ram_gb} gigs of memory and {os.cpu_count()} processors')"
      ],
      "id": "TzR09BQBeyiU"
    },
    {
      "cell_type": "code",
      "execution_count": null,
      "metadata": {
        "colab": {
          "base_uri": "https://localhost:8080/",
          "height": 52
        },
        "id": "chYSuuhhfBIm",
        "outputId": "9a14c7ff-9aea-4ee2-95f9-82a99c9bf985"
      },
      "outputs": [
        {
          "data": {
            "text/html": [
              "\n",
              "  <style>\n",
              "    pre {\n",
              "        white-space: pre-wrap;\n",
              "    }\n",
              "  </style>\n",
              "  "
            ],
            "text/plain": [
              "<IPython.core.display.HTML object>"
            ]
          },
          "metadata": {},
          "output_type": "display_data"
        },
        {
          "data": {
            "text/html": [
              "\n",
              "  <style>\n",
              "    pre {\n",
              "        white-space: pre-wrap;\n",
              "    }\n",
              "  </style>\n",
              "  "
            ],
            "text/plain": [
              "<IPython.core.display.HTML object>"
            ]
          },
          "metadata": {},
          "output_type": "display_data"
        },
        {
          "data": {
            "text/html": [
              "\n",
              "  <style>\n",
              "    pre {\n",
              "        white-space: pre-wrap;\n",
              "    }\n",
              "  </style>\n",
              "  "
            ],
            "text/plain": [
              "<IPython.core.display.HTML object>"
            ]
          },
          "metadata": {},
          "output_type": "display_data"
        },
        {
          "name": "stdout",
          "output_type": "stream",
          "text": [
            "Drive already mounted at /content/drive; to attempt to forcibly remount, call drive.mount(\"/content/drive\", force_remount=True).\n"
          ]
        }
      ],
      "source": [
        "from google.colab import drive\n",
        "drive.mount('/content/drive')"
      ],
      "id": "chYSuuhhfBIm"
    },
    {
      "cell_type": "code",
      "execution_count": null,
      "metadata": {
        "cellView": "form",
        "colab": {
          "base_uri": "https://localhost:8080/",
          "height": 17
        },
        "id": "5728babc",
        "outputId": "fa42d825-92dc-4343-f2ab-a866a50f5e08"
      },
      "outputs": [
        {
          "data": {
            "text/html": [
              "\n",
              "  <style>\n",
              "    pre {\n",
              "        white-space: pre-wrap;\n",
              "    }\n",
              "  </style>\n",
              "  "
            ],
            "text/plain": [
              "<IPython.core.display.HTML object>"
            ]
          },
          "metadata": {},
          "output_type": "display_data"
        },
        {
          "data": {
            "text/html": [
              "\n",
              "  <style>\n",
              "    pre {\n",
              "        white-space: pre-wrap;\n",
              "    }\n",
              "  </style>\n",
              "  "
            ],
            "text/plain": [
              "<IPython.core.display.HTML object>"
            ]
          },
          "metadata": {},
          "output_type": "display_data"
        },
        {
          "data": {
            "text/html": [
              "\n",
              "  <style>\n",
              "    pre {\n",
              "        white-space: pre-wrap;\n",
              "    }\n",
              "  </style>\n",
              "  "
            ],
            "text/plain": [
              "<IPython.core.display.HTML object>"
            ]
          },
          "metadata": {},
          "output_type": "display_data"
        }
      ],
      "source": [
        "#@markdown import all the things\n",
        "import numpy as np\n",
        "import pandas as pd\n",
        "import seaborn as sns\n",
        "import matplotlib.pyplot as plt\n",
        "from string import punctuation, digits\n",
        "\n",
        "from sklearn.feature_extraction.text import (\n",
        "    CountVectorizer, TfidfVectorizer)\n",
        "from sklearn.preprocessing import StandardScaler\n",
        "from sklearn.feature_selection import (\n",
        "    SelectKBest, VarianceThreshold, f_classif)\n",
        "from sklearn.linear_model import LogisticRegression\n",
        "from sklearn.pipeline import Pipeline\n",
        "from sklearn.model_selection import GridSearchCV\n",
        "from sklearn.metrics import f1_score, balanced_accuracy_score, make_scorer, confusion_matrix\n",
        "\n",
        "\n",
        "\n",
        "import os\n",
        "from string import punctuation, digits\n",
        "from os import path\n",
        "\n",
        "import numpy as np\n",
        "import pandas as pd\n",
        "\n",
        "from nltk.corpus import stopwords\n",
        "from nltk.stem import SnowballStemmer\n",
        "\n",
        "from sklearn.metrics import (\n",
        "    f1_score, accuracy_score, balanced_accuracy_score, confusion_matrix)\n",
        "from sklearn.feature_extraction.text import TfidfVectorizer\n",
        "from sklearn.pipeline import Pipeline"
      ],
      "id": "5728babc"
    },
    {
      "cell_type": "code",
      "execution_count": null,
      "metadata": {
        "colab": {
          "base_uri": "https://localhost:8080/",
          "height": 17
        },
        "id": "e00fe520",
        "outputId": "5cb849a6-a3ab-4469-91e9-9a4911df87cd"
      },
      "outputs": [
        {
          "data": {
            "text/html": [
              "\n",
              "  <style>\n",
              "    pre {\n",
              "        white-space: pre-wrap;\n",
              "    }\n",
              "  </style>\n",
              "  "
            ],
            "text/plain": [
              "<IPython.core.display.HTML object>"
            ]
          },
          "metadata": {},
          "output_type": "display_data"
        },
        {
          "data": {
            "text/html": [
              "\n",
              "  <style>\n",
              "    pre {\n",
              "        white-space: pre-wrap;\n",
              "    }\n",
              "  </style>\n",
              "  "
            ],
            "text/plain": [
              "<IPython.core.display.HTML object>"
            ]
          },
          "metadata": {},
          "output_type": "display_data"
        },
        {
          "data": {
            "text/html": [
              "\n",
              "  <style>\n",
              "    pre {\n",
              "        white-space: pre-wrap;\n",
              "    }\n",
              "  </style>\n",
              "  "
            ],
            "text/plain": [
              "<IPython.core.display.HTML object>"
            ]
          },
          "metadata": {},
          "output_type": "display_data"
        }
      ],
      "source": [
        "import string\n",
        "from nltk.tokenize import word_tokenize\n",
        "from nltk.corpus import stopwords\n",
        "from nltk.stem import PorterStemmer"
      ],
      "id": "e00fe520"
    },
    {
      "cell_type": "code",
      "execution_count": null,
      "metadata": {
        "colab": {
          "base_uri": "https://localhost:8080/",
          "height": 17
        },
        "id": "v-c94gZg9c3h",
        "outputId": "6cfcb1fd-aefd-4c61-bda8-914d9da5b20a"
      },
      "outputs": [
        {
          "data": {
            "text/html": [
              "\n",
              "  <style>\n",
              "    pre {\n",
              "        white-space: pre-wrap;\n",
              "    }\n",
              "  </style>\n",
              "  "
            ],
            "text/plain": [
              "<IPython.core.display.HTML object>"
            ]
          },
          "metadata": {},
          "output_type": "display_data"
        },
        {
          "data": {
            "text/html": [
              "\n",
              "  <style>\n",
              "    pre {\n",
              "        white-space: pre-wrap;\n",
              "    }\n",
              "  </style>\n",
              "  "
            ],
            "text/plain": [
              "<IPython.core.display.HTML object>"
            ]
          },
          "metadata": {},
          "output_type": "display_data"
        },
        {
          "data": {
            "text/html": [
              "\n",
              "  <style>\n",
              "    pre {\n",
              "        white-space: pre-wrap;\n",
              "    }\n",
              "  </style>\n",
              "  "
            ],
            "text/plain": [
              "<IPython.core.display.HTML object>"
            ]
          },
          "metadata": {},
          "output_type": "display_data"
        }
      ],
      "source": [
        "import os\n",
        "import gensim.models\n",
        "from gensim.models import KeyedVectors, Word2Vec\n",
        "from gensim import utils"
      ],
      "id": "v-c94gZg9c3h"
    },
    {
      "cell_type": "code",
      "execution_count": null,
      "metadata": {
        "colab": {
          "base_uri": "https://localhost:8080/",
          "height": 103
        },
        "id": "2e42349e",
        "outputId": "bdf5c9c4-073b-4f7b-dd27-9b2bf70a8491",
        "scrolled": true
      },
      "outputs": [
        {
          "data": {
            "text/html": [
              "\n",
              "  <style>\n",
              "    pre {\n",
              "        white-space: pre-wrap;\n",
              "    }\n",
              "  </style>\n",
              "  "
            ],
            "text/plain": [
              "<IPython.core.display.HTML object>"
            ]
          },
          "metadata": {},
          "output_type": "display_data"
        },
        {
          "data": {
            "text/html": [
              "\n",
              "  <style>\n",
              "    pre {\n",
              "        white-space: pre-wrap;\n",
              "    }\n",
              "  </style>\n",
              "  "
            ],
            "text/plain": [
              "<IPython.core.display.HTML object>"
            ]
          },
          "metadata": {},
          "output_type": "display_data"
        },
        {
          "data": {
            "text/html": [
              "\n",
              "  <style>\n",
              "    pre {\n",
              "        white-space: pre-wrap;\n",
              "    }\n",
              "  </style>\n",
              "  "
            ],
            "text/plain": [
              "<IPython.core.display.HTML object>"
            ]
          },
          "metadata": {},
          "output_type": "display_data"
        },
        {
          "name": "stderr",
          "output_type": "stream",
          "text": [
            "[nltk_data] Downloading package stopwords to /root/nltk_data...\n",
            "[nltk_data]   Package stopwords is already up-to-date!\n",
            "[nltk_data] Downloading package punkt to /root/nltk_data...\n",
            "[nltk_data]   Package punkt is already up-to-date!\n"
          ]
        },
        {
          "data": {
            "text/plain": [
              "True"
            ]
          },
          "execution_count": 68,
          "metadata": {},
          "output_type": "execute_result"
        }
      ],
      "source": [
        "import nltk\n",
        "import ssl\n",
        "\n",
        "try:\n",
        "    _create_unverified_https_context = ssl._create_unverified_context\n",
        "except AttributeError:\n",
        "    pass\n",
        "else:\n",
        "    ssl._create_default_https_context = _create_unverified_https_context\n",
        "\n",
        "nltk.download('stopwords')\n",
        "nltk.download('punkt')\n"
      ],
      "id": "2e42349e"
    },
    {
      "cell_type": "markdown",
      "metadata": {
        "id": "50a340f7"
      },
      "source": [
        "## Load data and preprocess"
      ],
      "id": "50a340f7"
    },
    {
      "cell_type": "markdown",
      "metadata": {
        "id": "3tawpmYbrPcT"
      },
      "source": [
        "### define backup URLS to load data from"
      ],
      "id": "3tawpmYbrPcT"
    },
    {
      "cell_type": "code",
      "execution_count": null,
      "metadata": {
        "cellView": "form",
        "colab": {
          "base_uri": "https://localhost:8080/",
          "height": 696
        },
        "id": "Rrdi59rArS7R",
        "outputId": "866ea852-b186-440c-82fa-480623357688"
      },
      "outputs": [
        {
          "data": {
            "text/html": [
              "\n",
              "  <style>\n",
              "    pre {\n",
              "        white-space: pre-wrap;\n",
              "    }\n",
              "  </style>\n",
              "  "
            ],
            "text/plain": [
              "<IPython.core.display.HTML object>"
            ]
          },
          "metadata": {},
          "output_type": "display_data"
        },
        {
          "name": "stdout",
          "output_type": "stream",
          "text": [
            "--2022-04-26 16:23:13--  https://www.dropbox.com/sh/xn85zbn7brqq35y/AAB80_k_OWttvnSjJRFgEFMca?dl=1\n",
            "Resolving www.dropbox.com (www.dropbox.com)... 162.125.80.18, 2620:100:6018:18::a27d:312\n",
            "Connecting to www.dropbox.com (www.dropbox.com)|162.125.80.18|:443... connected.\n",
            "HTTP request sent, awaiting response... 301 Moved Permanently\n",
            "Location: /sh/dl/xn85zbn7brqq35y/AAB80_k_OWttvnSjJRFgEFMca [following]\n",
            "--2022-04-26 16:23:13--  https://www.dropbox.com/sh/dl/xn85zbn7brqq35y/AAB80_k_OWttvnSjJRFgEFMca\n",
            "Reusing existing connection to www.dropbox.com:443.\n",
            "HTTP request sent, awaiting response... 302 Found\n",
            "Location: https://uc96ed87b8e50ea9d77f6e68aad3.dl.dropboxusercontent.com/zip_download_get/BHjgWCtr9WsZOoYDJoJZelymyh51cN1FAXydV1i3MDKpUHE-PBd2uIa0tEJFGSCRLa2WVcZW642it2JICS519VCv9C9o7QrnAc2WSw31BbtyBA?dl=1# [following]\n",
            "--2022-04-26 16:23:14--  https://uc96ed87b8e50ea9d77f6e68aad3.dl.dropboxusercontent.com/zip_download_get/BHjgWCtr9WsZOoYDJoJZelymyh51cN1FAXydV1i3MDKpUHE-PBd2uIa0tEJFGSCRLa2WVcZW642it2JICS519VCv9C9o7QrnAc2WSw31BbtyBA?dl=1\n",
            "Resolving uc96ed87b8e50ea9d77f6e68aad3.dl.dropboxusercontent.com (uc96ed87b8e50ea9d77f6e68aad3.dl.dropboxusercontent.com)... 162.125.3.15, 2620:100:6018:15::a27d:30f\n",
            "Connecting to uc96ed87b8e50ea9d77f6e68aad3.dl.dropboxusercontent.com (uc96ed87b8e50ea9d77f6e68aad3.dl.dropboxusercontent.com)|162.125.3.15|:443... connected.\n",
            "HTTP request sent, awaiting response... 200 OK\n",
            "Length: 367066628 (350M) [application/zip]\n",
            "Saving to: ‘dataset.zip’\n",
            "\n",
            "dataset.zip         100%[===================>] 350.06M  75.3MB/s    in 5.5s    \n",
            "\n",
            "2022-04-26 16:23:20 (63.3 MB/s) - ‘dataset.zip’ saved [367066628/367066628]\n",
            "\n",
            "warning:  stripped absolute path spec from /\n",
            "mapname:  conversion of  failed\n",
            "\n",
            "\n",
            "\n",
            " files in the /content/project2-data directory are:\n",
            "dev.txt  test.txt  train.txt\n"
          ]
        }
      ],
      "source": [
        "#@markdown this cell uses the `bash` shell commands (inside jupyter) to download \n",
        "#@markdown the relevant dataset in the dropbown to the runtime. the variable `data_dir`\n",
        "#@markdown points to the directory containing the files.\n",
        "url_project2data_full = \"https://www.dropbox.com/sh/xn85zbn7brqq35y/AAB80_k_OWttvnSjJRFgEFMca?dl=1\" #@param {type:\"string\"}\n",
        "url_project2data_20k = \"https://www.dropbox.com/sh/tr0jyps0qbqwo9v/AAAdfglvn1RLAza4Y2mtG33Za?dl=1\" #@param {type:\"string\"}\n",
        "data_dir = \"/content/project2-data\" #@param {type:\"string\"}\n",
        "!rm -r $data_dir # clear out directory \n",
        "zip_name = \"dataset.zip\"\n",
        "dataset = \"full\" #@param [\"full\", \"20k\"]\n",
        "if dataset == \"20k\":\n",
        "    # download the 20k short dataset\n",
        "    !wget $url_project2data_20k -O $zip_name\n",
        "    !unzip -j -q $zip_name -d $data_dir\n",
        "else:\n",
        "    # download the full dataset\n",
        "    !wget $url_project2data_full -O $zip_name\n",
        "    !unzip -j -q $zip_name -d $data_dir\n",
        "\n",
        "print(\"\\n\" * 3, f\"files in the {data_dir} directory are:\")\n",
        "!ls $data_dir"
      ],
      "id": "Rrdi59rArS7R"
    },
    {
      "cell_type": "markdown",
      "metadata": {
        "id": "vLidshGj7_Oi"
      },
      "source": [
        "### utilities\n"
      ],
      "id": "vLidshGj7_Oi"
    },
    {
      "cell_type": "code",
      "execution_count": null,
      "metadata": {
        "colab": {
          "base_uri": "https://localhost:8080/"
        },
        "id": "2irf71vB7-XA",
        "outputId": "005168d8-ef0f-4f6b-e7ef-bd5480c67dad"
      },
      "outputs": [
        {
          "data": {
            "text/html": [
              "\n",
              "  <style>\n",
              "    pre {\n",
              "        white-space: pre-wrap;\n",
              "    }\n",
              "  </style>\n",
              "  "
            ],
            "text/plain": [
              "<IPython.core.display.HTML object>"
            ]
          },
          "metadata": {},
          "output_type": "display_data"
        }
      ],
      "source": [
        "from datetime import datetime\n",
        "\n",
        "\n",
        "def get_timestamp():\n",
        "    \"\"\"\n",
        "    get_timestamp - return a timestamp in the format YYYY-MM-DD HH-MM-SS\n",
        "    \"\"\"\n",
        "    return datetime.now().strftime(\"%b-%d-%Y_%H-%M-%S\")"
      ],
      "id": "2irf71vB7-XA"
    },
    {
      "cell_type": "markdown",
      "metadata": {
        "id": "REXo2k5qusv_"
      },
      "source": [
        "### preprocess function"
      ],
      "id": "REXo2k5qusv_"
    },
    {
      "cell_type": "code",
      "execution_count": null,
      "metadata": {
        "colab": {
          "base_uri": "https://localhost:8080/"
        },
        "id": "HHa6li5evqyD",
        "outputId": "70405d4c-e34c-4a02-adea-d2224e1da9e2"
      },
      "outputs": [
        {
          "data": {
            "text/html": [
              "\n",
              "  <style>\n",
              "    pre {\n",
              "        white-space: pre-wrap;\n",
              "    }\n",
              "  </style>\n",
              "  "
            ],
            "text/plain": [
              "<IPython.core.display.HTML object>"
            ]
          },
          "metadata": {},
          "output_type": "display_data"
        }
      ],
      "source": [
        "#@markdown added tqdm to get a progress bar. [tqdm docs](https://tqdm.github.io/)\n",
        "from tqdm.auto import tqdm \n",
        "from pathlib import Path"
      ],
      "id": "HHa6li5evqyD"
    },
    {
      "cell_type": "code",
      "execution_count": null,
      "metadata": {
        "colab": {
          "base_uri": "https://localhost:8080/"
        },
        "id": "c9514df5",
        "outputId": "235569e6-bdf0-42c4-ee02-ed50a0d56338"
      },
      "outputs": [
        {
          "data": {
            "text/html": [
              "\n",
              "  <style>\n",
              "    pre {\n",
              "        white-space: pre-wrap;\n",
              "    }\n",
              "  </style>\n",
              "  "
            ],
            "text/plain": [
              "<IPython.core.display.HTML object>"
            ]
          },
          "metadata": {},
          "output_type": "display_data"
        }
      ],
      "source": [
        "#Load and preprocess data \n",
        "def load_split(filename, preprocess = True, stemmer = False,\n",
        "               rejoin_post_stem=False):\n",
        "    with open(filename, \"r\") as f:\n",
        "        textlines = f.readlines() # renamed from 'file'\n",
        "    abstract =\"\"\n",
        "    abstract_samples = []\n",
        "    nb_line = 0\n",
        "\n",
        "    base_name = Path(filename).name  # added tqdm just to show progress (this line and next)\n",
        "    for sentence in tqdm(\n",
        "                        textlines, # renamed from 'file'\n",
        "                        total=len(textlines), \n",
        "                        desc=f\"processing {base_name}\", \n",
        "                    ):\n",
        "        #print(sentence)\n",
        "        if(sentence[:3] == (\"###\")):\n",
        "            abstract_id = sentence\n",
        "            abstract =\"\"\n",
        "            nb_line = 0\n",
        "        #elif(sentence[:2] == (\"\\n\")):\n",
        "            #abstract_split = abstract.splitlines()\n",
        "            \n",
        "        #else:\n",
        "        elif(sentence[:2] != (\"\\n\")):\n",
        "            line = {}\n",
        "            sentence_split = sentence.split(\"\\t\")\n",
        "            \n",
        "            line[\"target\"] = sentence_split[0]\n",
        "            line[\"description\"] = sentence_split[1].lower().replace(\"\\n\", \"\")\n",
        "            line[\"line_number\"] = nb_line \n",
        "            nb_line +=1\n",
        "            \n",
        "            if(preprocess):\n",
        "                # split into words\n",
        "                tokens = word_tokenize(line[\"description\"])\n",
        "                # remove punctuation from each word\n",
        "                table = str.maketrans('', '', string.punctuation)\n",
        "                stripped = [w.translate(table) for w in tokens]\n",
        "                # remove remaining tokens that are not alphabetic\n",
        "                words = [word for word in stripped if word.isalpha()]\n",
        "                # filter out stop words\n",
        "                stop_words = set(stopwords.words('english'))\n",
        "                words = [w for w in words if not w.lower() in stop_words]\n",
        "                line[\"preprocess\"] = words\n",
        "\n",
        "                if(stemmer):\n",
        "                  stemmer_ps = PorterStemmer() \n",
        "                  stemmed_words_ps = [stemmer_ps.stem(word) for word in words]\n",
        "                  # NOTE - THIS WAS ADDED. convert the stemmed list back into \"normal\"\n",
        "                  line[\"preprocess\"] = \" \".join(stemmed_words_ps) if rejoin_post_stem else stemmed_words_ps\n",
        "            \n",
        "            abstract_samples.append(line)\n",
        "            \n",
        "\n",
        "    return abstract_samples"
      ],
      "id": "c9514df5"
    },
    {
      "cell_type": "markdown",
      "metadata": {
        "id": "-L2brF4uvlFT"
      },
      "source": [
        "## clean & process"
      ],
      "id": "-L2brF4uvlFT"
    },
    {
      "cell_type": "code",
      "execution_count": null,
      "metadata": {
        "cellView": "form",
        "colab": {
          "base_uri": "https://localhost:8080/",
          "height": 35
        },
        "id": "4CBHtfww6JuB",
        "outputId": "537115de-ce1d-4f4a-b7bc-271397e9d45a"
      },
      "outputs": [
        {
          "data": {
            "text/html": [
              "\n",
              "  <style>\n",
              "    pre {\n",
              "        white-space: pre-wrap;\n",
              "    }\n",
              "  </style>\n",
              "  "
            ],
            "text/plain": [
              "<IPython.core.display.HTML object>"
            ]
          },
          "metadata": {},
          "output_type": "display_data"
        },
        {
          "data": {
            "application/vnd.google.colaboratory.intrinsic+json": {
              "type": "string"
            },
            "text/plain": [
              "'Apr-26-2022_16-23-27'"
            ]
          },
          "execution_count": 15,
          "metadata": {},
          "output_type": "execute_result"
        }
      ],
      "source": [
        "do_preprocess = True #@param {type:\"boolean\"}\n",
        "do_stem = True #@param {type:\"boolean\"}\n",
        "rejoin_stemmed = False #@param {type:\"boolean\"}\n",
        "preprocess_options = {\n",
        "    \"do_preprocess\":do_preprocess,\n",
        "    \"do_stem\":do_stem,\n",
        "    \"rejoin_stemmed\":rejoin_stemmed,\n",
        "}\n",
        "logging.info(f\"\\n\\nsetting preprocessing options to:\\n\\t{preprocess_options}\")\n",
        "get_timestamp()"
      ],
      "id": "4CBHtfww6JuB"
    },
    {
      "cell_type": "code",
      "execution_count": null,
      "metadata": {
        "colab": {
          "base_uri": "https://localhost:8080/",
          "height": 197,
          "referenced_widgets": [
            "a38d8d2e77c149abbf8afd106b964b6c",
            "8807b9f3c368446f9a27692e1a0a3845",
            "a6292d13095f4a5a96074b39d8d07654",
            "74f02c4660944dd6a514d51fe8fca6db",
            "fb54ff4eb51c466a8ac46afd81446b36",
            "35fc9c7d2f364560b6afb7760943293c",
            "e371dbfa014240298c8ed50dad4f2458",
            "aca9fc7bac744ca68eb12b1cd3c1cf2f",
            "aec0a323a5cc4ee7b4b23a6c0c2226c2",
            "01bd7ed62aac40ff8d013a53479b030d",
            "192c4a3797c64a219864427f3b7c2b33",
            "854deecab9754278808e9a554dc96be5",
            "c299ac8aa6944d63b2510d4972a383c2",
            "7a75a0c87cb245fc82cbbff74ade15e2",
            "f51bdee936174c3b8f6638e3a814a0a3",
            "285d641b00d1445480d04d7a9b1915fe",
            "ab433e813e59469a94edd22780519038",
            "6a459a0e56404b459904cde8ab35af88",
            "9adb08c72d1f4b72990c135789d578c7",
            "5dd907cbf62044e19e402734e58ab758",
            "bbcb493c3c254e8eb2d5b44c7acafed7",
            "239d62e725db4c9aa7606cdcb58dabd3",
            "cd06a11eedb14b2e801ce8372e8ba49c",
            "d4c7dfea86c44f37b31d1ef2aae93446",
            "5fe6e10bccf7405485be8b5228e9be95",
            "5b220e69357c40bb9d5a22bbb3b5e5f5",
            "6c53e379f8bd42eda2fdb318fd925c7a",
            "d820e55b80074948bc8678a70e21e69b",
            "972deb70ee24428da6b04c5ef6959b6c",
            "8ea03045ecd94dc8a429277315ce8d4b",
            "c5b39c979c264760ac96e74d6e695674",
            "ff8a8862aab548f2abc4dc34777c33d4",
            "1a57bc0fe023407399d89d9ec1cf04df"
          ]
        },
        "id": "2ad18617",
        "outputId": "024590b2-7558-4ed1-d02f-b36c156785f4",
        "scrolled": true
      },
      "outputs": [
        {
          "data": {
            "text/html": [
              "\n",
              "  <style>\n",
              "    pre {\n",
              "        white-space: pre-wrap;\n",
              "    }\n",
              "  </style>\n",
              "  "
            ],
            "text/plain": [
              "<IPython.core.display.HTML object>"
            ]
          },
          "metadata": {},
          "output_type": "display_data"
        },
        {
          "data": {
            "application/vnd.jupyter.widget-view+json": {
              "model_id": "a38d8d2e77c149abbf8afd106b964b6c",
              "version_major": 2,
              "version_minor": 0
            },
            "text/plain": [
              "processing train.txt:   0%|          | 0/2593169 [00:00<?, ?it/s]"
            ]
          },
          "metadata": {},
          "output_type": "display_data"
        },
        {
          "data": {
            "application/vnd.jupyter.widget-view+json": {
              "model_id": "854deecab9754278808e9a554dc96be5",
              "version_major": 2,
              "version_minor": 0
            },
            "text/plain": [
              "processing dev.txt:   0%|          | 0/33932 [00:00<?, ?it/s]"
            ]
          },
          "metadata": {},
          "output_type": "display_data"
        },
        {
          "data": {
            "application/vnd.jupyter.widget-view+json": {
              "model_id": "cd06a11eedb14b2e801ce8372e8ba49c",
              "version_major": 2,
              "version_minor": 0
            },
            "text/plain": [
              "processing test.txt:   0%|          | 0/34493 [00:00<?, ?it/s]"
            ]
          },
          "metadata": {},
          "output_type": "display_data"
        }
      ],
      "source": [
        "\n",
        "base_path = data_dir\n",
        "\n",
        "\n",
        "train_samples_preprocess = load_split(os.path.join(base_path,\"train.txt\"), \n",
        "                                      preprocess=do_preprocess, stemmer = do_stem,\n",
        "                                      rejoin_post_stem=rejoin_stemmed)\n",
        "val_samples_preprocess = load_split(os.path.join(base_path,\"dev.txt\"), \n",
        "                                      preprocess=do_preprocess, stemmer = do_stem,\n",
        "                                      rejoin_post_stem=rejoin_stemmed)\n",
        "test_samples_preprocess = load_split(os.path.join(base_path,\"test.txt\"), \n",
        "                                      preprocess=do_preprocess, stemmer = do_stem,\n",
        "                                      rejoin_post_stem=rejoin_stemmed)"
      ],
      "id": "2ad18617"
    },
    {
      "cell_type": "code",
      "execution_count": null,
      "metadata": {
        "colab": {
          "base_uri": "https://localhost:8080/",
          "height": 580
        },
        "id": "65955580",
        "outputId": "6e2845e3-27d7-404f-981e-b89e4dee9410"
      },
      "outputs": [
        {
          "data": {
            "text/html": [
              "\n",
              "  <style>\n",
              "    pre {\n",
              "        white-space: pre-wrap;\n",
              "    }\n",
              "  </style>\n",
              "  "
            ],
            "text/plain": [
              "<IPython.core.display.HTML object>"
            ]
          },
          "metadata": {},
          "output_type": "display_data"
        },
        {
          "data": {
            "text/html": [
              "\n",
              "  <style>\n",
              "    pre {\n",
              "        white-space: pre-wrap;\n",
              "    }\n",
              "  </style>\n",
              "  "
            ],
            "text/plain": [
              "<IPython.core.display.HTML object>"
            ]
          },
          "metadata": {},
          "output_type": "display_data"
        },
        {
          "data": {
            "text/html": [
              "\n",
              "  <style>\n",
              "    pre {\n",
              "        white-space: pre-wrap;\n",
              "    }\n",
              "  </style>\n",
              "  "
            ],
            "text/plain": [
              "<IPython.core.display.HTML object>"
            ]
          },
          "metadata": {},
          "output_type": "display_data"
        },
        {
          "name": "stdout",
          "output_type": "stream",
          "text": [
            "loaded stored data successfully\n"
          ]
        },
        {
          "data": {
            "text/html": [
              "\n",
              "  <div id=\"df-fb698d47-caf9-44a5-b37c-dbda29ed6257\">\n",
              "    <div class=\"colab-df-container\">\n",
              "      <div>\n",
              "<style scoped>\n",
              "    .dataframe tbody tr th:only-of-type {\n",
              "        vertical-align: middle;\n",
              "    }\n",
              "\n",
              "    .dataframe tbody tr th {\n",
              "        vertical-align: top;\n",
              "    }\n",
              "\n",
              "    .dataframe thead th {\n",
              "        text-align: right;\n",
              "    }\n",
              "</style>\n",
              "<table border=\"1\" class=\"dataframe\">\n",
              "  <thead>\n",
              "    <tr style=\"text-align: right;\">\n",
              "      <th></th>\n",
              "      <th>target</th>\n",
              "      <th>description</th>\n",
              "      <th>line_number</th>\n",
              "      <th>preprocess</th>\n",
              "    </tr>\n",
              "  </thead>\n",
              "  <tbody>\n",
              "    <tr>\n",
              "      <th>0</th>\n",
              "      <td>BACKGROUND</td>\n",
              "      <td>the emergence of hiv as a chronic condition me...</td>\n",
              "      <td>0</td>\n",
              "      <td>['emerg', 'hiv', 'chronic', 'condit', 'mean', ...</td>\n",
              "    </tr>\n",
              "    <tr>\n",
              "      <th>1</th>\n",
              "      <td>BACKGROUND</td>\n",
              "      <td>this paper describes the design and evaluation...</td>\n",
              "      <td>1</td>\n",
              "      <td>['paper', 'describ', 'design', 'evalu', 'posit...</td>\n",
              "    </tr>\n",
              "    <tr>\n",
              "      <th>2</th>\n",
              "      <td>METHODS</td>\n",
              "      <td>this study is designed as a randomised control...</td>\n",
              "      <td>2</td>\n",
              "      <td>['studi', 'design', 'randomis', 'control', 'tr...</td>\n",
              "    </tr>\n",
              "    <tr>\n",
              "      <th>3</th>\n",
              "      <td>METHODS</td>\n",
              "      <td>the intervention group will participate in the...</td>\n",
              "      <td>3</td>\n",
              "      <td>['intervent', 'group', 'particip', 'onlin', 'g...</td>\n",
              "    </tr>\n",
              "    <tr>\n",
              "      <th>4</th>\n",
              "      <td>METHODS</td>\n",
              "      <td>the program is based on self-efficacy theory a...</td>\n",
              "      <td>4</td>\n",
              "      <td>['program', 'base', 'selfefficaci', 'theori', ...</td>\n",
              "    </tr>\n",
              "    <tr>\n",
              "      <th>5</th>\n",
              "      <td>METHODS</td>\n",
              "      <td>participants will access the program for a min...</td>\n",
              "      <td>5</td>\n",
              "      <td>['particip', 'access', 'program', 'minimum', '...</td>\n",
              "    </tr>\n",
              "    <tr>\n",
              "      <th>6</th>\n",
              "      <td>METHODS</td>\n",
              "      <td>primary outcomes are domain specific self-effi...</td>\n",
              "      <td>6</td>\n",
              "      <td>['primari', 'outcom', 'domain', 'specif', 'sel...</td>\n",
              "    </tr>\n",
              "    <tr>\n",
              "      <th>7</th>\n",
              "      <td>METHODS</td>\n",
              "      <td>secondary outcomes include : depression , anxi...</td>\n",
              "      <td>7</td>\n",
              "      <td>['secondari', 'outcom', 'includ', 'depress', '...</td>\n",
              "    </tr>\n",
              "    <tr>\n",
              "      <th>8</th>\n",
              "      <td>METHODS</td>\n",
              "      <td>data collection will take place at baseline , ...</td>\n",
              "      <td>8</td>\n",
              "      <td>['data', 'collect', 'take', 'place', 'baselin'...</td>\n",
              "    </tr>\n",
              "    <tr>\n",
              "      <th>9</th>\n",
              "      <td>CONCLUSIONS</td>\n",
              "      <td>results of the positive outlook study will pro...</td>\n",
              "      <td>9</td>\n",
              "      <td>['result', 'posit', 'outlook', 'studi', 'provi...</td>\n",
              "    </tr>\n",
              "    <tr>\n",
              "      <th>10</th>\n",
              "      <td>BACKGROUND</td>\n",
              "      <td>actrn12612000642886 .</td>\n",
              "      <td>10</td>\n",
              "      <td>[]</td>\n",
              "    </tr>\n",
              "    <tr>\n",
              "      <th>11</th>\n",
              "      <td>BACKGROUND</td>\n",
              "      <td>the aim of this study was to evaluate the effi...</td>\n",
              "      <td>0</td>\n",
              "      <td>['aim', 'studi', 'evalu', 'efficaci', 'safeti'...</td>\n",
              "    </tr>\n",
              "    <tr>\n",
              "      <th>12</th>\n",
              "      <td>METHODS</td>\n",
              "      <td>a total of 29 patients suffering from thyroid ...</td>\n",
              "      <td>1</td>\n",
              "      <td>['total', 'patient', 'suffer', 'thyroid', 'oph...</td>\n",
              "    </tr>\n",
              "    <tr>\n",
              "      <th>13</th>\n",
              "      <td>METHODS</td>\n",
              "      <td>patients were randomized into two groups : gro...</td>\n",
              "      <td>2</td>\n",
              "      <td>['patient', 'random', 'two', 'group', 'group',...</td>\n",
              "    </tr>\n",
              "    <tr>\n",
              "      <th>14</th>\n",
              "      <td>METHODS</td>\n",
              "      <td>only 12 patients in both groups ( 16 female an...</td>\n",
              "      <td>3</td>\n",
              "      <td>['patient', 'group', 'femal', 'male', 'complet...</td>\n",
              "    </tr>\n",
              "  </tbody>\n",
              "</table>\n",
              "</div>\n",
              "      <button class=\"colab-df-convert\" onclick=\"convertToInteractive('df-fb698d47-caf9-44a5-b37c-dbda29ed6257')\"\n",
              "              title=\"Convert this dataframe to an interactive table.\"\n",
              "              style=\"display:none;\">\n",
              "        \n",
              "  <svg xmlns=\"http://www.w3.org/2000/svg\" height=\"24px\"viewBox=\"0 0 24 24\"\n",
              "       width=\"24px\">\n",
              "    <path d=\"M0 0h24v24H0V0z\" fill=\"none\"/>\n",
              "    <path d=\"M18.56 5.44l.94 2.06.94-2.06 2.06-.94-2.06-.94-.94-2.06-.94 2.06-2.06.94zm-11 1L8.5 8.5l.94-2.06 2.06-.94-2.06-.94L8.5 2.5l-.94 2.06-2.06.94zm10 10l.94 2.06.94-2.06 2.06-.94-2.06-.94-.94-2.06-.94 2.06-2.06.94z\"/><path d=\"M17.41 7.96l-1.37-1.37c-.4-.4-.92-.59-1.43-.59-.52 0-1.04.2-1.43.59L10.3 9.45l-7.72 7.72c-.78.78-.78 2.05 0 2.83L4 21.41c.39.39.9.59 1.41.59.51 0 1.02-.2 1.41-.59l7.78-7.78 2.81-2.81c.8-.78.8-2.07 0-2.86zM5.41 20L4 18.59l7.72-7.72 1.47 1.35L5.41 20z\"/>\n",
              "  </svg>\n",
              "      </button>\n",
              "      \n",
              "  <style>\n",
              "    .colab-df-container {\n",
              "      display:flex;\n",
              "      flex-wrap:wrap;\n",
              "      gap: 12px;\n",
              "    }\n",
              "\n",
              "    .colab-df-convert {\n",
              "      background-color: #E8F0FE;\n",
              "      border: none;\n",
              "      border-radius: 50%;\n",
              "      cursor: pointer;\n",
              "      display: none;\n",
              "      fill: #1967D2;\n",
              "      height: 32px;\n",
              "      padding: 0 0 0 0;\n",
              "      width: 32px;\n",
              "    }\n",
              "\n",
              "    .colab-df-convert:hover {\n",
              "      background-color: #E2EBFA;\n",
              "      box-shadow: 0px 1px 2px rgba(60, 64, 67, 0.3), 0px 1px 3px 1px rgba(60, 64, 67, 0.15);\n",
              "      fill: #174EA6;\n",
              "    }\n",
              "\n",
              "    [theme=dark] .colab-df-convert {\n",
              "      background-color: #3B4455;\n",
              "      fill: #D2E3FC;\n",
              "    }\n",
              "\n",
              "    [theme=dark] .colab-df-convert:hover {\n",
              "      background-color: #434B5C;\n",
              "      box-shadow: 0px 1px 3px 1px rgba(0, 0, 0, 0.15);\n",
              "      filter: drop-shadow(0px 1px 2px rgba(0, 0, 0, 0.3));\n",
              "      fill: #FFFFFF;\n",
              "    }\n",
              "  </style>\n",
              "\n",
              "      <script>\n",
              "        const buttonEl =\n",
              "          document.querySelector('#df-fb698d47-caf9-44a5-b37c-dbda29ed6257 button.colab-df-convert');\n",
              "        buttonEl.style.display =\n",
              "          google.colab.kernel.accessAllowed ? 'block' : 'none';\n",
              "\n",
              "        async function convertToInteractive(key) {\n",
              "          const element = document.querySelector('#df-fb698d47-caf9-44a5-b37c-dbda29ed6257');\n",
              "          const dataTable =\n",
              "            await google.colab.kernel.invokeFunction('convertToInteractive',\n",
              "                                                     [key], {});\n",
              "          if (!dataTable) return;\n",
              "\n",
              "          const docLinkHtml = 'Like what you see? Visit the ' +\n",
              "            '<a target=\"_blank\" href=https://colab.research.google.com/notebooks/data_table.ipynb>data table notebook</a>'\n",
              "            + ' to learn more about interactive tables.';\n",
              "          element.innerHTML = '';\n",
              "          dataTable['output_type'] = 'display_data';\n",
              "          await google.colab.output.renderOutput(dataTable, element);\n",
              "          const docLink = document.createElement('div');\n",
              "          docLink.innerHTML = docLinkHtml;\n",
              "          element.appendChild(docLink);\n",
              "        }\n",
              "      </script>\n",
              "    </div>\n",
              "  </div>\n",
              "  "
            ],
            "text/plain": [
              "         target                                        description  \\\n",
              "0    BACKGROUND  the emergence of hiv as a chronic condition me...   \n",
              "1    BACKGROUND  this paper describes the design and evaluation...   \n",
              "2       METHODS  this study is designed as a randomised control...   \n",
              "3       METHODS  the intervention group will participate in the...   \n",
              "4       METHODS  the program is based on self-efficacy theory a...   \n",
              "5       METHODS  participants will access the program for a min...   \n",
              "6       METHODS  primary outcomes are domain specific self-effi...   \n",
              "7       METHODS  secondary outcomes include : depression , anxi...   \n",
              "8       METHODS  data collection will take place at baseline , ...   \n",
              "9   CONCLUSIONS  results of the positive outlook study will pro...   \n",
              "10   BACKGROUND                              actrn12612000642886 .   \n",
              "11   BACKGROUND  the aim of this study was to evaluate the effi...   \n",
              "12      METHODS  a total of 29 patients suffering from thyroid ...   \n",
              "13      METHODS  patients were randomized into two groups : gro...   \n",
              "14      METHODS  only 12 patients in both groups ( 16 female an...   \n",
              "\n",
              "    line_number                                         preprocess  \n",
              "0             0  ['emerg', 'hiv', 'chronic', 'condit', 'mean', ...  \n",
              "1             1  ['paper', 'describ', 'design', 'evalu', 'posit...  \n",
              "2             2  ['studi', 'design', 'randomis', 'control', 'tr...  \n",
              "3             3  ['intervent', 'group', 'particip', 'onlin', 'g...  \n",
              "4             4  ['program', 'base', 'selfefficaci', 'theori', ...  \n",
              "5             5  ['particip', 'access', 'program', 'minimum', '...  \n",
              "6             6  ['primari', 'outcom', 'domain', 'specif', 'sel...  \n",
              "7             7  ['secondari', 'outcom', 'includ', 'depress', '...  \n",
              "8             8  ['data', 'collect', 'take', 'place', 'baselin'...  \n",
              "9             9  ['result', 'posit', 'outlook', 'studi', 'provi...  \n",
              "10           10                                                 []  \n",
              "11            0  ['aim', 'studi', 'evalu', 'efficaci', 'safeti'...  \n",
              "12            1  ['total', 'patient', 'suffer', 'thyroid', 'oph...  \n",
              "13            2  ['patient', 'random', 'two', 'group', 'group',...  \n",
              "14            3  ['patient', 'group', 'femal', 'male', 'complet...  "
            ]
          },
          "execution_count": 69,
          "metadata": {},
          "output_type": "execute_result"
        }
      ],
      "source": [
        "#Transform in dataframes \n",
        "sideload_data = True #@param {type:\"boolean\"}\n",
        "\n",
        "sideload_train = \"/content/drive/MyDrive/ETHZ-2022-S/ML-healthcare-projects/project2/fulldata_context_stem/stemmed_processed_fulldata_TRAIN.csv\" #@param {type:\"string\"}\n",
        "sideload_val = \"/content/drive/MyDrive/ETHZ-2022-S/ML-healthcare-projects/project2/fulldata_context_stem/stemmed_processed_fulldata_VAL.csv\" #@param {type:\"string\"}\n",
        "sideload_test = \"/content/drive/MyDrive/ETHZ-2022-S/ML-healthcare-projects/project2/fulldata_context_stem/stemmed_processed_fulldata_TEST.csv\" #@param {type:\"string\"}\n",
        "\n",
        "if sideload_data:\n",
        "    train_df = pd.read_csv(sideload_train)\n",
        "    val_df = pd.read_csv(sideload_val)\n",
        "    test_df = pd.read_csv(sideload_test)\n",
        "    print(\"loaded stored data successfully\")\n",
        "else:\n",
        "    train_df = pd.DataFrame(train_samples_preprocess).convert_dtypes()\n",
        "    val_df = pd.DataFrame(val_samples_preprocess).convert_dtypes()\n",
        "    test_df = pd.DataFrame(test_samples_preprocess).convert_dtypes()\n",
        "train_df.head(15)"
      ],
      "id": "65955580"
    },
    {
      "cell_type": "code",
      "execution_count": null,
      "metadata": {
        "colab": {
          "base_uri": "https://localhost:8080/",
          "height": 69
        },
        "id": "7247b552",
        "outputId": "9fbf018d-02ed-4472-8825-4b6e43fc7303"
      },
      "outputs": [
        {
          "data": {
            "text/html": [
              "\n",
              "  <style>\n",
              "    pre {\n",
              "        white-space: pre-wrap;\n",
              "    }\n",
              "  </style>\n",
              "  "
            ],
            "text/plain": [
              "<IPython.core.display.HTML object>"
            ]
          },
          "metadata": {},
          "output_type": "display_data"
        },
        {
          "data": {
            "text/html": [
              "\n",
              "  <style>\n",
              "    pre {\n",
              "        white-space: pre-wrap;\n",
              "    }\n",
              "  </style>\n",
              "  "
            ],
            "text/plain": [
              "<IPython.core.display.HTML object>"
            ]
          },
          "metadata": {},
          "output_type": "display_data"
        },
        {
          "data": {
            "text/html": [
              "\n",
              "  <style>\n",
              "    pre {\n",
              "        white-space: pre-wrap;\n",
              "    }\n",
              "  </style>\n",
              "  "
            ],
            "text/plain": [
              "<IPython.core.display.HTML object>"
            ]
          },
          "metadata": {},
          "output_type": "display_data"
        },
        {
          "name": "stdout",
          "output_type": "stream",
          "text": [
            "the first value of train is the emergence of hiv as a chronic condition means that people living with hiv are required to take more responsibility for the self-management of their condition , including making physical , emotional and social adjustments .\n"
          ]
        }
      ],
      "source": [
        "#lists of sentences\n",
        "train_sentences = train_df['description'].tolist()\n",
        "val_sentences = val_df['description'].tolist()\n",
        "test_sentences = test_df['description'].tolist()\n",
        "\n",
        "print(f\"the first value of train is {train_sentences[0]}\")\n"
      ],
      "id": "7247b552"
    },
    {
      "cell_type": "code",
      "execution_count": null,
      "metadata": {
        "colab": {
          "base_uri": "https://localhost:8080/",
          "height": 52
        },
        "id": "4d2b41d2",
        "outputId": "77c1cdce-fe74-44dc-aa89-08eab870959a"
      },
      "outputs": [
        {
          "data": {
            "text/html": [
              "\n",
              "  <style>\n",
              "    pre {\n",
              "        white-space: pre-wrap;\n",
              "    }\n",
              "  </style>\n",
              "  "
            ],
            "text/plain": [
              "<IPython.core.display.HTML object>"
            ]
          },
          "metadata": {},
          "output_type": "display_data"
        },
        {
          "data": {
            "text/html": [
              "\n",
              "  <style>\n",
              "    pre {\n",
              "        white-space: pre-wrap;\n",
              "    }\n",
              "  </style>\n",
              "  "
            ],
            "text/plain": [
              "<IPython.core.display.HTML object>"
            ]
          },
          "metadata": {},
          "output_type": "display_data"
        },
        {
          "data": {
            "text/html": [
              "\n",
              "  <style>\n",
              "    pre {\n",
              "        white-space: pre-wrap;\n",
              "    }\n",
              "  </style>\n",
              "  "
            ],
            "text/plain": [
              "<IPython.core.display.HTML object>"
            ]
          },
          "metadata": {},
          "output_type": "display_data"
        },
        {
          "name": "stdout",
          "output_type": "stream",
          "text": [
            "the first value of train is ['emerg', 'hiv', 'chronic', 'condit', 'mean', 'peopl', 'live', 'hiv', 'requir', 'take', 'respons', 'selfmanag', 'condit', 'includ', 'make', 'physic', 'emot', 'social', 'adjust']\n"
          ]
        }
      ],
      "source": [
        "#lists of preprocessed sentences\n",
        "if not do_preprocess:\n",
        "    print(f\"preprocessing set to {do_preprocess}, copying description col into preprocess col\")\n",
        "    train_df['preprocess'] = train_df['description']\n",
        "    val_df['preprocess'] = val_df['description']\n",
        "    test_df['preprocess'] = test_df['description']\n",
        "train_sentences_prep = train_df['preprocess'].tolist()\n",
        "val_sentences_prep = val_df['preprocess'].tolist()\n",
        "test_sentences_prep = test_df['preprocess'].tolist()\n",
        "\n",
        "print(f\"the first value of train is {train_sentences_prep[0]}\")"
      ],
      "id": "4d2b41d2"
    },
    {
      "cell_type": "code",
      "execution_count": null,
      "metadata": {
        "colab": {
          "base_uri": "https://localhost:8080/",
          "height": 17
        },
        "id": "2dba0118",
        "outputId": "52862e9b-af49-469d-be31-8e0a22f6b8cd"
      },
      "outputs": [
        {
          "data": {
            "text/html": [
              "\n",
              "  <style>\n",
              "    pre {\n",
              "        white-space: pre-wrap;\n",
              "    }\n",
              "  </style>\n",
              "  "
            ],
            "text/plain": [
              "<IPython.core.display.HTML object>"
            ]
          },
          "metadata": {},
          "output_type": "display_data"
        },
        {
          "data": {
            "text/html": [
              "\n",
              "  <style>\n",
              "    pre {\n",
              "        white-space: pre-wrap;\n",
              "    }\n",
              "  </style>\n",
              "  "
            ],
            "text/plain": [
              "<IPython.core.display.HTML object>"
            ]
          },
          "metadata": {},
          "output_type": "display_data"
        },
        {
          "data": {
            "text/html": [
              "\n",
              "  <style>\n",
              "    pre {\n",
              "        white-space: pre-wrap;\n",
              "    }\n",
              "  </style>\n",
              "  "
            ],
            "text/plain": [
              "<IPython.core.display.HTML object>"
            ]
          },
          "metadata": {},
          "output_type": "display_data"
        }
      ],
      "source": [
        "#lists of targets\n",
        "labels_train = train_df['target'].tolist()\n",
        "labels_val = val_df['target'].tolist()\n",
        "labels_test = test_df['target'].tolist()"
      ],
      "id": "2dba0118"
    },
    {
      "cell_type": "code",
      "execution_count": null,
      "metadata": {
        "colab": {
          "base_uri": "https://localhost:8080/",
          "height": 17
        },
        "id": "6e209351",
        "outputId": "5142c172-be7b-4fa4-c9b4-91936779204b"
      },
      "outputs": [
        {
          "data": {
            "text/html": [
              "\n",
              "  <style>\n",
              "    pre {\n",
              "        white-space: pre-wrap;\n",
              "    }\n",
              "  </style>\n",
              "  "
            ],
            "text/plain": [
              "<IPython.core.display.HTML object>"
            ]
          },
          "metadata": {},
          "output_type": "display_data"
        },
        {
          "data": {
            "text/html": [
              "\n",
              "  <style>\n",
              "    pre {\n",
              "        white-space: pre-wrap;\n",
              "    }\n",
              "  </style>\n",
              "  "
            ],
            "text/plain": [
              "<IPython.core.display.HTML object>"
            ]
          },
          "metadata": {},
          "output_type": "display_data"
        },
        {
          "data": {
            "text/html": [
              "\n",
              "  <style>\n",
              "    pre {\n",
              "        white-space: pre-wrap;\n",
              "    }\n",
              "  </style>\n",
              "  "
            ],
            "text/plain": [
              "<IPython.core.display.HTML object>"
            ]
          },
          "metadata": {},
          "output_type": "display_data"
        }
      ],
      "source": [
        "label_map = {\n",
        "    'BACKGROUND': 0,\n",
        "    'CONCLUSIONS': 1,\n",
        "    'METHODS': 2,\n",
        "    'OBJECTIVE': 3,\n",
        "    'RESULTS': 4,\n",
        "}"
      ],
      "id": "6e209351"
    },
    {
      "cell_type": "code",
      "execution_count": null,
      "metadata": {
        "colab": {
          "base_uri": "https://localhost:8080/",
          "height": 17
        },
        "id": "b0a89cb2",
        "outputId": "a35f3b56-0d49-476d-cdaf-dde514fda29e"
      },
      "outputs": [
        {
          "data": {
            "text/html": [
              "\n",
              "  <style>\n",
              "    pre {\n",
              "        white-space: pre-wrap;\n",
              "    }\n",
              "  </style>\n",
              "  "
            ],
            "text/plain": [
              "<IPython.core.display.HTML object>"
            ]
          },
          "metadata": {},
          "output_type": "display_data"
        },
        {
          "data": {
            "text/html": [
              "\n",
              "  <style>\n",
              "    pre {\n",
              "        white-space: pre-wrap;\n",
              "    }\n",
              "  </style>\n",
              "  "
            ],
            "text/plain": [
              "<IPython.core.display.HTML object>"
            ]
          },
          "metadata": {},
          "output_type": "display_data"
        },
        {
          "data": {
            "text/html": [
              "\n",
              "  <style>\n",
              "    pre {\n",
              "        white-space: pre-wrap;\n",
              "    }\n",
              "  </style>\n",
              "  "
            ],
            "text/plain": [
              "<IPython.core.display.HTML object>"
            ]
          },
          "metadata": {},
          "output_type": "display_data"
        }
      ],
      "source": [
        "#Encode labels\n",
        "train_labels = np.asarray([label_map[label] for label in labels_train])\n",
        "val_labels = np.asarray([label_map[label] for label in labels_val])\n",
        "test_labels = np.asarray([label_map[label] for label in labels_test])"
      ],
      "id": "b0a89cb2"
    },
    {
      "cell_type": "code",
      "execution_count": null,
      "metadata": {
        "colab": {
          "base_uri": "https://localhost:8080/",
          "height": 285
        },
        "id": "89712eaa",
        "outputId": "f0323628-7ac0-4027-8aee-debb15a5a401"
      },
      "outputs": [
        {
          "data": {
            "text/html": [
              "\n",
              "  <style>\n",
              "    pre {\n",
              "        white-space: pre-wrap;\n",
              "    }\n",
              "  </style>\n",
              "  "
            ],
            "text/plain": [
              "<IPython.core.display.HTML object>"
            ]
          },
          "metadata": {},
          "output_type": "display_data"
        },
        {
          "data": {
            "text/html": [
              "\n",
              "  <style>\n",
              "    pre {\n",
              "        white-space: pre-wrap;\n",
              "    }\n",
              "  </style>\n",
              "  "
            ],
            "text/plain": [
              "<IPython.core.display.HTML object>"
            ]
          },
          "metadata": {},
          "output_type": "display_data"
        },
        {
          "data": {
            "text/html": [
              "\n",
              "  <style>\n",
              "    pre {\n",
              "        white-space: pre-wrap;\n",
              "    }\n",
              "  </style>\n",
              "  "
            ],
            "text/plain": [
              "<IPython.core.display.HTML object>"
            ]
          },
          "metadata": {},
          "output_type": "display_data"
        },
        {
          "data": {
            "text/plain": [
              "<AxesSubplot:ylabel='count'>"
            ]
          },
          "execution_count": 75,
          "metadata": {},
          "output_type": "execute_result"
        },
        {
          "data": {
            "image/png": "[encoded data removed]",
            "text/plain": [
              "<Figure size 432x288 with 1 Axes>"
            ]
          },
          "metadata": {},
          "output_type": "display_data"
        }
      ],
      "source": [
        "sns.countplot(x=train_labels)"
      ],
      "id": "89712eaa"
    },
    {
      "cell_type": "markdown",
      "metadata": {
        "id": "I-14t-z9sy2p"
      },
      "source": [
        "##Save preprocessed "
      ],
      "id": "I-14t-z9sy2p"
    },
    {
      "cell_type": "code",
      "execution_count": null,
      "metadata": {
        "colab": {
          "base_uri": "https://localhost:8080/"
        },
        "id": "jwHQ0HkEsgRv",
        "outputId": "56353303-3b41-49d5-c7d4-8907abf22c86"
      },
      "outputs": [
        {
          "data": {
            "text/html": [
              "\n",
              "  <style>\n",
              "    pre {\n",
              "        white-space: pre-wrap;\n",
              "    }\n",
              "  </style>\n",
              "  "
            ],
            "text/plain": [
              "<IPython.core.display.HTML object>"
            ]
          },
          "metadata": {},
          "output_type": "display_data"
        },
        {
          "ename": "FileNotFoundError",
          "evalue": "ignored",
          "output_type": "error",
          "traceback": [
            "\u001b[0;31m---------------------------------------------------------------------------\u001b[0m",
            "\u001b[0;31mFileNotFoundError\u001b[0m                         Traceback (most recent call last)",
            "\u001b[0;32m<ipython-input-23-7268220b2ffb>\u001b[0m in \u001b[0;36m<module>\u001b[0;34m()\u001b[0m\n\u001b[1;32m      1\u001b[0m \u001b[0;32mimport\u001b[0m \u001b[0mcsv\u001b[0m\u001b[0;34m\u001b[0m\u001b[0;34m\u001b[0m\u001b[0m\n\u001b[1;32m      2\u001b[0m \u001b[0mpath_base\u001b[0m \u001b[0;34m=\u001b[0m \u001b[0;34m(\u001b[0m\u001b[0;34m'drive/MyDrive/ETH'\u001b[0m\u001b[0;34m)\u001b[0m\u001b[0;34m\u001b[0m\u001b[0;34m\u001b[0m\u001b[0m\n\u001b[0;32m----> 3\u001b[0;31m \u001b[0mtrain_df\u001b[0m\u001b[0;34m[\u001b[0m\u001b[0;34m'preprocess'\u001b[0m\u001b[0;34m]\u001b[0m\u001b[0;34m.\u001b[0m\u001b[0mto_csv\u001b[0m\u001b[0;34m(\u001b[0m\u001b[0mos\u001b[0m\u001b[0;34m.\u001b[0m\u001b[0mpath\u001b[0m\u001b[0;34m.\u001b[0m\u001b[0mjoin\u001b[0m\u001b[0;34m(\u001b[0m\u001b[0mpath_base\u001b[0m\u001b[0;34m,\u001b[0m\u001b[0;34m\"train_sentences_prep.csv\"\u001b[0m\u001b[0;34m)\u001b[0m\u001b[0;34m)\u001b[0m\u001b[0;34m\u001b[0m\u001b[0;34m\u001b[0m\u001b[0m\n\u001b[0m\u001b[1;32m      4\u001b[0m \u001b[0mtest_df\u001b[0m\u001b[0;34m[\u001b[0m\u001b[0;34m'preprocess'\u001b[0m\u001b[0;34m]\u001b[0m\u001b[0;34m.\u001b[0m\u001b[0mto_csv\u001b[0m\u001b[0;34m(\u001b[0m\u001b[0mos\u001b[0m\u001b[0;34m.\u001b[0m\u001b[0mpath\u001b[0m\u001b[0;34m.\u001b[0m\u001b[0mjoin\u001b[0m\u001b[0;34m(\u001b[0m\u001b[0mpath_base\u001b[0m\u001b[0;34m,\u001b[0m\u001b[0;34m\"test_sentences_prep.csv\"\u001b[0m\u001b[0;34m)\u001b[0m\u001b[0;34m)\u001b[0m\u001b[0;34m\u001b[0m\u001b[0;34m\u001b[0m\u001b[0m\n\u001b[1;32m      5\u001b[0m \u001b[0mval_df\u001b[0m\u001b[0;34m[\u001b[0m\u001b[0;34m'preprocess'\u001b[0m\u001b[0;34m]\u001b[0m\u001b[0;34m.\u001b[0m\u001b[0mto_csv\u001b[0m\u001b[0;34m(\u001b[0m\u001b[0mos\u001b[0m\u001b[0;34m.\u001b[0m\u001b[0mpath\u001b[0m\u001b[0;34m.\u001b[0m\u001b[0mjoin\u001b[0m\u001b[0;34m(\u001b[0m\u001b[0mpath_base\u001b[0m\u001b[0;34m,\u001b[0m\u001b[0;34m\"val_sentences_prep.csv\"\u001b[0m\u001b[0;34m)\u001b[0m\u001b[0;34m)\u001b[0m\u001b[0;34m\u001b[0m\u001b[0;34m\u001b[0m\u001b[0m\n",
            "\u001b[0;32m/usr/local/lib/python3.7/dist-packages/pandas/core/generic.py\u001b[0m in \u001b[0;36mto_csv\u001b[0;34m(self, path_or_buf, sep, na_rep, float_format, columns, header, index, index_label, mode, encoding, compression, quoting, quotechar, line_terminator, chunksize, date_format, doublequote, escapechar, decimal, errors, storage_options)\u001b[0m\n\u001b[1;32m   3480\u001b[0m             \u001b[0mdoublequote\u001b[0m\u001b[0;34m=\u001b[0m\u001b[0mdoublequote\u001b[0m\u001b[0;34m,\u001b[0m\u001b[0;34m\u001b[0m\u001b[0;34m\u001b[0m\u001b[0m\n\u001b[1;32m   3481\u001b[0m             \u001b[0mescapechar\u001b[0m\u001b[0;34m=\u001b[0m\u001b[0mescapechar\u001b[0m\u001b[0;34m,\u001b[0m\u001b[0;34m\u001b[0m\u001b[0;34m\u001b[0m\u001b[0m\n\u001b[0;32m-> 3482\u001b[0;31m             \u001b[0mstorage_options\u001b[0m\u001b[0;34m=\u001b[0m\u001b[0mstorage_options\u001b[0m\u001b[0;34m,\u001b[0m\u001b[0;34m\u001b[0m\u001b[0;34m\u001b[0m\u001b[0m\n\u001b[0m\u001b[1;32m   3483\u001b[0m         )\n\u001b[1;32m   3484\u001b[0m \u001b[0;34m\u001b[0m\u001b[0m\n",
            "\u001b[0;32m/usr/local/lib/python3.7/dist-packages/pandas/io/formats/format.py\u001b[0m in \u001b[0;36mto_csv\u001b[0;34m(self, path_or_buf, encoding, sep, columns, index_label, mode, compression, quoting, quotechar, line_terminator, chunksize, date_format, doublequote, escapechar, errors, storage_options)\u001b[0m\n\u001b[1;32m   1103\u001b[0m             \u001b[0mformatter\u001b[0m\u001b[0;34m=\u001b[0m\u001b[0mself\u001b[0m\u001b[0;34m.\u001b[0m\u001b[0mfmt\u001b[0m\u001b[0;34m,\u001b[0m\u001b[0;34m\u001b[0m\u001b[0;34m\u001b[0m\u001b[0m\n\u001b[1;32m   1104\u001b[0m         )\n\u001b[0;32m-> 1105\u001b[0;31m         \u001b[0mcsv_formatter\u001b[0m\u001b[0;34m.\u001b[0m\u001b[0msave\u001b[0m\u001b[0;34m(\u001b[0m\u001b[0;34m)\u001b[0m\u001b[0;34m\u001b[0m\u001b[0;34m\u001b[0m\u001b[0m\n\u001b[0m\u001b[1;32m   1106\u001b[0m \u001b[0;34m\u001b[0m\u001b[0m\n\u001b[1;32m   1107\u001b[0m         \u001b[0;32mif\u001b[0m \u001b[0mcreated_buffer\u001b[0m\u001b[0;34m:\u001b[0m\u001b[0;34m\u001b[0m\u001b[0;34m\u001b[0m\u001b[0m\n",
            "\u001b[0;32m/usr/local/lib/python3.7/dist-packages/pandas/io/formats/csvs.py\u001b[0m in \u001b[0;36msave\u001b[0;34m(self)\u001b[0m\n\u001b[1;32m    241\u001b[0m             \u001b[0merrors\u001b[0m\u001b[0;34m=\u001b[0m\u001b[0mself\u001b[0m\u001b[0;34m.\u001b[0m\u001b[0merrors\u001b[0m\u001b[0;34m,\u001b[0m\u001b[0;34m\u001b[0m\u001b[0;34m\u001b[0m\u001b[0m\n\u001b[1;32m    242\u001b[0m             \u001b[0mcompression\u001b[0m\u001b[0;34m=\u001b[0m\u001b[0mself\u001b[0m\u001b[0;34m.\u001b[0m\u001b[0mcompression\u001b[0m\u001b[0;34m,\u001b[0m\u001b[0;34m\u001b[0m\u001b[0;34m\u001b[0m\u001b[0m\n\u001b[0;32m--> 243\u001b[0;31m             \u001b[0mstorage_options\u001b[0m\u001b[0;34m=\u001b[0m\u001b[0mself\u001b[0m\u001b[0;34m.\u001b[0m\u001b[0mstorage_options\u001b[0m\u001b[0;34m,\u001b[0m\u001b[0;34m\u001b[0m\u001b[0;34m\u001b[0m\u001b[0m\n\u001b[0m\u001b[1;32m    244\u001b[0m         ) as handles:\n\u001b[1;32m    245\u001b[0m \u001b[0;34m\u001b[0m\u001b[0m\n",
            "\u001b[0;32m/usr/local/lib/python3.7/dist-packages/pandas/io/common.py\u001b[0m in \u001b[0;36mget_handle\u001b[0;34m(path_or_buf, mode, encoding, compression, memory_map, is_text, errors, storage_options)\u001b[0m\n\u001b[1;32m    705\u001b[0m                 \u001b[0mencoding\u001b[0m\u001b[0;34m=\u001b[0m\u001b[0mioargs\u001b[0m\u001b[0;34m.\u001b[0m\u001b[0mencoding\u001b[0m\u001b[0;34m,\u001b[0m\u001b[0;34m\u001b[0m\u001b[0;34m\u001b[0m\u001b[0m\n\u001b[1;32m    706\u001b[0m                 \u001b[0merrors\u001b[0m\u001b[0;34m=\u001b[0m\u001b[0merrors\u001b[0m\u001b[0;34m,\u001b[0m\u001b[0;34m\u001b[0m\u001b[0;34m\u001b[0m\u001b[0m\n\u001b[0;32m--> 707\u001b[0;31m                 \u001b[0mnewline\u001b[0m\u001b[0;34m=\u001b[0m\u001b[0;34m\"\"\u001b[0m\u001b[0;34m,\u001b[0m\u001b[0;34m\u001b[0m\u001b[0;34m\u001b[0m\u001b[0m\n\u001b[0m\u001b[1;32m    708\u001b[0m             )\n\u001b[1;32m    709\u001b[0m         \u001b[0;32melse\u001b[0m\u001b[0;34m:\u001b[0m\u001b[0;34m\u001b[0m\u001b[0;34m\u001b[0m\u001b[0m\n",
            "\u001b[0;31mFileNotFoundError\u001b[0m: [Errno 2] No such file or directory: 'drive/MyDrive/ETH/train_sentences_prep.csv'"
          ]
        }
      ],
      "source": [
        "import csv\n",
        "path_base = ('drive/MyDrive/ETH')\n",
        "train_df['preprocess'].to_csv(os.path.join(path_base,\"train_sentences_prep.csv\")) \n",
        "test_df['preprocess'].to_csv(os.path.join(path_base,\"test_sentences_prep.csv\")) \n",
        "val_df['preprocess'].to_csv(os.path.join(path_base,\"val_sentences_prep.csv\")) \n",
        "#np.savetxt(os.path.join(base_path,\"train_sentences_prep.csv\"), train_sentences_prep,delimiter =\", \", fmt ='% s')\n",
        "#train_sentences_prep "
      ],
      "id": "jwHQ0HkEsgRv"
    },
    {
      "cell_type": "code",
      "execution_count": null,
      "metadata": {
        "id": "23fZuprw35vq"
      },
      "outputs": [],
      "source": [
        "path_base = ('drive/MyDrive/ETH')\n",
        "train_sentences_prep = pd.read_csv(os.path.join(path_base,\"train_sentences_prep.csv\"))['preprocess']\n",
        "test_sentences_prep = pd.read_csv(os.path.join(path_base,\"test_sentences_prep.csv\"))['preprocess']\n",
        "val_sentences_prep = pd.read_csv(os.path.join(path_base,\"val_sentences_prep.csv\"))['preprocess']"
      ],
      "id": "23fZuprw35vq"
    },
    {
      "cell_type": "code",
      "execution_count": null,
      "metadata": {
        "id": "bnu4rCb6tOW-"
      },
      "outputs": [],
      "source": [
        "from gensim.test.utils import get_tmpfile\n",
        "\n",
        "fname = get_tmpfile(os.path.join(path_base,\"fasttext100.model\"))\n",
        "#ft_model.save(os.path.join(path_base,\"fasttext100.model\"))\n",
        "\n",
        "#model = FastText.load(fname)"
      ],
      "id": "bnu4rCb6tOW-"
    },
    {
      "cell_type": "markdown",
      "metadata": {
        "id": "7abf7ea0"
      },
      "source": [
        "## Task 1: Baseline Model "
      ],
      "id": "7abf7ea0"
    },
    {
      "cell_type": "markdown",
      "metadata": {
        "id": "vsNUGX_T9F4j"
      },
      "source": [
        "### Classifiers"
      ],
      "id": "vsNUGX_T9F4j"
    },
    {
      "cell_type": "code",
      "execution_count": null,
      "metadata": {
        "colab": {
          "base_uri": "https://localhost:8080/",
          "height": 17
        },
        "id": "FAi_f_bGp0He",
        "outputId": "e4647092-d896-42b6-e337-5ac6f5675b8d"
      },
      "outputs": [
        {
          "data": {
            "text/html": [
              "\n",
              "  <style>\n",
              "    pre {\n",
              "        white-space: pre-wrap;\n",
              "    }\n",
              "  </style>\n",
              "  "
            ],
            "text/plain": [
              "<IPython.core.display.HTML object>"
            ]
          },
          "metadata": {},
          "output_type": "display_data"
        }
      ],
      "source": [
        "# MLP\n",
        "from sklearn.neural_network import MLPClassifier\n",
        "MLP = MLPClassifier(hidden_layer_sizes=(50,), activation='tanh',\n",
        "                    random_state=1)"
      ],
      "id": "FAi_f_bGp0He"
    },
    {
      "cell_type": "code",
      "execution_count": null,
      "metadata": {
        "colab": {
          "base_uri": "https://localhost:8080/",
          "height": 17
        },
        "id": "a3850a25",
        "outputId": "a4de0222-047e-48f3-acee-3f9dd8ac8e10"
      },
      "outputs": [
        {
          "data": {
            "text/html": [
              "\n",
              "  <style>\n",
              "    pre {\n",
              "        white-space: pre-wrap;\n",
              "    }\n",
              "  </style>\n",
              "  "
            ],
            "text/plain": [
              "<IPython.core.display.HTML object>"
            ]
          },
          "metadata": {},
          "output_type": "display_data"
        }
      ],
      "source": [
        "# Logistic Regression\n",
        "LR = LogisticRegression(\n",
        "    verbose=0,\n",
        "    class_weight = \"balanced\",\n",
        "    random_state = 0,\n",
        "    multi_class = \"multinomial\",\n",
        "    max_iter=100 ** 2,\n",
        "    n_jobs=os.cpu_count(),\n",
        ")"
      ],
      "id": "a3850a25"
    },
    {
      "cell_type": "code",
      "execution_count": null,
      "metadata": {
        "colab": {
          "base_uri": "https://localhost:8080/",
          "height": 17
        },
        "id": "ceb118d8",
        "outputId": "6185c4f9-b203-48ef-ed21-ac0794de14e6",
        "scrolled": true
      },
      "outputs": [
        {
          "data": {
            "text/html": [
              "\n",
              "  <style>\n",
              "    pre {\n",
              "        white-space: pre-wrap;\n",
              "    }\n",
              "  </style>\n",
              "  "
            ],
            "text/plain": [
              "<IPython.core.display.HTML object>"
            ]
          },
          "metadata": {},
          "output_type": "display_data"
        }
      ],
      "source": [
        "#%%time\n",
        "# Create a pipeline\n",
        "baseline = Pipeline([\n",
        "  (\"tf-idf\", TfidfVectorizer(lowercase=False, tokenizer=lambda i:i)),\n",
        "   #TfidfVectorizer(lowercase=False)),\n",
        "  (\"clf\", LR)\n",
        "])\n",
        "\n",
        "baseline.fit(X=train_sentences_prep, \n",
        "            y=train_labels);"
      ],
      "id": "ceb118d8"
    },
    {
      "cell_type": "code",
      "execution_count": null,
      "metadata": {
        "colab": {
          "base_uri": "https://localhost:8080/",
          "height": 34
        },
        "id": "bcfdd25d",
        "outputId": "96bbd313-2689-4aaf-cf16-be4192a0df60"
      },
      "outputs": [
        {
          "data": {
            "text/html": [
              "\n",
              "  <style>\n",
              "    pre {\n",
              "        white-space: pre-wrap;\n",
              "    }\n",
              "  </style>\n",
              "  "
            ],
            "text/plain": [
              "<IPython.core.display.HTML object>"
            ]
          },
          "metadata": {},
          "output_type": "display_data"
        },
        {
          "data": {
            "text/plain": [
              "0.0904"
            ]
          },
          "execution_count": 62,
          "metadata": {},
          "output_type": "execute_result"
        }
      ],
      "source": [
        "# Evaluate on validation set\n",
        "val_score = baseline.score(X=test_sentences_prep,\n",
        "              y=test_labels)\n",
        "val_score = round(val_score, 4)\n",
        "logging.info(f\"received score of {val_score} on validation with MLP with settings:\\n\\t{preprocess_options}\")\n",
        "val_score"
      ],
      "id": "bcfdd25d"
    },
    {
      "cell_type": "code",
      "execution_count": null,
      "metadata": {
        "colab": {
          "base_uri": "https://localhost:8080/",
          "height": 34
        },
        "id": "da60ec1e",
        "outputId": "ab39a7f1-585a-489f-ee11-f26c5bc986a7",
        "scrolled": true
      },
      "outputs": [
        {
          "data": {
            "text/html": [
              "\n",
              "  <style>\n",
              "    pre {\n",
              "        white-space: pre-wrap;\n",
              "    }\n",
              "  </style>\n",
              "  "
            ],
            "text/plain": [
              "<IPython.core.display.HTML object>"
            ]
          },
          "metadata": {},
          "output_type": "display_data"
        },
        {
          "data": {
            "text/plain": [
              "0.0152"
            ]
          },
          "execution_count": 64,
          "metadata": {},
          "output_type": "execute_result"
        }
      ],
      "source": [
        "# Make predictions\n",
        "y_pred = baseline.predict(test_sentences_prep)\n",
        "f_score = f1_score(test_labels, y_pred, average=\"weighted\")\n",
        "f_score = round(f_score, 4)\n",
        "\n",
        "logging.info(f\"received f1_score of {f_score} on test set with with LR settings:\\n\\t{preprocess_options}\")\n",
        "\n",
        "f_score"
      ],
      "id": "da60ec1e"
    },
    {
      "cell_type": "code",
      "execution_count": null,
      "metadata": {
        "colab": {
          "base_uri": "https://localhost:8080/",
          "height": 17
        },
        "id": "nER6oVZKYvQ5",
        "outputId": "275b271a-dc0d-485b-fc3d-7317a9074b70"
      },
      "outputs": [
        {
          "data": {
            "text/html": [
              "\n",
              "  <style>\n",
              "    pre {\n",
              "        white-space: pre-wrap;\n",
              "    }\n",
              "  </style>\n",
              "  "
            ],
            "text/plain": [
              "<IPython.core.display.HTML object>"
            ]
          },
          "metadata": {},
          "output_type": "display_data"
        }
      ],
      "source": [
        "#Store predictions \n",
        "model_name = 'MLP'\n",
        "np.save(f\"./MLP_test_{model_name}.npy\", y_pred, allow_pickle=True)"
      ],
      "id": "nER6oVZKYvQ5"
    },
    {
      "cell_type": "code",
      "execution_count": null,
      "metadata": {
        "colab": {
          "base_uri": "https://localhost:8080/",
          "height": 102
        },
        "id": "rWKv4fR6e0I-",
        "outputId": "7cd08b03-5b9e-47ff-98b3-96b393a40a49"
      },
      "outputs": [
        {
          "data": {
            "text/html": [
              "\n",
              "  <style>\n",
              "    pre {\n",
              "        white-space: pre-wrap;\n",
              "    }\n",
              "  </style>\n",
              "  "
            ],
            "text/plain": [
              "<IPython.core.display.HTML object>"
            ]
          },
          "metadata": {},
          "output_type": "display_data"
        },
        {
          "data": {
            "text/plain": [
              "array([[1353,  431,  266,  455,  158],\n",
              "       [ 375, 2916,  242,  146,  747],\n",
              "       [ 107,  197, 8545,  147,  755],\n",
              "       [ 474,  210,  345, 1257,   91],\n",
              "       [  82,  548, 1083,   42, 8521]])"
            ]
          },
          "execution_count": 30,
          "metadata": {},
          "output_type": "execute_result"
        }
      ],
      "source": [
        "#Analyse the confusion matrix \n",
        "confusion_matrix(test_labels, y_pred)"
      ],
      "id": "rWKv4fR6e0I-"
    },
    {
      "cell_type": "code",
      "execution_count": null,
      "metadata": {
        "colab": {
          "base_uri": "https://localhost:8080/",
          "height": 232
        },
        "id": "eYtWhahg2bfq",
        "outputId": "e915432c-cb34-4705-be04-d0243ebe26c5"
      },
      "outputs": [
        {
          "data": {
            "text/html": [
              "\n",
              "  <style>\n",
              "    pre {\n",
              "        white-space: pre-wrap;\n",
              "    }\n",
              "  </style>\n",
              "  "
            ],
            "text/plain": [
              "<IPython.core.display.HTML object>"
            ]
          },
          "metadata": {},
          "output_type": "display_data"
        },
        {
          "ename": "NameError",
          "evalue": "ignored",
          "output_type": "error",
          "traceback": [
            "\u001b[0;31m---------------------------------------------------------------------------\u001b[0m",
            "\u001b[0;31mNameError\u001b[0m                                 Traceback (most recent call last)",
            "\u001b[0;32m<ipython-input-31-233d54bc275b>\u001b[0m in \u001b[0;36m<module>\u001b[0;34m()\u001b[0m\n\u001b[1;32m      2\u001b[0m \u001b[0;34m\u001b[0m\u001b[0m\n\u001b[1;32m      3\u001b[0m \u001b[0;31m#LR :\u001b[0m\u001b[0;34m\u001b[0m\u001b[0;34m\u001b[0m\u001b[0;34m\u001b[0m\u001b[0m\n\u001b[0;32m----> 4\u001b[0;31m confusion_matrix = array([[1501,  345,  130,  618,   69],\n\u001b[0m\u001b[1;32m      5\u001b[0m        \u001b[0;34m[\u001b[0m \u001b[0;36m564\u001b[0m\u001b[0;34m,\u001b[0m \u001b[0;36m3039\u001b[0m\u001b[0;34m,\u001b[0m  \u001b[0;36m138\u001b[0m\u001b[0;34m,\u001b[0m  \u001b[0;36m282\u001b[0m\u001b[0;34m,\u001b[0m  \u001b[0;36m403\u001b[0m\u001b[0;34m]\u001b[0m\u001b[0;34m,\u001b[0m\u001b[0;34m\u001b[0m\u001b[0;34m\u001b[0m\u001b[0m\n\u001b[1;32m      6\u001b[0m        \u001b[0;34m[\u001b[0m \u001b[0;36m253\u001b[0m\u001b[0;34m,\u001b[0m  \u001b[0;36m282\u001b[0m\u001b[0;34m,\u001b[0m \u001b[0;36m8214\u001b[0m\u001b[0;34m,\u001b[0m  \u001b[0;36m407\u001b[0m\u001b[0;34m,\u001b[0m  \u001b[0;36m595\u001b[0m\u001b[0;34m]\u001b[0m\u001b[0;34m,\u001b[0m\u001b[0;34m\u001b[0m\u001b[0;34m\u001b[0m\u001b[0m\n",
            "\u001b[0;31mNameError\u001b[0m: name 'array' is not defined"
          ]
        }
      ],
      "source": [
        "#F_score = 0.7072 for MLP\n",
        "\n",
        "#LR : \n",
        "confusion_matrix = array([[1501,  345,  130,  618,   69],\n",
        "       [ 564, 3039,  138,  282,  403],\n",
        "       [ 253,  282, 8214,  407,  595],\n",
        "       [ 487,  171,  156, 1526,   37],\n",
        "       [ 214,  949, 1047,  148, 7918]])\n",
        "f_score = 0.758\n",
        "\n",
        "#MLP \n",
        "f_score = 0.7925\n",
        "array([[1498,  381,  207,  445,  132],\n",
        "       [ 369, 3045,  181,  117,  714],\n",
        "       [  86,  129, 8827,  140,  569],\n",
        "       [ 487,  186,  255, 1380,   69],\n",
        "       [  90,  509,  944,   41, 8692]])"
      ],
      "id": "eYtWhahg2bfq"
    },
    {
      "cell_type": "markdown",
      "metadata": {
        "id": "YtkItPAa9iYH"
      },
      "source": [
        "### Prepare the data for the NN"
      ],
      "id": "YtkItPAa9iYH"
    },
    {
      "cell_type": "code",
      "execution_count": null,
      "metadata": {
        "id": "IgFtgTXwWACR"
      },
      "outputs": [],
      "source": [
        "from tensorflow.keras import optimizers, losses, activations, models\n",
        "from keras.callbacks import ModelCheckpoint, EarlyStopping, LearningRateScheduler, ReduceLROnPlateau\n",
        "from keras.layers import Dense, Input, Dropout, Convolution1D, MaxPool1D, GlobalMaxPool1D, GlobalAveragePooling1D,concatenate,Flatten,\\\n",
        "Dense,Dropout,LSTM,Masking,Bidirectional,Dropout,GRU,SimpleRNN,TimeDistributed, BatchNormalization, Activation, MaxPooling1D, GlobalMaxPooling1D, Conv1D\n",
        "from keras.models import Sequential,Model\n",
        "from keras.utils import np_utils\n",
        "from sklearn.utils.class_weight import compute_class_weight\n",
        "from keras.wrappers.scikit_learn import KerasClassifier"
      ],
      "id": "IgFtgTXwWACR"
    },
    {
      "cell_type": "code",
      "execution_count": null,
      "metadata": {
        "id": "57ndXRxObVzi"
      },
      "outputs": [],
      "source": [
        "from sklearn.preprocessing import LabelEncoder\n",
        "lb = LabelEncoder()\n",
        "y = lb.fit_transform(train_labels)\n",
        "y = np_utils.to_categorical(y)\n",
        "\n",
        "y_val = lb.fit_transform(val_labels)\n",
        "y_val = np_utils.to_categorical(y_val)"
      ],
      "id": "57ndXRxObVzi"
    },
    {
      "cell_type": "code",
      "execution_count": null,
      "metadata": {
        "id": "QmMiG4-tv8ou"
      },
      "outputs": [],
      "source": [
        "max_f = 80\n",
        "tfidf = TfidfVectorizer(lowercase=False, tokenizer=lambda i:i, max_features=max_f)\n",
        "tfidf_train = tfidf.fit_transform(train_sentences_prep).todense()\n",
        "tfidf_test = tfidf.fit_transform(test_sentences_prep).todense()\n",
        "tfidf_val = tfidf.fit_transform(val_sentences_prep).todense()"
      ],
      "id": "QmMiG4-tv8ou"
    },
    {
      "cell_type": "code",
      "execution_count": null,
      "metadata": {
        "id": "ImARwRCAhUOH"
      },
      "outputs": [],
      "source": [
        "# Model Training \n",
        "print (\"Create model ... \")\n",
        "def build_model():\n",
        "    model = Sequential()\n",
        "    model.add(Dense(256, input_dim=max_f, activation='relu'))\n",
        "    model.add(Dropout(0.3))\n",
        "    model.add(Dense(200, activation='relu'))\n",
        "    model.add(Dropout(0.3))\n",
        "    model.add(Dense(160, activation='relu'))\n",
        "    model.add(Dropout(0.3))\n",
        "    model.add(Dense(120, activation='relu'))\n",
        "    model.add(Dropout(0.3))\n",
        "    model.add(Dense(80, activation='relu'))\n",
        "    model.add(Dropout(0.3))\n",
        "    model.add(Dense(5, activation='softmax'))\n",
        "    model.compile(loss='categorical_crossentropy', optimizer='adam', metrics=['accuracy'])\n",
        "    model.summary()\n",
        "    return model\n",
        "\n",
        "\n",
        "early_stop = EarlyStopping(monitor=\"val_acc\", mode=\"max\", patience=5)\n",
        "\n",
        "\n",
        "print(\"Compile model ...\")\n",
        "estimator = KerasClassifier(build_fn=build_model, epochs=15, batch_size=256)\n",
        "estimator.fit(tfidf_train, \n",
        "                      y, \n",
        "                      batch_size=256, \n",
        "                      epochs=5,\n",
        "                      validation_data=(tfidf_val, y_val),\n",
        "                      callbacks=[early_stop])\n",
        "\n",
        "# Predictions \n",
        "print (\"Predict on test data ... \")\n",
        "y_pred = estimator.predict(tfidf_test)\n",
        "f_score = f1_score(test_labels, y_pred, average=\"weighted\")\n",
        "print('f_score' , f_score)"
      ],
      "id": "ImARwRCAhUOH"
    },
    {
      "cell_type": "markdown",
      "metadata": {
        "id": "mQSZSFFQffW1"
      },
      "source": [
        "Reminder ('BACKGROUND': 0,'CONCLUSIONS': 1,'METHODS': 2,'OBJECTIVE': 3,'RESULTS': 4)\n",
        "\n",
        "Major confusions : \n",
        "- classified as Background instead of objective\n",
        "- classified as conclusion instead of background\n",
        "- classified as method instead of results\n",
        "- classified as Background instead of objective\n",
        "- classified as results instead of method or objective"
      ],
      "id": "mQSZSFFQffW1"
    },
    {
      "cell_type": "markdown",
      "metadata": {
        "id": "C41UMQOKEVSV"
      },
      "source": [
        "### logfile after Task 1"
      ],
      "id": "C41UMQOKEVSV"
    },
    {
      "cell_type": "code",
      "execution_count": null,
      "metadata": {
        "id": "dWQxDbINEXOf"
      },
      "outputs": [],
      "source": [
        "!cat /content/LOGFILE_ml4hc_project2.log"
      ],
      "id": "dWQxDbINEXOf"
    },
    {
      "cell_type": "markdown",
      "metadata": {
        "id": "b16053df"
      },
      "source": [
        "We get better results by using the sentences (train_sentences) directly without preprocessing (except lowercase) rather than using the preprocessed sentences (train_sentences_prep).\n",
        "20K dataset, on test set :\n",
        "    - without preprocessing : f1_score = 0.791 \n",
        "    - with preprocessing (without stemming) : f1_score = 0.759\n",
        "    - with preprocessing (with stemming) : f1_score = 0.738"
      ],
      "id": "b16053df"
    },
    {
      "cell_type": "markdown",
      "metadata": {
        "id": "d79fc921"
      },
      "source": [
        "# Task 2 : Word Embedding\n",
        "\n",
        "- link to the medium article [here](https://medium.com/@dilip.voleti/classification-using-word2vec-b1d79d375381)"
      ],
      "id": "d79fc921"
    },
    {
      "cell_type": "code",
      "execution_count": null,
      "metadata": {
        "colab": {
          "base_uri": "https://localhost:8080/",
          "height": 17
        },
        "id": "i7v1Pw8yGFwL",
        "outputId": "20cdf3ad-1ca7-4303-deff-56e1ca0dff51"
      },
      "outputs": [
        {
          "data": {
            "text/html": [
              "\n",
              "  <style>\n",
              "    pre {\n",
              "        white-space: pre-wrap;\n",
              "    }\n",
              "  </style>\n",
              "  "
            ],
            "text/plain": [
              "<IPython.core.display.HTML object>"
            ]
          },
          "metadata": {},
          "output_type": "display_data"
        },
        {
          "data": {
            "text/html": [
              "\n",
              "  <style>\n",
              "    pre {\n",
              "        white-space: pre-wrap;\n",
              "    }\n",
              "  </style>\n",
              "  "
            ],
            "text/plain": [
              "<IPython.core.display.HTML object>"
            ]
          },
          "metadata": {},
          "output_type": "display_data"
        },
        {
          "data": {
            "text/html": [
              "\n",
              "  <style>\n",
              "    pre {\n",
              "        white-space: pre-wrap;\n",
              "    }\n",
              "  </style>\n",
              "  "
            ],
            "text/plain": [
              "<IPython.core.display.HTML object>"
            ]
          },
          "metadata": {},
          "output_type": "display_data"
        }
      ],
      "source": [
        "from gensim.models.fasttext import FastText"
      ],
      "id": "i7v1Pw8yGFwL"
    },
    {
      "cell_type": "code",
      "execution_count": null,
      "metadata": {
        "cellView": "form",
        "colab": {
          "base_uri": "https://localhost:8080/",
          "height": 34
        },
        "id": "WUVuLyGH0x2M",
        "outputId": "554d547e-1bbf-4349-f29d-4944be283aef"
      },
      "outputs": [
        {
          "data": {
            "text/html": [
              "\n",
              "  <style>\n",
              "    pre {\n",
              "        white-space: pre-wrap;\n",
              "    }\n",
              "  </style>\n",
              "  "
            ],
            "text/plain": [
              "<IPython.core.display.HTML object>"
            ]
          },
          "metadata": {},
          "output_type": "display_data"
        },
        {
          "data": {
            "text/html": [
              "\n",
              "  <style>\n",
              "    pre {\n",
              "        white-space: pre-wrap;\n",
              "    }\n",
              "  </style>\n",
              "  "
            ],
            "text/plain": [
              "<IPython.core.display.HTML object>"
            ]
          },
          "metadata": {},
          "output_type": "display_data"
        },
        {
          "data": {
            "text/html": [
              "\n",
              "  <style>\n",
              "    pre {\n",
              "        white-space: pre-wrap;\n",
              "    }\n",
              "  </style>\n",
              "  "
            ],
            "text/plain": [
              "<IPython.core.display.HTML object>"
            ]
          },
          "metadata": {},
          "output_type": "display_data"
        },
        {
          "data": {
            "text/plain": [
              "PosixPath('/content/drive/MyDrive/ETHZ-2022-S/ML-healthcare-projects/project2')"
            ]
          },
          "execution_count": 77,
          "metadata": {},
          "output_type": "execute_result"
        }
      ],
      "source": [
        "size = 10 #@param {type:\"integer\"}\n",
        "project_root = \"/content/drive/MyDrive/ETHZ-2022-S/ML-healthcare-projects/project2\" #@param {type:\"string\"}\n",
        "project_root = Path(project_root)\n",
        "\n",
        "project_root.resolve()"
      ],
      "id": "WUVuLyGH0x2M"
    },
    {
      "cell_type": "markdown",
      "metadata": {
        "id": "4VfadIPDR4MU"
      },
      "source": [
        "## model fitting"
      ],
      "id": "4VfadIPDR4MU"
    },
    {
      "cell_type": "code",
      "execution_count": null,
      "metadata": {
        "colab": {
          "base_uri": "https://localhost:8080/",
          "height": 52
        },
        "id": "FM4EREcPLbqq",
        "outputId": "f4cb5f75-6ffd-49a1-c8f0-82127f3474ac"
      },
      "outputs": [
        {
          "data": {
            "text/html": [
              "\n",
              "  <style>\n",
              "    pre {\n",
              "        white-space: pre-wrap;\n",
              "    }\n",
              "  </style>\n",
              "  "
            ],
            "text/plain": [
              "<IPython.core.display.HTML object>"
            ]
          },
          "metadata": {},
          "output_type": "display_data"
        },
        {
          "data": {
            "text/html": [
              "\n",
              "  <style>\n",
              "    pre {\n",
              "        white-space: pre-wrap;\n",
              "    }\n",
              "  </style>\n",
              "  "
            ],
            "text/plain": [
              "<IPython.core.display.HTML object>"
            ]
          },
          "metadata": {},
          "output_type": "display_data"
        },
        {
          "data": {
            "text/html": [
              "\n",
              "  <style>\n",
              "    pre {\n",
              "        white-space: pre-wrap;\n",
              "    }\n",
              "  </style>\n",
              "  "
            ],
            "text/plain": [
              "<IPython.core.display.HTML object>"
            ]
          },
          "metadata": {},
          "output_type": "display_data"
        },
        {
          "name": "stdout",
          "output_type": "stream",
          "text": [
            "Note: outputs will be saved to:\n",
            "\t/content/drive/MyDrive/ETHZ-2022-S/ML-healthcare-projects/project2/fulldata_context_stem\n"
          ]
        }
      ],
      "source": [
        "output_dir = project_root / \"fulldata_context_stem\"\n",
        "output_dir.mkdir(exist_ok=True)\n",
        "print(f\"Note: outputs will be saved to:\\n\\t{output_dir}\")"
      ],
      "id": "FM4EREcPLbqq"
    },
    {
      "cell_type": "code",
      "execution_count": null,
      "metadata": {
        "colab": {
          "base_uri": "https://localhost:8080/",
          "height": 17
        },
        "id": "gRg0NA32GG7r",
        "outputId": "45bf497d-707f-493f-ae56-4904c7f322da"
      },
      "outputs": [
        {
          "data": {
            "text/html": [
              "\n",
              "  <style>\n",
              "    pre {\n",
              "        white-space: pre-wrap;\n",
              "    }\n",
              "  </style>\n",
              "  "
            ],
            "text/plain": [
              "<IPython.core.display.HTML object>"
            ]
          },
          "metadata": {},
          "output_type": "display_data"
        },
        {
          "data": {
            "text/html": [
              "\n",
              "  <style>\n",
              "    pre {\n",
              "        white-space: pre-wrap;\n",
              "    }\n",
              "  </style>\n",
              "  "
            ],
            "text/plain": [
              "<IPython.core.display.HTML object>"
            ]
          },
          "metadata": {},
          "output_type": "display_data"
        },
        {
          "data": {
            "text/html": [
              "\n",
              "  <style>\n",
              "    pre {\n",
              "        white-space: pre-wrap;\n",
              "    }\n",
              "  </style>\n",
              "  "
            ],
            "text/plain": [
              "<IPython.core.display.HTML object>"
            ]
          },
          "metadata": {},
          "output_type": "display_data"
        }
      ],
      "source": [
        "ft_size = size\n",
        "ft_model = FastText(sentences = train_sentences_prep,   # list of tokenized sentences\n",
        "                                workers = max(os.cpu_count()-2, 1),                         # Number of threads to run in parallel\n",
        "                                iter = 5,                       # Number of epochs\n",
        "                                size = ft_size ,                          # Word vector dimensionality     \n",
        "                                # min_count=2,\n",
        "                                # window=10,\n",
        "                        )"
      ],
      "id": "gRg0NA32GG7r"
    },
    {
      "cell_type": "code",
      "execution_count": null,
      "metadata": {
        "id": "-tUO-u3L4wsh"
      },
      "outputs": [],
      "source": [
        "w2v_model = gensim.models.Word2Vec(sentences = train_sentences_prep,   # list of tokenized sentences\n",
        "                               workers = max(os.cpu_count()-2, 1),                         # Number of threads to run in parallel\n",
        "                               iter = 5,                       # Number of epochs\n",
        "                               size = size,                          # Word vector dimensionality     \n",
        "                               )"
      ],
      "id": "-tUO-u3L4wsh"
    },
    {
      "cell_type": "code",
      "execution_count": null,
      "metadata": {
        "colab": {
          "base_uri": "https://localhost:8080/",
          "height": 17
        },
        "id": "0K7DzZHy7HN9",
        "outputId": "69d57a59-acf1-4c9e-ae8d-90b36ea0ffc9"
      },
      "outputs": [
        {
          "data": {
            "text/html": [
              "\n",
              "  <style>\n",
              "    pre {\n",
              "        white-space: pre-wrap;\n",
              "    }\n",
              "  </style>\n",
              "  "
            ],
            "text/plain": [
              "<IPython.core.display.HTML object>"
            ]
          },
          "metadata": {},
          "output_type": "display_data"
        }
      ],
      "source": [
        "#size100\n",
        "# ft_model = FastText.load(os.path.join(path_base,\"fasttext100.model\"))"
      ],
      "id": "0K7DzZHy7HN9"
    },
    {
      "cell_type": "code",
      "execution_count": null,
      "metadata": {
        "colab": {
          "base_uri": "https://localhost:8080/",
          "height": 52
        },
        "id": "09N55nB5XFAr",
        "outputId": "b1a3713d-c3fe-453f-9ab4-d6aa04a9f426"
      },
      "outputs": [
        {
          "data": {
            "text/html": [
              "\n",
              "  <style>\n",
              "    pre {\n",
              "        white-space: pre-wrap;\n",
              "    }\n",
              "  </style>\n",
              "  "
            ],
            "text/plain": [
              "<IPython.core.display.HTML object>"
            ]
          },
          "metadata": {},
          "output_type": "display_data"
        },
        {
          "data": {
            "text/html": [
              "\n",
              "  <style>\n",
              "    pre {\n",
              "        white-space: pre-wrap;\n",
              "    }\n",
              "  </style>\n",
              "  "
            ],
            "text/plain": [
              "<IPython.core.display.HTML object>"
            ]
          },
          "metadata": {},
          "output_type": "display_data"
        },
        {
          "data": {
            "text/html": [
              "\n",
              "  <style>\n",
              "    pre {\n",
              "        white-space: pre-wrap;\n",
              "    }\n",
              "  </style>\n",
              "  "
            ],
            "text/plain": [
              "<IPython.core.display.HTML object>"
            ]
          },
          "metadata": {},
          "output_type": "display_data"
        },
        {
          "name": "stdout",
          "output_type": "stream",
          "text": [
            "CPU times: user 4.68 ms, sys: 0 ns, total: 4.68 ms\n",
            "Wall time: 11.4 ms\n"
          ]
        }
      ],
      "source": [
        "%%time\n",
        "#save fasttext model\n",
        "import joblib\n",
        "import pickle\n",
        "joblib.dump(ft_model,\n",
        "            output_dir / f\"ft_model_sz={ft_size}_mc2_w10.pkl\",\n",
        "            compress=True,\n",
        "            protocol=pickle.HIGHEST_PROTOCOL)"
      ],
      "id": "09N55nB5XFAr"
    },
    {
      "cell_type": "code",
      "execution_count": null,
      "metadata": {
        "id": "42NLX3T0Lvfk"
      },
      "outputs": [],
      "source": [
        "%%time\n",
        "#save w2v_model\n",
        "\n",
        "import joblib\n",
        "import pickle\n",
        "joblib.dump(w2v_model,\n",
        "            output_dir / f\"w2v_model_size={size}.pkl\",\n",
        "            compress=True,\n",
        "            protocol=pickle.HIGHEST_PROTOCOL)"
      ],
      "id": "42NLX3T0Lvfk"
    },
    {
      "cell_type": "code",
      "execution_count": null,
      "metadata": {
        "colab": {
          "base_uri": "https://localhost:8080/",
          "height": 17
        },
        "id": "9lOrM57E4RzY",
        "outputId": "c55a843d-4714-455b-b3a5-a28afd64b54c"
      },
      "outputs": [
        {
          "data": {
            "text/html": [
              "\n",
              "  <style>\n",
              "    pre {\n",
              "        white-space: pre-wrap;\n",
              "    }\n",
              "  </style>\n",
              "  "
            ],
            "text/plain": [
              "<IPython.core.display.HTML object>"
            ]
          },
          "metadata": {},
          "output_type": "display_data"
        }
      ],
      "source": [
        "def sentence_embedd_average(model,data):\n",
        "    x = []\n",
        "    for index in range(len(data)):\n",
        "        # remove out-of-vocabulary words\n",
        "        doc = [word for word in data[index] if word in model.wv.vocab.keys()]\n",
        "        if not doc:\n",
        "            # append zero vector\n",
        "            x.append(np.zeros(size))\n",
        "\n",
        "        else:\n",
        "            # append the average vector for each sentence\n",
        "            x.append(np.mean(model[doc], axis=0))\n",
        "        \n",
        "    X = np.array(x)\n",
        "\n",
        "    return X"
      ],
      "id": "9lOrM57E4RzY"
    },
    {
      "cell_type": "code",
      "execution_count": null,
      "metadata": {
        "colab": {
          "base_uri": "https://localhost:8080/",
          "height": 68
        },
        "id": "7Qpl1lY4L-1y",
        "outputId": "aef3708e-b781-47eb-fd94-7d31f3e732d5"
      },
      "outputs": [
        {
          "data": {
            "text/html": [
              "\n",
              "  <style>\n",
              "    pre {\n",
              "        white-space: pre-wrap;\n",
              "    }\n",
              "  </style>\n",
              "  "
            ],
            "text/plain": [
              "<IPython.core.display.HTML object>"
            ]
          },
          "metadata": {},
          "output_type": "display_data"
        },
        {
          "name": "stderr",
          "output_type": "stream",
          "text": [
            "/usr/local/lib/python3.7/dist-packages/ipykernel_launcher.py:12: DeprecationWarning: Call to deprecated `__getitem__` (Method will be removed in 4.0.0, use self.wv.__getitem__() instead).\n",
            "  if sys.path[0] == '':\n"
          ]
        }
      ],
      "source": [
        "Xtrain_av = sentence_embedd_average(ft_model, train_sentences_prep)\n",
        "Xval_av = sentence_embedd_average(ft_model, val_sentences_prep)\n",
        "Xtest_av = sentence_embedd_average(ft_model, test_sentences_prep)"
      ],
      "id": "7Qpl1lY4L-1y"
    },
    {
      "cell_type": "code",
      "execution_count": null,
      "metadata": {
        "colab": {
          "base_uri": "https://localhost:8080/",
          "height": 17
        },
        "id": "Ys1Vpw8lisIQ",
        "outputId": "f166d1be-2694-49b9-9792-1d198295d0a2"
      },
      "outputs": [
        {
          "data": {
            "text/html": [
              "\n",
              "  <style>\n",
              "    pre {\n",
              "        white-space: pre-wrap;\n",
              "    }\n",
              "  </style>\n",
              "  "
            ],
            "text/plain": [
              "<IPython.core.display.HTML object>"
            ]
          },
          "metadata": {},
          "output_type": "display_data"
        }
      ],
      "source": [
        "def sentence_embedd_concatenate(model,data):\n",
        "    x = []\n",
        "    maxwords = max([len(train_sentences_prep[i]) for i in range(len(train_sentences_prep))])\n",
        "    for index in range(len(data)):\n",
        "        # remove out-of-vocabulary words\n",
        "        doc = [word for word in data[index] if word in model.wv.vocab.keys()]\n",
        "        if not doc:\n",
        "            # append zero vector\n",
        "            x.append(np.zeros((maxwords,size)))\n",
        "\n",
        "        else:\n",
        "            # append the average vector for each sentence\n",
        "            sentence = np.array(model[doc])\n",
        "            #x.append(np.array(model[doc], dtype=object))\n",
        "            #print(len(model[doc]))\n",
        "            if len(model[doc]) < maxwords:\n",
        "              sentence = np.append(sentence, np.zeros(((maxwords-len(model[doc])),size)), axis=0)\n",
        "              #print(len(sentence))\n",
        "            x.append(np.array(sentence))\n",
        "            \n",
        "        \n",
        "    X = np.array(x)\n",
        "    return X"
      ],
      "id": "Ys1Vpw8lisIQ"
    },
    {
      "cell_type": "code",
      "execution_count": null,
      "metadata": {
        "colab": {
          "base_uri": "https://localhost:8080/",
          "height": 153
        },
        "id": "C8xujXlii3Pj",
        "outputId": "3f2b2e34-a896-488e-99ce-1f54ab294c44"
      },
      "outputs": [
        {
          "data": {
            "text/html": [
              "\n",
              "  <style>\n",
              "    pre {\n",
              "        white-space: pre-wrap;\n",
              "    }\n",
              "  </style>\n",
              "  "
            ],
            "text/plain": [
              "<IPython.core.display.HTML object>"
            ]
          },
          "metadata": {},
          "output_type": "display_data"
        },
        {
          "name": "stderr",
          "output_type": "stream",
          "text": [
            "/usr/local/lib/python3.7/dist-packages/ipykernel_launcher.py:13: DeprecationWarning: Call to deprecated `__getitem__` (Method will be removed in 4.0.0, use self.wv.__getitem__() instead).\n",
            "  del sys.path[0]\n",
            "/usr/local/lib/python3.7/dist-packages/ipykernel_launcher.py:16: DeprecationWarning: Call to deprecated `__getitem__` (Method will be removed in 4.0.0, use self.wv.__getitem__() instead).\n",
            "  app.launch_new_instance()\n",
            "/usr/local/lib/python3.7/dist-packages/ipykernel_launcher.py:17: DeprecationWarning: Call to deprecated `__getitem__` (Method will be removed in 4.0.0, use self.wv.__getitem__() instead).\n"
          ]
        }
      ],
      "source": [
        "Xtrain_conc = sentence_embedd_concatenate(w2v_model, train_sentences_prep)\n",
        "Xval_conc = sentence_embedd_concatenate(w2v_model, val_sentences_prep)\n",
        "Xtest_conc = sentence_embedd_concatenate(w2v_model, test_sentences_prep)"
      ],
      "id": "C8xujXlii3Pj"
    },
    {
      "cell_type": "code",
      "execution_count": null,
      "metadata": {
        "id": "-33_NQDK_bGl"
      },
      "outputs": [],
      "source": [
        "#Reshape \n",
        "Xtrain_conc = Xtrain_conc.reshape((Xtrain_conc.shape[0], Xtrain_conc.shape[1]*Xtrain_conc.shape[2]))\n",
        "Xval_conc = Xval_conc.reshape((Xval_conc.shape[0], Xval_conc.shape[1]*Xval_conc.shape[2]))\n",
        "Xtest_conc = Xtest_conc.reshape((Xtest_conc.shape[0], Xtest_conc.shape[1]*Xtest_conc.shape[2]))"
      ],
      "id": "-33_NQDK_bGl"
    },
    {
      "cell_type": "markdown",
      "metadata": {
        "id": "L-w-j1gCR9av"
      },
      "source": [
        "### context 1\n"
      ],
      "id": "L-w-j1gCR9av"
    },
    {
      "cell_type": "code",
      "execution_count": null,
      "metadata": {
        "id": "hTTqpX95xE2e"
      },
      "outputs": [],
      "source": [
        "from tqdm.auto import tqdm # progress bar cause it takes forever\n",
        "\n",
        "def context1_embedd_average(w2v_model,train_df):\n",
        "    x = []\n",
        "    _num_sentences = len(train_df['preprocess'])\n",
        "    for index in tqdm(range(_num_sentences), total=_num_sentences):\n",
        "        # remove out-of-vocabulary words\n",
        "        #print(index)\n",
        "        if (index >1) and (index<(len(train_df)-1)):\n",
        "         # print('here')\n",
        "          #print(train_df['line_number'][index-1])\n",
        "          if (train_df['line_number'][index-1] < train_df['line_number'][index]) :\n",
        "            prev_context = [word for word in train_df['preprocess'][index-1] if word in w2v_model.wv.vocab.keys()]\n",
        "          else : prev_context=[]\n",
        "\n",
        "          if (train_df['line_number'][index+1] > train_df['line_number'][index]) :\n",
        "            next_context = [word for word in train_df['preprocess'][index+1] if word in w2v_model.wv.vocab.keys()]\n",
        "          else : next_context=[]\n",
        "        else :\n",
        "          prev_context=[]\n",
        "          next_context=[]\n",
        "        sentence = [word for word in train_df['preprocess'][index] if word in w2v_model.wv.vocab.keys()]\n",
        "        \n",
        "\n",
        "        if not prev_context : prev_context= np.zeros(size)\n",
        "        else : prev_context = np.mean(w2v_model[prev_context], axis=0)\n",
        "\n",
        "        if not next_context : next_context= np.zeros(size)\n",
        "        else : next_context = np.mean(w2v_model[next_context], axis=0)\n",
        "\n",
        "        if not sentence : sentence= np.zeros(size)\n",
        "        else : sentence = np.mean(w2v_model[sentence], axis=0)       \n",
        "\n",
        "        doc = [prev_context, sentence, next_context]\n",
        "            \n",
        "        x.append(doc)\n",
        "        \n",
        "    X = np.array(x)\n",
        "\n",
        "\n",
        "    return X"
      ],
      "id": "hTTqpX95xE2e"
    },
    {
      "cell_type": "code",
      "execution_count": null,
      "metadata": {
        "colab": {
          "base_uri": "https://localhost:8080/",
          "height": 202,
          "referenced_widgets": [
            "767fe0d463ea490892764a5468abfc91",
            "d6835aea6306463782818373618ba3ab",
            "f46b449efc634a6484afd2569d74b827",
            "61c8addfb3f34da0b4bdf2d9dff5826c",
            "91635e7176af44908853032193c0282a",
            "6ffcc7289c7944cb92c2aa7ea17374ea",
            "8f098f8cd64a417eb87a8c8726335004",
            "53bcbbb761314e4b87c89529b4be5e49",
            "0cf69554c957476fb8f21716da2ff799",
            "1b51e44c2fb7445ebce6681c4fe2f388",
            "8e700ff7ea964b9ea9820280d7cd0ecc",
            "dfb769eba11f43f9a14115485accd9b7",
            "a795b3d81f6c4387b4223812d48ea2ed",
            "01847b9b972946628fe6be1808316608",
            "d92ba0b49cda49ec9ebd7d0c8ff519b6",
            "e683013e1f5b441db329e23a8207c367",
            "234008239e6a4081b00b3dc8ea6a9d40",
            "f461262102474ba392d3d2fda840c19f",
            "7e3d8d6aa3c2436686e1669f9b90e588",
            "cc7569215ceb421abf4c22983f30241f",
            "0cb1f5c89e7c49428f0c217750d7a518",
            "495cf4f1dadc4a62a5598428f4bb143d",
            "ef8704b40817482c801076618d27cbe2"
          ]
        },
        "id": "YaKHr3Bx12r7",
        "outputId": "3ce17eae-77e9-4912-e2a0-1ad0196a8ff6"
      },
      "outputs": [
        {
          "data": {
            "text/html": [
              "\n",
              "  <style>\n",
              "    pre {\n",
              "        white-space: pre-wrap;\n",
              "    }\n",
              "  </style>\n",
              "  "
            ],
            "text/plain": [
              "<IPython.core.display.HTML object>"
            ]
          },
          "metadata": {},
          "output_type": "display_data"
        },
        {
          "data": {
            "application/vnd.jupyter.widget-view+json": {
              "model_id": "767fe0d463ea490892764a5468abfc91",
              "version_major": 2,
              "version_minor": 0
            },
            "text/plain": [
              "  0%|          | 0/2211861 [00:00<?, ?it/s]"
            ]
          },
          "metadata": {},
          "output_type": "display_data"
        },
        {
          "name": "stderr",
          "output_type": "stream",
          "text": [
            "/usr/local/lib/python3.7/dist-packages/ipykernel_launcher.py:32: DeprecationWarning: Call to deprecated `__getitem__` (Method will be removed in 4.0.0, use self.wv.__getitem__() instead).\n",
            "/usr/local/lib/python3.7/dist-packages/ipykernel_launcher.py:26: DeprecationWarning: Call to deprecated `__getitem__` (Method will be removed in 4.0.0, use self.wv.__getitem__() instead).\n",
            "/usr/local/lib/python3.7/dist-packages/ipykernel_launcher.py:29: DeprecationWarning: Call to deprecated `__getitem__` (Method will be removed in 4.0.0, use self.wv.__getitem__() instead).\n"
          ]
        },
        {
          "data": {
            "application/vnd.jupyter.widget-view+json": {
              "model_id": "d6835aea6306463782818373618ba3ab",
              "version_major": 2,
              "version_minor": 0
            },
            "text/plain": [
              "  0%|          | 0/28932 [00:00<?, ?it/s]"
            ]
          },
          "metadata": {},
          "output_type": "display_data"
        },
        {
          "data": {
            "application/vnd.jupyter.widget-view+json": {
              "model_id": "a795b3d81f6c4387b4223812d48ea2ed",
              "version_major": 2,
              "version_minor": 0
            },
            "text/plain": [
              "  0%|          | 0/29493 [00:00<?, ?it/s]"
            ]
          },
          "metadata": {},
          "output_type": "display_data"
        }
      ],
      "source": [
        "Xtrain_context1 = context1_embedd_average(w2v_model, train_df)\n",
        "Xval_context1 = context1_embedd_average(w2v_model, val_df)\n",
        "Xtest_context1 = context1_embedd_average(w2v_model, test_df)"
      ],
      "id": "YaKHr3Bx12r7"
    },
    {
      "cell_type": "code",
      "execution_count": null,
      "metadata": {
        "colab": {
          "base_uri": "https://localhost:8080/",
          "height": 17
        },
        "id": "uCGoEu61712E",
        "outputId": "c3213c89-46e9-43ee-ce17-2106b47ba6f4"
      },
      "outputs": [
        {
          "data": {
            "text/html": [
              "\n",
              "  <style>\n",
              "    pre {\n",
              "        white-space: pre-wrap;\n",
              "    }\n",
              "  </style>\n",
              "  "
            ],
            "text/plain": [
              "<IPython.core.display.HTML object>"
            ]
          },
          "metadata": {},
          "output_type": "display_data"
        }
      ],
      "source": [
        "#Reshape \n",
        "Xtrain_context1 = Xtrain_context1.reshape((Xtrain_context1.shape[0], Xtrain_context1.shape[1]*Xtrain_context1.shape[2]))\n",
        "Xval_context1 = Xval_context1.reshape((Xval_context1.shape[0], Xval_context1.shape[1]*Xval_context1.shape[2]))\n",
        "Xtest_context1 = Xtest_context1.reshape((Xtest_context1.shape[0], Xtest_context1.shape[1]*Xtest_context1.shape[2]))"
      ],
      "id": "uCGoEu61712E"
    },
    {
      "cell_type": "code",
      "execution_count": null,
      "metadata": {
        "colab": {
          "base_uri": "https://localhost:8080/",
          "height": 17
        },
        "id": "DYBagxXxNCcg",
        "outputId": "d06d9202-7700-421b-fb9f-9062b6120cd8"
      },
      "outputs": [
        {
          "data": {
            "text/html": [
              "\n",
              "  <style>\n",
              "    pre {\n",
              "        white-space: pre-wrap;\n",
              "    }\n",
              "  </style>\n",
              "  "
            ],
            "text/plain": [
              "<IPython.core.display.HTML object>"
            ]
          },
          "metadata": {},
          "output_type": "display_data"
        }
      ],
      "source": [
        "context1_trainset = {\n",
        "    \"Xtrain_context1\":Xtrain_context1, \n",
        "    \"Xval_context1\":Xval_context1, \n",
        "    \"Xtest_context1\":Xtest_context1,\n",
        "}\n",
        "\n",
        "for name, var in context1_trainset.items():\n",
        "\n",
        "    joblib.dump(var,\n",
        "            output_dir / f\"context1_set_embedded_reshaped_{name}_sz={size}.pkl\",\n",
        "            compress=True,\n",
        "            protocol=pickle.HIGHEST_PROTOCOL,\n",
        "        )\n"
      ],
      "id": "DYBagxXxNCcg"
    },
    {
      "cell_type": "code",
      "execution_count": null,
      "metadata": {
        "colab": {
          "base_uri": "https://localhost:8080/",
          "height": 34
        },
        "id": "urMMsuguU81-",
        "outputId": "b0b026f7-de8d-47f5-de1f-61afc388fafd"
      },
      "outputs": [
        {
          "data": {
            "text/html": [
              "\n",
              "  <style>\n",
              "    pre {\n",
              "        white-space: pre-wrap;\n",
              "    }\n",
              "  </style>\n",
              "  "
            ],
            "text/plain": [
              "<IPython.core.display.HTML object>"
            ]
          },
          "metadata": {},
          "output_type": "display_data"
        },
        {
          "data": {
            "text/plain": [
              "['/content/drive/MyDrive/ETHZ-2022-S/ML-healthcare-projects/project2/fulldata_context_stem/w2v_model_size=10.pkl']"
            ]
          },
          "execution_count": 35,
          "metadata": {},
          "output_type": "execute_result"
        }
      ],
      "source": [
        "# save just in case\n",
        "\n",
        "joblib.dump(w2v_model,\n",
        "            output_dir / f\"w2v_model_size={size}.pkl\",\n",
        "            compress=True,\n",
        "            protocol=pickle.HIGHEST_PROTOCOL)"
      ],
      "id": "urMMsuguU81-"
    },
    {
      "cell_type": "markdown",
      "metadata": {
        "id": "ct7ikLFCRxa7"
      },
      "source": [
        ""
      ],
      "id": "ct7ikLFCRxa7"
    },
    {
      "cell_type": "markdown",
      "metadata": {
        "id": "j2wbM57dSBmT"
      },
      "source": [
        "### context 2\n"
      ],
      "id": "j2wbM57dSBmT"
    },
    {
      "cell_type": "code",
      "execution_count": null,
      "metadata": {
        "colab": {
          "base_uri": "https://localhost:8080/",
          "height": 17
        },
        "id": "_xJuGW5nCE0F",
        "outputId": "b42dd4e3-c229-41a4-f377-744e2ff625c2"
      },
      "outputs": [
        {
          "data": {
            "text/html": [
              "\n",
              "  <style>\n",
              "    pre {\n",
              "        white-space: pre-wrap;\n",
              "    }\n",
              "  </style>\n",
              "  "
            ],
            "text/plain": [
              "<IPython.core.display.HTML object>"
            ]
          },
          "metadata": {},
          "output_type": "display_data"
        },
        {
          "data": {
            "text/html": [
              "\n",
              "  <style>\n",
              "    pre {\n",
              "        white-space: pre-wrap;\n",
              "    }\n",
              "  </style>\n",
              "  "
            ],
            "text/plain": [
              "<IPython.core.display.HTML object>"
            ]
          },
          "metadata": {},
          "output_type": "display_data"
        },
        {
          "data": {
            "text/html": [
              "\n",
              "  <style>\n",
              "    pre {\n",
              "        white-space: pre-wrap;\n",
              "    }\n",
              "  </style>\n",
              "  "
            ],
            "text/plain": [
              "<IPython.core.display.HTML object>"
            ]
          },
          "metadata": {},
          "output_type": "display_data"
        }
      ],
      "source": [
        "from tqdm.auto import tqdm # progress bar cause it takes forever\n",
        "\n",
        "def context2_embedd_average(w2v_model,train_df):\n",
        "    x = []\n",
        "    _num_sentences = len(train_df['preprocess'])\n",
        "    for index in tqdm(range(_num_sentences), total=_num_sentences):\n",
        "        # remove out-of-vocabulary words\n",
        "        #print(index)\n",
        "        if (index >1) and (index<(len(train_df)-1)):\n",
        "          if (train_df['line_number'][index-1] < train_df['line_number'][index]) :\n",
        "            prev_context1 = [word for word in train_df['preprocess'][index-1] if word in w2v_model.wv.vocab.keys()]\n",
        "          else : prev_context1=[]\n",
        "\n",
        "          if (train_df['line_number'][index+1] > train_df['line_number'][index]) :\n",
        "            next_context1 = [word for word in train_df['preprocess'][index+1] if word in w2v_model.wv.vocab.keys()]\n",
        "          else : next_context1=[]\n",
        "\n",
        "        if (index >2) and (index<(len(train_df)-2)):\n",
        "          if (train_df['line_number'][index-2] < train_df['line_number'][index]) :\n",
        "            prev_context2 = [word for word in train_df['preprocess'][index-2] if word in w2v_model.wv.vocab.keys()]\n",
        "          else : prev_context2=[]\n",
        "          if (train_df['line_number'][index+2] < train_df['line_number'][index]) :\n",
        "            next_context2 = [word for word in train_df['preprocess'][index+2] if word in w2v_model.wv.vocab.keys()]\n",
        "          else : next_context2=[]\n",
        "\n",
        "          \n",
        "        else :\n",
        "          prev_context1=[]\n",
        "          next_context1=[]\n",
        "          prev_context2=[]\n",
        "          next_context2=[]\n",
        "\n",
        "        sentence = [word for word in train_df['preprocess'][index] if word in w2v_model.wv.vocab.keys()]\n",
        "        \n",
        "\n",
        "        if not prev_context1 : prev_context1= np.zeros(size)\n",
        "        else : prev_context1 = np.mean(w2v_model[prev_context1], axis=0)\n",
        "\n",
        "        if not next_context1 : next_context1= np.zeros(size)\n",
        "        else : next_context1 = np.mean(w2v_model[next_context1], axis=0)\n",
        "\n",
        "        if not prev_context2 : prev_context2= np.zeros(size)\n",
        "        else : prev_context2 = np.mean(w2v_model[prev_context2], axis=0)\n",
        "\n",
        "        if not next_context2 : next_context2= np.zeros(size)\n",
        "        else : next_context2 = np.mean(w2v_model[next_context2], axis=0)\n",
        "\n",
        "        if not sentence : sentence= np.zeros(size)\n",
        "        else : sentence = np.mean(w2v_model[sentence], axis=0)       \n",
        "\n",
        "        doc = [prev_context2, prev_context1, sentence, next_context1, next_context2]\n",
        "            \n",
        "        x.append(doc)\n",
        "        \n",
        "    X = np.array(x)\n",
        "\n",
        "\n",
        "    return X"
      ],
      "id": "_xJuGW5nCE0F"
    },
    {
      "cell_type": "code",
      "execution_count": null,
      "metadata": {
        "colab": {
          "base_uri": "https://localhost:8080/",
          "height": 286,
          "referenced_widgets": [
            "913f36cc835946e0bccad82d02d1578a",
            "30b2163b277b4d9ca09796a0df80cb79",
            "5634c63f356041db8831a6c41c7193a1",
            "3195083516b74943821cc573d760ee22",
            "a984a1a29c9a4bf48edfeef13257ecf2",
            "950ce2a924bf4faa9b1b78ac2d526ced",
            "1aa148f47fdf4271862687cd61674813",
            "cdde0226db2f45e7a7cd5f9ecfb412b1",
            "8e0e6e38371049318c5c321d06c3b365",
            "d5a4730a97174d13834db83f5dce4300",
            "e46af89c13184b40a50358e9f01203c4",
            "ee4bcd057f54426f8b5bac97f8f76c8b",
            "cb00b57826a1491b83425e00b5d2beeb",
            "8177e5ef2cc241a7927cab9289a9ae6a",
            "0516649e95d24487b48e5fc5de341c9c",
            "6108e4f350d44cd3a9734cb50c310a26",
            "9dae54ab2e9c4dc5b3e2167c86f06cf1",
            "49d9e57f58204502a43dc9df5720558b",
            "47237cb7ce1647c4868c06401d2bf9bb",
            "0a8de7715bed4500a685956a1b52e51f",
            "f4ca0a19f9b44e44bb9038effd70a8d6",
            "e6c0197608ce4daabdd0622c987a28c5",
            "2f2e76bf42de4b3a8f53226318b85b08",
            "c6528765722a4b54a4d256ca5e035b7c",
            "b59893f938714c458d338739fda858f8",
            "b00bcbb7b36e497483f725939bed4fca",
            "3f6e5ebe10ec49269a3819ad59d4e5cc",
            "15206093077442c4a82d64f71c1ce1f9",
            "03edaab5dab54c6c8ce689f2f069f9d7",
            "93ef114c739a45eda29be4df210bb41e",
            "42217f9d7ff448359b6eee5f09bbdccd",
            "c53da05d3c024a97ae13c4e5c3d98eff",
            "cea5e01edeb0445cbd6bb9720df448a3"
          ]
        },
        "id": "TKBVSqjlDCqn",
        "outputId": "e30a77da-4a07-4421-8808-0f6962a9b94e"
      },
      "outputs": [
        {
          "data": {
            "text/html": [
              "\n",
              "  <style>\n",
              "    pre {\n",
              "        white-space: pre-wrap;\n",
              "    }\n",
              "  </style>\n",
              "  "
            ],
            "text/plain": [
              "<IPython.core.display.HTML object>"
            ]
          },
          "metadata": {},
          "output_type": "display_data"
        },
        {
          "data": {
            "text/html": [
              "\n",
              "  <style>\n",
              "    pre {\n",
              "        white-space: pre-wrap;\n",
              "    }\n",
              "  </style>\n",
              "  "
            ],
            "text/plain": [
              "<IPython.core.display.HTML object>"
            ]
          },
          "metadata": {},
          "output_type": "display_data"
        },
        {
          "data": {
            "text/html": [
              "\n",
              "  <style>\n",
              "    pre {\n",
              "        white-space: pre-wrap;\n",
              "    }\n",
              "  </style>\n",
              "  "
            ],
            "text/plain": [
              "<IPython.core.display.HTML object>"
            ]
          },
          "metadata": {},
          "output_type": "display_data"
        },
        {
          "data": {
            "application/vnd.jupyter.widget-view+json": {
              "model_id": "913f36cc835946e0bccad82d02d1578a",
              "version_major": 2,
              "version_minor": 0
            },
            "text/plain": [
              "  0%|          | 0/2211861 [00:00<?, ?it/s]"
            ]
          },
          "metadata": {},
          "output_type": "display_data"
        },
        {
          "name": "stderr",
          "output_type": "stream",
          "text": [
            "/usr/local/lib/python3.7/dist-packages/ipykernel_launcher.py:49: DeprecationWarning: Call to deprecated `__getitem__` (Method will be removed in 4.0.0, use self.wv.__getitem__() instead).\n",
            "/usr/local/lib/python3.7/dist-packages/ipykernel_launcher.py:37: DeprecationWarning: Call to deprecated `__getitem__` (Method will be removed in 4.0.0, use self.wv.__getitem__() instead).\n",
            "/usr/local/lib/python3.7/dist-packages/ipykernel_launcher.py:40: DeprecationWarning: Call to deprecated `__getitem__` (Method will be removed in 4.0.0, use self.wv.__getitem__() instead).\n",
            "/usr/local/lib/python3.7/dist-packages/ipykernel_launcher.py:43: DeprecationWarning: Call to deprecated `__getitem__` (Method will be removed in 4.0.0, use self.wv.__getitem__() instead).\n",
            "/usr/local/lib/python3.7/dist-packages/ipykernel_launcher.py:46: DeprecationWarning: Call to deprecated `__getitem__` (Method will be removed in 4.0.0, use self.wv.__getitem__() instead).\n"
          ]
        },
        {
          "data": {
            "application/vnd.jupyter.widget-view+json": {
              "model_id": "ee4bcd057f54426f8b5bac97f8f76c8b",
              "version_major": 2,
              "version_minor": 0
            },
            "text/plain": [
              "  0%|          | 0/28932 [00:00<?, ?it/s]"
            ]
          },
          "metadata": {},
          "output_type": "display_data"
        },
        {
          "data": {
            "application/vnd.jupyter.widget-view+json": {
              "model_id": "2f2e76bf42de4b3a8f53226318b85b08",
              "version_major": 2,
              "version_minor": 0
            },
            "text/plain": [
              "  0%|          | 0/29493 [00:00<?, ?it/s]"
            ]
          },
          "metadata": {},
          "output_type": "display_data"
        }
      ],
      "source": [
        "Xtrain_context2 = context2_embedd_average(ft_model, train_df)\n",
        "Xval_context2 = context2_embedd_average(ft_model, val_df)\n",
        "Xtest_context2 = context2_embedd_average(ft_model, test_df)"
      ],
      "id": "TKBVSqjlDCqn"
    },
    {
      "cell_type": "code",
      "execution_count": null,
      "metadata": {
        "colab": {
          "base_uri": "https://localhost:8080/",
          "height": 17
        },
        "id": "sw7Kd9nJE2ZL",
        "outputId": "db9cbc33-31c6-41b0-d12d-22377f67c553"
      },
      "outputs": [
        {
          "data": {
            "text/html": [
              "\n",
              "  <style>\n",
              "    pre {\n",
              "        white-space: pre-wrap;\n",
              "    }\n",
              "  </style>\n",
              "  "
            ],
            "text/plain": [
              "<IPython.core.display.HTML object>"
            ]
          },
          "metadata": {},
          "output_type": "display_data"
        },
        {
          "data": {
            "text/html": [
              "\n",
              "  <style>\n",
              "    pre {\n",
              "        white-space: pre-wrap;\n",
              "    }\n",
              "  </style>\n",
              "  "
            ],
            "text/plain": [
              "<IPython.core.display.HTML object>"
            ]
          },
          "metadata": {},
          "output_type": "display_data"
        },
        {
          "data": {
            "text/html": [
              "\n",
              "  <style>\n",
              "    pre {\n",
              "        white-space: pre-wrap;\n",
              "    }\n",
              "  </style>\n",
              "  "
            ],
            "text/plain": [
              "<IPython.core.display.HTML object>"
            ]
          },
          "metadata": {},
          "output_type": "display_data"
        }
      ],
      "source": [
        "#Reshape \n",
        "Xtrain_context2 = Xtrain_context2.reshape((Xtrain_context2.shape[0], Xtrain_context2.shape[1]*Xtrain_context2.shape[2]))\n",
        "Xval_context2 = Xval_context2.reshape((Xval_context2.shape[0], Xval_context2.shape[1]*Xval_context2.shape[2]))\n",
        "Xtest_context2 = Xtest_context2.reshape((Xtest_context2.shape[0], Xtest_context2.shape[1]*Xtest_context2.shape[2]))"
      ],
      "id": "sw7Kd9nJE2ZL"
    },
    {
      "cell_type": "code",
      "execution_count": null,
      "metadata": {
        "colab": {
          "base_uri": "https://localhost:8080/",
          "height": 17
        },
        "id": "1y_jwbJITeOO",
        "outputId": "e1953e7b-231e-4240-9cd7-2f6052111de5"
      },
      "outputs": [
        {
          "data": {
            "text/html": [
              "\n",
              "  <style>\n",
              "    pre {\n",
              "        white-space: pre-wrap;\n",
              "    }\n",
              "  </style>\n",
              "  "
            ],
            "text/plain": [
              "<IPython.core.display.HTML object>"
            ]
          },
          "metadata": {},
          "output_type": "display_data"
        },
        {
          "data": {
            "text/html": [
              "\n",
              "  <style>\n",
              "    pre {\n",
              "        white-space: pre-wrap;\n",
              "    }\n",
              "  </style>\n",
              "  "
            ],
            "text/plain": [
              "<IPython.core.display.HTML object>"
            ]
          },
          "metadata": {},
          "output_type": "display_data"
        },
        {
          "data": {
            "text/html": [
              "\n",
              "  <style>\n",
              "    pre {\n",
              "        white-space: pre-wrap;\n",
              "    }\n",
              "  </style>\n",
              "  "
            ],
            "text/plain": [
              "<IPython.core.display.HTML object>"
            ]
          },
          "metadata": {},
          "output_type": "display_data"
        }
      ],
      "source": [
        "context2_trainset = {\n",
        "    \"Xtrain_context2\":Xtrain_context2, \n",
        "    \"Xval_context2\":Xval_context2, \n",
        "    \"Xtest_context2\":Xtest_context2,\n",
        "}\n",
        "for name, var in context2_trainset.items():\n",
        "    \n",
        "    joblib.dump(var,\n",
        "            output_dir / f\"context2_set_embedded_reshaped_{name}_sz={ft_size}.pkl\",\n",
        "            compress=True,\n",
        "            protocol=pickle.HIGHEST_PROTOCOL,\n",
        "        )\n"
      ],
      "id": "1y_jwbJITeOO"
    },
    {
      "cell_type": "code",
      "execution_count": null,
      "metadata": {
        "colab": {
          "base_uri": "https://localhost:8080/",
          "height": 52
        },
        "id": "y0_KgpnsXdFe",
        "outputId": "083ad4ad-356f-4d83-8fa7-8984423463ab"
      },
      "outputs": [
        {
          "data": {
            "text/html": [
              "\n",
              "  <style>\n",
              "    pre {\n",
              "        white-space: pre-wrap;\n",
              "    }\n",
              "  </style>\n",
              "  "
            ],
            "text/plain": [
              "<IPython.core.display.HTML object>"
            ]
          },
          "metadata": {},
          "output_type": "display_data"
        },
        {
          "data": {
            "text/html": [
              "\n",
              "  <style>\n",
              "    pre {\n",
              "        white-space: pre-wrap;\n",
              "    }\n",
              "  </style>\n",
              "  "
            ],
            "text/plain": [
              "<IPython.core.display.HTML object>"
            ]
          },
          "metadata": {},
          "output_type": "display_data"
        },
        {
          "data": {
            "text/html": [
              "\n",
              "  <style>\n",
              "    pre {\n",
              "        white-space: pre-wrap;\n",
              "    }\n",
              "  </style>\n",
              "  "
            ],
            "text/plain": [
              "<IPython.core.display.HTML object>"
            ]
          },
          "metadata": {},
          "output_type": "display_data"
        },
        {
          "data": {
            "text/plain": [
              "['/content/drive/MyDrive/ETHZ-2022-S/ML-healthcare-projects/project2/fulldata_context_stem/ft_model_postembed_sz=10.pkl']"
            ]
          },
          "execution_count": 86,
          "metadata": {},
          "output_type": "execute_result"
        }
      ],
      "source": [
        "# save just in case\n",
        "\n",
        "joblib.dump(ft_model,\n",
        "            output_dir / f\"ft_model_postembed_sz={ft_size}.pkl\",\n",
        "            compress=True,\n",
        "            protocol=pickle.HIGHEST_PROTOCOL)"
      ],
      "id": "y0_KgpnsXdFe"
    },
    {
      "cell_type": "markdown",
      "metadata": {
        "id": "Rsmy8rV4PTDZ"
      },
      "source": [
        "## classification"
      ],
      "id": "Rsmy8rV4PTDZ"
    },
    {
      "cell_type": "markdown",
      "metadata": {
        "id": "VhCR1M49_gSD"
      },
      "source": [
        "### Classifier - context 1"
      ],
      "id": "VhCR1M49_gSD"
    },
    {
      "cell_type": "code",
      "execution_count": 95,
      "metadata": {
        "colab": {
          "base_uri": "https://localhost:8080/",
          "height": 52
        },
        "id": "VeVuZj0T0ddj",
        "outputId": "4cf70f29-2736-4977-a692-8500f5b271c6"
      },
      "outputs": [
        {
          "output_type": "display_data",
          "data": {
            "text/plain": [
              "<IPython.core.display.HTML object>"
            ],
            "text/html": [
              "\n",
              "  <style>\n",
              "    pre {\n",
              "        white-space: pre-wrap;\n",
              "    }\n",
              "  </style>\n",
              "  "
            ]
          },
          "metadata": {}
        },
        {
          "output_type": "display_data",
          "data": {
            "text/plain": [
              "<IPython.core.display.HTML object>"
            ],
            "text/html": [
              "\n",
              "  <style>\n",
              "    pre {\n",
              "        white-space: pre-wrap;\n",
              "    }\n",
              "  </style>\n",
              "  "
            ]
          },
          "metadata": {}
        },
        {
          "output_type": "display_data",
          "data": {
            "text/plain": [
              "<IPython.core.display.HTML object>"
            ],
            "text/html": [
              "\n",
              "  <style>\n",
              "    pre {\n",
              "        white-space: pre-wrap;\n",
              "    }\n",
              "  </style>\n",
              "  "
            ]
          },
          "metadata": {}
        },
        {
          "output_type": "stream",
          "name": "stdout",
          "text": [
            "CPU times: user 2.25 s, sys: 8.55 s, total: 10.8 s\n",
            "Wall time: 7min 6s\n"
          ]
        }
      ],
      "source": [
        "%%time\n",
        "lr = LogisticRegression(max_iter=500,\n",
        "                        tol=1e-3,\n",
        "                        # class_weight='balanced',\n",
        "                        n_jobs=max(os.cpu_count()-2,1),\n",
        "                    )\n",
        "lr.fit(Xtrain_context1, train_labels)"
      ],
      "id": "VeVuZj0T0ddj"
    },
    {
      "cell_type": "code",
      "execution_count": 96,
      "metadata": {
        "id": "Uf_Zhqj65XsZ",
        "colab": {
          "base_uri": "https://localhost:8080/",
          "height": 34
        },
        "outputId": "b4aee1fb-9b2c-475c-834f-7aefade90845"
      },
      "outputs": [
        {
          "output_type": "display_data",
          "data": {
            "text/plain": [
              "<IPython.core.display.HTML object>"
            ],
            "text/html": [
              "\n",
              "  <style>\n",
              "    pre {\n",
              "        white-space: pre-wrap;\n",
              "    }\n",
              "  </style>\n",
              "  "
            ]
          },
          "metadata": {}
        },
        {
          "output_type": "display_data",
          "data": {
            "text/plain": [
              "<IPython.core.display.HTML object>"
            ],
            "text/html": [
              "\n",
              "  <style>\n",
              "    pre {\n",
              "        white-space: pre-wrap;\n",
              "    }\n",
              "  </style>\n",
              "  "
            ]
          },
          "metadata": {}
        },
        {
          "output_type": "display_data",
          "data": {
            "text/plain": [
              "<IPython.core.display.HTML object>"
            ],
            "text/html": [
              "\n",
              "  <style>\n",
              "    pre {\n",
              "        white-space: pre-wrap;\n",
              "    }\n",
              "  </style>\n",
              "  "
            ]
          },
          "metadata": {}
        },
        {
          "output_type": "stream",
          "name": "stdout",
          "text": [
            "LogReg f1 score weighted : {} 0.7708552285639891\n"
          ]
        }
      ],
      "source": [
        "# Make predictions\n",
        "y_preds = lr.predict(Xtest_context1)\n",
        "f1 = f1_score(test_labels, y_preds, average='weighted')\n",
        "print('LogReg f1 score weighted : {}',f1)\n",
        "\n",
        "#Context1 : fscore = 0.7749\n",
        "#Context2 : fscore = 0.8049\n",
        "\n",
        "#fasttext context2 : fscore = 0.8358\n",
        "\n",
        "# word2 vec full dataset score\n",
        "# fulldataset LogReg f1 score weighted : {} 0.6717911213174758 context1  # class_weight='balanced', in LR\n",
        "# ran it a second time with balanced commented out LogReg f1 score weighted : {} 0.6717911213174758"
      ],
      "id": "Uf_Zhqj65XsZ"
    },
    {
      "cell_type": "code",
      "execution_count": 97,
      "metadata": {
        "id": "_AmoxUlxRpw9",
        "colab": {
          "base_uri": "https://localhost:8080/",
          "height": 17
        },
        "outputId": "877e06aa-9d49-4645-b093-d573ba3e3720"
      },
      "outputs": [
        {
          "output_type": "display_data",
          "data": {
            "text/plain": [
              "<IPython.core.display.HTML object>"
            ],
            "text/html": [
              "\n",
              "  <style>\n",
              "    pre {\n",
              "        white-space: pre-wrap;\n",
              "    }\n",
              "  </style>\n",
              "  "
            ]
          },
          "metadata": {}
        },
        {
          "output_type": "display_data",
          "data": {
            "text/plain": [
              "<IPython.core.display.HTML object>"
            ],
            "text/html": [
              "\n",
              "  <style>\n",
              "    pre {\n",
              "        white-space: pre-wrap;\n",
              "    }\n",
              "  </style>\n",
              "  "
            ]
          },
          "metadata": {}
        },
        {
          "output_type": "display_data",
          "data": {
            "text/plain": [
              "<IPython.core.display.HTML object>"
            ],
            "text/html": [
              "\n",
              "  <style>\n",
              "    pre {\n",
              "        white-space: pre-wrap;\n",
              "    }\n",
              "  </style>\n",
              "  "
            ]
          },
          "metadata": {}
        }
      ],
      "source": [
        "## serialize files\n",
        "\n",
        "context1_results = {\n",
        "    \"lr_model\":lr, \n",
        "    \"y_pred_context1\":y_preds, \n",
        "}\n",
        "\n",
        "for name, var in context1_results.items():\n",
        "    outpath=output_dir / f\"context1_set_results_{name}_size={size}.pkl\"\n",
        "    if outpath.exists() and outpath.is_file():\n",
        "        outpath = output_dir / f\"NewVersion_{outpath.name}\"\n",
        "    joblib.dump(var,\n",
        "            outpath,\n",
        "            compress=True,\n",
        "            protocol=pickle.HIGHEST_PROTOCOL,\n",
        "        )\n"
      ],
      "id": "_AmoxUlxRpw9"
    },
    {
      "cell_type": "code",
      "execution_count": 98,
      "metadata": {
        "id": "b85bd417",
        "colab": {
          "base_uri": "https://localhost:8080/",
          "height": 17
        },
        "outputId": "18595938-0b5d-4f15-d9d3-e3ccbdf4ba51"
      },
      "outputs": [
        {
          "output_type": "display_data",
          "data": {
            "text/plain": [
              "<IPython.core.display.HTML object>"
            ],
            "text/html": [
              "\n",
              "  <style>\n",
              "    pre {\n",
              "        white-space: pre-wrap;\n",
              "    }\n",
              "  </style>\n",
              "  "
            ]
          },
          "metadata": {}
        },
        {
          "output_type": "display_data",
          "data": {
            "text/plain": [
              "<IPython.core.display.HTML object>"
            ],
            "text/html": [
              "\n",
              "  <style>\n",
              "    pre {\n",
              "        white-space: pre-wrap;\n",
              "    }\n",
              "  </style>\n",
              "  "
            ]
          },
          "metadata": {}
        },
        {
          "output_type": "display_data",
          "data": {
            "text/plain": [
              "<IPython.core.display.HTML object>"
            ],
            "text/html": [
              "\n",
              "  <style>\n",
              "    pre {\n",
              "        white-space: pre-wrap;\n",
              "    }\n",
              "  </style>\n",
              "  "
            ]
          },
          "metadata": {}
        }
      ],
      "source": [
        "#with stemming\n",
        "#W2VEC\n",
        "#Average fscore = 0.705\n",
        "#concatenate fscore = \n",
        "#context1 with size=10 and logreg 1000 = 0.7684\n",
        "#context2 with size=10 and logreg 1000 = 0.8043\n",
        "\n",
        "#Fasttext\n",
        "#Average fscore = 0.694\n",
        "#concatenate fscore = \n",
        "#context1 with size=10 and logreg 1000 = \n",
        "#context2 with size=10 and logreg 1000 = "
      ],
      "id": "b85bd417"
    },
    {
      "cell_type": "code",
      "execution_count": null,
      "metadata": {
        "id": "f9e0a1e2"
      },
      "outputs": [],
      "source": [
        "#without stemming \n",
        "#W2VEC\n",
        "#Average fscore = 0.733\n",
        "#concatenate fscore = \n",
        "#context1 with size=10 and logreg 1000 = \n",
        "#context2 with size=10 and logreg 1000 =\n",
        "\n",
        "#Fasttext\n",
        "#Average fscore = 0.718\n",
        "#concatenate fscore = \n",
        "#context1 with size=10 and logreg 1000 = 0.628\n",
        "#context2 with size=10 and logreg 1000 = 0.6915"
      ],
      "id": "f9e0a1e2"
    },
    {
      "cell_type": "markdown",
      "source": [
        "#### autoML context 1"
      ],
      "metadata": {
        "id": "ov5nFLnStk7A"
      },
      "id": "ov5nFLnStk7A"
    },
    {
      "cell_type": "code",
      "execution_count": null,
      "metadata": {
        "id": "0f14e7bc"
      },
      "outputs": [],
      "source": [
        "!pip install -U flaml[notebook] -q\n"
      ],
      "id": "0f14e7bc"
    },
    {
      "cell_type": "code",
      "source": [
        "from flaml import AutoML\n"
      ],
      "metadata": {
        "colab": {
          "base_uri": "https://localhost:8080/",
          "height": 17
        },
        "id": "s4VP4a--o0PQ",
        "outputId": "6078f100-0e2c-4cac-8348-6f0cb4d2f57d"
      },
      "id": "s4VP4a--o0PQ",
      "execution_count": 100,
      "outputs": [
        {
          "output_type": "display_data",
          "data": {
            "text/plain": [
              "<IPython.core.display.HTML object>"
            ],
            "text/html": [
              "\n",
              "  <style>\n",
              "    pre {\n",
              "        white-space: pre-wrap;\n",
              "    }\n",
              "  </style>\n",
              "  "
            ]
          },
          "metadata": {}
        },
        {
          "output_type": "display_data",
          "data": {
            "text/plain": [
              "<IPython.core.display.HTML object>"
            ],
            "text/html": [
              "\n",
              "  <style>\n",
              "    pre {\n",
              "        white-space: pre-wrap;\n",
              "    }\n",
              "  </style>\n",
              "  "
            ]
          },
          "metadata": {}
        },
        {
          "output_type": "display_data",
          "data": {
            "text/plain": [
              "<IPython.core.display.HTML object>"
            ],
            "text/html": [
              "\n",
              "  <style>\n",
              "    pre {\n",
              "        white-space: pre-wrap;\n",
              "    }\n",
              "  </style>\n",
              "  "
            ]
          },
          "metadata": {}
        }
      ]
    },
    {
      "cell_type": "code",
      "source": [
        "automl = AutoML()\n",
        "from flaml.model import LGBMEstimator, XGBoostEstimator\n",
        "\n",
        "automl.add_learner(\"mylgbm\", LGBMEstimator)\n",
        "automl.add_learner(\"papa_boost\", XGBoostEstimator)\n",
        "\n",
        "\n",
        "logname = \"pubmed_test.log\"\n",
        "# TODO: try to_numpy()\n",
        "settings = {\n",
        "    \"time_budget\": 120,  # in seconds\n",
        "    \"metric\": 'macro_f1', \n",
        "    \"estimator_list\": ['lgbm'],  # list of ML learners; we tune lightgbm in this example\n",
        "    \"task\": 'classification',  # task type    \n",
        "    \"log_file_name\": logname,\n",
        "}\n"
      ],
      "metadata": {
        "colab": {
          "base_uri": "https://localhost:8080/",
          "height": 17
        },
        "id": "YmSpQIFtok3Q",
        "outputId": "88c80aa0-5908-4042-812d-a61edf55d543"
      },
      "id": "YmSpQIFtok3Q",
      "execution_count": 105,
      "outputs": [
        {
          "output_type": "display_data",
          "data": {
            "text/plain": [
              "<IPython.core.display.HTML object>"
            ],
            "text/html": [
              "\n",
              "  <style>\n",
              "    pre {\n",
              "        white-space: pre-wrap;\n",
              "    }\n",
              "  </style>\n",
              "  "
            ]
          },
          "metadata": {}
        },
        {
          "output_type": "display_data",
          "data": {
            "text/plain": [
              "<IPython.core.display.HTML object>"
            ],
            "text/html": [
              "\n",
              "  <style>\n",
              "    pre {\n",
              "        white-space: pre-wrap;\n",
              "    }\n",
              "  </style>\n",
              "  "
            ]
          },
          "metadata": {}
        },
        {
          "output_type": "display_data",
          "data": {
            "text/plain": [
              "<IPython.core.display.HTML object>"
            ],
            "text/html": [
              "\n",
              "  <style>\n",
              "    pre {\n",
              "        white-space: pre-wrap;\n",
              "    }\n",
              "  </style>\n",
              "  "
            ]
          },
          "metadata": {}
        }
      ]
    },
    {
      "cell_type": "code",
      "source": [
        "# automl.fit(X_train, y_train, time_budget=600, task=\"regression\")\n",
        "import os\n",
        "automl.fit(Xtrain_context1, train_labels, \n",
        "           **settings,\n",
        "           verbose=False,\n",
        "           early_stop=True,\n",
        ")"
      ],
      "metadata": {
        "colab": {
          "base_uri": "https://localhost:8080/",
          "height": 17
        },
        "id": "oXWcQWrBo_OO",
        "outputId": "bbc0bc79-695e-47d8-ec1f-52ad09a79eb1"
      },
      "id": "oXWcQWrBo_OO",
      "execution_count": 106,
      "outputs": [
        {
          "output_type": "display_data",
          "data": {
            "text/plain": [
              "<IPython.core.display.HTML object>"
            ],
            "text/html": [
              "\n",
              "  <style>\n",
              "    pre {\n",
              "        white-space: pre-wrap;\n",
              "    }\n",
              "  </style>\n",
              "  "
            ]
          },
          "metadata": {}
        },
        {
          "output_type": "display_data",
          "data": {
            "text/plain": [
              "<IPython.core.display.HTML object>"
            ],
            "text/html": [
              "\n",
              "  <style>\n",
              "    pre {\n",
              "        white-space: pre-wrap;\n",
              "    }\n",
              "  </style>\n",
              "  "
            ]
          },
          "metadata": {}
        },
        {
          "output_type": "display_data",
          "data": {
            "text/plain": [
              "<IPython.core.display.HTML object>"
            ],
            "text/html": [
              "\n",
              "  <style>\n",
              "    pre {\n",
              "        white-space: pre-wrap;\n",
              "    }\n",
              "  </style>\n",
              "  "
            ]
          },
          "metadata": {}
        }
      ]
    },
    {
      "cell_type": "code",
      "source": [
        "'''retrieve best config and best learner'''\n",
        "print('Best ML leaner:', automl.best_estimator)\n",
        "print('Best hyperparmeter config:', automl.best_config)\n",
        "print('Best accuracy on validation data: {0:.4g}'.format(1-automl.best_loss))\n",
        "print('Training duration of best run: {0:.4g} s'.format(automl.best_config_train_time))\n"
      ],
      "metadata": {
        "colab": {
          "base_uri": "https://localhost:8080/",
          "height": 138
        },
        "id": "6yp4QRhNqxz-",
        "outputId": "409039d0-c113-4c29-c7c2-7843ae353f68"
      },
      "id": "6yp4QRhNqxz-",
      "execution_count": 107,
      "outputs": [
        {
          "output_type": "display_data",
          "data": {
            "text/plain": [
              "<IPython.core.display.HTML object>"
            ],
            "text/html": [
              "\n",
              "  <style>\n",
              "    pre {\n",
              "        white-space: pre-wrap;\n",
              "    }\n",
              "  </style>\n",
              "  "
            ]
          },
          "metadata": {}
        },
        {
          "output_type": "display_data",
          "data": {
            "text/plain": [
              "<IPython.core.display.HTML object>"
            ],
            "text/html": [
              "\n",
              "  <style>\n",
              "    pre {\n",
              "        white-space: pre-wrap;\n",
              "    }\n",
              "  </style>\n",
              "  "
            ]
          },
          "metadata": {}
        },
        {
          "output_type": "display_data",
          "data": {
            "text/plain": [
              "<IPython.core.display.HTML object>"
            ],
            "text/html": [
              "\n",
              "  <style>\n",
              "    pre {\n",
              "        white-space: pre-wrap;\n",
              "    }\n",
              "  </style>\n",
              "  "
            ]
          },
          "metadata": {}
        },
        {
          "output_type": "stream",
          "name": "stdout",
          "text": [
            "Best ML leaner: lgbm\n",
            "Best hyperparmeter config: {'n_estimators': 918, 'num_leaves': 54, 'min_child_samples': 23, 'learning_rate': 0.09987591599349882, 'log_max_bin': 6, 'colsample_bytree': 0.45327713616378634, 'reg_alpha': 0.0034922118383222253, 'reg_lambda': 0.0015565068799621952, 'FLAML_sample_size': 1990675}\n",
            "Best accuracy on validation data: 0.7664\n",
            "Training duration of best run: 103.6 s\n"
          ]
        }
      ]
    },
    {
      "cell_type": "code",
      "source": [
        "'''pickle and save the automl object'''\n",
        "import pickle\n",
        "model1_path = output_dir / 'automl_context1_lgbm.pkl'\n",
        "with open(model1_path, 'wb') as f:\n",
        "    pickle.dump(automl, f, pickle.HIGHEST_PROTOCOL)\n",
        "'''load pickled automl object'''\n",
        "with open(model1_path, 'rb') as f:\n",
        "    automl = pickle.load(f)"
      ],
      "metadata": {
        "colab": {
          "base_uri": "https://localhost:8080/",
          "height": 17
        },
        "id": "2uE7itEhr0-G",
        "outputId": "de993dc6-2ed3-4456-830f-03be52ca3f75"
      },
      "id": "2uE7itEhr0-G",
      "execution_count": 108,
      "outputs": [
        {
          "output_type": "display_data",
          "data": {
            "text/plain": [
              "<IPython.core.display.HTML object>"
            ],
            "text/html": [
              "\n",
              "  <style>\n",
              "    pre {\n",
              "        white-space: pre-wrap;\n",
              "    }\n",
              "  </style>\n",
              "  "
            ]
          },
          "metadata": {}
        },
        {
          "output_type": "display_data",
          "data": {
            "text/plain": [
              "<IPython.core.display.HTML object>"
            ],
            "text/html": [
              "\n",
              "  <style>\n",
              "    pre {\n",
              "        white-space: pre-wrap;\n",
              "    }\n",
              "  </style>\n",
              "  "
            ]
          },
          "metadata": {}
        },
        {
          "output_type": "display_data",
          "data": {
            "text/plain": [
              "<IPython.core.display.HTML object>"
            ],
            "text/html": [
              "\n",
              "  <style>\n",
              "    pre {\n",
              "        white-space: pre-wrap;\n",
              "    }\n",
              "  </style>\n",
              "  "
            ]
          },
          "metadata": {}
        }
      ]
    },
    {
      "cell_type": "code",
      "source": [
        "y_pred = automl.predict(Xtest_context1)\n",
        "f1 = f1_score(test_labels, y_pred, average='weighted')\n",
        "print('LogReg f1 score weighted : {}',f1)"
      ],
      "metadata": {
        "colab": {
          "base_uri": "https://localhost:8080/",
          "height": 34
        },
        "id": "8VZ9TsnpsDnq",
        "outputId": "4edc4541-9f5c-4131-fd0b-eba23df2bafa"
      },
      "id": "8VZ9TsnpsDnq",
      "execution_count": 109,
      "outputs": [
        {
          "output_type": "display_data",
          "data": {
            "text/plain": [
              "<IPython.core.display.HTML object>"
            ],
            "text/html": [
              "\n",
              "  <style>\n",
              "    pre {\n",
              "        white-space: pre-wrap;\n",
              "    }\n",
              "  </style>\n",
              "  "
            ]
          },
          "metadata": {}
        },
        {
          "output_type": "display_data",
          "data": {
            "text/plain": [
              "<IPython.core.display.HTML object>"
            ],
            "text/html": [
              "\n",
              "  <style>\n",
              "    pre {\n",
              "        white-space: pre-wrap;\n",
              "    }\n",
              "  </style>\n",
              "  "
            ]
          },
          "metadata": {}
        },
        {
          "output_type": "display_data",
          "data": {
            "text/plain": [
              "<IPython.core.display.HTML object>"
            ],
            "text/html": [
              "\n",
              "  <style>\n",
              "    pre {\n",
              "        white-space: pre-wrap;\n",
              "    }\n",
              "  </style>\n",
              "  "
            ]
          },
          "metadata": {}
        },
        {
          "output_type": "stream",
          "name": "stdout",
          "text": [
            "LogReg f1 score weighted : {} 0.827796579097642\n"
          ]
        }
      ]
    },
    {
      "cell_type": "markdown",
      "metadata": {
        "id": "QTDApfA6PPhE"
      },
      "source": [
        "### Classifier - context 2\n",
        "\n"
      ],
      "id": "QTDApfA6PPhE"
    },
    {
      "cell_type": "code",
      "execution_count": null,
      "metadata": {
        "colab": {
          "background_save": true,
          "base_uri": "https://localhost:8080/",
          "height": 17
        },
        "id": "kNT4-GwaPPhJ",
        "outputId": "6dcd0b90-31e8-42a0-ba49-316c1a6c1e94"
      },
      "outputs": [
        {
          "data": {
            "text/html": [
              "\n",
              "  <style>\n",
              "    pre {\n",
              "        white-space: pre-wrap;\n",
              "    }\n",
              "  </style>\n",
              "  "
            ],
            "text/plain": [
              "<IPython.core.display.HTML object>"
            ]
          },
          "metadata": {},
          "output_type": "display_data"
        },
        {
          "data": {
            "text/html": [
              "\n",
              "  <style>\n",
              "    pre {\n",
              "        white-space: pre-wrap;\n",
              "    }\n",
              "  </style>\n",
              "  "
            ],
            "text/plain": [
              "<IPython.core.display.HTML object>"
            ]
          },
          "metadata": {},
          "output_type": "display_data"
        },
        {
          "data": {
            "text/html": [
              "\n",
              "  <style>\n",
              "    pre {\n",
              "        white-space: pre-wrap;\n",
              "    }\n",
              "  </style>\n",
              "  "
            ],
            "text/plain": [
              "<IPython.core.display.HTML object>"
            ]
          },
          "metadata": {},
          "output_type": "display_data"
        },
        {
          "name": "stdout",
          "output_type": "stream",
          "text": [
            "CPU times: user 3.75 s, sys: 8.57 s, total: 12.3 s\n",
            "Wall time: 15min 17s\n"
          ]
        }
      ],
      "source": [
        "%%time\n",
        "lr = LogisticRegression(max_iter=500,\n",
        "                        tol=1e-3,\n",
        "                        n_jobs=max(os.cpu_count()-2,1),\n",
        "                    )\n",
        "lr.fit(Xtrain_context2, train_labels)"
      ],
      "id": "kNT4-GwaPPhJ"
    },
    {
      "cell_type": "code",
      "execution_count": null,
      "metadata": {
        "colab": {
          "background_save": true
        },
        "id": "ss2t4XEWPPhJ",
        "outputId": "1dd7be67-b8ac-45f0-f48e-4d050d0acb93"
      },
      "outputs": [
        {
          "data": {
            "text/html": [
              "\n",
              "  <style>\n",
              "    pre {\n",
              "        white-space: pre-wrap;\n",
              "    }\n",
              "  </style>\n",
              "  "
            ],
            "text/plain": [
              "<IPython.core.display.HTML object>"
            ]
          },
          "metadata": {},
          "output_type": "display_data"
        },
        {
          "data": {
            "text/html": [
              "\n",
              "  <style>\n",
              "    pre {\n",
              "        white-space: pre-wrap;\n",
              "    }\n",
              "  </style>\n",
              "  "
            ],
            "text/plain": [
              "<IPython.core.display.HTML object>"
            ]
          },
          "metadata": {},
          "output_type": "display_data"
        },
        {
          "data": {
            "text/html": [
              "\n",
              "  <style>\n",
              "    pre {\n",
              "        white-space: pre-wrap;\n",
              "    }\n",
              "  </style>\n",
              "  "
            ],
            "text/plain": [
              "<IPython.core.display.HTML object>"
            ]
          },
          "metadata": {},
          "output_type": "display_data"
        },
        {
          "name": "stdout",
          "output_type": "stream",
          "text": [
            "LogReg f1 score weighted : {} 0.5896887038009822\n"
          ]
        }
      ],
      "source": [
        "# Make predictions\n",
        "y_preds = lr.predict(Xtest_context2)\n",
        "f1 = f1_score(test_labels, y_preds, average='weighted')\n",
        "print('LogReg f1 score weighted : {}',f1)\n",
        "\n",
        "#Context1 : fscore = 0.7749\n",
        "#Context2 : fscore = 0.8049\n",
        "\n",
        "#fasttext context2 : fscore = 0.8358"
      ],
      "id": "ss2t4XEWPPhJ"
    },
    {
      "cell_type": "code",
      "execution_count": null,
      "metadata": {
        "colab": {
          "background_save": true
        },
        "id": "BrTEtDXKXxqG",
        "outputId": "5a6cfc89-c49e-4005-c5cb-4c8a35f853ac"
      },
      "outputs": [
        {
          "data": {
            "text/html": [
              "\n",
              "  <style>\n",
              "    pre {\n",
              "        white-space: pre-wrap;\n",
              "    }\n",
              "  </style>\n",
              "  "
            ],
            "text/plain": [
              "<IPython.core.display.HTML object>"
            ]
          },
          "metadata": {},
          "output_type": "display_data"
        },
        {
          "data": {
            "text/html": [
              "\n",
              "  <style>\n",
              "    pre {\n",
              "        white-space: pre-wrap;\n",
              "    }\n",
              "  </style>\n",
              "  "
            ],
            "text/plain": [
              "<IPython.core.display.HTML object>"
            ]
          },
          "metadata": {},
          "output_type": "display_data"
        },
        {
          "data": {
            "text/html": [
              "\n",
              "  <style>\n",
              "    pre {\n",
              "        white-space: pre-wrap;\n",
              "    }\n",
              "  </style>\n",
              "  "
            ],
            "text/plain": [
              "<IPython.core.display.HTML object>"
            ]
          },
          "metadata": {},
          "output_type": "display_data"
        }
      ],
      "source": [
        "context2_results = {\n",
        "    \"lr_model\":lr, \n",
        "    \"y_pred_context2\":y_preds, \n",
        "}\n",
        "for name, var in context1_results.items():\n",
        "    outpath = output_dir / f\"context2_set_results_{name}_size={ft_size}.pkl\"\n",
        "    if outpath.exists() and outpath.is_file():\n",
        "        outpath = output_dir / f\"NewVersion_{outpath.name}\"\n",
        "    joblib.dump(var,\n",
        "                outpath,\n",
        "                compress=True,\n",
        "                protocol=pickle.HIGHEST_PROTOCOL,\n",
        "            )"
      ],
      "id": "BrTEtDXKXxqG"
    },
    {
      "cell_type": "code",
      "execution_count": null,
      "metadata": {
        "id": "5UPmjDZaWuI2"
      },
      "outputs": [],
      "source": [
        "logging.info(f\"f1 score is {f1}\")\n",
        "import shutil\n",
        "shutil.copy(_das_logfile, output_dir / _das_logfile.name)\n"
      ],
      "id": "5UPmjDZaWuI2"
    },
    {
      "cell_type": "code",
      "execution_count": null,
      "metadata": {
        "id": "ZgExlPIuXE4I"
      },
      "outputs": [],
      "source": [
        "lname = \"LOGFILE_ml4hc_project2.log\"\n",
        "shutil.copy(lname, output_dir / lname)\n",
        "\n"
      ],
      "id": "ZgExlPIuXE4I"
    },
    {
      "cell_type": "code",
      "execution_count": null,
      "metadata": {
        "colab": {
          "background_save": true
        },
        "id": "-KU2nEr1PPhJ",
        "outputId": "d6f9187c-755f-48e6-8bbc-6605945a20cb"
      },
      "outputs": [
        {
          "data": {
            "text/html": [
              "\n",
              "  <style>\n",
              "    pre {\n",
              "        white-space: pre-wrap;\n",
              "    }\n",
              "  </style>\n",
              "  "
            ],
            "text/plain": [
              "<IPython.core.display.HTML object>"
            ]
          },
          "metadata": {},
          "output_type": "display_data"
        },
        {
          "data": {
            "text/html": [
              "\n",
              "  <style>\n",
              "    pre {\n",
              "        white-space: pre-wrap;\n",
              "    }\n",
              "  </style>\n",
              "  "
            ],
            "text/plain": [
              "<IPython.core.display.HTML object>"
            ]
          },
          "metadata": {},
          "output_type": "display_data"
        },
        {
          "data": {
            "text/html": [
              "\n",
              "  <style>\n",
              "    pre {\n",
              "        white-space: pre-wrap;\n",
              "    }\n",
              "  </style>\n",
              "  "
            ],
            "text/plain": [
              "<IPython.core.display.HTML object>"
            ]
          },
          "metadata": {},
          "output_type": "display_data"
        }
      ],
      "source": [
        "#with stemming\n",
        "#W2VEC\n",
        "#Average fscore = 0.705\n",
        "#concatenate fscore = \n",
        "#context1 with size=10 and logreg 1000 = 0.7684\n",
        "#context2 with size=10 and logreg 1000 = 0.8043\n",
        "\n",
        "#Fasttext\n",
        "#Average fscore = 0.694\n",
        "#concatenate fscore = \n",
        "#context1 with size=10 and logreg 1000 = \n",
        "#context2 with size=10 and logreg 1000 = "
      ],
      "id": "-KU2nEr1PPhJ"
    },
    {
      "cell_type": "code",
      "execution_count": null,
      "metadata": {
        "colab": {
          "background_save": true
        },
        "id": "KfhGzaFPPPhK",
        "outputId": "5d36991a-5bb6-47f3-818d-155bb19d73ec"
      },
      "outputs": [
        {
          "data": {
            "text/html": [
              "\n",
              "  <style>\n",
              "    pre {\n",
              "        white-space: pre-wrap;\n",
              "    }\n",
              "  </style>\n",
              "  "
            ],
            "text/plain": [
              "<IPython.core.display.HTML object>"
            ]
          },
          "metadata": {},
          "output_type": "display_data"
        },
        {
          "data": {
            "text/html": [
              "\n",
              "  <style>\n",
              "    pre {\n",
              "        white-space: pre-wrap;\n",
              "    }\n",
              "  </style>\n",
              "  "
            ],
            "text/plain": [
              "<IPython.core.display.HTML object>"
            ]
          },
          "metadata": {},
          "output_type": "display_data"
        },
        {
          "data": {
            "text/html": [
              "\n",
              "  <style>\n",
              "    pre {\n",
              "        white-space: pre-wrap;\n",
              "    }\n",
              "  </style>\n",
              "  "
            ],
            "text/plain": [
              "<IPython.core.display.HTML object>"
            ]
          },
          "metadata": {},
          "output_type": "display_data"
        }
      ],
      "source": [
        "#without stemming \n",
        "#W2VEC\n",
        "#Average fscore = 0.733\n",
        "#concatenate fscore = \n",
        "#context1 with size=10 and logreg 1000 = \n",
        "#context2 with size=10 and logreg 1000 =\n",
        "\n",
        "#Fasttext\n",
        "#Average fscore = 0.718\n",
        "#concatenate fscore = \n",
        "#context1 with size=10 and logreg 1000 = 0.628\n",
        "#context2 with size=10 and logreg 1000 = 0.6915"
      ],
      "id": "KfhGzaFPPPhK"
    },
    {
      "cell_type": "markdown",
      "source": [
        "#### autoML context 2"
      ],
      "metadata": {
        "id": "KwPrDOR1sVHy"
      },
      "id": "KwPrDOR1sVHy"
    },
    {
      "cell_type": "code",
      "source": [
        "automl_c2 = AutoML()\n"
      ],
      "metadata": {
        "colab": {
          "base_uri": "https://localhost:8080/",
          "height": 17
        },
        "id": "Og4FBIrQsXjG",
        "outputId": "78263db4-ac2a-4d68-a1e8-0c5d4602be8f"
      },
      "id": "Og4FBIrQsXjG",
      "execution_count": 112,
      "outputs": [
        {
          "output_type": "display_data",
          "data": {
            "text/plain": [
              "<IPython.core.display.HTML object>"
            ],
            "text/html": [
              "\n",
              "  <style>\n",
              "    pre {\n",
              "        white-space: pre-wrap;\n",
              "    }\n",
              "  </style>\n",
              "  "
            ]
          },
          "metadata": {}
        },
        {
          "output_type": "display_data",
          "data": {
            "text/plain": [
              "<IPython.core.display.HTML object>"
            ],
            "text/html": [
              "\n",
              "  <style>\n",
              "    pre {\n",
              "        white-space: pre-wrap;\n",
              "    }\n",
              "  </style>\n",
              "  "
            ]
          },
          "metadata": {}
        },
        {
          "output_type": "display_data",
          "data": {
            "text/plain": [
              "<IPython.core.display.HTML object>"
            ],
            "text/html": [
              "\n",
              "  <style>\n",
              "    pre {\n",
              "        white-space: pre-wrap;\n",
              "    }\n",
              "  </style>\n",
              "  "
            ]
          },
          "metadata": {}
        }
      ]
    },
    {
      "cell_type": "code",
      "execution_count": 113,
      "metadata": {
        "colab": {
          "base_uri": "https://localhost:8080/",
          "height": 17
        },
        "id": "KH_t27KmPPhK",
        "outputId": "e070b4af-bb29-4801-feaa-8988233f3b41"
      },
      "outputs": [
        {
          "output_type": "display_data",
          "data": {
            "text/plain": [
              "<IPython.core.display.HTML object>"
            ],
            "text/html": [
              "\n",
              "  <style>\n",
              "    pre {\n",
              "        white-space: pre-wrap;\n",
              "    }\n",
              "  </style>\n",
              "  "
            ]
          },
          "metadata": {}
        },
        {
          "output_type": "display_data",
          "data": {
            "text/plain": [
              "<IPython.core.display.HTML object>"
            ],
            "text/html": [
              "\n",
              "  <style>\n",
              "    pre {\n",
              "        white-space: pre-wrap;\n",
              "    }\n",
              "  </style>\n",
              "  "
            ]
          },
          "metadata": {}
        },
        {
          "output_type": "display_data",
          "data": {
            "text/plain": [
              "<IPython.core.display.HTML object>"
            ],
            "text/html": [
              "\n",
              "  <style>\n",
              "    pre {\n",
              "        white-space: pre-wrap;\n",
              "    }\n",
              "  </style>\n",
              "  "
            ]
          },
          "metadata": {}
        }
      ],
      "source": [
        "automl_c2.fit(Xtrain_context2, train_labels, \n",
        "           **settings,\n",
        "           verbose=False,\n",
        "           early_stop=True,\n",
        ")"
      ],
      "id": "KH_t27KmPPhK"
    },
    {
      "cell_type": "code",
      "source": [
        "'''retrieve best config and best learner'''\n",
        "print('Best ML leaner:', automl_c2.best_estimator)\n",
        "print('Best hyperparmeter config:', automl_c2.best_config)\n",
        "print('Best accuracy on validation data: {0:.4g}'.format(1-automl_c2.best_loss))\n",
        "print('Training duration of best run: {0:.4g} s'.format(automl_c2.best_config_train_time))\n"
      ],
      "metadata": {
        "colab": {
          "base_uri": "https://localhost:8080/",
          "height": 138
        },
        "id": "dvrYcQHrtqY5",
        "outputId": "0daf08e0-2e59-44a1-8e3d-5fcd7ad5e244"
      },
      "id": "dvrYcQHrtqY5",
      "execution_count": 116,
      "outputs": [
        {
          "output_type": "display_data",
          "data": {
            "text/plain": [
              "<IPython.core.display.HTML object>"
            ],
            "text/html": [
              "\n",
              "  <style>\n",
              "    pre {\n",
              "        white-space: pre-wrap;\n",
              "    }\n",
              "  </style>\n",
              "  "
            ]
          },
          "metadata": {}
        },
        {
          "output_type": "display_data",
          "data": {
            "text/plain": [
              "<IPython.core.display.HTML object>"
            ],
            "text/html": [
              "\n",
              "  <style>\n",
              "    pre {\n",
              "        white-space: pre-wrap;\n",
              "    }\n",
              "  </style>\n",
              "  "
            ]
          },
          "metadata": {}
        },
        {
          "output_type": "display_data",
          "data": {
            "text/plain": [
              "<IPython.core.display.HTML object>"
            ],
            "text/html": [
              "\n",
              "  <style>\n",
              "    pre {\n",
              "        white-space: pre-wrap;\n",
              "    }\n",
              "  </style>\n",
              "  "
            ]
          },
          "metadata": {}
        },
        {
          "output_type": "stream",
          "name": "stdout",
          "text": [
            "Best ML leaner: lgbm\n",
            "Best hyperparmeter config: {'n_estimators': 270, 'num_leaves': 9, 'min_child_samples': 5, 'learning_rate': 0.1967016673936409, 'log_max_bin': 10, 'colsample_bytree': 0.8846955755228798, 'reg_alpha': 0.004996244283600559, 'reg_lambda': 3.5813940414439145, 'FLAML_sample_size': 1990675}\n",
            "Best accuracy on validation data: 0.6314\n",
            "Training duration of best run: 42.55 s\n"
          ]
        }
      ]
    },
    {
      "cell_type": "code",
      "source": [
        "'''pickle and save the automl object'''\n",
        "import pickle\n",
        "model2_path = output_dir / 'automl_context2_lgbm.pkl'\n",
        "with open(model2_path, 'wb') as f:\n",
        "    pickle.dump(automl_c2, f, pickle.HIGHEST_PROTOCOL)\n",
        "'''load pickled automl object'''\n",
        "with open(model2_path, 'rb') as f:\n",
        "    automl_c2 = pickle.load(f)"
      ],
      "metadata": {
        "colab": {
          "base_uri": "https://localhost:8080/",
          "height": 17
        },
        "id": "myKi3Jhotuk7",
        "outputId": "29dcd202-6ddb-48df-dbaf-7deb64fb240b"
      },
      "id": "myKi3Jhotuk7",
      "execution_count": 117,
      "outputs": [
        {
          "output_type": "display_data",
          "data": {
            "text/plain": [
              "<IPython.core.display.HTML object>"
            ],
            "text/html": [
              "\n",
              "  <style>\n",
              "    pre {\n",
              "        white-space: pre-wrap;\n",
              "    }\n",
              "  </style>\n",
              "  "
            ]
          },
          "metadata": {}
        },
        {
          "output_type": "display_data",
          "data": {
            "text/plain": [
              "<IPython.core.display.HTML object>"
            ],
            "text/html": [
              "\n",
              "  <style>\n",
              "    pre {\n",
              "        white-space: pre-wrap;\n",
              "    }\n",
              "  </style>\n",
              "  "
            ]
          },
          "metadata": {}
        },
        {
          "output_type": "display_data",
          "data": {
            "text/plain": [
              "<IPython.core.display.HTML object>"
            ],
            "text/html": [
              "\n",
              "  <style>\n",
              "    pre {\n",
              "        white-space: pre-wrap;\n",
              "    }\n",
              "  </style>\n",
              "  "
            ]
          },
          "metadata": {}
        }
      ]
    },
    {
      "cell_type": "code",
      "source": [
        "y_pred = automl_c2.predict(Xtest_context2)\n",
        "f1 = f1_score(test_labels, y_pred, average='weighted')\n",
        "print('LogReg f1 score weighted : {}',f1)"
      ],
      "metadata": {
        "colab": {
          "base_uri": "https://localhost:8080/",
          "height": 34
        },
        "id": "TplQ5IJdy0Oz",
        "outputId": "d196bf63-066d-4423-c33a-05a364aeb9d6"
      },
      "id": "TplQ5IJdy0Oz",
      "execution_count": 118,
      "outputs": [
        {
          "output_type": "display_data",
          "data": {
            "text/plain": [
              "<IPython.core.display.HTML object>"
            ],
            "text/html": [
              "\n",
              "  <style>\n",
              "    pre {\n",
              "        white-space: pre-wrap;\n",
              "    }\n",
              "  </style>\n",
              "  "
            ]
          },
          "metadata": {}
        },
        {
          "output_type": "display_data",
          "data": {
            "text/plain": [
              "<IPython.core.display.HTML object>"
            ],
            "text/html": [
              "\n",
              "  <style>\n",
              "    pre {\n",
              "        white-space: pre-wrap;\n",
              "    }\n",
              "  </style>\n",
              "  "
            ]
          },
          "metadata": {}
        },
        {
          "output_type": "display_data",
          "data": {
            "text/plain": [
              "<IPython.core.display.HTML object>"
            ],
            "text/html": [
              "\n",
              "  <style>\n",
              "    pre {\n",
              "        white-space: pre-wrap;\n",
              "    }\n",
              "  </style>\n",
              "  "
            ]
          },
          "metadata": {}
        },
        {
          "output_type": "stream",
          "name": "stdout",
          "text": [
            "LogReg f1 score weighted : {} 0.657099338144025\n"
          ]
        }
      ]
    },
    {
      "cell_type": "markdown",
      "metadata": {
        "id": "2OZB6ZhgumwK"
      },
      "source": [
        "### Results"
      ],
      "id": "2OZB6ZhgumwK"
    },
    {
      "cell_type": "code",
      "execution_count": null,
      "metadata": {
        "id": "lCLBx4kFunCh"
      },
      "outputs": [],
      "source": [
        ""
      ],
      "id": "lCLBx4kFunCh"
    }
  ],
  "metadata": {
    "accelerator": "TPU",
    "colab": {
      "background_execution": "on",
      "collapsed_sections": [
        "vLidshGj7_Oi",
        "REXo2k5qusv_",
        "I-14t-z9sy2p"
      ],
      "machine_shape": "hm",
      "name": "run full dataset Word2vec context1 context2.ipynb",
      "provenance": [],
      "toc_visible": true,
      "include_colab_link": true
    },
    "kernelspec": {
      "display_name": "Python 3",
      "language": "python",
      "name": "python3"
    },
    "language_info": {
      "codemirror_mode": {
        "name": "ipython",
        "version": 3
      },
      "file_extension": ".py",
      "mimetype": "text/x-python",
      "name": "python",
      "nbconvert_exporter": "python",
      "pygments_lexer": "ipython3",
      "version": "3.6.8"
    },
    "widgets": {
      "application/vnd.jupyter.widget-state+json": {
        "01847b9b972946628fe6be1808316608": {
          "model_module": "@jupyter-widgets/controls",
          "model_module_version": "1.5.0",
          "model_name": "HTMLModel",
          "state": {
            "_dom_classes": [],
            "_model_module": "@jupyter-widgets/controls",
            "_model_module_version": "1.5.0",
            "_model_name": "HTMLModel",
            "_view_count": null,
            "_view_module": "@jupyter-widgets/controls",
            "_view_module_version": "1.5.0",
            "_view_name": "HTMLView",
            "description": "",
            "description_tooltip": null,
            "layout": "IPY_MODEL_f461262102474ba392d3d2fda840c19f",
            "placeholder": "​",
            "style": "IPY_MODEL_7e3d8d6aa3c2436686e1669f9b90e588",
            "value": "100%"
          }
        },
        "01bd7ed62aac40ff8d013a53479b030d": {
          "model_module": "@jupyter-widgets/base",
          "model_module_version": "1.2.0",
          "model_name": "LayoutModel",
          "state": {
            "_model_module": "@jupyter-widgets/base",
            "_model_module_version": "1.2.0",
            "_model_name": "LayoutModel",
            "_view_count": null,
            "_view_module": "@jupyter-widgets/base",
            "_view_module_version": "1.2.0",
            "_view_name": "LayoutView",
            "align_content": null,
            "align_items": null,
            "align_self": null,
            "border": null,
            "bottom": null,
            "display": null,
            "flex": null,
            "flex_flow": null,
            "grid_area": null,
            "grid_auto_columns": null,
            "grid_auto_flow": null,
            "grid_auto_rows": null,
            "grid_column": null,
            "grid_gap": null,
            "grid_row": null,
            "grid_template_areas": null,
            "grid_template_columns": null,
            "grid_template_rows": null,
            "height": null,
            "justify_content": null,
            "justify_items": null,
            "left": null,
            "margin": null,
            "max_height": null,
            "max_width": null,
            "min_height": null,
            "min_width": null,
            "object_fit": null,
            "object_position": null,
            "order": null,
            "overflow": null,
            "overflow_x": null,
            "overflow_y": null,
            "padding": null,
            "right": null,
            "top": null,
            "visibility": null,
            "width": null
          }
        },
        "03edaab5dab54c6c8ce689f2f069f9d7": {
          "model_module": "@jupyter-widgets/controls",
          "model_module_version": "1.5.0",
          "model_name": "DescriptionStyleModel",
          "state": {
            "_model_module": "@jupyter-widgets/controls",
            "_model_module_version": "1.5.0",
            "_model_name": "DescriptionStyleModel",
            "_view_count": null,
            "_view_module": "@jupyter-widgets/base",
            "_view_module_version": "1.2.0",
            "_view_name": "StyleView",
            "description_width": ""
          }
        },
        "0516649e95d24487b48e5fc5de341c9c": {
          "model_module": "@jupyter-widgets/controls",
          "model_module_version": "1.5.0",
          "model_name": "HTMLModel",
          "state": {
            "_dom_classes": [],
            "_model_module": "@jupyter-widgets/controls",
            "_model_module_version": "1.5.0",
            "_model_name": "HTMLModel",
            "_view_count": null,
            "_view_module": "@jupyter-widgets/controls",
            "_view_module_version": "1.5.0",
            "_view_name": "HTMLView",
            "description": "",
            "description_tooltip": null,
            "layout": "IPY_MODEL_f4ca0a19f9b44e44bb9038effd70a8d6",
            "placeholder": "​",
            "style": "IPY_MODEL_e6c0197608ce4daabdd0622c987a28c5",
            "value": " 28932/28932 [00:40&lt;00:00, 746.83it/s]"
          }
        },
        "0a8de7715bed4500a685956a1b52e51f": {
          "model_module": "@jupyter-widgets/controls",
          "model_module_version": "1.5.0",
          "model_name": "ProgressStyleModel",
          "state": {
            "_model_module": "@jupyter-widgets/controls",
            "_model_module_version": "1.5.0",
            "_model_name": "ProgressStyleModel",
            "_view_count": null,
            "_view_module": "@jupyter-widgets/base",
            "_view_module_version": "1.2.0",
            "_view_name": "StyleView",
            "bar_color": null,
            "description_width": ""
          }
        },
        "0cb1f5c89e7c49428f0c217750d7a518": {
          "model_module": "@jupyter-widgets/controls",
          "model_module_version": "1.5.0",
          "model_name": "ProgressStyleModel",
          "state": {
            "_model_module": "@jupyter-widgets/controls",
            "_model_module_version": "1.5.0",
            "_model_name": "ProgressStyleModel",
            "_view_count": null,
            "_view_module": "@jupyter-widgets/base",
            "_view_module_version": "1.2.0",
            "_view_name": "StyleView",
            "bar_color": null,
            "description_width": ""
          }
        },
        "0cf69554c957476fb8f21716da2ff799": {
          "model_module": "@jupyter-widgets/base",
          "model_module_version": "1.2.0",
          "model_name": "LayoutModel",
          "state": {
            "_model_module": "@jupyter-widgets/base",
            "_model_module_version": "1.2.0",
            "_model_name": "LayoutModel",
            "_view_count": null,
            "_view_module": "@jupyter-widgets/base",
            "_view_module_version": "1.2.0",
            "_view_name": "LayoutView",
            "align_content": null,
            "align_items": null,
            "align_self": null,
            "border": null,
            "bottom": null,
            "display": null,
            "flex": null,
            "flex_flow": null,
            "grid_area": null,
            "grid_auto_columns": null,
            "grid_auto_flow": null,
            "grid_auto_rows": null,
            "grid_column": null,
            "grid_gap": null,
            "grid_row": null,
            "grid_template_areas": null,
            "grid_template_columns": null,
            "grid_template_rows": null,
            "height": null,
            "justify_content": null,
            "justify_items": null,
            "left": null,
            "margin": null,
            "max_height": null,
            "max_width": null,
            "min_height": null,
            "min_width": null,
            "object_fit": null,
            "object_position": null,
            "order": null,
            "overflow": null,
            "overflow_x": null,
            "overflow_y": null,
            "padding": null,
            "right": null,
            "top": null,
            "visibility": null,
            "width": null
          }
        },
        "15206093077442c4a82d64f71c1ce1f9": {
          "model_module": "@jupyter-widgets/base",
          "model_module_version": "1.2.0",
          "model_name": "LayoutModel",
          "state": {
            "_model_module": "@jupyter-widgets/base",
            "_model_module_version": "1.2.0",
            "_model_name": "LayoutModel",
            "_view_count": null,
            "_view_module": "@jupyter-widgets/base",
            "_view_module_version": "1.2.0",
            "_view_name": "LayoutView",
            "align_content": null,
            "align_items": null,
            "align_self": null,
            "border": null,
            "bottom": null,
            "display": null,
            "flex": null,
            "flex_flow": null,
            "grid_area": null,
            "grid_auto_columns": null,
            "grid_auto_flow": null,
            "grid_auto_rows": null,
            "grid_column": null,
            "grid_gap": null,
            "grid_row": null,
            "grid_template_areas": null,
            "grid_template_columns": null,
            "grid_template_rows": null,
            "height": null,
            "justify_content": null,
            "justify_items": null,
            "left": null,
            "margin": null,
            "max_height": null,
            "max_width": null,
            "min_height": null,
            "min_width": null,
            "object_fit": null,
            "object_position": null,
            "order": null,
            "overflow": null,
            "overflow_x": null,
            "overflow_y": null,
            "padding": null,
            "right": null,
            "top": null,
            "visibility": null,
            "width": null
          }
        },
        "192c4a3797c64a219864427f3b7c2b33": {
          "model_module": "@jupyter-widgets/controls",
          "model_module_version": "1.5.0",
          "model_name": "DescriptionStyleModel",
          "state": {
            "_model_module": "@jupyter-widgets/controls",
            "_model_module_version": "1.5.0",
            "_model_name": "DescriptionStyleModel",
            "_view_count": null,
            "_view_module": "@jupyter-widgets/base",
            "_view_module_version": "1.2.0",
            "_view_name": "StyleView",
            "description_width": ""
          }
        },
        "1a57bc0fe023407399d89d9ec1cf04df": {
          "model_module": "@jupyter-widgets/controls",
          "model_module_version": "1.5.0",
          "model_name": "DescriptionStyleModel",
          "state": {
            "_model_module": "@jupyter-widgets/controls",
            "_model_module_version": "1.5.0",
            "_model_name": "DescriptionStyleModel",
            "_view_count": null,
            "_view_module": "@jupyter-widgets/base",
            "_view_module_version": "1.2.0",
            "_view_name": "StyleView",
            "description_width": ""
          }
        },
        "1aa148f47fdf4271862687cd61674813": {
          "model_module": "@jupyter-widgets/controls",
          "model_module_version": "1.5.0",
          "model_name": "DescriptionStyleModel",
          "state": {
            "_model_module": "@jupyter-widgets/controls",
            "_model_module_version": "1.5.0",
            "_model_name": "DescriptionStyleModel",
            "_view_count": null,
            "_view_module": "@jupyter-widgets/base",
            "_view_module_version": "1.2.0",
            "_view_name": "StyleView",
            "description_width": ""
          }
        },
        "1b51e44c2fb7445ebce6681c4fe2f388": {
          "model_module": "@jupyter-widgets/controls",
          "model_module_version": "1.5.0",
          "model_name": "ProgressStyleModel",
          "state": {
            "_model_module": "@jupyter-widgets/controls",
            "_model_module_version": "1.5.0",
            "_model_name": "ProgressStyleModel",
            "_view_count": null,
            "_view_module": "@jupyter-widgets/base",
            "_view_module_version": "1.2.0",
            "_view_name": "StyleView",
            "bar_color": null,
            "description_width": ""
          }
        },
        "234008239e6a4081b00b3dc8ea6a9d40": {
          "model_module": "@jupyter-widgets/base",
          "model_module_version": "1.2.0",
          "model_name": "LayoutModel",
          "state": {
            "_model_module": "@jupyter-widgets/base",
            "_model_module_version": "1.2.0",
            "_model_name": "LayoutModel",
            "_view_count": null,
            "_view_module": "@jupyter-widgets/base",
            "_view_module_version": "1.2.0",
            "_view_name": "LayoutView",
            "align_content": null,
            "align_items": null,
            "align_self": null,
            "border": null,
            "bottom": null,
            "display": null,
            "flex": null,
            "flex_flow": null,
            "grid_area": null,
            "grid_auto_columns": null,
            "grid_auto_flow": null,
            "grid_auto_rows": null,
            "grid_column": null,
            "grid_gap": null,
            "grid_row": null,
            "grid_template_areas": null,
            "grid_template_columns": null,
            "grid_template_rows": null,
            "height": null,
            "justify_content": null,
            "justify_items": null,
            "left": null,
            "margin": null,
            "max_height": null,
            "max_width": null,
            "min_height": null,
            "min_width": null,
            "object_fit": null,
            "object_position": null,
            "order": null,
            "overflow": null,
            "overflow_x": null,
            "overflow_y": null,
            "padding": null,
            "right": null,
            "top": null,
            "visibility": null,
            "width": null
          }
        },
        "239d62e725db4c9aa7606cdcb58dabd3": {
          "model_module": "@jupyter-widgets/controls",
          "model_module_version": "1.5.0",
          "model_name": "DescriptionStyleModel",
          "state": {
            "_model_module": "@jupyter-widgets/controls",
            "_model_module_version": "1.5.0",
            "_model_name": "DescriptionStyleModel",
            "_view_count": null,
            "_view_module": "@jupyter-widgets/base",
            "_view_module_version": "1.2.0",
            "_view_name": "StyleView",
            "description_width": ""
          }
        },
        "285d641b00d1445480d04d7a9b1915fe": {
          "model_module": "@jupyter-widgets/base",
          "model_module_version": "1.2.0",
          "model_name": "LayoutModel",
          "state": {
            "_model_module": "@jupyter-widgets/base",
            "_model_module_version": "1.2.0",
            "_model_name": "LayoutModel",
            "_view_count": null,
            "_view_module": "@jupyter-widgets/base",
            "_view_module_version": "1.2.0",
            "_view_name": "LayoutView",
            "align_content": null,
            "align_items": null,
            "align_self": null,
            "border": null,
            "bottom": null,
            "display": null,
            "flex": null,
            "flex_flow": null,
            "grid_area": null,
            "grid_auto_columns": null,
            "grid_auto_flow": null,
            "grid_auto_rows": null,
            "grid_column": null,
            "grid_gap": null,
            "grid_row": null,
            "grid_template_areas": null,
            "grid_template_columns": null,
            "grid_template_rows": null,
            "height": null,
            "justify_content": null,
            "justify_items": null,
            "left": null,
            "margin": null,
            "max_height": null,
            "max_width": null,
            "min_height": null,
            "min_width": null,
            "object_fit": null,
            "object_position": null,
            "order": null,
            "overflow": null,
            "overflow_x": null,
            "overflow_y": null,
            "padding": null,
            "right": null,
            "top": null,
            "visibility": null,
            "width": null
          }
        },
        "2f2e76bf42de4b3a8f53226318b85b08": {
          "model_module": "@jupyter-widgets/controls",
          "model_module_version": "1.5.0",
          "model_name": "HBoxModel",
          "state": {
            "_dom_classes": [],
            "_model_module": "@jupyter-widgets/controls",
            "_model_module_version": "1.5.0",
            "_model_name": "HBoxModel",
            "_view_count": null,
            "_view_module": "@jupyter-widgets/controls",
            "_view_module_version": "1.5.0",
            "_view_name": "HBoxView",
            "box_style": "",
            "children": [
              "IPY_MODEL_c6528765722a4b54a4d256ca5e035b7c",
              "IPY_MODEL_b59893f938714c458d338739fda858f8",
              "IPY_MODEL_b00bcbb7b36e497483f725939bed4fca"
            ],
            "layout": "IPY_MODEL_3f6e5ebe10ec49269a3819ad59d4e5cc"
          }
        },
        "30b2163b277b4d9ca09796a0df80cb79": {
          "model_module": "@jupyter-widgets/controls",
          "model_module_version": "1.5.0",
          "model_name": "HTMLModel",
          "state": {
            "_dom_classes": [],
            "_model_module": "@jupyter-widgets/controls",
            "_model_module_version": "1.5.0",
            "_model_name": "HTMLModel",
            "_view_count": null,
            "_view_module": "@jupyter-widgets/controls",
            "_view_module_version": "1.5.0",
            "_view_name": "HTMLView",
            "description": "",
            "description_tooltip": null,
            "layout": "IPY_MODEL_950ce2a924bf4faa9b1b78ac2d526ced",
            "placeholder": "​",
            "style": "IPY_MODEL_1aa148f47fdf4271862687cd61674813",
            "value": "100%"
          }
        },
        "3195083516b74943821cc573d760ee22": {
          "model_module": "@jupyter-widgets/controls",
          "model_module_version": "1.5.0",
          "model_name": "HTMLModel",
          "state": {
            "_dom_classes": [],
            "_model_module": "@jupyter-widgets/controls",
            "_model_module_version": "1.5.0",
            "_model_name": "HTMLModel",
            "_view_count": null,
            "_view_module": "@jupyter-widgets/controls",
            "_view_module_version": "1.5.0",
            "_view_name": "HTMLView",
            "description": "",
            "description_tooltip": null,
            "layout": "IPY_MODEL_d5a4730a97174d13834db83f5dce4300",
            "placeholder": "​",
            "style": "IPY_MODEL_e46af89c13184b40a50358e9f01203c4",
            "value": " 2211861/2211861 [50:51&lt;00:00, 744.95it/s]"
          }
        },
        "35fc9c7d2f364560b6afb7760943293c": {
          "model_module": "@jupyter-widgets/base",
          "model_module_version": "1.2.0",
          "model_name": "LayoutModel",
          "state": {
            "_model_module": "@jupyter-widgets/base",
            "_model_module_version": "1.2.0",
            "_model_name": "LayoutModel",
            "_view_count": null,
            "_view_module": "@jupyter-widgets/base",
            "_view_module_version": "1.2.0",
            "_view_name": "LayoutView",
            "align_content": null,
            "align_items": null,
            "align_self": null,
            "border": null,
            "bottom": null,
            "display": null,
            "flex": null,
            "flex_flow": null,
            "grid_area": null,
            "grid_auto_columns": null,
            "grid_auto_flow": null,
            "grid_auto_rows": null,
            "grid_column": null,
            "grid_gap": null,
            "grid_row": null,
            "grid_template_areas": null,
            "grid_template_columns": null,
            "grid_template_rows": null,
            "height": null,
            "justify_content": null,
            "justify_items": null,
            "left": null,
            "margin": null,
            "max_height": null,
            "max_width": null,
            "min_height": null,
            "min_width": null,
            "object_fit": null,
            "object_position": null,
            "order": null,
            "overflow": null,
            "overflow_x": null,
            "overflow_y": null,
            "padding": null,
            "right": null,
            "top": null,
            "visibility": null,
            "width": null
          }
        },
        "3f6e5ebe10ec49269a3819ad59d4e5cc": {
          "model_module": "@jupyter-widgets/base",
          "model_module_version": "1.2.0",
          "model_name": "LayoutModel",
          "state": {
            "_model_module": "@jupyter-widgets/base",
            "_model_module_version": "1.2.0",
            "_model_name": "LayoutModel",
            "_view_count": null,
            "_view_module": "@jupyter-widgets/base",
            "_view_module_version": "1.2.0",
            "_view_name": "LayoutView",
            "align_content": null,
            "align_items": null,
            "align_self": null,
            "border": null,
            "bottom": null,
            "display": null,
            "flex": null,
            "flex_flow": null,
            "grid_area": null,
            "grid_auto_columns": null,
            "grid_auto_flow": null,
            "grid_auto_rows": null,
            "grid_column": null,
            "grid_gap": null,
            "grid_row": null,
            "grid_template_areas": null,
            "grid_template_columns": null,
            "grid_template_rows": null,
            "height": null,
            "justify_content": null,
            "justify_items": null,
            "left": null,
            "margin": null,
            "max_height": null,
            "max_width": null,
            "min_height": null,
            "min_width": null,
            "object_fit": null,
            "object_position": null,
            "order": null,
            "overflow": null,
            "overflow_x": null,
            "overflow_y": null,
            "padding": null,
            "right": null,
            "top": null,
            "visibility": null,
            "width": null
          }
        },
        "42217f9d7ff448359b6eee5f09bbdccd": {
          "model_module": "@jupyter-widgets/controls",
          "model_module_version": "1.5.0",
          "model_name": "ProgressStyleModel",
          "state": {
            "_model_module": "@jupyter-widgets/controls",
            "_model_module_version": "1.5.0",
            "_model_name": "ProgressStyleModel",
            "_view_count": null,
            "_view_module": "@jupyter-widgets/base",
            "_view_module_version": "1.2.0",
            "_view_name": "StyleView",
            "bar_color": null,
            "description_width": ""
          }
        },
        "47237cb7ce1647c4868c06401d2bf9bb": {
          "model_module": "@jupyter-widgets/base",
          "model_module_version": "1.2.0",
          "model_name": "LayoutModel",
          "state": {
            "_model_module": "@jupyter-widgets/base",
            "_model_module_version": "1.2.0",
            "_model_name": "LayoutModel",
            "_view_count": null,
            "_view_module": "@jupyter-widgets/base",
            "_view_module_version": "1.2.0",
            "_view_name": "LayoutView",
            "align_content": null,
            "align_items": null,
            "align_self": null,
            "border": null,
            "bottom": null,
            "display": null,
            "flex": null,
            "flex_flow": null,
            "grid_area": null,
            "grid_auto_columns": null,
            "grid_auto_flow": null,
            "grid_auto_rows": null,
            "grid_column": null,
            "grid_gap": null,
            "grid_row": null,
            "grid_template_areas": null,
            "grid_template_columns": null,
            "grid_template_rows": null,
            "height": null,
            "justify_content": null,
            "justify_items": null,
            "left": null,
            "margin": null,
            "max_height": null,
            "max_width": null,
            "min_height": null,
            "min_width": null,
            "object_fit": null,
            "object_position": null,
            "order": null,
            "overflow": null,
            "overflow_x": null,
            "overflow_y": null,
            "padding": null,
            "right": null,
            "top": null,
            "visibility": null,
            "width": null
          }
        },
        "495cf4f1dadc4a62a5598428f4bb143d": {
          "model_module": "@jupyter-widgets/base",
          "model_module_version": "1.2.0",
          "model_name": "LayoutModel",
          "state": {
            "_model_module": "@jupyter-widgets/base",
            "_model_module_version": "1.2.0",
            "_model_name": "LayoutModel",
            "_view_count": null,
            "_view_module": "@jupyter-widgets/base",
            "_view_module_version": "1.2.0",
            "_view_name": "LayoutView",
            "align_content": null,
            "align_items": null,
            "align_self": null,
            "border": null,
            "bottom": null,
            "display": null,
            "flex": null,
            "flex_flow": null,
            "grid_area": null,
            "grid_auto_columns": null,
            "grid_auto_flow": null,
            "grid_auto_rows": null,
            "grid_column": null,
            "grid_gap": null,
            "grid_row": null,
            "grid_template_areas": null,
            "grid_template_columns": null,
            "grid_template_rows": null,
            "height": null,
            "justify_content": null,
            "justify_items": null,
            "left": null,
            "margin": null,
            "max_height": null,
            "max_width": null,
            "min_height": null,
            "min_width": null,
            "object_fit": null,
            "object_position": null,
            "order": null,
            "overflow": null,
            "overflow_x": null,
            "overflow_y": null,
            "padding": null,
            "right": null,
            "top": null,
            "visibility": null,
            "width": null
          }
        },
        "49d9e57f58204502a43dc9df5720558b": {
          "model_module": "@jupyter-widgets/controls",
          "model_module_version": "1.5.0",
          "model_name": "DescriptionStyleModel",
          "state": {
            "_model_module": "@jupyter-widgets/controls",
            "_model_module_version": "1.5.0",
            "_model_name": "DescriptionStyleModel",
            "_view_count": null,
            "_view_module": "@jupyter-widgets/base",
            "_view_module_version": "1.2.0",
            "_view_name": "StyleView",
            "description_width": ""
          }
        },
        "53bcbbb761314e4b87c89529b4be5e49": {
          "model_module": "@jupyter-widgets/controls",
          "model_module_version": "1.5.0",
          "model_name": "DescriptionStyleModel",
          "state": {
            "_model_module": "@jupyter-widgets/controls",
            "_model_module_version": "1.5.0",
            "_model_name": "DescriptionStyleModel",
            "_view_count": null,
            "_view_module": "@jupyter-widgets/base",
            "_view_module_version": "1.2.0",
            "_view_name": "StyleView",
            "description_width": ""
          }
        },
        "5634c63f356041db8831a6c41c7193a1": {
          "model_module": "@jupyter-widgets/controls",
          "model_module_version": "1.5.0",
          "model_name": "FloatProgressModel",
          "state": {
            "_dom_classes": [],
            "_model_module": "@jupyter-widgets/controls",
            "_model_module_version": "1.5.0",
            "_model_name": "FloatProgressModel",
            "_view_count": null,
            "_view_module": "@jupyter-widgets/controls",
            "_view_module_version": "1.5.0",
            "_view_name": "ProgressView",
            "bar_style": "success",
            "description": "",
            "description_tooltip": null,
            "layout": "IPY_MODEL_cdde0226db2f45e7a7cd5f9ecfb412b1",
            "max": 2211861,
            "min": 0,
            "orientation": "horizontal",
            "style": "IPY_MODEL_8e0e6e38371049318c5c321d06c3b365",
            "value": 2211861
          }
        },
        "5b220e69357c40bb9d5a22bbb3b5e5f5": {
          "model_module": "@jupyter-widgets/controls",
          "model_module_version": "1.5.0",
          "model_name": "HTMLModel",
          "state": {
            "_dom_classes": [],
            "_model_module": "@jupyter-widgets/controls",
            "_model_module_version": "1.5.0",
            "_model_name": "HTMLModel",
            "_view_count": null,
            "_view_module": "@jupyter-widgets/controls",
            "_view_module_version": "1.5.0",
            "_view_name": "HTMLView",
            "description": "",
            "description_tooltip": null,
            "layout": "IPY_MODEL_ff8a8862aab548f2abc4dc34777c33d4",
            "placeholder": "​",
            "style": "IPY_MODEL_1a57bc0fe023407399d89d9ec1cf04df",
            "value": " 34493/34493 [00:20&lt;00:00, 1649.40it/s]"
          }
        },
        "5dd907cbf62044e19e402734e58ab758": {
          "model_module": "@jupyter-widgets/controls",
          "model_module_version": "1.5.0",
          "model_name": "ProgressStyleModel",
          "state": {
            "_model_module": "@jupyter-widgets/controls",
            "_model_module_version": "1.5.0",
            "_model_name": "ProgressStyleModel",
            "_view_count": null,
            "_view_module": "@jupyter-widgets/base",
            "_view_module_version": "1.2.0",
            "_view_name": "StyleView",
            "bar_color": null,
            "description_width": ""
          }
        },
        "5fe6e10bccf7405485be8b5228e9be95": {
          "model_module": "@jupyter-widgets/controls",
          "model_module_version": "1.5.0",
          "model_name": "FloatProgressModel",
          "state": {
            "_dom_classes": [],
            "_model_module": "@jupyter-widgets/controls",
            "_model_module_version": "1.5.0",
            "_model_name": "FloatProgressModel",
            "_view_count": null,
            "_view_module": "@jupyter-widgets/controls",
            "_view_module_version": "1.5.0",
            "_view_name": "ProgressView",
            "bar_style": "success",
            "description": "",
            "description_tooltip": null,
            "layout": "IPY_MODEL_8ea03045ecd94dc8a429277315ce8d4b",
            "max": 34493,
            "min": 0,
            "orientation": "horizontal",
            "style": "IPY_MODEL_c5b39c979c264760ac96e74d6e695674",
            "value": 34493
          }
        },
        "6108e4f350d44cd3a9734cb50c310a26": {
          "model_module": "@jupyter-widgets/base",
          "model_module_version": "1.2.0",
          "model_name": "LayoutModel",
          "state": {
            "_model_module": "@jupyter-widgets/base",
            "_model_module_version": "1.2.0",
            "_model_name": "LayoutModel",
            "_view_count": null,
            "_view_module": "@jupyter-widgets/base",
            "_view_module_version": "1.2.0",
            "_view_name": "LayoutView",
            "align_content": null,
            "align_items": null,
            "align_self": null,
            "border": null,
            "bottom": null,
            "display": null,
            "flex": null,
            "flex_flow": null,
            "grid_area": null,
            "grid_auto_columns": null,
            "grid_auto_flow": null,
            "grid_auto_rows": null,
            "grid_column": null,
            "grid_gap": null,
            "grid_row": null,
            "grid_template_areas": null,
            "grid_template_columns": null,
            "grid_template_rows": null,
            "height": null,
            "justify_content": null,
            "justify_items": null,
            "left": null,
            "margin": null,
            "max_height": null,
            "max_width": null,
            "min_height": null,
            "min_width": null,
            "object_fit": null,
            "object_position": null,
            "order": null,
            "overflow": null,
            "overflow_x": null,
            "overflow_y": null,
            "padding": null,
            "right": null,
            "top": null,
            "visibility": null,
            "width": null
          }
        },
        "61c8addfb3f34da0b4bdf2d9dff5826c": {
          "model_module": "@jupyter-widgets/controls",
          "model_module_version": "1.5.0",
          "model_name": "FloatProgressModel",
          "state": {
            "_dom_classes": [],
            "_model_module": "@jupyter-widgets/controls",
            "_model_module_version": "1.5.0",
            "_model_name": "FloatProgressModel",
            "_view_count": null,
            "_view_module": "@jupyter-widgets/controls",
            "_view_module_version": "1.5.0",
            "_view_name": "ProgressView",
            "bar_style": "success",
            "description": "",
            "description_tooltip": null,
            "layout": "IPY_MODEL_0cf69554c957476fb8f21716da2ff799",
            "max": 28932,
            "min": 0,
            "orientation": "horizontal",
            "style": "IPY_MODEL_1b51e44c2fb7445ebce6681c4fe2f388",
            "value": 28932
          }
        },
        "6a459a0e56404b459904cde8ab35af88": {
          "model_module": "@jupyter-widgets/controls",
          "model_module_version": "1.5.0",
          "model_name": "DescriptionStyleModel",
          "state": {
            "_model_module": "@jupyter-widgets/controls",
            "_model_module_version": "1.5.0",
            "_model_name": "DescriptionStyleModel",
            "_view_count": null,
            "_view_module": "@jupyter-widgets/base",
            "_view_module_version": "1.2.0",
            "_view_name": "StyleView",
            "description_width": ""
          }
        },
        "6c53e379f8bd42eda2fdb318fd925c7a": {
          "model_module": "@jupyter-widgets/base",
          "model_module_version": "1.2.0",
          "model_name": "LayoutModel",
          "state": {
            "_model_module": "@jupyter-widgets/base",
            "_model_module_version": "1.2.0",
            "_model_name": "LayoutModel",
            "_view_count": null,
            "_view_module": "@jupyter-widgets/base",
            "_view_module_version": "1.2.0",
            "_view_name": "LayoutView",
            "align_content": null,
            "align_items": null,
            "align_self": null,
            "border": null,
            "bottom": null,
            "display": null,
            "flex": null,
            "flex_flow": null,
            "grid_area": null,
            "grid_auto_columns": null,
            "grid_auto_flow": null,
            "grid_auto_rows": null,
            "grid_column": null,
            "grid_gap": null,
            "grid_row": null,
            "grid_template_areas": null,
            "grid_template_columns": null,
            "grid_template_rows": null,
            "height": null,
            "justify_content": null,
            "justify_items": null,
            "left": null,
            "margin": null,
            "max_height": null,
            "max_width": null,
            "min_height": null,
            "min_width": null,
            "object_fit": null,
            "object_position": null,
            "order": null,
            "overflow": null,
            "overflow_x": null,
            "overflow_y": null,
            "padding": null,
            "right": null,
            "top": null,
            "visibility": null,
            "width": null
          }
        },
        "6ffcc7289c7944cb92c2aa7ea17374ea": {
          "model_module": "@jupyter-widgets/base",
          "model_module_version": "1.2.0",
          "model_name": "LayoutModel",
          "state": {
            "_model_module": "@jupyter-widgets/base",
            "_model_module_version": "1.2.0",
            "_model_name": "LayoutModel",
            "_view_count": null,
            "_view_module": "@jupyter-widgets/base",
            "_view_module_version": "1.2.0",
            "_view_name": "LayoutView",
            "align_content": null,
            "align_items": null,
            "align_self": null,
            "border": null,
            "bottom": null,
            "display": null,
            "flex": null,
            "flex_flow": null,
            "grid_area": null,
            "grid_auto_columns": null,
            "grid_auto_flow": null,
            "grid_auto_rows": null,
            "grid_column": null,
            "grid_gap": null,
            "grid_row": null,
            "grid_template_areas": null,
            "grid_template_columns": null,
            "grid_template_rows": null,
            "height": null,
            "justify_content": null,
            "justify_items": null,
            "left": null,
            "margin": null,
            "max_height": null,
            "max_width": null,
            "min_height": null,
            "min_width": null,
            "object_fit": null,
            "object_position": null,
            "order": null,
            "overflow": null,
            "overflow_x": null,
            "overflow_y": null,
            "padding": null,
            "right": null,
            "top": null,
            "visibility": null,
            "width": null
          }
        },
        "74f02c4660944dd6a514d51fe8fca6db": {
          "model_module": "@jupyter-widgets/controls",
          "model_module_version": "1.5.0",
          "model_name": "HTMLModel",
          "state": {
            "_dom_classes": [],
            "_model_module": "@jupyter-widgets/controls",
            "_model_module_version": "1.5.0",
            "_model_name": "HTMLModel",
            "_view_count": null,
            "_view_module": "@jupyter-widgets/controls",
            "_view_module_version": "1.5.0",
            "_view_name": "HTMLView",
            "description": "",
            "description_tooltip": null,
            "layout": "IPY_MODEL_01bd7ed62aac40ff8d013a53479b030d",
            "placeholder": "​",
            "style": "IPY_MODEL_192c4a3797c64a219864427f3b7c2b33",
            "value": " 2593169/2593169 [26:32&lt;00:00, 1656.57it/s]"
          }
        },
        "7a75a0c87cb245fc82cbbff74ade15e2": {
          "model_module": "@jupyter-widgets/controls",
          "model_module_version": "1.5.0",
          "model_name": "FloatProgressModel",
          "state": {
            "_dom_classes": [],
            "_model_module": "@jupyter-widgets/controls",
            "_model_module_version": "1.5.0",
            "_model_name": "FloatProgressModel",
            "_view_count": null,
            "_view_module": "@jupyter-widgets/controls",
            "_view_module_version": "1.5.0",
            "_view_name": "ProgressView",
            "bar_style": "success",
            "description": "",
            "description_tooltip": null,
            "layout": "IPY_MODEL_9adb08c72d1f4b72990c135789d578c7",
            "max": 33932,
            "min": 0,
            "orientation": "horizontal",
            "style": "IPY_MODEL_5dd907cbf62044e19e402734e58ab758",
            "value": 33932
          }
        },
        "7e3d8d6aa3c2436686e1669f9b90e588": {
          "model_module": "@jupyter-widgets/controls",
          "model_module_version": "1.5.0",
          "model_name": "DescriptionStyleModel",
          "state": {
            "_model_module": "@jupyter-widgets/controls",
            "_model_module_version": "1.5.0",
            "_model_name": "DescriptionStyleModel",
            "_view_count": null,
            "_view_module": "@jupyter-widgets/base",
            "_view_module_version": "1.2.0",
            "_view_name": "StyleView",
            "description_width": ""
          }
        },
        "8177e5ef2cc241a7927cab9289a9ae6a": {
          "model_module": "@jupyter-widgets/controls",
          "model_module_version": "1.5.0",
          "model_name": "FloatProgressModel",
          "state": {
            "_dom_classes": [],
            "_model_module": "@jupyter-widgets/controls",
            "_model_module_version": "1.5.0",
            "_model_name": "FloatProgressModel",
            "_view_count": null,
            "_view_module": "@jupyter-widgets/controls",
            "_view_module_version": "1.5.0",
            "_view_name": "ProgressView",
            "bar_style": "success",
            "description": "",
            "description_tooltip": null,
            "layout": "IPY_MODEL_47237cb7ce1647c4868c06401d2bf9bb",
            "max": 28932,
            "min": 0,
            "orientation": "horizontal",
            "style": "IPY_MODEL_0a8de7715bed4500a685956a1b52e51f",
            "value": 28932
          }
        },
        "854deecab9754278808e9a554dc96be5": {
          "model_module": "@jupyter-widgets/controls",
          "model_module_version": "1.5.0",
          "model_name": "HBoxModel",
          "state": {
            "_dom_classes": [],
            "_model_module": "@jupyter-widgets/controls",
            "_model_module_version": "1.5.0",
            "_model_name": "HBoxModel",
            "_view_count": null,
            "_view_module": "@jupyter-widgets/controls",
            "_view_module_version": "1.5.0",
            "_view_name": "HBoxView",
            "box_style": "",
            "children": [
              "IPY_MODEL_c299ac8aa6944d63b2510d4972a383c2",
              "IPY_MODEL_7a75a0c87cb245fc82cbbff74ade15e2",
              "IPY_MODEL_f51bdee936174c3b8f6638e3a814a0a3"
            ],
            "layout": "IPY_MODEL_285d641b00d1445480d04d7a9b1915fe"
          }
        },
        "8807b9f3c368446f9a27692e1a0a3845": {
          "model_module": "@jupyter-widgets/controls",
          "model_module_version": "1.5.0",
          "model_name": "HTMLModel",
          "state": {
            "_dom_classes": [],
            "_model_module": "@jupyter-widgets/controls",
            "_model_module_version": "1.5.0",
            "_model_name": "HTMLModel",
            "_view_count": null,
            "_view_module": "@jupyter-widgets/controls",
            "_view_module_version": "1.5.0",
            "_view_name": "HTMLView",
            "description": "",
            "description_tooltip": null,
            "layout": "IPY_MODEL_35fc9c7d2f364560b6afb7760943293c",
            "placeholder": "​",
            "style": "IPY_MODEL_e371dbfa014240298c8ed50dad4f2458",
            "value": "processing train.txt: 100%"
          }
        },
        "8e0e6e38371049318c5c321d06c3b365": {
          "model_module": "@jupyter-widgets/controls",
          "model_module_version": "1.5.0",
          "model_name": "ProgressStyleModel",
          "state": {
            "_model_module": "@jupyter-widgets/controls",
            "_model_module_version": "1.5.0",
            "_model_name": "ProgressStyleModel",
            "_view_count": null,
            "_view_module": "@jupyter-widgets/base",
            "_view_module_version": "1.2.0",
            "_view_name": "StyleView",
            "bar_color": null,
            "description_width": ""
          }
        },
        "8e700ff7ea964b9ea9820280d7cd0ecc": {
          "model_module": "@jupyter-widgets/base",
          "model_module_version": "1.2.0",
          "model_name": "LayoutModel",
          "state": {
            "_model_module": "@jupyter-widgets/base",
            "_model_module_version": "1.2.0",
            "_model_name": "LayoutModel",
            "_view_count": null,
            "_view_module": "@jupyter-widgets/base",
            "_view_module_version": "1.2.0",
            "_view_name": "LayoutView",
            "align_content": null,
            "align_items": null,
            "align_self": null,
            "border": null,
            "bottom": null,
            "display": null,
            "flex": null,
            "flex_flow": null,
            "grid_area": null,
            "grid_auto_columns": null,
            "grid_auto_flow": null,
            "grid_auto_rows": null,
            "grid_column": null,
            "grid_gap": null,
            "grid_row": null,
            "grid_template_areas": null,
            "grid_template_columns": null,
            "grid_template_rows": null,
            "height": null,
            "justify_content": null,
            "justify_items": null,
            "left": null,
            "margin": null,
            "max_height": null,
            "max_width": null,
            "min_height": null,
            "min_width": null,
            "object_fit": null,
            "object_position": null,
            "order": null,
            "overflow": null,
            "overflow_x": null,
            "overflow_y": null,
            "padding": null,
            "right": null,
            "top": null,
            "visibility": null,
            "width": null
          }
        },
        "8ea03045ecd94dc8a429277315ce8d4b": {
          "model_module": "@jupyter-widgets/base",
          "model_module_version": "1.2.0",
          "model_name": "LayoutModel",
          "state": {
            "_model_module": "@jupyter-widgets/base",
            "_model_module_version": "1.2.0",
            "_model_name": "LayoutModel",
            "_view_count": null,
            "_view_module": "@jupyter-widgets/base",
            "_view_module_version": "1.2.0",
            "_view_name": "LayoutView",
            "align_content": null,
            "align_items": null,
            "align_self": null,
            "border": null,
            "bottom": null,
            "display": null,
            "flex": null,
            "flex_flow": null,
            "grid_area": null,
            "grid_auto_columns": null,
            "grid_auto_flow": null,
            "grid_auto_rows": null,
            "grid_column": null,
            "grid_gap": null,
            "grid_row": null,
            "grid_template_areas": null,
            "grid_template_columns": null,
            "grid_template_rows": null,
            "height": null,
            "justify_content": null,
            "justify_items": null,
            "left": null,
            "margin": null,
            "max_height": null,
            "max_width": null,
            "min_height": null,
            "min_width": null,
            "object_fit": null,
            "object_position": null,
            "order": null,
            "overflow": null,
            "overflow_x": null,
            "overflow_y": null,
            "padding": null,
            "right": null,
            "top": null,
            "visibility": null,
            "width": null
          }
        },
        "8f098f8cd64a417eb87a8c8726335004": {
          "model_module": "@jupyter-widgets/base",
          "model_module_version": "1.2.0",
          "model_name": "LayoutModel",
          "state": {
            "_model_module": "@jupyter-widgets/base",
            "_model_module_version": "1.2.0",
            "_model_name": "LayoutModel",
            "_view_count": null,
            "_view_module": "@jupyter-widgets/base",
            "_view_module_version": "1.2.0",
            "_view_name": "LayoutView",
            "align_content": null,
            "align_items": null,
            "align_self": null,
            "border": null,
            "bottom": null,
            "display": null,
            "flex": null,
            "flex_flow": null,
            "grid_area": null,
            "grid_auto_columns": null,
            "grid_auto_flow": null,
            "grid_auto_rows": null,
            "grid_column": null,
            "grid_gap": null,
            "grid_row": null,
            "grid_template_areas": null,
            "grid_template_columns": null,
            "grid_template_rows": null,
            "height": null,
            "justify_content": null,
            "justify_items": null,
            "left": null,
            "margin": null,
            "max_height": null,
            "max_width": null,
            "min_height": null,
            "min_width": null,
            "object_fit": null,
            "object_position": null,
            "order": null,
            "overflow": null,
            "overflow_x": null,
            "overflow_y": null,
            "padding": null,
            "right": null,
            "top": null,
            "visibility": null,
            "width": null
          }
        },
        "913f36cc835946e0bccad82d02d1578a": {
          "model_module": "@jupyter-widgets/controls",
          "model_module_version": "1.5.0",
          "model_name": "HBoxModel",
          "state": {
            "_dom_classes": [],
            "_model_module": "@jupyter-widgets/controls",
            "_model_module_version": "1.5.0",
            "_model_name": "HBoxModel",
            "_view_count": null,
            "_view_module": "@jupyter-widgets/controls",
            "_view_module_version": "1.5.0",
            "_view_name": "HBoxView",
            "box_style": "",
            "children": [
              "IPY_MODEL_30b2163b277b4d9ca09796a0df80cb79",
              "IPY_MODEL_5634c63f356041db8831a6c41c7193a1",
              "IPY_MODEL_3195083516b74943821cc573d760ee22"
            ],
            "layout": "IPY_MODEL_a984a1a29c9a4bf48edfeef13257ecf2"
          }
        },
        "91635e7176af44908853032193c0282a": {
          "model_module": "@jupyter-widgets/controls",
          "model_module_version": "1.5.0",
          "model_name": "HTMLModel",
          "state": {
            "_dom_classes": [],
            "_model_module": "@jupyter-widgets/controls",
            "_model_module_version": "1.5.0",
            "_model_name": "HTMLModel",
            "_view_count": null,
            "_view_module": "@jupyter-widgets/controls",
            "_view_module_version": "1.5.0",
            "_view_name": "HTMLView",
            "description": "",
            "description_tooltip": null,
            "layout": "IPY_MODEL_8e700ff7ea964b9ea9820280d7cd0ecc",
            "placeholder": "​",
            "style": "IPY_MODEL_dfb769eba11f43f9a14115485accd9b7",
            "value": " 28932/28932 [00:06&lt;00:00, 4720.02it/s]"
          }
        },
        "93ef114c739a45eda29be4df210bb41e": {
          "model_module": "@jupyter-widgets/base",
          "model_module_version": "1.2.0",
          "model_name": "LayoutModel",
          "state": {
            "_model_module": "@jupyter-widgets/base",
            "_model_module_version": "1.2.0",
            "_model_name": "LayoutModel",
            "_view_count": null,
            "_view_module": "@jupyter-widgets/base",
            "_view_module_version": "1.2.0",
            "_view_name": "LayoutView",
            "align_content": null,
            "align_items": null,
            "align_self": null,
            "border": null,
            "bottom": null,
            "display": null,
            "flex": null,
            "flex_flow": null,
            "grid_area": null,
            "grid_auto_columns": null,
            "grid_auto_flow": null,
            "grid_auto_rows": null,
            "grid_column": null,
            "grid_gap": null,
            "grid_row": null,
            "grid_template_areas": null,
            "grid_template_columns": null,
            "grid_template_rows": null,
            "height": null,
            "justify_content": null,
            "justify_items": null,
            "left": null,
            "margin": null,
            "max_height": null,
            "max_width": null,
            "min_height": null,
            "min_width": null,
            "object_fit": null,
            "object_position": null,
            "order": null,
            "overflow": null,
            "overflow_x": null,
            "overflow_y": null,
            "padding": null,
            "right": null,
            "top": null,
            "visibility": null,
            "width": null
          }
        },
        "950ce2a924bf4faa9b1b78ac2d526ced": {
          "model_module": "@jupyter-widgets/base",
          "model_module_version": "1.2.0",
          "model_name": "LayoutModel",
          "state": {
            "_model_module": "@jupyter-widgets/base",
            "_model_module_version": "1.2.0",
            "_model_name": "LayoutModel",
            "_view_count": null,
            "_view_module": "@jupyter-widgets/base",
            "_view_module_version": "1.2.0",
            "_view_name": "LayoutView",
            "align_content": null,
            "align_items": null,
            "align_self": null,
            "border": null,
            "bottom": null,
            "display": null,
            "flex": null,
            "flex_flow": null,
            "grid_area": null,
            "grid_auto_columns": null,
            "grid_auto_flow": null,
            "grid_auto_rows": null,
            "grid_column": null,
            "grid_gap": null,
            "grid_row": null,
            "grid_template_areas": null,
            "grid_template_columns": null,
            "grid_template_rows": null,
            "height": null,
            "justify_content": null,
            "justify_items": null,
            "left": null,
            "margin": null,
            "max_height": null,
            "max_width": null,
            "min_height": null,
            "min_width": null,
            "object_fit": null,
            "object_position": null,
            "order": null,
            "overflow": null,
            "overflow_x": null,
            "overflow_y": null,
            "padding": null,
            "right": null,
            "top": null,
            "visibility": null,
            "width": null
          }
        },
        "972deb70ee24428da6b04c5ef6959b6c": {
          "model_module": "@jupyter-widgets/controls",
          "model_module_version": "1.5.0",
          "model_name": "DescriptionStyleModel",
          "state": {
            "_model_module": "@jupyter-widgets/controls",
            "_model_module_version": "1.5.0",
            "_model_name": "DescriptionStyleModel",
            "_view_count": null,
            "_view_module": "@jupyter-widgets/base",
            "_view_module_version": "1.2.0",
            "_view_name": "StyleView",
            "description_width": ""
          }
        },
        "9adb08c72d1f4b72990c135789d578c7": {
          "model_module": "@jupyter-widgets/base",
          "model_module_version": "1.2.0",
          "model_name": "LayoutModel",
          "state": {
            "_model_module": "@jupyter-widgets/base",
            "_model_module_version": "1.2.0",
            "_model_name": "LayoutModel",
            "_view_count": null,
            "_view_module": "@jupyter-widgets/base",
            "_view_module_version": "1.2.0",
            "_view_name": "LayoutView",
            "align_content": null,
            "align_items": null,
            "align_self": null,
            "border": null,
            "bottom": null,
            "display": null,
            "flex": null,
            "flex_flow": null,
            "grid_area": null,
            "grid_auto_columns": null,
            "grid_auto_flow": null,
            "grid_auto_rows": null,
            "grid_column": null,
            "grid_gap": null,
            "grid_row": null,
            "grid_template_areas": null,
            "grid_template_columns": null,
            "grid_template_rows": null,
            "height": null,
            "justify_content": null,
            "justify_items": null,
            "left": null,
            "margin": null,
            "max_height": null,
            "max_width": null,
            "min_height": null,
            "min_width": null,
            "object_fit": null,
            "object_position": null,
            "order": null,
            "overflow": null,
            "overflow_x": null,
            "overflow_y": null,
            "padding": null,
            "right": null,
            "top": null,
            "visibility": null,
            "width": null
          }
        },
        "9dae54ab2e9c4dc5b3e2167c86f06cf1": {
          "model_module": "@jupyter-widgets/base",
          "model_module_version": "1.2.0",
          "model_name": "LayoutModel",
          "state": {
            "_model_module": "@jupyter-widgets/base",
            "_model_module_version": "1.2.0",
            "_model_name": "LayoutModel",
            "_view_count": null,
            "_view_module": "@jupyter-widgets/base",
            "_view_module_version": "1.2.0",
            "_view_name": "LayoutView",
            "align_content": null,
            "align_items": null,
            "align_self": null,
            "border": null,
            "bottom": null,
            "display": null,
            "flex": null,
            "flex_flow": null,
            "grid_area": null,
            "grid_auto_columns": null,
            "grid_auto_flow": null,
            "grid_auto_rows": null,
            "grid_column": null,
            "grid_gap": null,
            "grid_row": null,
            "grid_template_areas": null,
            "grid_template_columns": null,
            "grid_template_rows": null,
            "height": null,
            "justify_content": null,
            "justify_items": null,
            "left": null,
            "margin": null,
            "max_height": null,
            "max_width": null,
            "min_height": null,
            "min_width": null,
            "object_fit": null,
            "object_position": null,
            "order": null,
            "overflow": null,
            "overflow_x": null,
            "overflow_y": null,
            "padding": null,
            "right": null,
            "top": null,
            "visibility": null,
            "width": null
          }
        },
        "a38d8d2e77c149abbf8afd106b964b6c": {
          "model_module": "@jupyter-widgets/controls",
          "model_module_version": "1.5.0",
          "model_name": "HBoxModel",
          "state": {
            "_dom_classes": [],
            "_model_module": "@jupyter-widgets/controls",
            "_model_module_version": "1.5.0",
            "_model_name": "HBoxModel",
            "_view_count": null,
            "_view_module": "@jupyter-widgets/controls",
            "_view_module_version": "1.5.0",
            "_view_name": "HBoxView",
            "box_style": "",
            "children": [
              "IPY_MODEL_8807b9f3c368446f9a27692e1a0a3845",
              "IPY_MODEL_a6292d13095f4a5a96074b39d8d07654",
              "IPY_MODEL_74f02c4660944dd6a514d51fe8fca6db"
            ],
            "layout": "IPY_MODEL_fb54ff4eb51c466a8ac46afd81446b36"
          }
        },
        "a6292d13095f4a5a96074b39d8d07654": {
          "model_module": "@jupyter-widgets/controls",
          "model_module_version": "1.5.0",
          "model_name": "FloatProgressModel",
          "state": {
            "_dom_classes": [],
            "_model_module": "@jupyter-widgets/controls",
            "_model_module_version": "1.5.0",
            "_model_name": "FloatProgressModel",
            "_view_count": null,
            "_view_module": "@jupyter-widgets/controls",
            "_view_module_version": "1.5.0",
            "_view_name": "ProgressView",
            "bar_style": "success",
            "description": "",
            "description_tooltip": null,
            "layout": "IPY_MODEL_aca9fc7bac744ca68eb12b1cd3c1cf2f",
            "max": 2593169,
            "min": 0,
            "orientation": "horizontal",
            "style": "IPY_MODEL_aec0a323a5cc4ee7b4b23a6c0c2226c2",
            "value": 2593169
          }
        },
        "a795b3d81f6c4387b4223812d48ea2ed": {
          "model_module": "@jupyter-widgets/controls",
          "model_module_version": "1.5.0",
          "model_name": "HBoxModel",
          "state": {
            "_dom_classes": [],
            "_model_module": "@jupyter-widgets/controls",
            "_model_module_version": "1.5.0",
            "_model_name": "HBoxModel",
            "_view_count": null,
            "_view_module": "@jupyter-widgets/controls",
            "_view_module_version": "1.5.0",
            "_view_name": "HBoxView",
            "box_style": "",
            "children": [
              "IPY_MODEL_01847b9b972946628fe6be1808316608",
              "IPY_MODEL_d92ba0b49cda49ec9ebd7d0c8ff519b6",
              "IPY_MODEL_e683013e1f5b441db329e23a8207c367"
            ],
            "layout": "IPY_MODEL_234008239e6a4081b00b3dc8ea6a9d40"
          }
        },
        "a984a1a29c9a4bf48edfeef13257ecf2": {
          "model_module": "@jupyter-widgets/base",
          "model_module_version": "1.2.0",
          "model_name": "LayoutModel",
          "state": {
            "_model_module": "@jupyter-widgets/base",
            "_model_module_version": "1.2.0",
            "_model_name": "LayoutModel",
            "_view_count": null,
            "_view_module": "@jupyter-widgets/base",
            "_view_module_version": "1.2.0",
            "_view_name": "LayoutView",
            "align_content": null,
            "align_items": null,
            "align_self": null,
            "border": null,
            "bottom": null,
            "display": null,
            "flex": null,
            "flex_flow": null,
            "grid_area": null,
            "grid_auto_columns": null,
            "grid_auto_flow": null,
            "grid_auto_rows": null,
            "grid_column": null,
            "grid_gap": null,
            "grid_row": null,
            "grid_template_areas": null,
            "grid_template_columns": null,
            "grid_template_rows": null,
            "height": null,
            "justify_content": null,
            "justify_items": null,
            "left": null,
            "margin": null,
            "max_height": null,
            "max_width": null,
            "min_height": null,
            "min_width": null,
            "object_fit": null,
            "object_position": null,
            "order": null,
            "overflow": null,
            "overflow_x": null,
            "overflow_y": null,
            "padding": null,
            "right": null,
            "top": null,
            "visibility": null,
            "width": null
          }
        },
        "ab433e813e59469a94edd22780519038": {
          "model_module": "@jupyter-widgets/base",
          "model_module_version": "1.2.0",
          "model_name": "LayoutModel",
          "state": {
            "_model_module": "@jupyter-widgets/base",
            "_model_module_version": "1.2.0",
            "_model_name": "LayoutModel",
            "_view_count": null,
            "_view_module": "@jupyter-widgets/base",
            "_view_module_version": "1.2.0",
            "_view_name": "LayoutView",
            "align_content": null,
            "align_items": null,
            "align_self": null,
            "border": null,
            "bottom": null,
            "display": null,
            "flex": null,
            "flex_flow": null,
            "grid_area": null,
            "grid_auto_columns": null,
            "grid_auto_flow": null,
            "grid_auto_rows": null,
            "grid_column": null,
            "grid_gap": null,
            "grid_row": null,
            "grid_template_areas": null,
            "grid_template_columns": null,
            "grid_template_rows": null,
            "height": null,
            "justify_content": null,
            "justify_items": null,
            "left": null,
            "margin": null,
            "max_height": null,
            "max_width": null,
            "min_height": null,
            "min_width": null,
            "object_fit": null,
            "object_position": null,
            "order": null,
            "overflow": null,
            "overflow_x": null,
            "overflow_y": null,
            "padding": null,
            "right": null,
            "top": null,
            "visibility": null,
            "width": null
          }
        },
        "aca9fc7bac744ca68eb12b1cd3c1cf2f": {
          "model_module": "@jupyter-widgets/base",
          "model_module_version": "1.2.0",
          "model_name": "LayoutModel",
          "state": {
            "_model_module": "@jupyter-widgets/base",
            "_model_module_version": "1.2.0",
            "_model_name": "LayoutModel",
            "_view_count": null,
            "_view_module": "@jupyter-widgets/base",
            "_view_module_version": "1.2.0",
            "_view_name": "LayoutView",
            "align_content": null,
            "align_items": null,
            "align_self": null,
            "border": null,
            "bottom": null,
            "display": null,
            "flex": null,
            "flex_flow": null,
            "grid_area": null,
            "grid_auto_columns": null,
            "grid_auto_flow": null,
            "grid_auto_rows": null,
            "grid_column": null,
            "grid_gap": null,
            "grid_row": null,
            "grid_template_areas": null,
            "grid_template_columns": null,
            "grid_template_rows": null,
            "height": null,
            "justify_content": null,
            "justify_items": null,
            "left": null,
            "margin": null,
            "max_height": null,
            "max_width": null,
            "min_height": null,
            "min_width": null,
            "object_fit": null,
            "object_position": null,
            "order": null,
            "overflow": null,
            "overflow_x": null,
            "overflow_y": null,
            "padding": null,
            "right": null,
            "top": null,
            "visibility": null,
            "width": null
          }
        },
        "aec0a323a5cc4ee7b4b23a6c0c2226c2": {
          "model_module": "@jupyter-widgets/controls",
          "model_module_version": "1.5.0",
          "model_name": "ProgressStyleModel",
          "state": {
            "_model_module": "@jupyter-widgets/controls",
            "_model_module_version": "1.5.0",
            "_model_name": "ProgressStyleModel",
            "_view_count": null,
            "_view_module": "@jupyter-widgets/base",
            "_view_module_version": "1.2.0",
            "_view_name": "StyleView",
            "bar_color": null,
            "description_width": ""
          }
        },
        "b00bcbb7b36e497483f725939bed4fca": {
          "model_module": "@jupyter-widgets/controls",
          "model_module_version": "1.5.0",
          "model_name": "HTMLModel",
          "state": {
            "_dom_classes": [],
            "_model_module": "@jupyter-widgets/controls",
            "_model_module_version": "1.5.0",
            "_model_name": "HTMLModel",
            "_view_count": null,
            "_view_module": "@jupyter-widgets/controls",
            "_view_module_version": "1.5.0",
            "_view_name": "HTMLView",
            "description": "",
            "description_tooltip": null,
            "layout": "IPY_MODEL_c53da05d3c024a97ae13c4e5c3d98eff",
            "placeholder": "​",
            "style": "IPY_MODEL_cea5e01edeb0445cbd6bb9720df448a3",
            "value": " 29493/29493 [00:40&lt;00:00, 730.54it/s]"
          }
        },
        "b59893f938714c458d338739fda858f8": {
          "model_module": "@jupyter-widgets/controls",
          "model_module_version": "1.5.0",
          "model_name": "FloatProgressModel",
          "state": {
            "_dom_classes": [],
            "_model_module": "@jupyter-widgets/controls",
            "_model_module_version": "1.5.0",
            "_model_name": "FloatProgressModel",
            "_view_count": null,
            "_view_module": "@jupyter-widgets/controls",
            "_view_module_version": "1.5.0",
            "_view_name": "ProgressView",
            "bar_style": "success",
            "description": "",
            "description_tooltip": null,
            "layout": "IPY_MODEL_93ef114c739a45eda29be4df210bb41e",
            "max": 29493,
            "min": 0,
            "orientation": "horizontal",
            "style": "IPY_MODEL_42217f9d7ff448359b6eee5f09bbdccd",
            "value": 29493
          }
        },
        "bbcb493c3c254e8eb2d5b44c7acafed7": {
          "model_module": "@jupyter-widgets/base",
          "model_module_version": "1.2.0",
          "model_name": "LayoutModel",
          "state": {
            "_model_module": "@jupyter-widgets/base",
            "_model_module_version": "1.2.0",
            "_model_name": "LayoutModel",
            "_view_count": null,
            "_view_module": "@jupyter-widgets/base",
            "_view_module_version": "1.2.0",
            "_view_name": "LayoutView",
            "align_content": null,
            "align_items": null,
            "align_self": null,
            "border": null,
            "bottom": null,
            "display": null,
            "flex": null,
            "flex_flow": null,
            "grid_area": null,
            "grid_auto_columns": null,
            "grid_auto_flow": null,
            "grid_auto_rows": null,
            "grid_column": null,
            "grid_gap": null,
            "grid_row": null,
            "grid_template_areas": null,
            "grid_template_columns": null,
            "grid_template_rows": null,
            "height": null,
            "justify_content": null,
            "justify_items": null,
            "left": null,
            "margin": null,
            "max_height": null,
            "max_width": null,
            "min_height": null,
            "min_width": null,
            "object_fit": null,
            "object_position": null,
            "order": null,
            "overflow": null,
            "overflow_x": null,
            "overflow_y": null,
            "padding": null,
            "right": null,
            "top": null,
            "visibility": null,
            "width": null
          }
        },
        "c299ac8aa6944d63b2510d4972a383c2": {
          "model_module": "@jupyter-widgets/controls",
          "model_module_version": "1.5.0",
          "model_name": "HTMLModel",
          "state": {
            "_dom_classes": [],
            "_model_module": "@jupyter-widgets/controls",
            "_model_module_version": "1.5.0",
            "_model_name": "HTMLModel",
            "_view_count": null,
            "_view_module": "@jupyter-widgets/controls",
            "_view_module_version": "1.5.0",
            "_view_name": "HTMLView",
            "description": "",
            "description_tooltip": null,
            "layout": "IPY_MODEL_ab433e813e59469a94edd22780519038",
            "placeholder": "​",
            "style": "IPY_MODEL_6a459a0e56404b459904cde8ab35af88",
            "value": "processing dev.txt: 100%"
          }
        },
        "c53da05d3c024a97ae13c4e5c3d98eff": {
          "model_module": "@jupyter-widgets/base",
          "model_module_version": "1.2.0",
          "model_name": "LayoutModel",
          "state": {
            "_model_module": "@jupyter-widgets/base",
            "_model_module_version": "1.2.0",
            "_model_name": "LayoutModel",
            "_view_count": null,
            "_view_module": "@jupyter-widgets/base",
            "_view_module_version": "1.2.0",
            "_view_name": "LayoutView",
            "align_content": null,
            "align_items": null,
            "align_self": null,
            "border": null,
            "bottom": null,
            "display": null,
            "flex": null,
            "flex_flow": null,
            "grid_area": null,
            "grid_auto_columns": null,
            "grid_auto_flow": null,
            "grid_auto_rows": null,
            "grid_column": null,
            "grid_gap": null,
            "grid_row": null,
            "grid_template_areas": null,
            "grid_template_columns": null,
            "grid_template_rows": null,
            "height": null,
            "justify_content": null,
            "justify_items": null,
            "left": null,
            "margin": null,
            "max_height": null,
            "max_width": null,
            "min_height": null,
            "min_width": null,
            "object_fit": null,
            "object_position": null,
            "order": null,
            "overflow": null,
            "overflow_x": null,
            "overflow_y": null,
            "padding": null,
            "right": null,
            "top": null,
            "visibility": null,
            "width": null
          }
        },
        "c5b39c979c264760ac96e74d6e695674": {
          "model_module": "@jupyter-widgets/controls",
          "model_module_version": "1.5.0",
          "model_name": "ProgressStyleModel",
          "state": {
            "_model_module": "@jupyter-widgets/controls",
            "_model_module_version": "1.5.0",
            "_model_name": "ProgressStyleModel",
            "_view_count": null,
            "_view_module": "@jupyter-widgets/base",
            "_view_module_version": "1.2.0",
            "_view_name": "StyleView",
            "bar_color": null,
            "description_width": ""
          }
        },
        "c6528765722a4b54a4d256ca5e035b7c": {
          "model_module": "@jupyter-widgets/controls",
          "model_module_version": "1.5.0",
          "model_name": "HTMLModel",
          "state": {
            "_dom_classes": [],
            "_model_module": "@jupyter-widgets/controls",
            "_model_module_version": "1.5.0",
            "_model_name": "HTMLModel",
            "_view_count": null,
            "_view_module": "@jupyter-widgets/controls",
            "_view_module_version": "1.5.0",
            "_view_name": "HTMLView",
            "description": "",
            "description_tooltip": null,
            "layout": "IPY_MODEL_15206093077442c4a82d64f71c1ce1f9",
            "placeholder": "​",
            "style": "IPY_MODEL_03edaab5dab54c6c8ce689f2f069f9d7",
            "value": "100%"
          }
        },
        "cb00b57826a1491b83425e00b5d2beeb": {
          "model_module": "@jupyter-widgets/controls",
          "model_module_version": "1.5.0",
          "model_name": "HTMLModel",
          "state": {
            "_dom_classes": [],
            "_model_module": "@jupyter-widgets/controls",
            "_model_module_version": "1.5.0",
            "_model_name": "HTMLModel",
            "_view_count": null,
            "_view_module": "@jupyter-widgets/controls",
            "_view_module_version": "1.5.0",
            "_view_name": "HTMLView",
            "description": "",
            "description_tooltip": null,
            "layout": "IPY_MODEL_9dae54ab2e9c4dc5b3e2167c86f06cf1",
            "placeholder": "​",
            "style": "IPY_MODEL_49d9e57f58204502a43dc9df5720558b",
            "value": "100%"
          }
        },
        "cc7569215ceb421abf4c22983f30241f": {
          "model_module": "@jupyter-widgets/base",
          "model_module_version": "1.2.0",
          "model_name": "LayoutModel",
          "state": {
            "_model_module": "@jupyter-widgets/base",
            "_model_module_version": "1.2.0",
            "_model_name": "LayoutModel",
            "_view_count": null,
            "_view_module": "@jupyter-widgets/base",
            "_view_module_version": "1.2.0",
            "_view_name": "LayoutView",
            "align_content": null,
            "align_items": null,
            "align_self": null,
            "border": null,
            "bottom": null,
            "display": null,
            "flex": null,
            "flex_flow": null,
            "grid_area": null,
            "grid_auto_columns": null,
            "grid_auto_flow": null,
            "grid_auto_rows": null,
            "grid_column": null,
            "grid_gap": null,
            "grid_row": null,
            "grid_template_areas": null,
            "grid_template_columns": null,
            "grid_template_rows": null,
            "height": null,
            "justify_content": null,
            "justify_items": null,
            "left": null,
            "margin": null,
            "max_height": null,
            "max_width": null,
            "min_height": null,
            "min_width": null,
            "object_fit": null,
            "object_position": null,
            "order": null,
            "overflow": null,
            "overflow_x": null,
            "overflow_y": null,
            "padding": null,
            "right": null,
            "top": null,
            "visibility": null,
            "width": null
          }
        },
        "cd06a11eedb14b2e801ce8372e8ba49c": {
          "model_module": "@jupyter-widgets/controls",
          "model_module_version": "1.5.0",
          "model_name": "HBoxModel",
          "state": {
            "_dom_classes": [],
            "_model_module": "@jupyter-widgets/controls",
            "_model_module_version": "1.5.0",
            "_model_name": "HBoxModel",
            "_view_count": null,
            "_view_module": "@jupyter-widgets/controls",
            "_view_module_version": "1.5.0",
            "_view_name": "HBoxView",
            "box_style": "",
            "children": [
              "IPY_MODEL_d4c7dfea86c44f37b31d1ef2aae93446",
              "IPY_MODEL_5fe6e10bccf7405485be8b5228e9be95",
              "IPY_MODEL_5b220e69357c40bb9d5a22bbb3b5e5f5"
            ],
            "layout": "IPY_MODEL_6c53e379f8bd42eda2fdb318fd925c7a"
          }
        },
        "cdde0226db2f45e7a7cd5f9ecfb412b1": {
          "model_module": "@jupyter-widgets/base",
          "model_module_version": "1.2.0",
          "model_name": "LayoutModel",
          "state": {
            "_model_module": "@jupyter-widgets/base",
            "_model_module_version": "1.2.0",
            "_model_name": "LayoutModel",
            "_view_count": null,
            "_view_module": "@jupyter-widgets/base",
            "_view_module_version": "1.2.0",
            "_view_name": "LayoutView",
            "align_content": null,
            "align_items": null,
            "align_self": null,
            "border": null,
            "bottom": null,
            "display": null,
            "flex": null,
            "flex_flow": null,
            "grid_area": null,
            "grid_auto_columns": null,
            "grid_auto_flow": null,
            "grid_auto_rows": null,
            "grid_column": null,
            "grid_gap": null,
            "grid_row": null,
            "grid_template_areas": null,
            "grid_template_columns": null,
            "grid_template_rows": null,
            "height": null,
            "justify_content": null,
            "justify_items": null,
            "left": null,
            "margin": null,
            "max_height": null,
            "max_width": null,
            "min_height": null,
            "min_width": null,
            "object_fit": null,
            "object_position": null,
            "order": null,
            "overflow": null,
            "overflow_x": null,
            "overflow_y": null,
            "padding": null,
            "right": null,
            "top": null,
            "visibility": null,
            "width": null
          }
        },
        "cea5e01edeb0445cbd6bb9720df448a3": {
          "model_module": "@jupyter-widgets/controls",
          "model_module_version": "1.5.0",
          "model_name": "DescriptionStyleModel",
          "state": {
            "_model_module": "@jupyter-widgets/controls",
            "_model_module_version": "1.5.0",
            "_model_name": "DescriptionStyleModel",
            "_view_count": null,
            "_view_module": "@jupyter-widgets/base",
            "_view_module_version": "1.2.0",
            "_view_name": "StyleView",
            "description_width": ""
          }
        },
        "d4c7dfea86c44f37b31d1ef2aae93446": {
          "model_module": "@jupyter-widgets/controls",
          "model_module_version": "1.5.0",
          "model_name": "HTMLModel",
          "state": {
            "_dom_classes": [],
            "_model_module": "@jupyter-widgets/controls",
            "_model_module_version": "1.5.0",
            "_model_name": "HTMLModel",
            "_view_count": null,
            "_view_module": "@jupyter-widgets/controls",
            "_view_module_version": "1.5.0",
            "_view_name": "HTMLView",
            "description": "",
            "description_tooltip": null,
            "layout": "IPY_MODEL_d820e55b80074948bc8678a70e21e69b",
            "placeholder": "​",
            "style": "IPY_MODEL_972deb70ee24428da6b04c5ef6959b6c",
            "value": "processing test.txt: 100%"
          }
        },
        "d5a4730a97174d13834db83f5dce4300": {
          "model_module": "@jupyter-widgets/base",
          "model_module_version": "1.2.0",
          "model_name": "LayoutModel",
          "state": {
            "_model_module": "@jupyter-widgets/base",
            "_model_module_version": "1.2.0",
            "_model_name": "LayoutModel",
            "_view_count": null,
            "_view_module": "@jupyter-widgets/base",
            "_view_module_version": "1.2.0",
            "_view_name": "LayoutView",
            "align_content": null,
            "align_items": null,
            "align_self": null,
            "border": null,
            "bottom": null,
            "display": null,
            "flex": null,
            "flex_flow": null,
            "grid_area": null,
            "grid_auto_columns": null,
            "grid_auto_flow": null,
            "grid_auto_rows": null,
            "grid_column": null,
            "grid_gap": null,
            "grid_row": null,
            "grid_template_areas": null,
            "grid_template_columns": null,
            "grid_template_rows": null,
            "height": null,
            "justify_content": null,
            "justify_items": null,
            "left": null,
            "margin": null,
            "max_height": null,
            "max_width": null,
            "min_height": null,
            "min_width": null,
            "object_fit": null,
            "object_position": null,
            "order": null,
            "overflow": null,
            "overflow_x": null,
            "overflow_y": null,
            "padding": null,
            "right": null,
            "top": null,
            "visibility": null,
            "width": null
          }
        },
        "d6835aea6306463782818373618ba3ab": {
          "model_module": "@jupyter-widgets/controls",
          "model_module_version": "1.5.0",
          "model_name": "HBoxModel",
          "state": {
            "_dom_classes": [],
            "_model_module": "@jupyter-widgets/controls",
            "_model_module_version": "1.5.0",
            "_model_name": "HBoxModel",
            "_view_count": null,
            "_view_module": "@jupyter-widgets/controls",
            "_view_module_version": "1.5.0",
            "_view_name": "HBoxView",
            "box_style": "",
            "children": [
              "IPY_MODEL_f46b449efc634a6484afd2569d74b827",
              "IPY_MODEL_61c8addfb3f34da0b4bdf2d9dff5826c",
              "IPY_MODEL_91635e7176af44908853032193c0282a"
            ],
            "layout": "IPY_MODEL_6ffcc7289c7944cb92c2aa7ea17374ea"
          }
        },
        "d820e55b80074948bc8678a70e21e69b": {
          "model_module": "@jupyter-widgets/base",
          "model_module_version": "1.2.0",
          "model_name": "LayoutModel",
          "state": {
            "_model_module": "@jupyter-widgets/base",
            "_model_module_version": "1.2.0",
            "_model_name": "LayoutModel",
            "_view_count": null,
            "_view_module": "@jupyter-widgets/base",
            "_view_module_version": "1.2.0",
            "_view_name": "LayoutView",
            "align_content": null,
            "align_items": null,
            "align_self": null,
            "border": null,
            "bottom": null,
            "display": null,
            "flex": null,
            "flex_flow": null,
            "grid_area": null,
            "grid_auto_columns": null,
            "grid_auto_flow": null,
            "grid_auto_rows": null,
            "grid_column": null,
            "grid_gap": null,
            "grid_row": null,
            "grid_template_areas": null,
            "grid_template_columns": null,
            "grid_template_rows": null,
            "height": null,
            "justify_content": null,
            "justify_items": null,
            "left": null,
            "margin": null,
            "max_height": null,
            "max_width": null,
            "min_height": null,
            "min_width": null,
            "object_fit": null,
            "object_position": null,
            "order": null,
            "overflow": null,
            "overflow_x": null,
            "overflow_y": null,
            "padding": null,
            "right": null,
            "top": null,
            "visibility": null,
            "width": null
          }
        },
        "d92ba0b49cda49ec9ebd7d0c8ff519b6": {
          "model_module": "@jupyter-widgets/controls",
          "model_module_version": "1.5.0",
          "model_name": "FloatProgressModel",
          "state": {
            "_dom_classes": [],
            "_model_module": "@jupyter-widgets/controls",
            "_model_module_version": "1.5.0",
            "_model_name": "FloatProgressModel",
            "_view_count": null,
            "_view_module": "@jupyter-widgets/controls",
            "_view_module_version": "1.5.0",
            "_view_name": "ProgressView",
            "bar_style": "success",
            "description": "",
            "description_tooltip": null,
            "layout": "IPY_MODEL_cc7569215ceb421abf4c22983f30241f",
            "max": 29493,
            "min": 0,
            "orientation": "horizontal",
            "style": "IPY_MODEL_0cb1f5c89e7c49428f0c217750d7a518",
            "value": 29493
          }
        },
        "dfb769eba11f43f9a14115485accd9b7": {
          "model_module": "@jupyter-widgets/controls",
          "model_module_version": "1.5.0",
          "model_name": "DescriptionStyleModel",
          "state": {
            "_model_module": "@jupyter-widgets/controls",
            "_model_module_version": "1.5.0",
            "_model_name": "DescriptionStyleModel",
            "_view_count": null,
            "_view_module": "@jupyter-widgets/base",
            "_view_module_version": "1.2.0",
            "_view_name": "StyleView",
            "description_width": ""
          }
        },
        "e371dbfa014240298c8ed50dad4f2458": {
          "model_module": "@jupyter-widgets/controls",
          "model_module_version": "1.5.0",
          "model_name": "DescriptionStyleModel",
          "state": {
            "_model_module": "@jupyter-widgets/controls",
            "_model_module_version": "1.5.0",
            "_model_name": "DescriptionStyleModel",
            "_view_count": null,
            "_view_module": "@jupyter-widgets/base",
            "_view_module_version": "1.2.0",
            "_view_name": "StyleView",
            "description_width": ""
          }
        },
        "e46af89c13184b40a50358e9f01203c4": {
          "model_module": "@jupyter-widgets/controls",
          "model_module_version": "1.5.0",
          "model_name": "DescriptionStyleModel",
          "state": {
            "_model_module": "@jupyter-widgets/controls",
            "_model_module_version": "1.5.0",
            "_model_name": "DescriptionStyleModel",
            "_view_count": null,
            "_view_module": "@jupyter-widgets/base",
            "_view_module_version": "1.2.0",
            "_view_name": "StyleView",
            "description_width": ""
          }
        },
        "e683013e1f5b441db329e23a8207c367": {
          "model_module": "@jupyter-widgets/controls",
          "model_module_version": "1.5.0",
          "model_name": "HTMLModel",
          "state": {
            "_dom_classes": [],
            "_model_module": "@jupyter-widgets/controls",
            "_model_module_version": "1.5.0",
            "_model_name": "HTMLModel",
            "_view_count": null,
            "_view_module": "@jupyter-widgets/controls",
            "_view_module_version": "1.5.0",
            "_view_name": "HTMLView",
            "description": "",
            "description_tooltip": null,
            "layout": "IPY_MODEL_495cf4f1dadc4a62a5598428f4bb143d",
            "placeholder": "​",
            "style": "IPY_MODEL_ef8704b40817482c801076618d27cbe2",
            "value": " 29493/29493 [00:06&lt;00:00, 4759.51it/s]"
          }
        },
        "e6c0197608ce4daabdd0622c987a28c5": {
          "model_module": "@jupyter-widgets/controls",
          "model_module_version": "1.5.0",
          "model_name": "DescriptionStyleModel",
          "state": {
            "_model_module": "@jupyter-widgets/controls",
            "_model_module_version": "1.5.0",
            "_model_name": "DescriptionStyleModel",
            "_view_count": null,
            "_view_module": "@jupyter-widgets/base",
            "_view_module_version": "1.2.0",
            "_view_name": "StyleView",
            "description_width": ""
          }
        },
        "ee4bcd057f54426f8b5bac97f8f76c8b": {
          "model_module": "@jupyter-widgets/controls",
          "model_module_version": "1.5.0",
          "model_name": "HBoxModel",
          "state": {
            "_dom_classes": [],
            "_model_module": "@jupyter-widgets/controls",
            "_model_module_version": "1.5.0",
            "_model_name": "HBoxModel",
            "_view_count": null,
            "_view_module": "@jupyter-widgets/controls",
            "_view_module_version": "1.5.0",
            "_view_name": "HBoxView",
            "box_style": "",
            "children": [
              "IPY_MODEL_cb00b57826a1491b83425e00b5d2beeb",
              "IPY_MODEL_8177e5ef2cc241a7927cab9289a9ae6a",
              "IPY_MODEL_0516649e95d24487b48e5fc5de341c9c"
            ],
            "layout": "IPY_MODEL_6108e4f350d44cd3a9734cb50c310a26"
          }
        },
        "ef8704b40817482c801076618d27cbe2": {
          "model_module": "@jupyter-widgets/controls",
          "model_module_version": "1.5.0",
          "model_name": "DescriptionStyleModel",
          "state": {
            "_model_module": "@jupyter-widgets/controls",
            "_model_module_version": "1.5.0",
            "_model_name": "DescriptionStyleModel",
            "_view_count": null,
            "_view_module": "@jupyter-widgets/base",
            "_view_module_version": "1.2.0",
            "_view_name": "StyleView",
            "description_width": ""
          }
        },
        "f461262102474ba392d3d2fda840c19f": {
          "model_module": "@jupyter-widgets/base",
          "model_module_version": "1.2.0",
          "model_name": "LayoutModel",
          "state": {
            "_model_module": "@jupyter-widgets/base",
            "_model_module_version": "1.2.0",
            "_model_name": "LayoutModel",
            "_view_count": null,
            "_view_module": "@jupyter-widgets/base",
            "_view_module_version": "1.2.0",
            "_view_name": "LayoutView",
            "align_content": null,
            "align_items": null,
            "align_self": null,
            "border": null,
            "bottom": null,
            "display": null,
            "flex": null,
            "flex_flow": null,
            "grid_area": null,
            "grid_auto_columns": null,
            "grid_auto_flow": null,
            "grid_auto_rows": null,
            "grid_column": null,
            "grid_gap": null,
            "grid_row": null,
            "grid_template_areas": null,
            "grid_template_columns": null,
            "grid_template_rows": null,
            "height": null,
            "justify_content": null,
            "justify_items": null,
            "left": null,
            "margin": null,
            "max_height": null,
            "max_width": null,
            "min_height": null,
            "min_width": null,
            "object_fit": null,
            "object_position": null,
            "order": null,
            "overflow": null,
            "overflow_x": null,
            "overflow_y": null,
            "padding": null,
            "right": null,
            "top": null,
            "visibility": null,
            "width": null
          }
        },
        "f46b449efc634a6484afd2569d74b827": {
          "model_module": "@jupyter-widgets/controls",
          "model_module_version": "1.5.0",
          "model_name": "HTMLModel",
          "state": {
            "_dom_classes": [],
            "_model_module": "@jupyter-widgets/controls",
            "_model_module_version": "1.5.0",
            "_model_name": "HTMLModel",
            "_view_count": null,
            "_view_module": "@jupyter-widgets/controls",
            "_view_module_version": "1.5.0",
            "_view_name": "HTMLView",
            "description": "",
            "description_tooltip": null,
            "layout": "IPY_MODEL_8f098f8cd64a417eb87a8c8726335004",
            "placeholder": "​",
            "style": "IPY_MODEL_53bcbbb761314e4b87c89529b4be5e49",
            "value": "100%"
          }
        },
        "f4ca0a19f9b44e44bb9038effd70a8d6": {
          "model_module": "@jupyter-widgets/base",
          "model_module_version": "1.2.0",
          "model_name": "LayoutModel",
          "state": {
            "_model_module": "@jupyter-widgets/base",
            "_model_module_version": "1.2.0",
            "_model_name": "LayoutModel",
            "_view_count": null,
            "_view_module": "@jupyter-widgets/base",
            "_view_module_version": "1.2.0",
            "_view_name": "LayoutView",
            "align_content": null,
            "align_items": null,
            "align_self": null,
            "border": null,
            "bottom": null,
            "display": null,
            "flex": null,
            "flex_flow": null,
            "grid_area": null,
            "grid_auto_columns": null,
            "grid_auto_flow": null,
            "grid_auto_rows": null,
            "grid_column": null,
            "grid_gap": null,
            "grid_row": null,
            "grid_template_areas": null,
            "grid_template_columns": null,
            "grid_template_rows": null,
            "height": null,
            "justify_content": null,
            "justify_items": null,
            "left": null,
            "margin": null,
            "max_height": null,
            "max_width": null,
            "min_height": null,
            "min_width": null,
            "object_fit": null,
            "object_position": null,
            "order": null,
            "overflow": null,
            "overflow_x": null,
            "overflow_y": null,
            "padding": null,
            "right": null,
            "top": null,
            "visibility": null,
            "width": null
          }
        },
        "f51bdee936174c3b8f6638e3a814a0a3": {
          "model_module": "@jupyter-widgets/controls",
          "model_module_version": "1.5.0",
          "model_name": "HTMLModel",
          "state": {
            "_dom_classes": [],
            "_model_module": "@jupyter-widgets/controls",
            "_model_module_version": "1.5.0",
            "_model_name": "HTMLModel",
            "_view_count": null,
            "_view_module": "@jupyter-widgets/controls",
            "_view_module_version": "1.5.0",
            "_view_name": "HTMLView",
            "description": "",
            "description_tooltip": null,
            "layout": "IPY_MODEL_bbcb493c3c254e8eb2d5b44c7acafed7",
            "placeholder": "​",
            "style": "IPY_MODEL_239d62e725db4c9aa7606cdcb58dabd3",
            "value": " 33932/33932 [00:20&lt;00:00, 1626.31it/s]"
          }
        },
        "fb54ff4eb51c466a8ac46afd81446b36": {
          "model_module": "@jupyter-widgets/base",
          "model_module_version": "1.2.0",
          "model_name": "LayoutModel",
          "state": {
            "_model_module": "@jupyter-widgets/base",
            "_model_module_version": "1.2.0",
            "_model_name": "LayoutModel",
            "_view_count": null,
            "_view_module": "@jupyter-widgets/base",
            "_view_module_version": "1.2.0",
            "_view_name": "LayoutView",
            "align_content": null,
            "align_items": null,
            "align_self": null,
            "border": null,
            "bottom": null,
            "display": null,
            "flex": null,
            "flex_flow": null,
            "grid_area": null,
            "grid_auto_columns": null,
            "grid_auto_flow": null,
            "grid_auto_rows": null,
            "grid_column": null,
            "grid_gap": null,
            "grid_row": null,
            "grid_template_areas": null,
            "grid_template_columns": null,
            "grid_template_rows": null,
            "height": null,
            "justify_content": null,
            "justify_items": null,
            "left": null,
            "margin": null,
            "max_height": null,
            "max_width": null,
            "min_height": null,
            "min_width": null,
            "object_fit": null,
            "object_position": null,
            "order": null,
            "overflow": null,
            "overflow_x": null,
            "overflow_y": null,
            "padding": null,
            "right": null,
            "top": null,
            "visibility": null,
            "width": null
          }
        },
        "ff8a8862aab548f2abc4dc34777c33d4": {
          "model_module": "@jupyter-widgets/base",
          "model_module_version": "1.2.0",
          "model_name": "LayoutModel",
          "state": {
            "_model_module": "@jupyter-widgets/base",
            "_model_module_version": "1.2.0",
            "_model_name": "LayoutModel",
            "_view_count": null,
            "_view_module": "@jupyter-widgets/base",
            "_view_module_version": "1.2.0",
            "_view_name": "LayoutView",
            "align_content": null,
            "align_items": null,
            "align_self": null,
            "border": null,
            "bottom": null,
            "display": null,
            "flex": null,
            "flex_flow": null,
            "grid_area": null,
            "grid_auto_columns": null,
            "grid_auto_flow": null,
            "grid_auto_rows": null,
            "grid_column": null,
            "grid_gap": null,
            "grid_row": null,
            "grid_template_areas": null,
            "grid_template_columns": null,
            "grid_template_rows": null,
            "height": null,
            "justify_content": null,
            "justify_items": null,
            "left": null,
            "margin": null,
            "max_height": null,
            "max_width": null,
            "min_height": null,
            "min_width": null,
            "object_fit": null,
            "object_position": null,
            "order": null,
            "overflow": null,
            "overflow_x": null,
            "overflow_y": null,
            "padding": null,
            "right": null,
            "top": null,
            "visibility": null,
            "width": null
          }
        }
      }
    }
  },
  "nbformat": 4,
  "nbformat_minor": 5
}